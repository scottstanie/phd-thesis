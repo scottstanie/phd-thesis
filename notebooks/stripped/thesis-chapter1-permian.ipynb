{
 "cells": [
  {
   "cell_type": "code",
   "execution_count": null,
   "id": "29028737-d328-4c30-8d1e-ca6d1e11169b",
   "metadata": {},
   "outputs": [],
   "source": [
    "import os\n",
    "import glob\n",
    "import numpy as np\n",
    "import pandas as pd\n",
    "# import proplot as pplt\n",
    "import matplotlib.pyplot as plt\n",
    "\n",
    "from apertools import plotting, utils, lowess\n",
    "import seaborn as sns\n",
    "\n",
    "# import xarray as xr\n",
    "\n",
    "# import hvplot.xarray\n",
    "# import panel as pn\n",
    "\n",
    "# pn.extension()\n",
    "# pplt.rc.update({\"subplots.share\": False, \"subplots.span\": False})\n",
    "\n",
    "\n",
    "# sns.set_style(style=\"white\")\n",
    "plotting.set_style(size=16)\n",
    "\n",
    "\n",
    "RNG = np.random.default_rng()\n",
    "\n",
    "%matplotlib inline\n",
    "# %matplotlib widget\n",
    "\n",
    "%load_ext autoreload\n",
    "%autoreload 2"
   ]
  },
  {
   "cell_type": "code",
   "execution_count": null,
   "id": "d68825f5-0a7e-4a14-8993-99f1a1842889",
   "metadata": {},
   "outputs": [],
   "source": [
    "data_path = \"/Users/scott/Documents/Learning/masters-thesis/fracking-qgis-data/\""
   ]
  },
  {
   "cell_type": "markdown",
   "id": "3bdd1706-eb2b-49f3-84b0-8f6ad242eb22",
   "metadata": {},
   "source": [
    "# Texas earthquakes by year"
   ]
  },
  {
   "cell_type": "code",
   "execution_count": null,
   "id": "0b969ef8-e7b8-4bb4-9239-fe31aeaae5b7",
   "metadata": {},
   "outputs": [],
   "source": [
    "%run -n ~/repos/apertools/helpers/earthquakes_usgs.py"
   ]
  },
  {
   "cell_type": "code",
   "execution_count": null,
   "id": "2b4aa9f2-5a8c-44fb-b62f-4e7d46ba3ead",
   "metadata": {},
   "outputs": [],
   "source": [
    "with utils.chdir_then_revert(data_path):\n",
    "    df_m25 = pd.concat(\n",
    "    [\n",
    "        get_eqs_by_state_year(f)\n",
    "        for f in sorted(glob.glob(\"query_*m25*csv\"), reverse=True)\n",
    "    ]\n",
    "    ).reset_index(drop=True)\n",
    "    \n",
    "df_tx_m25 = df_m25[df_m25.state == \"Texas\"]"
   ]
  },
  {
   "cell_type": "code",
   "execution_count": null,
   "id": "c23ae6d8-9f08-4090-afde-ae512e2fcff7",
   "metadata": {},
   "outputs": [],
   "source": [
    "with utils.chdir_then_revert(data_path):\n",
    "\n",
    "    df_m3 = pd.concat(\n",
    "    [\n",
    "        get_eqs_by_state_year(f)\n",
    "        for f in sorted(glob.glob(\"query_*m3*csv\"), reverse=True)\n",
    "    ]\n",
    "    ).reset_index(drop=True)\n",
    "    \n",
    "df_tx_m3 = df_m3[df_m3.state == \"Texas\"]"
   ]
  },
  {
   "cell_type": "code",
   "execution_count": null,
   "id": "0c5c83cb-b8c6-4137-964c-9a865973121e",
   "metadata": {},
   "outputs": [],
   "source": [
    "top7_states = df_m3.head(7).state\n",
    "\n",
    "df_top7 = df_m3[df_m3.state.isin(top7_states)]\n",
    "df_top7"
   ]
  },
  {
   "cell_type": "markdown",
   "id": "e82dbb3f-4da7-4e93-bede-bfed218ea5a9",
   "metadata": {},
   "source": [
    "# Load oil production summary"
   ]
  },
  {
   "cell_type": "code",
   "execution_count": null,
   "id": "a62150f4-c3d4-400c-9d27-c34ecfb7c9b4",
   "metadata": {},
   "outputs": [],
   "source": [
    "df_oil = pd.read_csv(data_path + \"PermianAnnualProductionData.csv\")\n",
    "df_oil = df_oil[df_oil['year'] < 2021]  # 2021 hasn't fully filled in"
   ]
  },
  {
   "cell_type": "code",
   "execution_count": null,
   "id": "54f02e3e-b4d7-4712-bbac-28b66b1363d4",
   "metadata": {},
   "outputs": [],
   "source": [
    "plotting.set_style(size=16, weight=\"normal\", minor_ticks=False)"
   ]
  },
  {
   "cell_type": "markdown",
   "id": "6100919e-e19d-431d-89c6-f4284b020e4c",
   "metadata": {},
   "source": [
    "# Figure: chapter 1 plot of eqs and oil"
   ]
  },
  {
   "cell_type": "code",
   "execution_count": null,
   "id": "c585116d-77e9-42dc-a2a8-ce272158efbe",
   "metadata": {},
   "outputs": [],
   "source": [
    "def tick_over_lim(ax):\n",
    "    ticks = ax.get_yticks()\n",
    "    lims = ax.get_ylim()\n",
    "    return (lims[-1] - lims[0]) / (ticks[-1] - ticks[0])\n",
    "tick_over_lim(ax), tick_over_lim(ax2)"
   ]
  },
  {
   "cell_type": "code",
   "execution_count": null,
   "id": "a73cd2ae-68cc-4c32-af85-b5957a0cd699",
   "metadata": {},
   "outputs": [],
   "source": [
    "def calculate_ticks(ax, ticks, round_to=0.1, center=False):\n",
    "    upperbound = np.ceil(ax.get_ybound()[1]/round_to)\n",
    "    lowerbound = np.floor(ax.get_ybound()[0]/round_to)\n",
    "    print(upperbound, lowerbound)\n",
    "    dy = upperbound - lowerbound\n",
    "    fit = np.floor(dy/(ticks - 1)) + 1\n",
    "    dy_new = (ticks - 1)*fit\n",
    "    if center:\n",
    "        offset = np.floor((dy_new - dy)/2)\n",
    "        lowerbound = lowerbound - offset\n",
    "    values = np.linspace(lowerbound, lowerbound + dy_new, ticks)\n",
    "    return values*round_to"
   ]
  },
  {
   "cell_type": "code",
   "execution_count": null,
   "id": "1da2fa4e-b5e1-4b9b-8452-20c638742c81",
   "metadata": {},
   "outputs": [],
   "source": [
    "ntick = 5\n",
    "\n",
    "fig, ax1 = plt.subplots(figsize=(5, 5))\n",
    "l1 = ax1.plot(df_tx_m3['year'], df_tx_m3['count'], lw=4, marker='d', label=\"EQs\")\n",
    "\n",
    "\n",
    "ymax = 200\n",
    "ax1.set_ylim(0, ymax*1.05)\n",
    "ax1.set_yticks(np.linspace(0, ymax, ntick)) # make sure each has same number of ticks\n",
    "print(ax1.get_ybound(), ax1.get_ylim())\n",
    "# ax1.set_yticks(np.linspace(*ax1.get_ybound(), ntick))\n",
    "\n",
    "ax1.set_ylabel(\"M3+ Earthquake Count\")\n",
    "\n",
    "ax2 = ax1.twinx()\n",
    "l2 = ax2.plot(df_oil.year, df_oil.production / 365.25 / 1e6, lw=4, color=\"C3\", label=\"oil\", marker='.')\n",
    "\n",
    "ymax = 3\n",
    "ax2.set_ylim(0, ymax*1.05)\n",
    "ax2.set_yticks(np.linspace(0, ymax, ntick)) # make sure each has same number of ticks\n",
    "\n",
    "# l2 = ax2.plot(df_oil.year, df_oil.injection / 365.25 / 1e6, lw=4, color=\"C3\", label=\"oil\", marker='.')\n",
    "# ax2.set_yticks(np.linspace(0, 20, ntick)\n",
    "\n",
    "# ax2.set_yticks(np.linspace(*ax2.get_ybound(),5))\n",
    "ax2.set_ylabel(\"Daily oil production [MBBl / day]\")\n",
    "\n",
    "# ax1.set_yticks(calculate_ticks(ax1, 5, 0.5))\n",
    "# ax2.set_yticks(calculate_ticks(ax2, 5, 0.5))\n",
    "ax1.grid()\n",
    "\n",
    "ax1.legend([l1[0], l2[0]], ['EQs', 'Oil'])\n",
    "\n",
    "fig.savefig(\"../scratch/earthquakes_texas_m3.pdf\")"
   ]
  },
  {
   "cell_type": "code",
   "execution_count": null,
   "id": "fa1014e0-92bd-4190-b62e-00d663ffcc98",
   "metadata": {},
   "outputs": [],
   "source": [
    "# # sns.lineplot(data=df_m3[df_m3.state == \"Texas\"], x=\"year\", y=\"count\", hue=\"state\")\n",
    "\n",
    "# fig, ax = plt.subplots(figsize=(5, 5))\n",
    "# ax.plot(df_tx_m25['year'], df_tx_m25['count'], lw=4, marker='d')\n",
    "# # df_tx_m3.plot(ax=ax, x='year', y='count', lw=4, marker='d')\n",
    "# # ax.plot(df_tx_m25['year'].values, df_tx_m25['count'].values)\n",
    "# ax.grid()\n",
    "# ax.set_ylabel(\"M2.5+ Earthquake Count\")\n",
    "\n",
    "# fig.savefig(\"../scratch/earthquakes_texas_m3_onlyeq.pdf\")"
   ]
  },
  {
   "cell_type": "markdown",
   "id": "b073c30e-1609-47ab-9cb7-0aa7c7899a15",
   "metadata": {},
   "source": [
    "## Cumulative graph"
   ]
  },
  {
   "cell_type": "code",
   "execution_count": null,
   "id": "b1ce8695-b4ff-4e9a-bfcf-51ee4292a206",
   "metadata": {},
   "outputs": [],
   "source": [
    "years = df_tx_m3.year\n",
    "years_all = np.arange(years.min(), years.max()+1)\n",
    "\n",
    "# .sort_values(\"year\")"
   ]
  },
  {
   "cell_type": "code",
   "execution_count": null,
   "id": "ba65d375-68ce-4499-9e2b-4b7c057702ef",
   "metadata": {},
   "outputs": [],
   "source": [
    "fig, ax1 = plt.subplots(figsize=(5, 5))\n",
    "l1 = ax1.plot(df_tx_m3.sort_values(\"year\")['year'], df_tx_m3.sort_values(\"year\")['count'].cumsum(), lw=4, marker='d', label=\"EQs\")\n"
   ]
  },
  {
   "cell_type": "code",
   "execution_count": null,
   "id": "e53e0afe-897f-4aa6-bbb6-26cc502c301b",
   "metadata": {},
   "outputs": [],
   "source": [
    "df_filled"
   ]
  },
  {
   "cell_type": "code",
   "execution_count": null,
   "id": "c8985fb8-f377-42ac-9be4-d911b10336fe",
   "metadata": {},
   "outputs": [],
   "source": [
    "# df_tx_m3.sort_values('year')\n",
    "all_years = np.arange(df_tx_m3.year.min(), df_tx_m3.year.max() + 1)\n",
    "df_filled = df_tx_m3[['year', 'count']].sort_values('year').set_index('year').reindex(all_years, fill_value=0)\n",
    "df_filled.rolling(4).mean()"
   ]
  },
  {
   "cell_type": "code",
   "execution_count": null,
   "id": "7f16c2ce-a2ab-416a-82df-e98c1109c179",
   "metadata": {},
   "outputs": [],
   "source": [
    "ntick = 5\n",
    "\n",
    "fig, ax1 = plt.subplots(figsize=(5, 5))\n",
    "l1 = ax1.plot(df_tx_m3['year'], df_tx_m3['count'], lw=4, marker='d', label=\"EQs\")\n",
    "\n",
    "\n",
    "ymax = 200\n",
    "ax1.set_ylim(0, ymax*1.05)\n",
    "ax1.set_yticks(np.linspace(0, ymax, ntick)) # make sure each has same number of ticks\n",
    "print(ax1.get_ybound(), ax1.get_ylim())\n",
    "# ax1.set_yticks(np.linspace(*ax1.get_ybound(), ntick))\n",
    "\n",
    "ax1.set_ylabel(\"M3+ Earthquake Count\")\n",
    "\n",
    "ax2 = ax1.twinx()\n",
    "l2 = ax2.plot(df_oil.year, df_oil.production / 365.25 / 1e6, lw=4, color=\"C3\", label=\"oil\", marker='.')\n",
    "\n",
    "ymax = 3\n",
    "ax2.set_ylim(0, ymax*1.05)\n",
    "ax2.set_yticks(np.linspace(0, ymax, ntick)) # make sure each has same number of ticks\n",
    "\n",
    "# l2 = ax2.plot(df_oil.year, df_oil.injection / 365.25 / 1e6, lw=4, color=\"C3\", label=\"oil\", marker='.')\n",
    "# ax2.set_yticks(np.linspace(0, 20, ntick)\n",
    "\n",
    "# ax2.set_yticks(np.linspace(*ax2.get_ybound(),5))\n",
    "ax2.set_ylabel(\"Daily oil production [MBBl / day]\")\n",
    "\n",
    "# ax1.set_yticks(calculate_ticks(ax1, 5, 0.5))\n",
    "# ax2.set_yticks(calculate_ticks(ax2, 5, 0.5))\n",
    "ax1.grid()\n",
    "\n",
    "ax1.legend([l1[0], l2[0]], ['EQs', 'Oil'])\n",
    "\n",
    "# fig.savefig(\"../scratch/earthquakes_texas_m3.pdf\")"
   ]
  },
  {
   "cell_type": "markdown",
   "id": "c1b7425f-3f00-47cb-8a5c-8806ed2b64bc",
   "metadata": {},
   "source": [
    "## Alternative oil source: Texas RRC total dump"
   ]
  },
  {
   "cell_type": "code",
   "execution_count": null,
   "id": "5b1e54c8-20bb-4038-833d-86ac43330c5f",
   "metadata": {},
   "outputs": [],
   "source": [
    "# https://www.rrc.texas.gov/media/50ypu2cg/pdq-dump-user-manual.pdf\n",
    "df = pd.read_csv(data_path + \"OG_DISTRICT_CYCLE_DATA_TABLE.dsv\", sep=\"}\")\n",
    "df.columns = df.columns.str.lower()\n",
    "\n",
    "# Districts: https://www.rrc.texas.gov/oil-and-gas/major-oil-and-gas-formations/permian-basin/\n",
    "df_permian = df.loc[df.district_name.isin(['7C', '08', '8A']), :]\n",
    "\n",
    "df_permian.rename({'cycle_year': 'year', 'cycle_month': 'month'}, inplace=True, axis=1)\n",
    "\n",
    "df_permian.loc[:, 'date'] = pd.to_datetime(df_permian.loc[:, ['year', 'month']].assign(day=1))\n",
    "df_totals = df_permian[['date', 'dist_oil_prod_vol']].groupby('date').sum()\n",
    "df_totals.head()"
   ]
  },
  {
   "cell_type": "code",
   "execution_count": null,
   "id": "27ee72f2-1077-4fb4-8161-77fb9afc2d4d",
   "metadata": {},
   "outputs": [],
   "source": [
    "fig, ax = plt.subplots(figsize=(7, 7))\n",
    "(df_totals / 30 / 1e6).plot(ax=ax, marker='.')\n",
    "ax.set_title(\"Daily average production\")\n",
    "ax.set_ylabel(\"MBBl / day\")"
   ]
  },
  {
   "cell_type": "markdown",
   "id": "7acd41f3-2b87-43a5-bf99-652084afa1b7",
   "metadata": {},
   "source": [
    "# Example GPS station "
   ]
  },
  {
   "cell_type": "code",
   "execution_count": null,
   "id": "b15a045a-4f5e-40dc-876a-64003718f2af",
   "metadata": {},
   "outputs": [],
   "source": [
    "from apertools import gps, gps_plots\n",
    "import proplot as pplt"
   ]
  },
  {
   "cell_type": "code",
   "execution_count": null,
   "id": "80ed4168-5b58-48e0-8745-2f42f43038b4",
   "metadata": {},
   "outputs": [],
   "source": [
    "fig, axes = gps_plots.plot_gps_enu(station=\"TXMC\", start_date=\"2015-01-01\", end_date=\"2019-01-01\")\n",
    "ax = axes[2]\n",
    "ax.xaxis_date()"
   ]
  },
  {
   "cell_type": "code",
   "execution_count": null,
   "id": "7b28d6c7-91a5-4e6f-8fc3-cc37523d6a99",
   "metadata": {},
   "outputs": [],
   "source": [
    "fig.savefig?"
   ]
  },
  {
   "cell_type": "code",
   "execution_count": null,
   "id": "3f07abcb-4c43-4513-a4e3-1c231836bde6",
   "metadata": {},
   "outputs": [],
   "source": [
    "from matplotlib.dates import YearLocator\n",
    "locator = YearLocator()"
   ]
  },
  {
   "cell_type": "code",
   "execution_count": null,
   "id": "28139c14-bc23-4cfc-b3da-0c4df2ff5975",
   "metadata": {},
   "outputs": [],
   "source": [
    "fig, axes = gps_plots.plot_gps_enu(station=\"TXMC\", start_date=\"2015-01-01\", end_date=\"2019-01-01\", ylim=(-2, 2))\n",
    "for ax in axes:\n",
    "    ax.xaxis.set_major_locator(locator)\n",
    "# ax = axes[2]\n",
    "# axes.format(ylim=(-2, 2))\n",
    "# ax.set_ylim((-1.9, 2))\n",
    "fig.savefig(\"../figures/chapter3-permian/gps-txmc.pdf\")\n",
    "# axes[0].set_ylabel(\"asf\")"
   ]
  },
  {
   "cell_type": "code",
   "execution_count": null,
   "id": "6193c6bc-d12d-4017-b1e8-1f931da04678",
   "metadata": {},
   "outputs": [],
   "source": [
    "!pwd"
   ]
  },
  {
   "cell_type": "code",
   "execution_count": null,
   "id": "3c7e02bf-5f55-4ab6-909e-8ffd12c7e4ae",
   "metadata": {},
   "outputs": [],
   "source": []
  }
 ],
 "metadata": {
  "kernelspec": {
   "display_name": "Python 3 (ipykernel)",
   "language": "python",
   "name": "python3"
  },
  "language_info": {
   "codemirror_mode": {
    "name": "ipython",
    "version": 3
   },
   "file_extension": ".py",
   "mimetype": "text/x-python",
   "name": "python",
   "nbconvert_exporter": "python",
   "pygments_lexer": "ipython3",
   "version": "3.8.6"
  }
 },
 "nbformat": 4,
 "nbformat_minor": 5
}
