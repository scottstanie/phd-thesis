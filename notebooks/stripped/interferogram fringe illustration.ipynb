{
 "cells": [
  {
   "cell_type": "code",
   "execution_count": null,
   "metadata": {},
   "outputs": [],
   "source": [
    "import itertools\n",
    "import glob\n",
    "import os\n",
    "import sys\n",
    "\n",
    "import numpy as np\n",
    "import pandas as pd\n",
    "# import proplot as pplt\n",
    "import matplotlib.pyplot as plt\n",
    "import seaborn as sns\n",
    "from apertools import plotting\n",
    "\n",
    "%matplotlib inline\n",
    "# import ipywidgets\n",
    "# %matplotlib widget\n",
    "# %matplotlib notebook\n",
    "\n",
    "%load_ext autoreload\n",
    "%autoreload 2"
   ]
  },
  {
   "cell_type": "code",
   "execution_count": null,
   "metadata": {},
   "outputs": [],
   "source": [
    "\n"
   ]
  },
  {
   "cell_type": "code",
   "execution_count": null,
   "metadata": {},
   "outputs": [],
   "source": [
    "\n",
    "\n",
    "# X positions of satellites: start with baseline of 3\n",
    "x1, x2 = 1, 4\n",
    "# same z positions, 100 m in air\n",
    "z1 = z2 = 100\n",
    "# Fake wavelength of 2 meters\n",
    "lam = 2\n",
    "\n",
    "\n",
    "xx = zz = np.linspace(0, 101, 500)\n",
    "xx = zz = np.linspace(0, 1 + max(z1, z2), 500)\n",
    "XX, ZZ = np.meshgrid(xx, yy)\n",
    "r1 = np.sqrt((XX - x1)**2 + (ZZ - z1)**2)\n",
    "r2 = np.sqrt((XX - x2)**2 + (ZZ - z2)**2)\n",
    "\n",
    "# plot once to have ready for interaction\n",
    "fig, axes = plt.subplots(1, 3, figsize=(7, 5))\n",
    "# Zoom into the area near the 2 satellites to more esily see their baseline\n",
    "s1 = slice(-30, None)\n",
    "s2 = slice(None, 30)\n",
    "ax = axes[0]\n",
    "a0 = ax.imshow((r1 % lam)[s1, s2], origin='lower', cmap='dismph', interpolation='nearest')\n",
    "ax = axes[1]\n",
    "a1 = ax.imshow((r2 % lam)[s1, s2], origin='lower', cmap='dismph', interpolation='nearest')\n",
    "\n",
    "ax = axes[2]\n",
    "# show more fringes for difference\n",
    "a2 = ax.imshow((r1 - r2) % (lam / 2), origin='lower', cmap='dismph', interpolation='nearest')\n",
    "\n",
    "\n",
    "@ipywidgets.interact(x1=(0, 5, .1), x2=(0, 10, .1))\n",
    "def plot_fringes(x1, x2):\n",
    "    # x1, z1 = 0, 100\n",
    "    # x2, z2 = 5, 100\n",
    "    z1 = z2 = 100\n",
    "\n",
    "    xx = yy = np.linspace(0, 101, 500)\n",
    "    xx = yy = np.linspace(0, 1 + max(z1, z2), 500)\n",
    "    XX, ZZ = np.meshgrid(xx, yy)\n",
    "    r1 = np.sqrt((XX - x1)**2 + (ZZ - z1)**2)\n",
    "    r2 = np.sqrt((XX - x2)**2 + (ZZ - z2)**2)\n",
    "\n",
    "    # Use `set_data` for smoother reloading\n",
    "    a0.set_data(r1[s1, s2] % lam)\n",
    "    a1.set_data(r2[s1, s2] % lam)\n",
    "    a2.set_data((r1 - r2) % (lam / 2))\n",
    "    \n",
    "    "
   ]
  },
  {
   "cell_type": "code",
   "execution_count": null,
   "metadata": {},
   "outputs": [],
   "source": []
  },
  {
   "cell_type": "code",
   "execution_count": null,
   "metadata": {},
   "outputs": [],
   "source": []
  },
  {
   "cell_type": "code",
   "execution_count": null,
   "metadata": {},
   "outputs": [],
   "source": [
    "from svgpath2mpl import parse_path\n",
    "import svgpathtools"
   ]
  },
  {
   "cell_type": "code",
   "execution_count": null,
   "metadata": {},
   "outputs": [],
   "source": [
    "import xarray as xr"
   ]
  },
  {
   "cell_type": "code",
   "execution_count": null,
   "metadata": {},
   "outputs": [],
   "source": [
    "xs1, xs2 = 0, int(1.2 * max(x1, x2))\n",
    "ys1, ys2 = int(.9*H), int(1.1*H)\n",
    "srows = slice(ys1, ys2)\n",
    "scols = slice(xs1, xs2)\n",
    "\n",
    "r1_xr.sel(x=scols)"
   ]
  },
  {
   "cell_type": "code",
   "execution_count": null,
   "metadata": {},
   "outputs": [],
   "source": [
    "\n",
    "H = 100 # Height of orbit 1\n",
    "# X positions of satellites: start with baseline of 3\n",
    "x1, z1 = 1, H\n",
    "alpha = np.deg2rad(0)\n",
    "B = 20\n",
    "x2 = x1 + B * np.cos(alpha)\n",
    "z2 = z1 + B * np.sin(alpha)\n",
    "\n",
    "# Radar wavelength [meters]\n",
    "lam = .5\n",
    "\n",
    "\n",
    "theta = np.deg2rad(45)  # look angle\n",
    "\n",
    "# x midswath\n",
    "xgmid = H * np.sin(theta)\n",
    "\n",
    "width = 20\n",
    "\n",
    "xx = np.linspace(xgmid - width, xgmid + width, 500)\n",
    "# zz = np.linspace(0, 1 + max(z1, z2), 500)\n",
    "zz = np.linspace(0, width, 500)\n",
    "XX, ZZ = np.meshgrid(xx, zz)\n",
    "r1 = np.sqrt((XX - x1)**2 + (ZZ - z1)**2)\n",
    "r2 = np.sqrt((XX - x2)**2 + (ZZ - z2)**2)\n",
    "\n",
    "\n",
    "r1_xr = xr.DataArray(data=(r1 % lam), dims=(\"z\", \"x\"), coords={\"z\": zz, \"x\": xx})\n",
    "r2_xr = xr.DataArray(data=(r2 % lam), dims=(\"z\", \"x\"), coords={\"z\": zz, \"x\": xx})\n",
    "\n",
    "rdiff_xr = xr.DataArray(data=((r1 - r2) % lam), dims=(\"z\", \"x\"), coords={\"z\": zz, \"x\": xx})\n",
    "\n",
    "# Zoom into the area near the 2 satellites to more esilz see their baseline\n",
    "xs1, xs2 = 0, int(1.2 * max(x1, x2))\n",
    "zs1, zs2 = int(.9*H), int(1.1*H)\n",
    "sz = slice(zs1, zs2)\n",
    "sx = slice(xs1, xs2)\n",
    "\n",
    "# plot once to have readz for interaction\n",
    "fig, axes = plt.subplots(1, 3, figsize=(11, 5))\n",
    "\n",
    "ax = axes[0]\n",
    "a0 = ax.imshow(r1_xr.sel(x=sx, z=sz), origin='lower', cmap='dismph', interpolation='nearest',\n",
    "              extent=[xs1, xs2, zs1, zs2])\n",
    "\n",
    "# Plot the sat location\n",
    "svgfile = '/Users/scott/Documents/Learning/phd-thesis/scratch/satellite1.svg'\n",
    "marker = plotting.create_marker_from_svg(svgfile, shift=True, flip=True)\n",
    "ax.plot(x1, z1, marker=marker, ms=50, color='k')\n",
    "\n",
    "# srows, scols = slice(None), slice(None)\n",
    "\n",
    "ax = axes[1]\n",
    "a1 = ax.imshow(r2_xr.sel(x=sx, z=sz), origin='lower', cmap='dismph', interpolation='nearest',\n",
    "              extent=[xs1, xs2, zs1, zs2])\n",
    "ax.plot(x2, z2, marker=marker, ms=50, color='k')\n",
    "\n",
    "\n",
    "ax = axes[2]\n",
    "# show more fringes for difference\n",
    "# a2 = ax.imshow(rdiff_xr, cmap='dismph', interpolation='nearest', origin='lower', )\n",
    "#               # extent=extent_ground)\n",
    "axim = rdiff_xr[:, :300].plot.imshow(ax=ax, cmap='dismph', interpolation='nearest')\n",
    "axim.axes.set_aspect('equal')\n",
    "# data.plot("
   ]
  },
  {
   "cell_type": "code",
   "execution_count": null,
   "metadata": {},
   "outputs": [],
   "source": [
    "rdiff_xr[:, :30]"
   ]
  },
  {
   "cell_type": "code",
   "execution_count": null,
   "metadata": {},
   "outputs": [],
   "source": [
    "x1, z1, x2, z2"
   ]
  },
  {
   "cell_type": "code",
   "execution_count": null,
   "metadata": {},
   "outputs": [],
   "source": [
    "plt.figure()\n",
    "plt.plot(5, 5, marker=marker, ms=50)"
   ]
  },
  {
   "cell_type": "code",
   "execution_count": null,
   "metadata": {},
   "outputs": [],
   "source": []
  }
 ],
 "metadata": {
  "hide_input": false,
  "kernelspec": {
   "display_name": "Python 3 (ipykernel)",
   "language": "python",
   "name": "python3"
  },
  "language_info": {
   "codemirror_mode": {
    "name": "ipython",
    "version": 3
   },
   "file_extension": ".py",
   "mimetype": "text/x-python",
   "name": "python",
   "nbconvert_exporter": "python",
   "pygments_lexer": "ipython3",
   "version": "3.8.6"
  },
  "toc": {
   "base_numbering": 1,
   "nav_menu": {},
   "number_sections": true,
   "sideBar": true,
   "skip_h1_title": false,
   "title_cell": "Table of Contents",
   "title_sidebar": "Contents",
   "toc_cell": false,
   "toc_position": {},
   "toc_section_display": true,
   "toc_window_display": false
  }
 },
 "nbformat": 4,
 "nbformat_minor": 4
}
