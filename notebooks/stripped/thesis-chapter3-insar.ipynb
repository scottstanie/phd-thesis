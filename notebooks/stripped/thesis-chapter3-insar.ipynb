{
 "cells": [
  {
   "cell_type": "code",
   "execution_count": null,
   "id": "13f841b1-05bc-4fac-85cd-67a0f0bd1dca",
   "metadata": {},
   "outputs": [],
   "source": [
    "import os\n",
    "import glob\n",
    "import numpy as np\n",
    "import pandas as pd\n",
    "import matplotlib.pyplot as plt\n",
    "from matplotlib import cm\n",
    "\n",
    "from apertools import plotting\n",
    "import seaborn as sns\n",
    "\n",
    "\n",
    "# sns.set_style(style=\"white\")\n",
    "plotting.set_style(size=16)\n",
    "\n",
    "RNG = np.random.default_rng()\n",
    "\n",
    "%matplotlib inline\n",
    "%load_ext autoreload\n",
    "%autoreload 2"
   ]
  },
  {
   "cell_type": "markdown",
   "id": "a8f13f1a-a360-4bc3-9b9f-74a46d4acf27",
   "metadata": {},
   "source": [
    "# SAR Constellation Figures"
   ]
  },
  {
   "cell_type": "markdown",
   "id": "51bb209d-a8b4-41e1-9888-15a7c62933c4",
   "metadata": {},
   "source": [
    "# Private Companies"
   ]
  },
  {
   "cell_type": "code",
   "execution_count": null,
   "id": "fcb4af0f-7687-4dd1-857f-1b1179f57279",
   "metadata": {},
   "outputs": [],
   "source": [
    "# Get table of small sat constellations\n",
    "df = pd.read_html(\"https://www.newspace.im/\")[0]\n",
    "print(df.shape)\n",
    "df.head()"
   ]
  },
  {
   "cell_type": "code",
   "execution_count": null,
   "id": "95f3fe15-35d4-45b4-81b6-2d910b459366",
   "metadata": {},
   "outputs": [],
   "source": [
    "df.drop([\"Image\", \"Funding\", \"Form factor\"], axis=1, inplace=True)\n",
    "df.head()"
   ]
  },
  {
   "cell_type": "code",
   "execution_count": null,
   "id": "169ee64c-6922-43f4-bda3-c04e8cb312c4",
   "metadata": {},
   "outputs": [],
   "source": [
    "# Grab the sar ones \n",
    "sar_rows = df['Field'].str.lower().str.contains(\"sar\", na=False)\n",
    "df_sar = df[sar_rows]\n",
    "\n",
    "# Drop too-early stage/bankrupt/not planned yet\n",
    "df_sar = df_sar[~df_sar['First launch'].str.contains('\\?')]\n",
    "df_sar = df_sar[~df_sar['First launch'].str.contains('Cancelled')]\n",
    "df_sar = df_sar[~df_sar['Launched\\xa0/Planned network'].str.contains('\\?')]\n",
    "\n",
    "\n",
    "# split out \"launched\" and \"planned network\"\n",
    "launched_planned = df_sar[\"Launched\\xa0/Planned network\"].str.split('/', expand=True).astype(int)\n",
    "df_sar.drop(\"Launched\\xa0/Planned network\", axis=1, inplace=True)\n",
    "df_sar[\"Launched\"] = launched_planned.loc[:, 0]\n",
    "df_sar[\"Planned\"] = launched_planned.loc[:, 1]\n",
    "\n",
    "# Reorder cols\n",
    "df_sar =  df_sar[[\"Organization\", \"Launched\", \"Planned\", \"First launch\", \"Field\", \"Technical and comments\"]]\n",
    "\n",
    "# add a shorter name\n",
    "df_sar['short_name'] = df_sar['Organization']\n",
    "df_sar.loc[:, 'short_name'] = df_sar['short_name'].str.split(\" \\(\").str[0]\n",
    "\n",
    "df_sar = df_sar.reset_index(drop=True)\n",
    "df_sar"
   ]
  },
  {
   "cell_type": "code",
   "execution_count": null,
   "id": "e71f05c0-f1a3-46f8-abb3-7aab5106e7b3",
   "metadata": {},
   "outputs": [],
   "source": [
    "df_sar.to_csv(\"new_space_sar_constellations.csv\", index=False, encoding=\"utf-8\")"
   ]
  },
  {
   "cell_type": "code",
   "execution_count": null,
   "id": "58018466-d3db-4f64-88f8-db8f8d4395e0",
   "metadata": {},
   "outputs": [],
   "source": [
    "df_sar2.loc[6].short_name = 'China Electronics\\nTechnology Group'\n",
    "Tianjin Satcom Geohe Technologies\n",
    "df_sar2.loc[6]"
   ]
  },
  {
   "cell_type": "code",
   "execution_count": null,
   "id": "2c73b0a1-227a-4a32-a763-a126e18bca26",
   "metadata": {},
   "outputs": [],
   "source": [
    "# df_sar2 = df_sar[df_sar['Launched'] > 0].copy()\n",
    "df_sar2 = df_sar\n",
    "\n",
    "fig, ax = plt.subplots(figsize=(6, 6))\n",
    "# https://matplotlib.org/stable/gallery/subplots_axes_and_figures/broken_axis.html\n",
    "# fig, (ax1, ax2) = plt.subplots(2, 1, sharex=True)\n",
    "# fig.subplots_adjust(hspace=0.05)  # adjust space between axes\n",
    "\n",
    "\n",
    "xlabels = df_sar2['short_name'].values\n",
    "ax.bar(x=xlabels, height=df_sar2['Launched'])\n",
    "ax.bar(x=xlabels, height=df_sar2['Planned'], bottom=df_sar2['Launched'])\n",
    "\n",
    "\n",
    "\n",
    "xlabels[6] = 'China Electronics\\nTechnology Group'\n",
    "xlabels[12] = 'Tianjin Satcom\\nGeohe Technologies'\n",
    "ax.set_xticklabels(xlabels, rotation=90, ha=\"center\");\n",
    "ax.set_yscale('log', base=2)\n",
    "ax.set_ylim((0.8, None))\n",
    "\n",
    "plt.tight_layout()"
   ]
  },
  {
   "cell_type": "code",
   "execution_count": null,
   "id": "adf9cc04-0bcf-40ae-8789-5c4fba4e80ac",
   "metadata": {},
   "outputs": [],
   "source": [
    "# fig, ax = plt.subplots(figsize=(6, 6))\n",
    "# https://matplotlib.org/stable/gallery/subplots_axes_and_figures/broken_axis.html\n",
    "# fig, (ax1, ax2) = plt.subplots(2, 1, sharex=True, figsize=(8, 5))\n",
    "\n",
    "\n",
    "mosaic = [[0], [1], [1], [1]]\n",
    "fig = plt.figure(constrained_layout=True, figsize=(8, 5))\n",
    "axes = fig.subplot_mosaic(mosaic, sharex=True,\n",
    "                         gridspec_kw={\"hspace\": 0.01,},)\n",
    "ax1 = axes[0]\n",
    "ax2 = axes[1]\n",
    "# fig.subplots_adjust(hspace=0.05)  # adjust space between axes\n",
    "\n",
    "df_sar_sorted = df_sar.sort_values([\"Launched\", \"Planned\"], ascending=False)\n",
    "\n",
    "xlabels = df_sar_sorted['short_name'].values\n",
    "# First plot same on both axes\n",
    "# cmap = cm.get_cmap('tab10')\n",
    "cmap = sns.color_palette(\"deep\")\n",
    "\n",
    "bars_launched = ax1.bar(x=xlabels, height=df_sar_sorted['Launched'], color=cmap[0])\n",
    "bars_planned = ax1.bar(x=xlabels, height=df_sar_sorted['Planned'], bottom=df_sar_sorted['Launched'], color=cmap[-2])\n",
    "ax2.bar(x=xlabels, height=df_sar_sorted['Launched'], color=cmap[0])\n",
    "ax2.bar(x=xlabels, height=df_sar_sorted['Planned'], bottom=df_sar_sorted['Launched'], color=cmap[-2])\n",
    "\n",
    "# zoom-in / limit the view to different portions of the data\n",
    "ax1.set_ylim(92, 100)  # outliers only\n",
    "ax2.set_ylim(0, 60)  # most of the data\n",
    "\n",
    "xlabels[6] = 'China Electronics\\nTechnology Group'\n",
    "xlabels[12] = 'Tianjin Satcom\\nGeohe Technologies'\n",
    "ax2.set_xticklabels(xlabels, rotation=90, ha=\"center\");\n",
    "\n",
    "# hide the spines between ax and ax2\n",
    "ax1.spines.bottom.set_visible(False)\n",
    "ax2.spines.top.set_visible(False)\n",
    "ax1.xaxis.tick_top()\n",
    "ax1.tick_params(labeltop=False)  # don't put tick labels at the top\n",
    "ax2.xaxis.tick_bottom()\n",
    "\n",
    "\n",
    "# Now, let's turn towards the cut-out slanted lines.\n",
    "# We create line objects in axes coordinates, in which (0,0), (0,1),\n",
    "# (1,0), and (1,1) are the four corners of the axes.\n",
    "# The slanted lines themselves are markers at those locations, such that the\n",
    "# lines keep their angle and position, independent of the axes size or scale\n",
    "# Finally, we need to disable clipping.\n",
    "\n",
    "d = .5  # proportion of vertical to horizontal extent of the slanted line\n",
    "kwargs = dict(marker=[(-1, -d), (1, d)], markersize=12,\n",
    "              linestyle=\"none\", color='k', mec='k', mew=1, clip_on=False)\n",
    "ax1.plot([0, 1], [0, 0], transform=ax1.transAxes, **kwargs)\n",
    "ax2.plot([0, 1], [1, 1], transform=ax2.transAxes, **kwargs)\n",
    "\n",
    "\n",
    "\n",
    "ax1.legend([bars_launched, bars_planned], [\"Launched\", \"Planned\"], loc=\"upper left\")\n",
    "\n",
    "plt.minorticks_off()\n",
    "plt.tight_layout()"
   ]
  },
  {
   "cell_type": "code",
   "execution_count": null,
   "id": "205fe51e-b9c1-4dda-a6fc-d00a2a0e80b0",
   "metadata": {},
   "outputs": [],
   "source": [
    "fig.savefig(\"../figures/chapter3-sar/sar-private-constellations.pdf\", bbox_inches=\"tight\")"
   ]
  },
  {
   "cell_type": "markdown",
   "id": "de83c63f-027a-4a00-a4a2-e3e9e9cf3277",
   "metadata": {},
   "source": [
    "## Current count of private satellites"
   ]
  },
  {
   "cell_type": "code",
   "execution_count": null,
   "id": "0b3561d8-c3b5-4fe8-b9a6-b01d03962bbc",
   "metadata": {},
   "outputs": [],
   "source": [
    "columns = ['short_name', 'Launched', 'Planned']\n",
    "\n",
    "\n",
    "df_sar0 = df_sar[df_sar.Launched == 0]\n",
    "df_sar1 = df_sar[df_sar.Launched > 0]\n",
    "\n",
    "# xlabels[6] = 'China Electronics\\nTechnology Group'\n",
    "# xlabels[12] = 'Tianjin Satcom\\nGeohe Technologies'\n",
    "\n",
    "df = df_sar[columns].set_index('short_name').sort_values([\"Launched\", \"Planned\"], ascending=False)\n",
    "# df.append(df.sum(numeric_only=True), ignore_index=True)\n",
    "# df.append(df.sum(numeric_only=True), ignore_index=True)\n",
    "df = df.append(pd.Series(df.sum(),name='Total'))\n",
    "df.index.name = \"Company\"\n",
    "df"
   ]
  },
  {
   "cell_type": "markdown",
   "id": "287a89c2-45b6-43ea-af6f-5b4ee24563d0",
   "metadata": {},
   "source": [
    "# Government missions"
   ]
  },
  {
   "cell_type": "code",
   "execution_count": null,
   "id": "edcc4960-5a04-4124-b5eb-f6398ddafbb3",
   "metadata": {},
   "outputs": [],
   "source": [
    "df_govt = pd.read_csv(\"../sar-missions.csv\", parse_dates=['Launched', 'Ended'])\n",
    "df_govt.drop([\"Site\", \"Satellite Revisit Time (days)\", \"Swath Width (km)\"], axis=1, inplace=True)\n",
    "\n",
    "# cut future missions\n",
    "future_idxs = df_govt['Launched'].str.lower() == 'future'\n",
    "df_govt = df_govt[~future_idxs]\n",
    "\n",
    "# Fix a weird hypen in RADARSAT, idk if it's an excel thing or what\n",
    "bad_hypen = df_govt[df_govt[\"Mission\"] == \"RADARSAT\"].iloc[0].Satellite[-2]\n",
    "df_govt[\"Satellite\"] = df_govt[\"Satellite\"].str.replace(bad_hypen, \"-\")\n",
    "\n",
    "# replace with future date\n",
    "ongoing_idxs = df_govt['Ended'] == 'present'\n",
    "\n",
    "df_govt['Ended'][ongoing_idxs] = (pd.Timestamp.today() + pd.DateOffset(days=90)).date()\n",
    "df_govt['Ended'] = pd.to_datetime(df_govt['Ended'])\n",
    "df_govt['Launched'] = pd.to_datetime(df_govt['Launched'])\n",
    "\n",
    "# df_govt['span'] = df_govt['Ended'] - df_govt['Launched']\n",
    "df_govt['Span'] = (df_govt['Ended'] - df_govt['Launched']).dt.days\n",
    "\n",
    "# ignore seasat for now to just get post-90s missions\n",
    "df_govt = df_govt[df_govt['Launched'] > pd.to_datetime('1990-01-01')]\n",
    "df_govt.reset_index(drop=True, inplace=True)\n",
    "\n",
    "# Use Nation/Agency as legend key\n",
    "df_govt['Legend'] = df_govt['Agency'] + \" (\" + df_govt['Nation'] + \")\"\n",
    "# For Legend simplicity, just call the SIR-X NASA instead of NASA/DLR/ASI\n",
    "df_govt['Legend'] = df_govt['Legend'].replace(\"NASA/DLR (USA)\", \"NASA (USA)\")\n",
    "\n",
    "df_govt.head()"
   ]
  },
  {
   "cell_type": "code",
   "execution_count": null,
   "id": "24a45476-766c-40f5-8f83-56c9f5e74d91",
   "metadata": {},
   "outputs": [],
   "source": [
    "wavelengths = {\"X\": 3, \"C\": 6, \"L\": 24}\n",
    "df_govt['Wavelength'] = 0\n",
    "for b, val in wavelengths.items():\n",
    "    idxs = df_govt['Band'].str.contains(b)\n",
    "    df_govt.loc[idxs, \"Wavelength\"] = val\n",
    "    \n",
    "df_govt.head()\n",
    "df_govt = df_govt.sort_values(by=[\"Wavelength\", \"Launched\"], axis=0, ascending=[False, True])\n",
    "# df_govt = df_govt.sort_values(by=[\"Wavelength\"], axis=0)\n",
    "df_govt"
   ]
  },
  {
   "cell_type": "code",
   "execution_count": null,
   "id": "1bcffb73-69c3-4c4c-b79c-280b559fad23",
   "metadata": {},
   "outputs": [],
   "source": [
    "first_c_idx = (df_govt['Band'] == 'C').values.argmax()\n",
    "first_x_idx = (df_govt['Band'] == 'X').values.argmax()\n",
    "first_c_idx, first_x_idx"
   ]
  },
  {
   "cell_type": "code",
   "execution_count": null,
   "id": "bef0220b-bbc7-4560-9b43-c93ab4825ff3",
   "metadata": {},
   "outputs": [],
   "source": [
    "df_govt['Legend'].unique(), len(df_govt['Legend'].unique())"
   ]
  },
  {
   "cell_type": "code",
   "execution_count": null,
   "id": "813eb974-04e5-4961-bb75-6103169f68c8",
   "metadata": {},
   "outputs": [],
   "source": [
    "# Make each Nation a separate color\n",
    "cmap = \"set3\"\n",
    "cmap = \"paired\"\n",
    "# cmap = \"tab20\"\n",
    "\n",
    "x = np.linspace(0.0, 1.0, 50)\n",
    "label_colors = np.unique(cm.get_cmap(plt.get_cmap(cmap))(x), axis=0)\n",
    "\n",
    "color_df = df_govt.groupby('Nation').first().reset_index()[['Nation']]\n",
    "# Remove USA since the 2 missions are two short for colors\n",
    "color_df = color_df[color_df.Nation != \"USA\"]\n",
    "\n",
    "\n",
    "for row in color_df.itertuples():\n",
    "    # print(row)\n",
    "    df_govt.loc[df_govt['Nation'] == row.Nation, 'color'] = row.Index\n",
    "df_govt['color'] = df_govt['color'].astype(int)\n",
    "# df_govt.head()"
   ]
  },
  {
   "cell_type": "code",
   "execution_count": null,
   "id": "3e98961d-52d6-4e8c-9b5f-03de5f2bcf22",
   "metadata": {},
   "outputs": [],
   "source": [
    "sns.set_style()\n",
    "# import proplot # for style\n",
    "import matplotlib.ticker as ticker\n",
    "\n",
    "fig, ax = plt.subplots(figsize=(10, 10))\n",
    "\n",
    "bar_colors = label_colors[df_govt.color.values]\n",
    "# ys = np.arange(3\n",
    "bar_list = ax.barh(y=df_govt['Satellite'], width=df_govt['Span'], left=df_govt['Launched'], \n",
    "                   height=.9, align='center', edgecolor=\"k\", linewidth=2,\n",
    "                   # color=\"grey\",\n",
    "                   color=bar_colors)\n",
    "\n",
    "\n",
    "\n",
    "\n",
    "tick_dates = pd.date_range('1990-1-1', end=df_govt['Ended'].max(), freq='5Y')\n",
    "ax.set_xticks(tick_dates)\n",
    "ax.xaxis.set_major_formatter(ticker.FixedFormatter(tick_dates.strftime(\"%Y\")))\n",
    "ax.tick_params(axis='x',\n",
    "               # rotation=70,\n",
    "               labelsize=\"x-large\")\n",
    "\n",
    "ax.yaxis.tick_right()\n",
    "\n",
    "xmin = pd.to_datetime(\"1988-1-1\")\n",
    "xmax = pd.Timestamp.today().date()\n",
    "# give some x-limit space on the left for annotations of x/c/l\n",
    "ax.set_xlim((xmin, xmax))\n",
    "ax.set_ylim((-1, len(df_govt)))\n",
    "\n",
    "ax.grid(visible=True, which=\"major\")\n",
    "\n",
    "# Add divider for X/C/L band missions\n",
    "ax.hlines(xmin=xmin, xmax=xmax, y = [first_c_idx - 0.5, first_x_idx - 0.5], lw=3,\n",
    "          color=\"black\", linestyle=\"dashed\")\n",
    "ax.vlines(ymin=-5, ymax=len(df_govt) + 5, x=tick_dates.min() - pd.DateOffset(days=180),\n",
    "          lw=3, color=\"black\", linestyle=\"dashed\")\n",
    "\n",
    "\n",
    "# Add annotations for NASA ones (too thin to see color)\n",
    "nasa_labels = ['(NASA/DLR, USA/Germany)', '(NASA, USA)']\n",
    "nasa_rows = df_govt.reset_index()[df_govt.Legend.str.contains(\"USA\").values][[\"Ended\", \"Legend\"]]\n",
    "for lab, (idx, row) in zip(nasa_labels, nasa_rows.iterrows()):\n",
    "    ax.annotate(lab,\n",
    "                xy=(row.Ended + pd.DateOffset(days=180), idx),\n",
    "                va='center',\n",
    "                font='TeX Gyre Heros', size=11,\n",
    "               )\n",
    "    \n",
    "# dd stars to denote freely available data\n",
    "df_free = df_govt.reset_index().loc[df_govt.reset_index()['Freely Available'] == \"Yes\"]\n",
    "free_markers = ax.scatter(df_free['Launched'] - pd.DateOffset(days=180), df_free.index, marker=\"*\", s=150)\n",
    "\n",
    "# Add text denoting the X/C/L divides\n",
    "xtext = pd.to_datetime(\"1989-4-1\")\n",
    "ax.text(xtext, 1.8, \"L-Band\", ha=\"center\", va=\"center\", rotation=90, size=15,\n",
    "              bbox=dict(lw=2, fc='w', ec=\"k\",))\n",
    "ax.text(xtext, 12, \"C-Band\", ha=\"center\", va=\"center\", rotation=90, size=15,\n",
    "              bbox=dict(lw=2, fc='w', ec=\"k\",))\n",
    "ax.text(xtext, 26, \"X-Band\", ha=\"center\", va=\"center\", rotation=90, size=15,\n",
    "              bbox=dict(lw=2, fc='w', ec=\"k\",))\n",
    "\n",
    "\n",
    "\n",
    "# Make a dict of labels to de-duplicate per nation\n",
    "by_label = dict(zip(df_govt[\"Legend\"], bar_list))\n",
    "by_label.pop(\"NASA (USA)\")\n",
    "by_label['Data Freely Available'] = free_markers\n",
    "ax.legend(by_label.values(), by_label.keys(), fontsize=\"large\",\n",
    "         bbox_to_anchor=(0.6, 1.0), ncol=2)\n",
    "\n",
    "# ax.xaxis.tick_params(which='minor', grid_alpha=0)\n",
    "plt.minorticks_off()"
   ]
  },
  {
   "cell_type": "code",
   "execution_count": null,
   "id": "a7075928-8784-405b-b79a-3e129dd7fc1b",
   "metadata": {},
   "outputs": [],
   "source": [
    "fig.savefig(\"../figures/chapter3-sar/sar-missions.pdf\", bbox_inches=\"tight\")"
   ]
  },
  {
   "cell_type": "markdown",
   "id": "55fa1610-7aa9-4e04-98ea-7581f24c8d85",
   "metadata": {},
   "source": [
    "## Current count of government satellites"
   ]
  },
  {
   "cell_type": "code",
   "execution_count": null,
   "id": "de80e54a-8f81-4c6c-9325-501845f9dd46",
   "metadata": {},
   "outputs": [],
   "source": [
    "df_govt[df_govt['Ended'] >= pd.Timestamp.today()].reset_index()"
   ]
  },
  {
   "cell_type": "markdown",
   "id": "0ebf9119-cc19-416b-a1b1-21892c668bcb",
   "metadata": {},
   "source": [
    "# 3.4 Hawaii example interferogram"
   ]
  },
  {
   "cell_type": "code",
   "execution_count": null,
   "id": "d0206dd0-7718-4424-b490-5a3fbe448251",
   "metadata": {},
   "outputs": [],
   "source": [
    "from apertools import sario, plotting, constants"
   ]
  },
  {
   "cell_type": "code",
   "execution_count": null,
   "id": "29aefbb6-923b-495f-9e55-795eec54fadf",
   "metadata": {},
   "outputs": [],
   "source": [
    "data_dir = '/Users/scott/Documents/Learning/phd-thesis/scratch/hawaii-examples/'\n",
    "os.chdir(data_dir)"
   ]
  },
  {
   "cell_type": "code",
   "execution_count": null,
   "id": "ef630f95-9ae0-4ec2-a65f-8aee142d0618",
   "metadata": {},
   "outputs": [],
   "source": [
    "# baseline = -16.6, but good stratified cone. also, pre-puuooo collapse\n",
    "# ifgname = \"20180408_20180420\"\n",
    "# baseline = -28, mauna loa kinda misshapen. \n",
    "# ifgname = \"20180408_20180502\"\n",
    "\n",
    "ifgname = \"20180420_20180502\"  # This one seems nicest overall\n",
    "\n",
    "dem = sario.load(\"wgs84/igrams/elevation_looked.dem\")\n",
    "ifg = sario.load(f\"wgs84/igrams/{ifgname}.int\")\n",
    "unw = sario.load(f\"wgs84/igrams/{ifgname}.unw\")\n",
    "\n",
    "mask = (ifg == 0)\n",
    "dem[mask] = 0\n",
    "ifg[mask] = np.nan\n",
    "unw[mask] = np.nan"
   ]
  },
  {
   "cell_type": "code",
   "execution_count": null,
   "id": "05b9c2ce-3733-4c4c-b055-e5ae00efae40",
   "metadata": {},
   "outputs": [],
   "source": [
    "import rioxarray\n",
    "unw_rio = rioxarray.open_rasterio(f\"wgs84/igrams/{ifgname}.unw\").sel(band=2)\n",
    "unw_rio"
   ]
  },
  {
   "cell_type": "code",
   "execution_count": null,
   "id": "60b40cf4-4813-4112-9d54-8a721e858a85",
   "metadata": {},
   "outputs": [],
   "source": [
    "plotting.plot_ifg(ifg, figsize=(12, 3))\n",
    "fig, ax = plt.subplots(figsize=(6, 6))\n",
    "axim = ax.imshow(dem, cmap='terrain')\n",
    "fig.colorbar(axim)"
   ]
  },
  {
   "cell_type": "code",
   "execution_count": null,
   "id": "b0203793-e2e3-4163-8d7a-3f8cf055ccc6",
   "metadata": {},
   "outputs": [],
   "source": [
    "plt.imshow(unw, cmap='RdBu')"
   ]
  },
  {
   "cell_type": "markdown",
   "id": "3b4f8311-8621-4adf-9def-4e5d3c760a13",
   "metadata": {},
   "source": [
    "# 3.5 Tropo noise Hawaii zoom"
   ]
  },
  {
   "cell_type": "code",
   "execution_count": null,
   "id": "2fd86f9f-79e8-4263-a890-94892026d2b2",
   "metadata": {},
   "outputs": [],
   "source": [
    "s1, s2 = slice(220, 500), slice(380, 650)\n",
    "axes = plotting.plot_ifg(ifg[s1, s2], figsize=(12, 3))\n",
    "\n",
    "patch = unw[s1, s2].copy()\n",
    "patch -= np.nanmean(patch)\n",
    "axim = axes[-1].imshow(patch, cmap='RdBu')\n",
    "plt.colorbar(axim)\n",
    "\n",
    "\n",
    "fig, axes = plt.subplots(1, 2, figsize=(12, 3))\n",
    "ax = axes[0]\n",
    "axim = ax.imshow(dem[s1, s2], cmap='terrain')\n",
    "fig.colorbar(axim)\n",
    "\n",
    "ax = axes[1]\n",
    "\n",
    "ax.scatter(dem[s1, s2].ravel(), patch.ravel(), s=.2)\n",
    "ax.set_xlabel(\"Elevation [m]\")\n",
    "ax.set_ylabel(\"Unwrapped phase [cm]\")"
   ]
  },
  {
   "cell_type": "code",
   "execution_count": null,
   "id": "4e77d946-3d9a-47c3-be11-6ebfaaf48cf0",
   "metadata": {},
   "outputs": [],
   "source": [
    "from apertools import latlon\n",
    "lons, lats = latlon.grid(**sario.load(\"wgs84/igrams/dem.rsc\"), sparse=True)\n",
    "lons = lons.ravel()\n",
    "lats = lats.ravel()\n",
    "lons.shape"
   ]
  },
  {
   "cell_type": "code",
   "execution_count": null,
   "id": "e2911bb6-12e3-48bf-81f3-e252e885a595",
   "metadata": {},
   "outputs": [],
   "source": [
    "pplt.rc['grid'] = False"
   ]
  },
  {
   "cell_type": "code",
   "execution_count": null,
   "id": "1e023067-d24e-49da-8a63-ef46531a2cdb",
   "metadata": {},
   "outputs": [],
   "source": [
    "rowmax, colmax = np.unravel_index(dem.argmax(), dem.shape) # Mauna Kea, 4200ish\n",
    "# rowmax, colmax = 742, 624 # mauna loa, 4100ish\n",
    "buf = 50\n",
    "rows, cols = slice(rowmax - buf, rowmax + buf), slice(colmax - buf, colmax + buf)\n",
    "bbox = unw_rio[rows, cols].rio.bounds()\n",
    "\n",
    "# fig, axes = plt.subplots(1, 3, figsize=(14, 4),\n",
    "#                         # sharex=True, sharey=True,\n",
    "#                         )\n",
    "fig = pplt.figure(refwidth=1.5)\n",
    "axes = fig.subplots(ncols=3, proj=('pcarree', 'pcarree', None))\n",
    "\n",
    "ax = axes[0]\n",
    "patch = unw[rows, cols].copy() * constants.PHASE_TO_CM_S1\n",
    "patch -= patch.mean()\n",
    "# axim = ax.imshow(patch , cmap='RdBu', vmin=-2, vmax=2)\n",
    "# axim = ax.imshow(np.angle(ifg[rows, cols]), cmap='dismph', interpolation='nearest')\n",
    "_, axim = plotting.map_img(patch, bbox=bbox, pad_pct=0.0, ax=ax, cmap='RdBu', vmin=-2, vmax=2)#, crs=None, **imshow_kwargs):\n",
    "cbar = fig.colorbar(axim, ax=ax)\n",
    "cbar.set_label(\"[cm]\")\n",
    "ax.set_axis_off()\n",
    "plotting.scale_bar(ax, ax.projection, 2, location=(0.8, 0.08))\n",
    "ax.format(abc=\"(a)\")\n",
    "\n",
    "\n",
    "ax = axes[1]\n",
    "axim = ax.imshow(dem[rows, cols], cmap='terrain')\n",
    "_, axim = plotting.map_img(dem[rows, cols], bbox=bbox, pad_pct=0.0, ax=ax, cmap='terrain')\n",
    "cbar = fig.colorbar(axim, ax=ax)\n",
    "cbar.set_label(\"[m]\")\n",
    "ax.set_axis_off()\n",
    "plotting.scale_bar(ax, ax.projection, 2, location=(0.8, 0.08))\n",
    "ax.format(abc=\"(a)\")\n",
    "\n",
    "\n",
    "x, y = dem[rows, cols].ravel(), patch.ravel()\n",
    "\n",
    "ax = axes[2]\n",
    "# ax = fig.add_subplot(1, 3, 3)\n",
    "ax.scatter(x / 1e3, y, s=.2)\n",
    "ax.set_xlabel(\"Elevation [km]\")\n",
    "ax.set_ylabel(\"Unwrapped phase [cm]\")\n",
    "ax.grid(True)\n",
    "ax.minorticks_off()\n",
    "ax.format(abc=\"(a)\")\n",
    "\n",
    "# fig.tight_layout()"
   ]
  },
  {
   "cell_type": "code",
   "execution_count": null,
   "id": "9d33c67e-4f47-43b3-b78e-a3c3df4a978b",
   "metadata": {},
   "outputs": [],
   "source": [
    "fig.savefig(\"../../figures/chapter3-sar/hawaii-strat-zoom.pdf\")"
   ]
  },
  {
   "cell_type": "code",
   "execution_count": null,
   "id": "bf1d1bd4-e30e-4ae7-8c87-c3d83e5dbc59",
   "metadata": {},
   "outputs": [],
   "source": [
    "patch = unw[650:950, 900:1300].copy() * constants.PHASE_TO_CM_S1\n",
    "patch -= np.nanmean(patch)\n",
    "plt.imshow(patch)\n",
    "plt.colorbar()"
   ]
  },
  {
   "cell_type": "code",
   "execution_count": null,
   "id": "68d462ee-2cbe-458c-950a-118c8b0dce6d",
   "metadata": {},
   "outputs": [],
   "source": [
    "x, y = dem[rows, cols].ravel(), unw[rows, cols].ravel() * constants.PHASE_TO_CM_S1\n",
    "\n",
    "ax = axes[2]\n",
    "ax.scatter(x, y, s=.2)\n",
    "ax.set_xlabel(\"Elevation [m]\")\n",
    "ax.set_ylabel(\"Unwrapped phase [cm]\")\n",
    "\n",
    "fig.tight_layout()\n",
    "fig.save_fig(\"../hawaii-mauna-loa-stratified-noise\")"
   ]
  },
  {
   "cell_type": "code",
   "execution_count": null,
   "id": "11e3886c-82f4-46c1-8c97-33aaff93cae7",
   "metadata": {},
   "outputs": [],
   "source": [
    "# Chronology: https://volcanoes.usgs.gov/vsc/file_mngr/file-179/Chronology%20of%20events%202018.pdf\n",
    "# https://www.usgs.gov/volcanoes/kilauea/2018-lower-east-rift-zone-eruption-and-summit-collapse\n",
    "# https://www.youtube.com/watch?v=sPVlcvDrxtQ\n",
    "# https://www.usgs.gov/media/images/clear-conditions-puu-oo-provided-good-views\n",
    "# https://www.usgs.gov/observatories/hvo/news/volcano-watch-7-months-no-lava-puu-oo-heralds-end-era"
   ]
  },
  {
   "cell_type": "code",
   "execution_count": null,
   "id": "f6b22b6a-126c-484d-94e7-d4cb507bacfb",
   "metadata": {},
   "outputs": [],
   "source": [
    "from apertools import gps, gps_plots\n",
    "\n",
    "fig, axes = gps_plots.plot_gps_enu(\"PUOC\", start_date=\"2018-04-01\", end_date=\"2018-06-01\", figsize=(10, 6), days_smooth=0)\n"
   ]
  },
  {
   "cell_type": "markdown",
   "id": "ddb98dea-1eaf-41a0-a68a-a6b1f6d0423f",
   "metadata": {},
   "source": [
    "# 3.5 WRF mitigation images from raider"
   ]
  },
  {
   "cell_type": "code",
   "execution_count": null,
   "id": "cfb9bb05-779c-4c1c-90f4-66d59beb027b",
   "metadata": {},
   "outputs": [],
   "source": [
    "data_dir = '/Users/scott/Documents/Learning/phd-thesis/scratch/weather_images/'\n",
    "os.chdir(data_dir)"
   ]
  },
  {
   "cell_type": "code",
   "execution_count": null,
   "id": "570c6a22-8587-44cf-a96a-31e6190fedcf",
   "metadata": {},
   "outputs": [],
   "source": [
    "weather_files = sorted(glob.glob(\"wea*.tif\"))\n",
    "weather_files"
   ]
  },
  {
   "cell_type": "code",
   "execution_count": null,
   "id": "af0c0445-0926-472d-a30b-0b21aa116f49",
   "metadata": {},
   "outputs": [],
   "source": [
    "dem78 = rioxarray.open_rasterio(\"elevation_looked.dem\").sel(band=1)\n",
    "dem78"
   ]
  },
  {
   "cell_type": "code",
   "execution_count": null,
   "id": "119279d1-34f8-4259-bf70-9b37341e0b92",
   "metadata": {},
   "outputs": [],
   "source": [
    "import rasterio as rio\n",
    "with rio.open(weather_files[0]) as src:\n",
    "    bbox = tuple(src.bounds)\n",
    "    extent = bbox[0], bbox[2], bbox[1], bbox[3]"
   ]
  },
  {
   "cell_type": "code",
   "execution_count": null,
   "id": "b9222403-d70f-424c-9f67-e1fe84517c9c",
   "metadata": {},
   "outputs": [],
   "source": [
    "bbox, extent"
   ]
  },
  {
   "cell_type": "code",
   "execution_count": null,
   "id": "cedf72c7-61b9-4bd1-8dc1-331dc15c77a8",
   "metadata": {},
   "outputs": [],
   "source": [
    "weather_arrs = []\n",
    "for f in weather_files:\n",
    "    a = sario.load(f)\n",
    "    if len(a) == 3:\n",
    "        weather_arrs.append(np.moveaxis(a, 0, 2))\n",
    "    else:\n",
    "        weather_arrs.append(a.squeeze())\n",
    "# arr_dict = {\n",
    "#     'calm': {\n",
    "#         'ifg': unw_calm,\n",
    "#         'raider': d_raider_unw_calm,\n",
    "#         'rgb': rgb_calm,\n",
    "#     },\n",
    "#     'storm': {\n",
    "#         'ifg': unw_storm,\n",
    "#         'raider': d_raider_unw_storm,\n",
    "#         'rgb': rgb_storm,\n",
    "#     },\n",
    "#     'wave': {\n",
    "#         'ifg': unw_wave,\n",
    "#         'raider': d_raider_unw_wave,\n",
    "#         'rgb': rgb_wave,\n",
    "#     },\n",
    "# }\n",
    "[f.shape for f in weather_arrs]"
   ]
  },
  {
   "cell_type": "code",
   "execution_count": null,
   "id": "eca8c090-2d8c-4b57-9e2d-9963093e81ca",
   "metadata": {},
   "outputs": [],
   "source": [
    "import proplot as pplt\n",
    "\n",
    "cmap = \"RdBu\"\n",
    "# fig, axes = plt.subplots(nrows=3, ncols=3, figsize=(9, 9))\n",
    "# axes = axes.ravel()\n",
    "fig, axes = pplt.subplots(nrows=3, ncols=3, figsize=(9, 9), share=False)\n",
    "\n",
    "for ax, arr, fname in zip(axes, weather_arrs, weather_files):\n",
    "    type_, d1, d2 = fname.strip(\".tif\").split(\"_\")[-3:]\n",
    "    print(type_, d1, d2)\n",
    "    if arr.ndim == 3:\n",
    "        ax.imshow(arr)\n",
    "        ax.set_axis_off()\n",
    "        \n",
    "    else:\n",
    "        axim = ax.imshow(arr, cmap=cmap, extent=extent)\n",
    "        ax.colorbar(axim, loc='r')\n",
    "        # fig.colorbar(axim, ax=ax)\n",
    "    ax.set_title(f\"{type_, d1, d2}\")\n",
    "\n",
    "# ax.imshow(rgb_storm)\n"
   ]
  },
  {
   "cell_type": "code",
   "execution_count": null,
   "id": "eb82a5af-f48d-4fa6-8f47-33dc542cb245",
   "metadata": {},
   "outputs": [],
   "source": [
    "weather_files"
   ]
  },
  {
   "cell_type": "code",
   "execution_count": null,
   "id": "a22c560a-b7ae-48a9-bd1e-ab3acd7442bc",
   "metadata": {},
   "outputs": [],
   "source": []
  },
  {
   "cell_type": "code",
   "execution_count": null,
   "id": "cb64c025-931b-4902-847f-068d328c142d",
   "metadata": {},
   "outputs": [],
   "source": [
    "def plot_ifg_corrections(idxs=slice(0, 3), cmap=\"RdBu\"):\n",
    "    # fig, axes = plt.subplots(nrows=3, ncols=3, figsize=(9, 9))\n",
    "    # axes = axes.ravel()\n",
    "    # fig, axes = pplt.subplots(nrows=1, ncols=3, figsize=(9, 9), share=False)\n",
    "\n",
    "    fig = pplt.figure(share=False, refwidth=2.3)\n",
    "\n",
    "    ifg, raider, rgb = weather_arrs[idxs]\n",
    "    type_, d2, d1 = weather_files[idxs][0].strip(\".tif\").split(\"_\")[-3:]\n",
    "    print(type_, d1, d2)\n",
    "    \n",
    "    # vm = max(np.nanmax(np.abs(ifg)), np.nanmax(np.abs(raider)))\n",
    "    vm = max(np.nanpercentile(np.abs(ifg), 99.9), np.nanpercentile(np.abs(raider), 99.9))\n",
    "        \n",
    "    ax = fig.subplot(221, title=f'GOES: {d2}', abc=\"(a)\")\n",
    "    ax.imshow(rgb, extent=extent)\n",
    "    # ax.set_axis_off()\n",
    "    ax.minorticks_off()\n",
    "\n",
    "    ax = fig.subplot(222, title=f'Ifg: {d1} - {d2}', abc=\"(a)\")\n",
    "    axim = ax.imshow(ifg, cmap=cmap, extent=extent, vmax=vm, vmin=-vm)\n",
    "    ax.colorbar(axim, loc='r', label='[cm]')\n",
    "    # fig.colorbar(axim, ax=ax)\n",
    "    # ax.set_title(f\"{type_, d1, d2}\")\n",
    "\n",
    "    ax = fig.subplot(223, title='GMAO predicted', abc=\"(a)\")\n",
    "    axim = ax.imshow(raider, cmap=cmap, extent=extent, vmax=vm, vmin=-vm)\n",
    "    ax.colorbar(axim, loc='r', label='[cm]')\n",
    "    # fig.colorbar(axim, ax=ax)\n",
    "    # ax.set_title(f\"{type_, d1, d2}\")\n",
    "\n",
    "\n",
    "    ax = fig.subplot(224, title='Corrected Ifg', abc=\"(a)\")\n",
    "    axim = ax.imshow(ifg - raider, cmap=cmap, extent=extent, vmax=vm, vmin=-vm)\n",
    "    ax.colorbar(axim, loc='r', label='[cm]')\n",
    "    # fig.colorbar(axim, ax=ax)\n",
    "    # ax.set_title(f\"{type_, d1, d2}\")\n",
    "    return fig\n",
    "\n",
    "pplt.rc['tick.minor'] = False"
   ]
  },
  {
   "cell_type": "code",
   "execution_count": null,
   "id": "a6b48ecc-19af-4010-b78c-dea107d8f127",
   "metadata": {},
   "outputs": [],
   "source": [
    "fig = plot_ifg_corrections(slice(0, 3))"
   ]
  },
  {
   "cell_type": "code",
   "execution_count": null,
   "id": "61350a13-129a-4985-bee4-b5904d305ab6",
   "metadata": {},
   "outputs": [],
   "source": [
    "fig = plot_ifg_corrections(slice(3, 6))\n",
    "fig.savefig(\"../../figures/chapter3-sar/figure_tropo_correct_storm.pdf\", dpi=100)"
   ]
  },
  {
   "cell_type": "code",
   "execution_count": null,
   "id": "bdb39808-681f-4358-8a31-0173baafac5e",
   "metadata": {},
   "outputs": [],
   "source": [
    "fig = plot_ifg_corrections(slice(6, 9))\n",
    "fig.savefig(\"../../figures/chapter3-sar/figure_tropo_correct_wave.pdf\", dpi=100)"
   ]
  },
  {
   "cell_type": "code",
   "execution_count": null,
   "id": "6b000fa1-70bd-477d-9627-b21fd0550b1a",
   "metadata": {},
   "outputs": [],
   "source": [
    "def rms(arr):\n",
    "    return np.sqrt(np.mean(arr ** 2))"
   ]
  },
  {
   "cell_type": "code",
   "execution_count": null,
   "id": "f07a1e10-4911-430b-b693-d3729338d477",
   "metadata": {},
   "outputs": [],
   "source": [
    "aa, bb = np.nan_to_num(weather_arrs[0:2])\n",
    "print(f\"Calm noise: {aa.min():.2f}, {aa.max():.2f}, {aa.ptp():.2f}, {rms(aa)=:.2f}\")\n",
    "cc = aa - bb\n",
    "print(f\"ifg - gmao: {cc.min():.2f}, {cc.max():.2f}, {cc.ptp():.2f}, {rms(cc)=:.2f}\")\n",
    "print()\n",
    "\n",
    "aa, bb = np.nan_to_num(weather_arrs[3:5])\n",
    "print(f\"Storm noise: {aa.min():.2f}, {aa.max():.2f}, {aa.ptp():.2f}, {rms(aa)=:.2f}\")\n",
    "cc = aa - bb\n",
    "print(f\"ifg - gmao: {cc.min():.2f}, {cc.max():.2f}, {cc.ptp():.2f}, {rms(cc)=:.2f}\")\n",
    "print()\n",
    "\n",
    "aa, bb = np.nan_to_num(weather_arrs[6:8])\n",
    "print(f\"Wave noise: {aa.min():.2f}, {aa.max():.2f}, {aa.ptp():.2f}, {rms(aa)=:.2f}\")\n",
    "cc = aa - bb\n",
    "print(f\"ifg - gmao: {cc.min():.2f}, {cc.max():.2f}, {cc.ptp():.2f}, {rms(cc)=:.2f}\")\n",
    "print()"
   ]
  },
  {
   "cell_type": "code",
   "execution_count": null,
   "id": "1212e73e-070b-4a63-8424-34a9571e6d1e",
   "metadata": {},
   "outputs": [],
   "source": [
    "pplt.rc['grid.inlinelabels'] = False"
   ]
  },
  {
   "cell_type": "code",
   "execution_count": null,
   "id": "cd2c5e08-f1d3-42d4-913f-854dc75c8f84",
   "metadata": {},
   "outputs": [],
   "source": [
    "# plt.imshow(aa)\n",
    "bbox78 = dem78.rio.bounds()\n",
    "\n",
    "import cartopy.crs as ccrs\n",
    "\n",
    "from cartopy.mpl.ticker import (LongitudeFormatter, LatitudeFormatter,\n",
    "                                LatitudeLocator, LongitudeLocator)"
   ]
  },
  {
   "cell_type": "code",
   "execution_count": null,
   "id": "9f3f7c4e-1fcf-4674-be12-1a9c7fb404ae",
   "metadata": {},
   "outputs": [],
   "source": [
    "def plot_ifg_corrections_proj(idxs=slice(0, 3), cmap=\"RdBu\", dms=False, refwidth=2, latticks=[31., 31.5, 32., 32.5],\n",
    "                             lonticks=[-104., -103., -102.]):\n",
    "    # fig, axes = plt.subplots(nrows=3, ncols=3, figsize=(9, 9))\n",
    "    # axes = axes.ravel()\n",
    "    # fig, axes = pplt.subplots(nrows=1, ncols=3, figsize=(9, 9), share=False)\n",
    "\n",
    "    # fig = pplt.figure(share=False, refwidth=2.3)\n",
    "    fig = pplt.figure(refwidth=refwidth)\n",
    "    # axes = fig.subplots(proj=(None, 'pcarree', 'pcarree', 'pcarree'))\n",
    "\n",
    "\n",
    "    ifg, raider, rgb = weather_arrs[idxs]\n",
    "    type_, d2, d1 = weather_files[idxs][0].strip(\".tif\").split(\"_\")[-3:]\n",
    "    print(type_, d1, d2)\n",
    "    \n",
    "    # vm = max(np.nanmax(np.abs(ifg)), np.nanmax(np.abs(raider)))\n",
    "    vm = max(np.nanpercentile(np.abs(ifg), 99.9), np.nanpercentile(np.abs(raider), 99.9))\n",
    "        \n",
    "    ax = fig.subplot(221, title=f'GOES: {d2}', abc=\"(a)\", projection='pcarree', labels=True, dms=dms)\n",
    "    ax.format(lonlocator=lonticks, latlocator=latticks)\n",
    "    # ax.imshow(rgb, extent=extent)\n",
    "    _, axim = plotting.map_img(rgb, bbox=bbox78, pad_pct=0.0, ax=ax)\n",
    "    # ax.set_xticks([-104, -103, -102], crs=ccrs.PlateCarree())\n",
    "    # ax.set_yticks([30, 31], crs=ccrs.PlateCarree())\n",
    "\n",
    "\n",
    "    ax = fig.subplot(222, title=f'Ifg: {d1} - {d2}', abc=\"(a)\", projection='pcarree', labels=True, dms=dms)\n",
    "    ax.format(lonlocator=lonticks, latlocator=latticks)\n",
    "    # axim = ax.imshow(ifg, cmap=cmap, extent=extent, vmax=vm, vmin=-vm)\n",
    "    _, axim = plotting.map_img(ifg, bbox=bbox78, pad_pct=0.0, ax=ax, cmap=cmap, vmax=vm, vmin=-vm)\n",
    "    # ax.set_xticks([-104, -103, -102], crs=ccrs.PlateCarree())\n",
    "    # ax.set_yticks([31, 32], crs=ccrs.PlateCarree())\n",
    "    cbar = ax.colorbar(axim, loc='r', label='[cm]')\n",
    "    # fig.colorbar(axim, ax=ax)\n",
    "    plotting.scale_bar(ax, ax.projection, 50, location=(0.8, 0.08))\n",
    "\n",
    "\n",
    "        \n",
    "    ax = fig.subplot(223, title='GMAO predicted', abc=\"(a)\", projection='pcarree', labels=True, dms=dms)\n",
    "    ax.format(lonlocator=lonticks, latlocator=latticks)\n",
    "    # axim = ax.imshow(raider, cmap=cmap, extent=extent, vmax=vm, vmin=-vm)\n",
    "    _, axim = plotting.map_img(raider, bbox=bbox78, pad_pct=0.0, ax=ax, cmap=cmap, vmax=vm, vmin=-vm)\n",
    "    # ax.set_xticks([-104, -103, -102], crs=ccrs.PlateCarree())\n",
    "    # ax.set_yticks([30, 31], crs=ccrs.PlateCarree())\n",
    "    ax.colorbar(axim, loc='r', label='[cm]')\n",
    "    plotting.scale_bar(ax, ax.projection, 50, location=(0.8, 0.08))\n",
    "\n",
    "    ax = fig.subplot(224, title='Corrected Ifg', abc=\"(a)\", projection='pcarree', labels=True, dms=dms)\n",
    "    # axim = ax.imshow(ifg - raider, cmap=cmap, extent=extent, vmax=vm, vmin=-vm)\n",
    "    ax.format(lonlocator=lonticks, latlocator=latticks)\n",
    "    _, axim = plotting.map_img(ifg - raider, bbox=bbox78, pad_pct=0.0, ax=ax, cmap=cmap, vmax=vm, vmin=-vm)\n",
    "    ax.colorbar(axim, loc='r', label='[cm]')\n",
    "    plotting.scale_bar(ax, ax.projection, 50, location=(0.8, 0.08))\n",
    "    # ax.set_xticks([-104, -103, -102], crs=ccrs.PlateCarree())\n",
    "    # ax.set_yticks([30, 31], crs=ccrs.PlateCarree())        \n",
    "    return fig\n",
    "\n",
    "pplt.rc['tick.minor'] = False"
   ]
  },
  {
   "cell_type": "code",
   "execution_count": null,
   "id": "898a4514-ea2d-4c58-b8fc-54884f40d94c",
   "metadata": {},
   "outputs": [],
   "source": [
    "fig = plot_ifg_corrections_proj(slice(3, 6))\n",
    "fig.savefig(\"../../figures/chapter3-sar/figure_tropo_correct_storm.pdf\", dpi=100)"
   ]
  },
  {
   "cell_type": "code",
   "execution_count": null,
   "id": "9ba4f0f0-5c35-4077-8c23-6d217aea154d",
   "metadata": {},
   "outputs": [],
   "source": [
    "fig = plot_ifg_corrections_proj(slice(6, 9))\n",
    "fig.savefig(\"../../figures/chapter3-sar/figure_tropo_correct_wave.pdf\", dpi=100)"
   ]
  },
  {
   "cell_type": "code",
   "execution_count": null,
   "id": "82b4ff8f-443c-4102-81f6-5bdc85e8e21f",
   "metadata": {},
   "outputs": [],
   "source": []
  },
  {
   "cell_type": "markdown",
   "id": "512b1ac3-13cc-44ac-9210-1ae5a352c43c",
   "metadata": {},
   "source": [
    "# 3.7 Section: LOS decomp "
   ]
  },
  {
   "cell_type": "code",
   "execution_count": null,
   "id": "c66df545-6a39-4ea1-a4c0-9fe29b86ef7e",
   "metadata": {},
   "outputs": [],
   "source": [
    "los_enu78 = rioxarray.open_rasterio(\"../los_enu/los_enu_path78.tif\")\n",
    "los_enu85 = rioxarray.open_rasterio(\"../los_enu/los_enu_path85.tif\")\n",
    "\n",
    "los_enu78"
   ]
  },
  {
   "cell_type": "code",
   "execution_count": null,
   "id": "f4aa3922-a44d-4274-a45e-8b90455e1805",
   "metadata": {},
   "outputs": [],
   "source": [
    "mask78 = np.isnan(sario.load(\"../los_enu/path78.tif\", band=1))\n",
    "# mask85 = sario.load(\"../los_enu/path85.tif\", band=1) \n",
    "mask85 = sario.load(\"../los_enu/path85.int\") == 0\n"
   ]
  },
  {
   "cell_type": "code",
   "execution_count": null,
   "id": "662ee434-5922-49c2-90b0-602dae9caf33",
   "metadata": {},
   "outputs": [],
   "source": [
    "# plt.imshow(mask78, cmap='viridis')\n",
    "# plt.imshow(mask85, cmap='viridis')\n",
    "los_enu78.values[:, mask78] = np.nan\n",
    "los_enu85.values[:, mask85] = np.nan"
   ]
  },
  {
   "cell_type": "code",
   "execution_count": null,
   "id": "db9ef6a6-52ae-4d6c-ab85-cafcafd14028",
   "metadata": {},
   "outputs": [],
   "source": [
    "los_enu85[0][:mask78.shape[0]].rio.bounds()"
   ]
  },
  {
   "cell_type": "code",
   "execution_count": null,
   "id": "b0642d33-e7c3-4425-8f94-47daf582d1b5",
   "metadata": {},
   "outputs": [],
   "source": [
    "los_enu78[0][:mask78.shape[0]].rio.bounds()"
   ]
  },
  {
   "cell_type": "code",
   "execution_count": null,
   "id": "52814dfa-8a33-4eb2-9bad-03932dc778fb",
   "metadata": {},
   "outputs": [],
   "source": [
    "\n",
    "cmap=\"viridis\"\n",
    "dms=False\n",
    "refwidth=2, \n",
    "latticks=[31., 31.5, 32., 32.5]\n",
    "lonticks=[-104., -103., -102.]\n",
    "titles = [\"East\", \"North\", \"Up\"]\n",
    "scale_loc = (0.7, 0.08)\n",
    "bbox = los_enu78[0].rio.bounds()\n",
    "\n",
    "# fig = pplt.figure(share=False, refwidth=2.3)\n",
    "fig = pplt.figure(refwidth=1.8)\n",
    "axes = fig.subplots(nrows=2, ncols=3, proj='pcarree')#, refwidth=refwidth)\n",
    "axes.format(abc=\"(a)\", labels=True, dms=dms, lonlocator=lonticks, latlocator=latticks,\n",
    "            leftlabels=('Ascending (Path 78)', 'Descending (Path 85)'))\n",
    "\n",
    "for b, ax, t in zip(los_enu78, axes[:3], titles):\n",
    "    # ax = fig.subplot(223, title='GMAO predicted', abc=\"(a)\", projection='pcarree', labels=True, dms=dms)\n",
    "    # ax.format(lonlocator=lonticks, latlocator=latticks)\n",
    "    # axim = ax.imshow(raider, cmap=cmap, extent=extent, vmax=vm, vmin=-vm)\n",
    "    _, axim = plotting.map_img(b, bbox=bbox, pad_pct=0.0, ax=ax, cmap=cmap) #, vmax=vm, vmin=-vm)\n",
    "    ax.colorbar(axim, loc='r')\n",
    "    ax.set_title(t)\n",
    "    if t == \"East\":\n",
    "        plotting.scale_bar(ax, ax.projection, 50, location=scale_loc)\n",
    "\n",
    "\n",
    "\n",
    "for b, ax, t in zip(los_enu85, axes[3:], titles):\n",
    "    _, axim = plotting.map_img(b[:mask78.shape[0]], bbox=bbox, pad_pct=0.0, ax=ax, cmap=cmap) #, vmax=vm, vmin=-vm)\n",
    "    ax.colorbar(axim, loc='r')\n",
    "    ax.set_title(t)\n",
    "    if t == \"East\":\n",
    "        plotting.scale_bar(ax, ax.projection, 50, location=scale_loc)\n",
    "    \n"
   ]
  },
  {
   "cell_type": "code",
   "execution_count": null,
   "id": "b5de9760-697f-4543-801e-1a20fe604d0d",
   "metadata": {},
   "outputs": [],
   "source": [
    "fig.savefig(\"../../figures/chapter3-sar/figure_los_enu_coeffs.pdf\", dpi=120)"
   ]
  },
  {
   "cell_type": "markdown",
   "id": "75dd7258-a13b-4f2e-b1af-6a357ba83943",
   "metadata": {},
   "source": [
    "## injection ascending/descending"
   ]
  },
  {
   "cell_type": "code",
   "execution_count": null,
   "id": "7dbfd26f-f8d0-43e5-9712-405d00c3dc0c",
   "metadata": {},
   "outputs": [],
   "source": [
    "!pwd"
   ]
  },
  {
   "cell_type": "code",
   "execution_count": null,
   "id": "02ac2f9a-0db3-4592-91f2-099695d00e62",
   "metadata": {},
   "outputs": [],
   "source": [
    "asc = rioxarray.open_rasterio(\"../injection_ascending.tif\").sel(band=1)\n",
    "desc = rioxarray.open_rasterio(\"../injection_descending.tif\").sel(band=1)\n",
    "asc"
   ]
  },
  {
   "cell_type": "code",
   "execution_count": null,
   "id": "5a72ba6d-b5bf-4d3f-bf0f-d9b7a6aae6d4",
   "metadata": {},
   "outputs": [],
   "source": [
    "\n",
    "cmap=\"seismic_wide_y_r\"\n",
    "dms=False\n",
    "refwidth=2, \n",
    "latticks=[31.75, 31.80]\n",
    "lonticks=[-103.30, -103.28 ]\n",
    "titles = [\"East\", \"North\", \"Up\"]\n",
    "scale_loc = (0.7, 0.08)\n",
    "bbox = asc.rio.bounds()\n",
    "\n",
    "# fig = pplt.figure(share=False, refwidth=2.3)\n",
    "fig = pplt.figure(refwidth=1.5)\n",
    "axes = fig.subplots(nrows=1, ncols=2, proj='pcarree')#, refwidth=refwidth)\n",
    "axes.format(labels=True, dms=dms, \n",
    "            # abc=\"(a)\", \n",
    "            # lonlocator=lonticks, \n",
    "            latlocator=latticks,\n",
    "            # leftlabels=('Ascending (Path 78)', 'Descending (Path 85)'),\n",
    "           )\n",
    "\n",
    "ax = axes[0]\n",
    "_, axim = plotting.map_img(asc, bbox=bbox, pad_pct=0.0, ax=ax, cmap=cmap, vmax=0.5, vmin=-5.5)\n",
    "ax.colorbar(axim, loc='r', label='[cm]')\n",
    "ax.set_title(\"Ascending (Path 78)\")\n",
    "ax = axes[1]\n",
    "_, axim = plotting.map_img(desc, bbox=bbox, pad_pct=0.0, ax=ax, cmap=cmap, vmax=0.5, vmin=-5.5)\n",
    "ax.colorbar(axim, loc='r', label='[cm]')\n",
    "ax.set_title(\"Descending (Path 85)\")\n",
    "# ax.set_title(t)\n",
    "    # plotting.scale_bar(ax, ax.projection, 50, location=scale_loc)\n",
    "\n",
    "\n",
    "\n",
    "# for b, ax, t in zip(los_enu85, axes[3:], titles):\n",
    "#     _, axim = plotting.map_img(b[:mask78.shape[0]], bbox=bbox, pad_pct=0.0, ax=ax, cmap=cmap) #, vmax=vm, vmin=-vm)\n",
    "#     ax.colorbar(axim, loc='r')\n",
    "#     ax.set_title(t)\n",
    "#     if t == \"East\":\n",
    "#         plotting.scale_bar(ax, ax.projection, 50, location=scale_loc)\n",
    "    \n"
   ]
  },
  {
   "cell_type": "code",
   "execution_count": null,
   "id": "d108b85a-6876-44db-bae8-2d0e8ef3526c",
   "metadata": {},
   "outputs": [],
   "source": [
    "fig.savefig(\"../../figures/chapter3-sar/ch3-injection-asc-desc.pdf\", dpi=120)"
   ]
  },
  {
   "cell_type": "code",
   "execution_count": null,
   "id": "e21d9dfe-3f58-4cde-af4f-53dab2d5a438",
   "metadata": {},
   "outputs": [],
   "source": []
  }
 ],
 "metadata": {
  "kernelspec": {
   "display_name": "Python 3 (ipykernel)",
   "language": "python",
   "name": "python3"
  },
  "language_info": {
   "codemirror_mode": {
    "name": "ipython",
    "version": 3
   },
   "file_extension": ".py",
   "mimetype": "text/x-python",
   "name": "python",
   "nbconvert_exporter": "python",
   "pygments_lexer": "ipython3",
   "version": "3.8.6"
  }
 },
 "nbformat": 4,
 "nbformat_minor": 5
}
