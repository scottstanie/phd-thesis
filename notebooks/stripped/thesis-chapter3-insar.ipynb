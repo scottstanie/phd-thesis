{
 "cells": [
  {
   "cell_type": "code",
   "execution_count": null,
   "id": "13f841b1-05bc-4fac-85cd-67a0f0bd1dca",
   "metadata": {},
   "outputs": [],
   "source": [
    "import glob\n",
    "import os\n",
    "\n",
    "import matplotlib.pyplot as plt\n",
    "import numpy as np\n",
    "import pandas as pd\n",
    "import seaborn as sns\n",
    "from apertools import plotting\n",
    "from matplotlib import cm\n",
    "\n",
    "# sns.set_style(style=\"white\")\n",
    "plotting.set_style(size=16)\n",
    "\n",
    "RNG = np.random.default_rng()\n",
    "\n",
    "%matplotlib inline\n",
    "%load_ext autoreload\n",
    "%autoreload 2"
   ]
  },
  {
   "cell_type": "markdown",
   "id": "a8f13f1a-a360-4bc3-9b9f-74a46d4acf27",
   "metadata": {},
   "source": [
    "# SAR Constellation Figures"
   ]
  },
  {
   "cell_type": "markdown",
   "id": "51bb209d-a8b4-41e1-9888-15a7c62933c4",
   "metadata": {},
   "source": [
    "# Private Companies"
   ]
  },
  {
   "cell_type": "code",
   "execution_count": null,
   "id": "fcb4af0f-7687-4dd1-857f-1b1179f57279",
   "metadata": {},
   "outputs": [],
   "source": [
    "# Get table of small sat constellations\n",
    "df = pd.read_html(\"https://www.newspace.im/\")[0]\n",
    "print(df.shape)\n",
    "df.head()"
   ]
  },
  {
   "cell_type": "code",
   "execution_count": null,
   "id": "95f3fe15-35d4-45b4-81b6-2d910b459366",
   "metadata": {},
   "outputs": [],
   "source": [
    "df.drop([\"Image\", \"Funding\", \"Form factor\"], axis=1, inplace=True)\n",
    "df.head()"
   ]
  },
  {
   "cell_type": "code",
   "execution_count": null,
   "id": "169ee64c-6922-43f4-bda3-c04e8cb312c4",
   "metadata": {},
   "outputs": [],
   "source": [
    "# Grab the sar ones\n",
    "sar_rows = df[\"Field\"].str.lower().str.contains(\"sar\", na=False)\n",
    "df_sar = df[sar_rows]\n",
    "\n",
    "# Drop too-early stage/bankrupt/not planned yet\n",
    "df_sar = df_sar[~df_sar[\"First launch\"].str.contains(\"\\?\")]\n",
    "df_sar = df_sar[~df_sar[\"First launch\"].str.contains(\"Cancelled\")]\n",
    "df_sar = df_sar[~df_sar[\"Launched\\xa0/Planned network\"].str.contains(\"\\?\")]\n",
    "\n",
    "\n",
    "# split out \"launched\" and \"planned network\"\n",
    "launched_planned = (\n",
    "    df_sar[\"Launched\\xa0/Planned network\"].str.split(\"/\", expand=True).astype(int)\n",
    ")\n",
    "df_sar.drop(\"Launched\\xa0/Planned network\", axis=1, inplace=True)\n",
    "df_sar[\"Launched\"] = launched_planned.loc[:, 0]\n",
    "df_sar[\"Planned\"] = launched_planned.loc[:, 1]\n",
    "\n",
    "# Reorder cols\n",
    "df_sar = df_sar[\n",
    "    [\n",
    "        \"Organization\",\n",
    "        \"Launched\",\n",
    "        \"Planned\",\n",
    "        \"First launch\",\n",
    "        \"Field\",\n",
    "        \"Technical and comments\",\n",
    "    ]\n",
    "]\n",
    "\n",
    "# add a shorter name\n",
    "df_sar[\"short_name\"] = df_sar[\"Organization\"]\n",
    "df_sar.loc[:, \"short_name\"] = df_sar[\"short_name\"].str.split(\" \\(\").str[0]\n",
    "\n",
    "df_sar = df_sar.reset_index(drop=True)\n",
    "df_sar"
   ]
  },
  {
   "cell_type": "code",
   "execution_count": null,
   "id": "e71f05c0-f1a3-46f8-abb3-7aab5106e7b3",
   "metadata": {},
   "outputs": [],
   "source": [
    "df_sar.to_csv(\"new_space_sar_constellations.csv\", index=False, encoding=\"utf-8\")"
   ]
  },
  {
   "cell_type": "code",
   "execution_count": null,
   "id": "58018466-d3db-4f64-88f8-db8f8d4395e0",
   "metadata": {},
   "outputs": [],
   "source": [
    "df_sar2.loc[6].short_name = 'China Electronics\\nTechnology Group'\n",
    "Tianjin Satcom Geohe Technologies\n",
    "df_sar2.loc[6]"
   ]
  },
  {
   "cell_type": "code",
   "execution_count": null,
   "id": "2c73b0a1-227a-4a32-a763-a126e18bca26",
   "metadata": {},
   "outputs": [],
   "source": [
    "# df_sar2 = df_sar[df_sar['Launched'] > 0].copy()\n",
    "df_sar2 = df_sar\n",
    "\n",
    "fig, ax = plt.subplots(figsize=(6, 6))\n",
    "# https://matplotlib.org/stable/gallery/subplots_axes_and_figures/broken_axis.html\n",
    "# fig, (ax1, ax2) = plt.subplots(2, 1, sharex=True)\n",
    "# fig.subplots_adjust(hspace=0.05)  # adjust space between axes\n",
    "\n",
    "\n",
    "xlabels = df_sar2[\"short_name\"].values\n",
    "ax.bar(x=xlabels, height=df_sar2[\"Launched\"])\n",
    "ax.bar(x=xlabels, height=df_sar2[\"Planned\"], bottom=df_sar2[\"Launched\"])\n",
    "\n",
    "\n",
    "xlabels[6] = \"China Electronics\\nTechnology Group\"\n",
    "xlabels[12] = \"Tianjin Satcom\\nGeohe Technologies\"\n",
    "ax.set_xticklabels(xlabels, rotation=90, ha=\"center\")\n",
    "ax.set_yscale(\"log\", base=2)\n",
    "ax.set_ylim((0.8, None))\n",
    "\n",
    "plt.tight_layout()"
   ]
  },
  {
   "cell_type": "code",
   "execution_count": null,
   "id": "adf9cc04-0bcf-40ae-8789-5c4fba4e80ac",
   "metadata": {},
   "outputs": [],
   "source": [
    "# fig, ax = plt.subplots(figsize=(6, 6))\n",
    "# https://matplotlib.org/stable/gallery/subplots_axes_and_figures/broken_axis.html\n",
    "# fig, (ax1, ax2) = plt.subplots(2, 1, sharex=True, figsize=(8, 5))\n",
    "\n",
    "\n",
    "mosaic = [[0], [1], [1], [1]]\n",
    "fig = plt.figure(constrained_layout=True, figsize=(8, 5))\n",
    "axes = fig.subplot_mosaic(\n",
    "    mosaic,\n",
    "    sharex=True,\n",
    "    gridspec_kw={\n",
    "        \"hspace\": 0.01,\n",
    "    },\n",
    ")\n",
    "ax1 = axes[0]\n",
    "ax2 = axes[1]\n",
    "# fig.subplots_adjust(hspace=0.05)  # adjust space between axes\n",
    "\n",
    "df_sar_sorted = df_sar.sort_values([\"Launched\", \"Planned\"], ascending=False)\n",
    "\n",
    "xlabels = df_sar_sorted[\"short_name\"].values\n",
    "# First plot same on both axes\n",
    "# cmap = cm.get_cmap('tab10')\n",
    "cmap = sns.color_palette(\"deep\")\n",
    "\n",
    "bars_launched = ax1.bar(x=xlabels, height=df_sar_sorted[\"Launched\"], color=cmap[0])\n",
    "bars_planned = ax1.bar(\n",
    "    x=xlabels,\n",
    "    height=df_sar_sorted[\"Planned\"],\n",
    "    bottom=df_sar_sorted[\"Launched\"],\n",
    "    color=cmap[-2],\n",
    ")\n",
    "ax2.bar(x=xlabels, height=df_sar_sorted[\"Launched\"], color=cmap[0])\n",
    "ax2.bar(\n",
    "    x=xlabels,\n",
    "    height=df_sar_sorted[\"Planned\"],\n",
    "    bottom=df_sar_sorted[\"Launched\"],\n",
    "    color=cmap[-2],\n",
    ")\n",
    "\n",
    "# zoom-in / limit the view to different portions of the data\n",
    "ax1.set_ylim(92, 100)  # outliers only\n",
    "ax2.set_ylim(0, 60)  # most of the data\n",
    "\n",
    "xlabels[6] = \"China Electronics\\nTechnology Group\"\n",
    "xlabels[12] = \"Tianjin Satcom\\nGeohe Technologies\"\n",
    "ax2.set_xticklabels(xlabels, rotation=90, ha=\"center\")\n",
    "\n",
    "# hide the spines between ax and ax2\n",
    "ax1.spines.bottom.set_visible(False)\n",
    "ax2.spines.top.set_visible(False)\n",
    "ax1.xaxis.tick_top()\n",
    "ax1.tick_params(labeltop=False)  # don't put tick labels at the top\n",
    "ax2.xaxis.tick_bottom()\n",
    "\n",
    "\n",
    "# Now, let's turn towards the cut-out slanted lines.\n",
    "# We create line objects in axes coordinates, in which (0,0), (0,1),\n",
    "# (1,0), and (1,1) are the four corners of the axes.\n",
    "# The slanted lines themselves are markers at those locations, such that the\n",
    "# lines keep their angle and position, independent of the axes size or scale\n",
    "# Finally, we need to disable clipping.\n",
    "\n",
    "d = 0.5  # proportion of vertical to horizontal extent of the slanted line\n",
    "kwargs = dict(\n",
    "    marker=[(-1, -d), (1, d)],\n",
    "    markersize=12,\n",
    "    linestyle=\"none\",\n",
    "    color=\"k\",\n",
    "    mec=\"k\",\n",
    "    mew=1,\n",
    "    clip_on=False,\n",
    ")\n",
    "ax1.plot([0, 1], [0, 0], transform=ax1.transAxes, **kwargs)\n",
    "ax2.plot([0, 1], [1, 1], transform=ax2.transAxes, **kwargs)\n",
    "\n",
    "\n",
    "ax1.legend([bars_launched, bars_planned], [\"Launched\", \"Planned\"], loc=\"upper left\")\n",
    "\n",
    "plt.minorticks_off()\n",
    "plt.tight_layout()"
   ]
  },
  {
   "cell_type": "code",
   "execution_count": null,
   "id": "205fe51e-b9c1-4dda-a6fc-d00a2a0e80b0",
   "metadata": {},
   "outputs": [],
   "source": [
    "fig.savefig(\n",
    "    \"../figures/chapter3-sar/sar-private-constellations.pdf\", bbox_inches=\"tight\"\n",
    ")"
   ]
  },
  {
   "cell_type": "markdown",
   "id": "de83c63f-027a-4a00-a4a2-e3e9e9cf3277",
   "metadata": {},
   "source": [
    "## Current count of private satellites"
   ]
  },
  {
   "cell_type": "code",
   "execution_count": null,
   "id": "0b3561d8-c3b5-4fe8-b9a6-b01d03962bbc",
   "metadata": {},
   "outputs": [],
   "source": [
    "columns = [\"short_name\", \"Launched\", \"Planned\"]\n",
    "\n",
    "\n",
    "df_sar0 = df_sar[df_sar.Launched == 0]\n",
    "df_sar1 = df_sar[df_sar.Launched > 0]\n",
    "\n",
    "# xlabels[6] = 'China Electronics\\nTechnology Group'\n",
    "# xlabels[12] = 'Tianjin Satcom\\nGeohe Technologies'\n",
    "\n",
    "df = (\n",
    "    df_sar[columns]\n",
    "    .set_index(\"short_name\")\n",
    "    .sort_values([\"Launched\", \"Planned\"], ascending=False)\n",
    ")\n",
    "# df.append(df.sum(numeric_only=True), ignore_index=True)\n",
    "# df.append(df.sum(numeric_only=True), ignore_index=True)\n",
    "df = df.append(pd.Series(df.sum(), name=\"Total\"))\n",
    "df.index.name = \"Company\"\n",
    "df"
   ]
  },
  {
   "cell_type": "markdown",
   "id": "287a89c2-45b6-43ea-af6f-5b4ee24563d0",
   "metadata": {},
   "source": [
    "# Government missions"
   ]
  },
  {
   "cell_type": "code",
   "execution_count": null,
   "id": "edcc4960-5a04-4124-b5eb-f6398ddafbb3",
   "metadata": {},
   "outputs": [],
   "source": [
    "df_govt = pd.read_csv(\"../sar-missions.csv\", parse_dates=[\"Launched\", \"Ended\"])\n",
    "df_govt.drop(\n",
    "    [\"Site\", \"Satellite Revisit Time (days)\", \"Swath Width (km)\"], axis=1, inplace=True\n",
    ")\n",
    "\n",
    "# cut future missions\n",
    "future_idxs = df_govt[\"Launched\"].str.lower() == \"future\"\n",
    "df_govt = df_govt[~future_idxs]\n",
    "\n",
    "# Fix a weird hypen in RADARSAT, idk if it's an excel thing or what\n",
    "bad_hypen = df_govt[df_govt[\"Mission\"] == \"RADARSAT\"].iloc[0].Satellite[-2]\n",
    "df_govt[\"Satellite\"] = df_govt[\"Satellite\"].str.replace(bad_hypen, \"-\")\n",
    "\n",
    "# replace with future date\n",
    "ongoing_idxs = df_govt[\"Ended\"] == \"present\"\n",
    "\n",
    "df_govt[\"Ended\"][ongoing_idxs] = (pd.Timestamp.today() + pd.DateOffset(days=90)).date()\n",
    "df_govt[\"Ended\"] = pd.to_datetime(df_govt[\"Ended\"])\n",
    "df_govt[\"Launched\"] = pd.to_datetime(df_govt[\"Launched\"])\n",
    "\n",
    "# df_govt['span'] = df_govt['Ended'] - df_govt['Launched']\n",
    "df_govt[\"Span\"] = (df_govt[\"Ended\"] - df_govt[\"Launched\"]).dt.days\n",
    "\n",
    "# ignore seasat for now to just get post-90s missions\n",
    "df_govt = df_govt[df_govt[\"Launched\"] > pd.to_datetime(\"1990-01-01\")]\n",
    "df_govt.reset_index(drop=True, inplace=True)\n",
    "\n",
    "# Use Nation/Agency as legend key\n",
    "df_govt[\"Legend\"] = df_govt[\"Agency\"] + \" (\" + df_govt[\"Nation\"] + \")\"\n",
    "# For Legend simplicity, just call the SIR-X NASA instead of NASA/DLR/ASI\n",
    "df_govt[\"Legend\"] = df_govt[\"Legend\"].replace(\"NASA/DLR (USA)\", \"NASA (USA)\")\n",
    "\n",
    "df_govt.head()"
   ]
  },
  {
   "cell_type": "code",
   "execution_count": null,
   "id": "24a45476-766c-40f5-8f83-56c9f5e74d91",
   "metadata": {},
   "outputs": [],
   "source": [
    "wavelengths = {\"X\": 3, \"C\": 6, \"L\": 24}\n",
    "df_govt[\"Wavelength\"] = 0\n",
    "for b, val in wavelengths.items():\n",
    "    idxs = df_govt[\"Band\"].str.contains(b)\n",
    "    df_govt.loc[idxs, \"Wavelength\"] = val\n",
    "\n",
    "df_govt.head()\n",
    "df_govt = df_govt.sort_values(\n",
    "    by=[\"Wavelength\", \"Launched\"], axis=0, ascending=[False, True]\n",
    ")\n",
    "# df_govt = df_govt.sort_values(by=[\"Wavelength\"], axis=0)\n",
    "df_govt"
   ]
  },
  {
   "cell_type": "code",
   "execution_count": null,
   "id": "1bcffb73-69c3-4c4c-b79c-280b559fad23",
   "metadata": {},
   "outputs": [],
   "source": [
    "first_c_idx = (df_govt[\"Band\"] == \"C\").values.argmax()\n",
    "first_x_idx = (df_govt[\"Band\"] == \"X\").values.argmax()\n",
    "first_c_idx, first_x_idx"
   ]
  },
  {
   "cell_type": "code",
   "execution_count": null,
   "id": "bef0220b-bbc7-4560-9b43-c93ab4825ff3",
   "metadata": {},
   "outputs": [],
   "source": [
    "df_govt[\"Legend\"].unique(), len(df_govt[\"Legend\"].unique())"
   ]
  },
  {
   "cell_type": "code",
   "execution_count": null,
   "id": "813eb974-04e5-4961-bb75-6103169f68c8",
   "metadata": {},
   "outputs": [],
   "source": [
    "# Make each Nation a separate color\n",
    "cmap = \"set3\"\n",
    "cmap = \"paired\"\n",
    "# cmap = \"tab20\"\n",
    "\n",
    "x = np.linspace(0.0, 1.0, 50)\n",
    "label_colors = np.unique(cm.get_cmap(plt.get_cmap(cmap))(x), axis=0)\n",
    "\n",
    "color_df = df_govt.groupby(\"Nation\").first().reset_index()[[\"Nation\"]]\n",
    "# Remove USA since the 2 missions are two short for colors\n",
    "color_df = color_df[color_df.Nation != \"USA\"]\n",
    "\n",
    "\n",
    "for row in color_df.itertuples():\n",
    "    # print(row)\n",
    "    df_govt.loc[df_govt[\"Nation\"] == row.Nation, \"color\"] = row.Index\n",
    "df_govt[\"color\"] = df_govt[\"color\"].astype(int)\n",
    "# df_govt.head()"
   ]
  },
  {
   "cell_type": "code",
   "execution_count": null,
   "id": "3e98961d-52d6-4e8c-9b5f-03de5f2bcf22",
   "metadata": {},
   "outputs": [],
   "source": [
    "sns.set_style()\n",
    "# import proplot # for style\n",
    "import matplotlib.ticker as ticker\n",
    "\n",
    "fig, ax = plt.subplots(figsize=(10, 10))\n",
    "\n",
    "bar_colors = label_colors[df_govt.color.values]\n",
    "# ys = np.arange(3\n",
    "bar_list = ax.barh(\n",
    "    y=df_govt[\"Satellite\"],\n",
    "    width=df_govt[\"Span\"],\n",
    "    left=df_govt[\"Launched\"],\n",
    "    height=0.9,\n",
    "    align=\"center\",\n",
    "    edgecolor=\"k\",\n",
    "    linewidth=2,\n",
    "    # color=\"grey\",\n",
    "    color=bar_colors,\n",
    ")\n",
    "\n",
    "\n",
    "tick_dates = pd.date_range(\"1990-1-1\", end=df_govt[\"Ended\"].max(), freq=\"5Y\")\n",
    "ax.set_xticks(tick_dates)\n",
    "ax.xaxis.set_major_formatter(ticker.FixedFormatter(tick_dates.strftime(\"%Y\")))\n",
    "ax.tick_params(\n",
    "    axis=\"x\",\n",
    "    # rotation=70,\n",
    "    labelsize=\"x-large\",\n",
    ")\n",
    "\n",
    "ax.yaxis.tick_right()\n",
    "\n",
    "xmin = pd.to_datetime(\"1988-1-1\")\n",
    "xmax = pd.Timestamp.today().date()\n",
    "# give some x-limit space on the left for annotations of x/c/l\n",
    "ax.set_xlim((xmin, xmax))\n",
    "ax.set_ylim((-1, len(df_govt)))\n",
    "\n",
    "ax.grid(visible=True, which=\"major\")\n",
    "\n",
    "# Add divider for X/C/L band missions\n",
    "ax.hlines(\n",
    "    xmin=xmin,\n",
    "    xmax=xmax,\n",
    "    y=[first_c_idx - 0.5, first_x_idx - 0.5],\n",
    "    lw=3,\n",
    "    color=\"black\",\n",
    "    linestyle=\"dashed\",\n",
    ")\n",
    "ax.vlines(\n",
    "    ymin=-5,\n",
    "    ymax=len(df_govt) + 5,\n",
    "    x=tick_dates.min() - pd.DateOffset(days=180),\n",
    "    lw=3,\n",
    "    color=\"black\",\n",
    "    linestyle=\"dashed\",\n",
    ")\n",
    "\n",
    "\n",
    "# Add annotations for NASA ones (too thin to see color)\n",
    "nasa_labels = [\"(NASA/DLR, USA/Germany)\", \"(NASA, USA)\"]\n",
    "nasa_rows = df_govt.reset_index()[df_govt.Legend.str.contains(\"USA\").values][\n",
    "    [\"Ended\", \"Legend\"]\n",
    "]\n",
    "for lab, (idx, row) in zip(nasa_labels, nasa_rows.iterrows()):\n",
    "    ax.annotate(\n",
    "        lab,\n",
    "        xy=(row.Ended + pd.DateOffset(days=180), idx),\n",
    "        va=\"center\",\n",
    "        font=\"TeX Gyre Heros\",\n",
    "        size=11,\n",
    "    )\n",
    "\n",
    "# dd stars to denote freely available data\n",
    "df_free = df_govt.reset_index().loc[df_govt.reset_index()[\"Freely Available\"] == \"Yes\"]\n",
    "free_markers = ax.scatter(\n",
    "    df_free[\"Launched\"] - pd.DateOffset(days=180), df_free.index, marker=\"*\", s=150\n",
    ")\n",
    "\n",
    "# Add text denoting the X/C/L divides\n",
    "xtext = pd.to_datetime(\"1989-4-1\")\n",
    "ax.text(\n",
    "    xtext,\n",
    "    1.8,\n",
    "    \"L-Band\",\n",
    "    ha=\"center\",\n",
    "    va=\"center\",\n",
    "    rotation=90,\n",
    "    size=15,\n",
    "    bbox=dict(\n",
    "        lw=2,\n",
    "        fc=\"w\",\n",
    "        ec=\"k\",\n",
    "    ),\n",
    ")\n",
    "ax.text(\n",
    "    xtext,\n",
    "    12,\n",
    "    \"C-Band\",\n",
    "    ha=\"center\",\n",
    "    va=\"center\",\n",
    "    rotation=90,\n",
    "    size=15,\n",
    "    bbox=dict(\n",
    "        lw=2,\n",
    "        fc=\"w\",\n",
    "        ec=\"k\",\n",
    "    ),\n",
    ")\n",
    "ax.text(\n",
    "    xtext,\n",
    "    26,\n",
    "    \"X-Band\",\n",
    "    ha=\"center\",\n",
    "    va=\"center\",\n",
    "    rotation=90,\n",
    "    size=15,\n",
    "    bbox=dict(\n",
    "        lw=2,\n",
    "        fc=\"w\",\n",
    "        ec=\"k\",\n",
    "    ),\n",
    ")\n",
    "\n",
    "\n",
    "# Make a dict of labels to de-duplicate per nation\n",
    "by_label = dict(zip(df_govt[\"Legend\"], bar_list))\n",
    "by_label.pop(\"NASA (USA)\")\n",
    "by_label[\"Data Freely Available\"] = free_markers\n",
    "ax.legend(\n",
    "    by_label.values(),\n",
    "    by_label.keys(),\n",
    "    fontsize=\"large\",\n",
    "    bbox_to_anchor=(0.6, 1.0),\n",
    "    ncol=2,\n",
    ")\n",
    "\n",
    "# ax.xaxis.tick_params(which='minor', grid_alpha=0)\n",
    "plt.minorticks_off()"
   ]
  },
  {
   "cell_type": "code",
   "execution_count": null,
   "id": "a7075928-8784-405b-b79a-3e129dd7fc1b",
   "metadata": {},
   "outputs": [],
   "source": [
    "fig.savefig(\"../figures/chapter3-sar/sar-missions.pdf\", bbox_inches=\"tight\")"
   ]
  },
  {
   "cell_type": "markdown",
   "id": "55fa1610-7aa9-4e04-98ea-7581f24c8d85",
   "metadata": {},
   "source": [
    "## Current count of government satellites"
   ]
  },
  {
   "cell_type": "code",
   "execution_count": null,
   "id": "de80e54a-8f81-4c6c-9325-501845f9dd46",
   "metadata": {},
   "outputs": [],
   "source": [
    "df_govt[df_govt[\"Ended\"] >= pd.Timestamp.today()].reset_index()"
   ]
  },
  {
   "cell_type": "markdown",
   "id": "0ebf9119-cc19-416b-a1b1-21892c668bcb",
   "metadata": {},
   "source": [
    "# 3.4 Hawaii example interferogram"
   ]
  },
  {
   "cell_type": "code",
   "execution_count": null,
   "id": "d0206dd0-7718-4424-b490-5a3fbe448251",
   "metadata": {},
   "outputs": [],
   "source": [
    "from apertools import constants, plotting, sario"
   ]
  },
  {
   "cell_type": "code",
   "execution_count": null,
   "id": "29aefbb6-923b-495f-9e55-795eec54fadf",
   "metadata": {},
   "outputs": [],
   "source": [
    "data_dir = \"/Users/scott/Documents/Learning/phd-thesis/scratch/hawaii-examples/\"\n",
    "os.chdir(data_dir)"
   ]
  },
  {
   "cell_type": "code",
   "execution_count": null,
   "id": "ef630f95-9ae0-4ec2-a65f-8aee142d0618",
   "metadata": {},
   "outputs": [],
   "source": [
    "# baseline = -16.6, but good stratified cone. also, pre-puuooo collapse\n",
    "# ifgname = \"20180408_20180420\"\n",
    "# baseline = -28, mauna loa kinda misshapen.\n",
    "# ifgname = \"20180408_20180502\"\n",
    "\n",
    "ifgname = \"20180420_20180502\"  # This one seems nicest overall\n",
    "\n",
    "dem = sario.load(\"wgs84/igrams/elevation_looked.dem\")\n",
    "ifg = sario.load(f\"wgs84/igrams/{ifgname}.int\")\n",
    "unw = sario.load(f\"wgs84/igrams/{ifgname}.unw\")\n",
    "\n",
    "mask = ifg == 0\n",
    "dem[mask] = 0\n",
    "ifg[mask] = np.nan\n",
    "unw[mask] = np.nan"
   ]
  },
  {
   "cell_type": "code",
   "execution_count": null,
   "id": "05b9c2ce-3733-4c4c-b055-e5ae00efae40",
   "metadata": {},
   "outputs": [],
   "source": [
    "import rioxarray\n",
    "\n",
    "unw_rio = rioxarray.open_rasterio(f\"wgs84/igrams/{ifgname}.unw\").sel(band=2)\n",
    "unw_rio"
   ]
  },
  {
   "cell_type": "code",
   "execution_count": null,
   "id": "60b40cf4-4813-4112-9d54-8a721e858a85",
   "metadata": {},
   "outputs": [],
   "source": [
    "plotting.plot_ifg(ifg, figsize=(12, 3))\n",
    "fig, ax = plt.subplots(figsize=(6, 6))\n",
    "axim = ax.imshow(dem, cmap=\"terrain\")\n",
    "fig.colorbar(axim)"
   ]
  },
  {
   "cell_type": "code",
   "execution_count": null,
   "id": "b0203793-e2e3-4163-8d7a-3f8cf055ccc6",
   "metadata": {},
   "outputs": [],
   "source": [
    "plt.imshow(unw, cmap=\"RdBu\")"
   ]
  },
  {
   "cell_type": "markdown",
   "id": "3b4f8311-8621-4adf-9def-4e5d3c760a13",
   "metadata": {},
   "source": [
    "# 3.5 Tropo noise Hawaii zoom"
   ]
  },
  {
   "cell_type": "code",
   "execution_count": null,
   "id": "2fd86f9f-79e8-4263-a890-94892026d2b2",
   "metadata": {},
   "outputs": [],
   "source": [
    "s1, s2 = slice(220, 500), slice(380, 650)\n",
    "axes = plotting.plot_ifg(ifg[s1, s2], figsize=(12, 3))\n",
    "\n",
    "patch = unw[s1, s2].copy()\n",
    "patch -= np.nanmean(patch)\n",
    "axim = axes[-1].imshow(patch, cmap=\"RdBu\")\n",
    "plt.colorbar(axim)\n",
    "\n",
    "\n",
    "fig, axes = plt.subplots(1, 2, figsize=(12, 3))\n",
    "ax = axes[0]\n",
    "axim = ax.imshow(dem[s1, s2], cmap=\"terrain\")\n",
    "fig.colorbar(axim)\n",
    "\n",
    "ax = axes[1]\n",
    "\n",
    "ax.scatter(dem[s1, s2].ravel(), patch.ravel(), s=0.2)\n",
    "ax.set_xlabel(\"Elevation [m]\")\n",
    "ax.set_ylabel(\"Unwrapped phase [cm]\")"
   ]
  },
  {
   "cell_type": "code",
   "execution_count": null,
   "id": "4e77d946-3d9a-47c3-be11-6ebfaaf48cf0",
   "metadata": {},
   "outputs": [],
   "source": [
    "from apertools import latlon\n",
    "\n",
    "lons, lats = latlon.grid(**sario.load(\"wgs84/igrams/dem.rsc\"), sparse=True)\n",
    "lons = lons.ravel()\n",
    "lats = lats.ravel()\n",
    "lons.shape"
   ]
  },
  {
   "cell_type": "code",
   "execution_count": null,
   "id": "e2911bb6-12e3-48bf-81f3-e252e885a595",
   "metadata": {},
   "outputs": [],
   "source": [
    "pplt.rc[\"grid\"] = False"
   ]
  },
  {
   "cell_type": "code",
   "execution_count": null,
   "id": "1e023067-d24e-49da-8a63-ef46531a2cdb",
   "metadata": {},
   "outputs": [],
   "source": [
    "rowmax, colmax = np.unravel_index(dem.argmax(), dem.shape)  # Mauna Kea, 4200ish\n",
    "# rowmax, colmax = 742, 624 # mauna loa, 4100ish\n",
    "buf = 50\n",
    "rows, cols = slice(rowmax - buf, rowmax + buf), slice(colmax - buf, colmax + buf)\n",
    "bbox = unw_rio[rows, cols].rio.bounds()\n",
    "\n",
    "# fig, axes = plt.subplots(1, 3, figsize=(14, 4),\n",
    "#                         # sharex=True, sharey=True,\n",
    "#                         )\n",
    "fig = pplt.figure(refwidth=1.5)\n",
    "axes = fig.subplots(ncols=3, proj=(\"pcarree\", \"pcarree\", None))\n",
    "\n",
    "ax = axes[0]\n",
    "patch = unw[rows, cols].copy() * constants.PHASE_TO_CM_S1\n",
    "patch -= patch.mean()\n",
    "# axim = ax.imshow(patch , cmap='RdBu', vmin=-2, vmax=2)\n",
    "# axim = ax.imshow(np.angle(ifg[rows, cols]), cmap='dismph', interpolation='nearest')\n",
    "_, axim = plotting.map_img(\n",
    "    patch, bbox=bbox, pad_pct=0.0, ax=ax, cmap=\"RdBu\", vmin=-2, vmax=2\n",
    ")  # , crs=None, **imshow_kwargs):\n",
    "cbar = fig.colorbar(axim, ax=ax)\n",
    "cbar.set_label(\"[cm]\")\n",
    "ax.set_axis_off()\n",
    "plotting.scale_bar(ax, ax.projection, 2, location=(0.8, 0.08))\n",
    "ax.format(abc=\"(a)\")\n",
    "\n",
    "\n",
    "ax = axes[1]\n",
    "axim = ax.imshow(dem[rows, cols], cmap=\"terrain\")\n",
    "_, axim = plotting.map_img(\n",
    "    dem[rows, cols], bbox=bbox, pad_pct=0.0, ax=ax, cmap=\"terrain\"\n",
    ")\n",
    "cbar = fig.colorbar(axim, ax=ax)\n",
    "cbar.set_label(\"[m]\")\n",
    "ax.set_axis_off()\n",
    "plotting.scale_bar(ax, ax.projection, 2, location=(0.8, 0.08))\n",
    "ax.format(abc=\"(a)\")\n",
    "\n",
    "\n",
    "x, y = dem[rows, cols].ravel(), patch.ravel()\n",
    "\n",
    "ax = axes[2]\n",
    "# ax = fig.add_subplot(1, 3, 3)\n",
    "ax.scatter(x / 1e3, y, s=0.2)\n",
    "ax.set_xlabel(\"Elevation [km]\")\n",
    "ax.set_ylabel(\"Unwrapped phase [cm]\")\n",
    "ax.grid(True)\n",
    "ax.minorticks_off()\n",
    "ax.format(abc=\"(a)\")\n",
    "\n",
    "# fig.tight_layout()"
   ]
  },
  {
   "cell_type": "code",
   "execution_count": null,
   "id": "9d33c67e-4f47-43b3-b78e-a3c3df4a978b",
   "metadata": {},
   "outputs": [],
   "source": [
    "fig.savefig(\"../../figures/chapter3-sar/hawaii-strat-zoom.pdf\")"
   ]
  },
  {
   "cell_type": "code",
   "execution_count": null,
   "id": "bf1d1bd4-e30e-4ae7-8c87-c3d83e5dbc59",
   "metadata": {},
   "outputs": [],
   "source": [
    "patch = unw[650:950, 900:1300].copy() * constants.PHASE_TO_CM_S1\n",
    "patch -= np.nanmean(patch)\n",
    "plt.imshow(patch)\n",
    "plt.colorbar()"
   ]
  },
  {
   "cell_type": "code",
   "execution_count": null,
   "id": "68d462ee-2cbe-458c-950a-118c8b0dce6d",
   "metadata": {},
   "outputs": [],
   "source": [
    "x, y = dem[rows, cols].ravel(), unw[rows, cols].ravel() * constants.PHASE_TO_CM_S1\n",
    "\n",
    "ax = axes[2]\n",
    "ax.scatter(x, y, s=0.2)\n",
    "ax.set_xlabel(\"Elevation [m]\")\n",
    "ax.set_ylabel(\"Unwrapped phase [cm]\")\n",
    "\n",
    "fig.tight_layout()\n",
    "fig.save_fig(\"../hawaii-mauna-loa-stratified-noise\")"
   ]
  },
  {
   "cell_type": "code",
   "execution_count": null,
   "id": "11e3886c-82f4-46c1-8c97-33aaff93cae7",
   "metadata": {},
   "outputs": [],
   "source": [
    "# Chronology: https://volcanoes.usgs.gov/vsc/file_mngr/file-179/Chronology%20of%20events%202018.pdf\n",
    "# https://www.usgs.gov/volcanoes/kilauea/2018-lower-east-rift-zone-eruption-and-summit-collapse\n",
    "# https://www.youtube.com/watch?v=sPVlcvDrxtQ\n",
    "# https://www.usgs.gov/media/images/clear-conditions-puu-oo-provided-good-views\n",
    "# https://www.usgs.gov/observatories/hvo/news/volcano-watch-7-months-no-lava-puu-oo-heralds-end-era"
   ]
  },
  {
   "cell_type": "code",
   "execution_count": null,
   "id": "f6b22b6a-126c-484d-94e7-d4cb507bacfb",
   "metadata": {},
   "outputs": [],
   "source": [
    "from apertools import gps, gps_plots\n",
    "\n",
    "fig, axes = gps_plots.plot_gps_enu(\n",
    "    \"PUOC\",\n",
    "    start_date=\"2018-04-01\",\n",
    "    end_date=\"2018-06-01\",\n",
    "    figsize=(10, 6),\n",
    "    days_smooth=0,\n",
    ")"
   ]
  },
  {
   "cell_type": "markdown",
   "id": "ddb98dea-1eaf-41a0-a68a-a6b1f6d0423f",
   "metadata": {},
   "source": [
    "# 3.5 WRF mitigation images from raider"
   ]
  },
  {
   "cell_type": "code",
   "execution_count": null,
   "id": "cfb9bb05-779c-4c1c-90f4-66d59beb027b",
   "metadata": {},
   "outputs": [],
   "source": [
    "data_dir = \"/Users/scott/Documents/Learning/phd-thesis/scratch/weather_images/\"\n",
    "os.chdir(data_dir)"
   ]
  },
  {
   "cell_type": "code",
   "execution_count": null,
   "id": "570c6a22-8587-44cf-a96a-31e6190fedcf",
   "metadata": {},
   "outputs": [],
   "source": [
    "weather_files = sorted(glob.glob(\"wea*.tif\"))\n",
    "weather_files"
   ]
  },
  {
   "cell_type": "code",
   "execution_count": null,
   "id": "af0c0445-0926-472d-a30b-0b21aa116f49",
   "metadata": {},
   "outputs": [],
   "source": [
    "dem78 = rioxarray.open_rasterio(\"elevation_looked.dem\").sel(band=1)\n",
    "dem78"
   ]
  },
  {
   "cell_type": "code",
   "execution_count": null,
   "id": "119279d1-34f8-4259-bf70-9b37341e0b92",
   "metadata": {},
   "outputs": [],
   "source": [
    "import rasterio as rio\n",
    "\n",
    "with rio.open(weather_files[0]) as src:\n",
    "    bbox = tuple(src.bounds)\n",
    "    extent = bbox[0], bbox[2], bbox[1], bbox[3]"
   ]
  },
  {
   "cell_type": "code",
   "execution_count": null,
   "id": "b9222403-d70f-424c-9f67-e1fe84517c9c",
   "metadata": {},
   "outputs": [],
   "source": [
    "bbox, extent"
   ]
  },
  {
   "cell_type": "code",
   "execution_count": null,
   "id": "cedf72c7-61b9-4bd1-8dc1-331dc15c77a8",
   "metadata": {},
   "outputs": [],
   "source": [
    "weather_arrs = []\n",
    "for f in weather_files:\n",
    "    a = sario.load(f)\n",
    "    if len(a) == 3:\n",
    "        weather_arrs.append(np.moveaxis(a, 0, 2))\n",
    "    else:\n",
    "        weather_arrs.append(a.squeeze())\n",
    "# arr_dict = {\n",
    "#     'calm': {\n",
    "#         'ifg': unw_calm,\n",
    "#         'raider': d_raider_unw_calm,\n",
    "#         'rgb': rgb_calm,\n",
    "#     },\n",
    "#     'storm': {\n",
    "#         'ifg': unw_storm,\n",
    "#         'raider': d_raider_unw_storm,\n",
    "#         'rgb': rgb_storm,\n",
    "#     },\n",
    "#     'wave': {\n",
    "#         'ifg': unw_wave,\n",
    "#         'raider': d_raider_unw_wave,\n",
    "#         'rgb': rgb_wave,\n",
    "#     },\n",
    "# }\n",
    "[f.shape for f in weather_arrs]"
   ]
  },
  {
   "cell_type": "code",
   "execution_count": null,
   "id": "eca8c090-2d8c-4b57-9e2d-9963093e81ca",
   "metadata": {},
   "outputs": [],
   "source": [
    "import proplot as pplt\n",
    "\n",
    "cmap = \"RdBu\"\n",
    "# fig, axes = plt.subplots(nrows=3, ncols=3, figsize=(9, 9))\n",
    "# axes = axes.ravel()\n",
    "fig, axes = pplt.subplots(nrows=3, ncols=3, figsize=(9, 9), share=False)\n",
    "\n",
    "for ax, arr, fname in zip(axes, weather_arrs, weather_files):\n",
    "    type_, d1, d2 = fname.strip(\".tif\").split(\"_\")[-3:]\n",
    "    print(type_, d1, d2)\n",
    "    if arr.ndim == 3:\n",
    "        ax.imshow(arr)\n",
    "        ax.set_axis_off()\n",
    "\n",
    "    else:\n",
    "        axim = ax.imshow(arr, cmap=cmap, extent=extent)\n",
    "        ax.colorbar(axim, loc=\"r\")\n",
    "        # fig.colorbar(axim, ax=ax)\n",
    "    ax.set_title(f\"{type_, d1, d2}\")\n",
    "\n",
    "# ax.imshow(rgb_storm)"
   ]
  },
  {
   "cell_type": "code",
   "execution_count": null,
   "id": "eb82a5af-f48d-4fa6-8f47-33dc542cb245",
   "metadata": {},
   "outputs": [],
   "source": [
    "weather_files"
   ]
  },
  {
   "cell_type": "markdown",
   "id": "dd2ed16d-9caf-4cf2-b179-d65923983816",
   "metadata": {},
   "source": [
    "### Links to weather on the GOES days\n",
    "\n",
    "(remember that it's like 1am UTC on 7-23, which is 7-22 near sunset)\n",
    "\n",
    "1. Storm: https://www.wunderground.com/history/daily/us/tx/seminole/KGNC/date/2019-7-22\n",
    "2. Heat wave: https://www.wunderground.com/history/daily/us/tx/kermit/KINK/date/2018-5-28\n",
    "    - Other one SE of Kermit: https://www.wunderground.com/history/daily/us/tx/san-angelo/KSJT/date/2018-5-28\n",
    "\n",
    "https://stackoverflow.com/questions/4563272/how-to-convert-a-utc-datetime-to-a-local-datetime-using-only-standard-library\n",
    "```\n",
    "In [15]: utctime\n",
    "Out[15]: datetime.datetime(2014, 11, 4, 0, 51, 6, tzinfo=datetime.timezone.utc)\n",
    "\n",
    "In [16]: utctime.astimezone(localtz)\n",
    "Out[16]: datetime.datetime(2014, 11, 3, 18, 51, 6, tzinfo=backports.zoneinfo.ZoneInfo(key='America/Chicago'))\n",
    "```"
   ]
  },
  {
   "cell_type": "code",
   "execution_count": null,
   "id": "5200c43d-d7af-4083-804f-a08f2c6cec1a",
   "metadata": {},
   "outputs": [],
   "source": [
    "from datetime import datetime\n",
    "\n",
    "from backports import zoneinfo\n",
    "\n",
    "localtz = zoneinfo.ZoneInfo(\"America/Chicago\")\n",
    "utctime = datetime.fromisoformat(\"2014-11-04 00:51:06+00:00\")\n",
    "acq_time_local = utctime.astimezone(localtz)\n",
    "acq_time_local"
   ]
  },
  {
   "cell_type": "code",
   "execution_count": null,
   "id": "bec384e3-9ef9-4066-bf2d-f927f44b255a",
   "metadata": {},
   "outputs": [],
   "source": [
    "# inches mercury to hPa, https://en.wikipedia.org/wiki/Inch_of_mercury\n",
    "inches_to_hpa = 33.7685"
   ]
  },
  {
   "cell_type": "code",
   "execution_count": null,
   "id": "cf2238a7-f99e-4d34-a03d-f029ee260289",
   "metadata": {},
   "outputs": [],
   "source": [
    "!pwd"
   ]
  },
  {
   "cell_type": "code",
   "execution_count": null,
   "id": "54e7dd07-8b19-448b-88a2-2466ee81a605",
   "metadata": {},
   "outputs": [],
   "source": [
    "# Fails for some reason, maybe needs selenium to scrape\n",
    "# import requests\n",
    "# pd.read_html(\"https://www.wunderground.com/history/daily/us/tx/kermit/KINK/date/2018-5-28\")\n",
    "# r = requests.get(\"https://www.wunderground.com/history/daily/us/tx/kermit/KINK/date/2018-5-28\")"
   ]
  },
  {
   "cell_type": "markdown",
   "id": "7a0ba93a-a423-4965-bfd2-96ac7a66c033",
   "metadata": {},
   "source": [
    "From https://www.engineeringtoolbox.com/relative-humidity-air-d_687.html\n",
    "\n",
    "> φ = pw / pws 100% ,\n",
    "> where φ = relative humidity [%],\n",
    "> pw = vapor partial pressure [mbar],\n",
    "> pws = saturation vapor partial pressure at the actual dry bulb temperature [mbar]."
   ]
  },
  {
   "cell_type": "code",
   "execution_count": null,
   "id": "711cd895-ddba-4370-aa2a-d43289322daa",
   "metadata": {},
   "outputs": [],
   "source": [
    "df_rel_humid = pd.read_html(\n",
    "    \"https://www.engineeringtoolbox.com/relative-humidity-air-d_687.html\"\n",
    ")[0]\n",
    "df_rel_humid.columns = [\"C\", \"F\", \"pws\"]\n",
    "# col_tf = df_rel_humid.columns[1]\n",
    "df_rel_humid.head()"
   ]
  },
  {
   "cell_type": "code",
   "execution_count": null,
   "id": "98314e82-9a13-4d4b-a171-e961e532f1a7",
   "metadata": {},
   "outputs": [],
   "source": [
    "df_rel_humid.plot(x=\"F\", y=\"pws\")"
   ]
  },
  {
   "cell_type": "code",
   "execution_count": null,
   "id": "58e85a91-9e4e-4fc6-94aa-20d88b84b88d",
   "metadata": {},
   "outputs": [],
   "source": [
    "# def fahr_to_pws\n",
    "def get_pws(fahr):\n",
    "    xp = df_rel_humid[\"F\"]\n",
    "    fp = df_rel_humid[\"pws\"]\n",
    "    return np.interp(fahr, xp, fp)\n",
    "\n",
    "\n",
    "get_pws(np.arange(7))"
   ]
  },
  {
   "cell_type": "code",
   "execution_count": null,
   "id": "4e0c242c-942c-4c0f-9555-bc4148b7d3ef",
   "metadata": {},
   "outputs": [],
   "source": [
    "pd.Timedelta(1, \"h\")"
   ]
  },
  {
   "cell_type": "code",
   "execution_count": null,
   "id": "1d1ed6a4-0172-41d5-b73b-b637549e79f9",
   "metadata": {},
   "outputs": [],
   "source": [
    "pd.to_datetime?"
   ]
  },
  {
   "cell_type": "code",
   "execution_count": null,
   "id": "e3a1d792-a945-4e46-bb3f-6b3e78156a62",
   "metadata": {},
   "outputs": [],
   "source": [
    "def fahr_to_kelvin(fahrenheit):\n",
    "    return (fahrenheit + 459.67) / 1.8\n",
    "\n",
    "\n",
    "def get_weather_df(fname):\n",
    "    df = pd.read_html(fname)[-1]\n",
    "    df.dropna(inplace=True, how=\"all\")\n",
    "    print(df.columns)\n",
    "    df = df.loc[:, [\"Time\", \"Temperature\", \"Pressure\", \"Humidity\"]]\n",
    "\n",
    "    df[\"Time\"] = pd.to_datetime(df[\"Time\"]).dt.tz_localize('America/Chicago')\n",
    "    # df[\"Time\"] = pd.to_datetime(df[\"Time\"]).dt.time\n",
    "    df[\"Temperature\"] = df[\"Temperature\"].str.strip(\" °F\").astype(float)\n",
    "    df[\"Pressure\"] = df[\"Pressure\"].str.strip(\" °in\").astype(float)\n",
    "    df[\"P\"] = df[\"Pressure\"] * inches_to_hpa\n",
    "\n",
    "    df[\"Humidity\"] = df[\"Humidity\"].str.strip(\" °%\").astype(float)\n",
    "    # 1 mbar == 1 hPa\n",
    "    # partial waterr vapor pressure\n",
    "    df[\"e\"] = get_pws(df[\"Temperature\"]) * (df[\"Humidity\"] / 100)\n",
    "\n",
    "    df[\"T\"] = fahr_to_kelvin(df[\"Temperature\"])\n",
    "\n",
    "    k1 = 77.6\n",
    "    df[\"N_hydr\"] = k1 * df[\"P\"] / df[\"T\"]\n",
    "    # df.tail(8)\n",
    "\n",
    "    k2 = 23.3\n",
    "    k3 = 3.75e5\n",
    "    df[\"N_wet\"] = k2 * (df[\"e\"] / df[\"T\"]) + k3 * (df[\"e\"] / df[\"T\"] ** 2)\n",
    "    return df\n",
    "\n",
    "\n",
    "df_hourly_wave = get_weather_df(\n",
    "    \"../Kermit, TX Weather History | Weather Underground.html\"\n",
    ")\n",
    "df_hourly_wave_se = get_weather_df(\n",
    "    \"../San Angelo, TX Weather History | Weather Underground.html\"\n",
    ")\n",
    "df_hourly_wave.head()"
   ]
  },
  {
   "cell_type": "code",
   "execution_count": null,
   "id": "cd8dd3ad-851a-473d-aad9-c6e3cd5656cf",
   "metadata": {},
   "outputs": [],
   "source": [
    "# Change in pressure\n",
    "(df_hourly_wave.P.max() - df_hourly_wave.P.min())"
   ]
  },
  {
   "cell_type": "code",
   "execution_count": null,
   "id": "53e28032-0ff3-4a9e-9824-6de92587bfa9",
   "metadata": {},
   "outputs": [],
   "source": [
    "# Change in temperature\n",
    "(df_hourly_wave[\"T\"].max() - df_hourly_wave[\"T\"].min())"
   ]
  },
  {
   "cell_type": "code",
   "execution_count": null,
   "id": "46526ba3-01f0-4ba8-a038-ea6fbe238867",
   "metadata": {},
   "outputs": [],
   "source": [
    "# Change in partial water vapor\n",
    "(df_hourly_wave[\"e\"].max() - df_hourly_wave[\"e\"].min()), (\n",
    "    df_hourly_wave_se[\"e\"].max() - df_hourly_wave_se[\"e\"].min()\n",
    ")"
   ]
  },
  {
   "cell_type": "code",
   "execution_count": null,
   "id": "c028c2af-ffd5-49ff-9d28-1d9007a2f6cf",
   "metadata": {},
   "outputs": [],
   "source": [
    "# pd.to_datetime(df_hourly_wave[\"Time\"])\n",
    "# tt = df_hourly_wave[\"Time\"].apply(lambda d: d.hour)\n",
    "# tt"
   ]
  },
  {
   "cell_type": "code",
   "execution_count": null,
   "id": "82c52b61-1afe-45da-89be-bac73c877521",
   "metadata": {},
   "outputs": [],
   "source": [
    "acq_time_local"
   ]
  },
  {
   "cell_type": "code",
   "execution_count": null,
   "id": "13ae4782-be92-4982-bd12-fa8932b4161b",
   "metadata": {},
   "outputs": [],
   "source": [
    "import matplotlib.dates as mdates\n",
    "\n",
    "acq_time_local = acq_time_local.replace(\n",
    "    year=df_hourly_wave[\"Time\"][0].year,\n",
    "    month=df_hourly_wave[\"Time\"][0].month,\n",
    "    day=df_hourly_wave[\"Time\"][0].day,\n",
    ")\n",
    "\n",
    "fig, axes = pplt.subplots(ncols=2, sharey=False)\n",
    "\n",
    "ax = axes[0]\n",
    "# df_hourly_wave.set_index(\"Time\")[[\"N_hydr\"]]\n",
    "ax.plot(df_hourly_wave[\"Time\"], df_hourly_wave[\"N_hydr\"], label=\"NW\")\n",
    "ax.plot(df_hourly_wave_se[\"Time\"], df_hourly_wave_se[\"N_hydr\"], label=\"SE\")\n",
    "\n",
    "ylim = ax.get_ylim()\n",
    "ax.vlines(acq_time_local, 0, 500, linestyle=\"--\", color=\"black\")\n",
    "ax.set_ylim(ylim)\n",
    "ax.format(ylabel=\"N_hydr\", xlabel=\"hour\", xformatter=mdates.DateFormatter(\"%H:%M:%S\"))\n",
    "# ax.xaxis.set_major_formatter(mdates.DateFormatter(\"%H:%M:%S\"))\n",
    "ax.legend()\n",
    "\n",
    "\n",
    "ax = axes[1]\n",
    "# df_hourly_wave.set_index(\"Time\")[[\"N_hydr\"]]\n",
    "ax.plot(df_hourly_wave[\"Time\"], df_hourly_wave[\"N_wet\"], label=\"NW\")\n",
    "ax.plot(df_hourly_wave_se[\"Time\"], df_hourly_wave_se[\"N_wet\"], label=\"SE\")\n",
    "\n",
    "ylim = ax.get_ylim()\n",
    "ax.vlines(acq_time_local, 0, 500, linestyle=\"--\", color=\"black\")\n",
    "ax.set_ylim(ylim)\n",
    "ax.format(ylabel=\"N_hydr\", xlabel=\"hour\", xformatter=mdates.DateFormatter(\"%H:%M:%S\"))\n",
    "# ax.xaxis.set_major_formatter(mdates.DateFormatter(\"%H:%M:%S\"))\n",
    "ax.legend()\n",
    "\n",
    "fig.format(suptitle='Refractivity for 2018-5-28 during West Texas \"wave\"')"
   ]
  },
  {
   "cell_type": "code",
   "execution_count": null,
   "id": "1be31d80-e872-49b2-9646-435ec78bed54",
   "metadata": {},
   "outputs": [],
   "source": [
    "\n",
    "fig, axes = pplt.subplots(ncols=2, sharey=False)\n",
    "\n",
    "ax = axes[0]\n",
    "ax.plot(df_hourly_wave_se[\"Time\"], df_hourly_wave_se[\"N_hydr\"] - df_hourly_wave[\"N_hydr\"], label=\"SE - NW\")\n",
    "\n",
    "ylim = ax.get_ylim()\n",
    "ax.vlines(acq_time_local, 0, 500, linestyle=\"--\", color=\"black\")\n",
    "ax.set_ylim(ylim)\n",
    "ax.format(ylabel=\"N_hydr\", xlabel=\"hour\", xformatter=mdates.DateFormatter(\"%H:%M:%S\"))\n",
    "\n",
    "\n",
    "ax = axes[1]\n",
    "ax.plot(df_hourly_wave_se[\"Time\"], df_hourly_wave_se[\"N_wet\"] - df_hourly_wave[\"N_wet\"], label=\"SE - NW\")\n",
    "\n",
    "ylim = ax.get_ylim()\n",
    "ax.vlines(acq_time_local, 0, 500, linestyle=\"--\", color=\"black\")\n",
    "ax.set_ylim(ylim)\n",
    "ax.format(ylabel=\"N_hydr\", xlabel=\"hour\", xformatter=mdates.DateFormatter(\"%H:%M:%S\"))\n",
    "\n",
    "\n",
    "fig.format(suptitle='Refractivity difference from SE to NW corner for 2018-5-28 during West Texas \"wave\"')"
   ]
  },
  {
   "cell_type": "markdown",
   "id": "1ca8db08-10fe-4343-a83e-426c702dc725",
   "metadata": {},
   "source": [
    "**Summary**: a mass of dry air moved from the northwest (mountain area), dropping the $N$ refractivity. This sped up the radar propagation speed, which looks like \"uplift\" inn the upper right of the interferogram."
   ]
  },
  {
   "cell_type": "code",
   "execution_count": null,
   "id": "9f21aeac-b56d-478c-9b82-fc527dfd72b0",
   "metadata": {},
   "outputs": [],
   "source": [
    "# If this N were the same along the whole path...\n",
    "Ndiff = 10\n",
    "h = 693_000  # m\n",
    "r0 = h / np.cos(np.deg2rad(35))\n",
    "r0 * Ndiff * 1e-6"
   ]
  },
  {
   "cell_type": "markdown",
   "id": "405222c8-539b-48b5-a849-ca230554a740",
   "metadata": {},
   "source": [
    "but that's too much. the N gets closer to 0 in space, this is just the ground difference"
   ]
  },
  {
   "cell_type": "code",
   "execution_count": null,
   "id": "cb64c025-931b-4902-847f-068d328c142d",
   "metadata": {},
   "outputs": [],
   "source": [
    "def plot_ifg_corrections(idxs=slice(0, 3), cmap=\"RdBu\"):\n",
    "    # fig, axes = plt.subplots(nrows=3, ncols=3, figsize=(9, 9))\n",
    "    # axes = axes.ravel()\n",
    "    # fig, axes = pplt.subplots(nrows=1, ncols=3, figsize=(9, 9), share=False)\n",
    "\n",
    "    fig = pplt.figure(share=False, refwidth=2.3)\n",
    "\n",
    "    ifg, raider, rgb = weather_arrs[idxs]\n",
    "    type_, d2, d1 = weather_files[idxs][0].strip(\".tif\").split(\"_\")[-3:]\n",
    "    print(type_, d1, d2)\n",
    "\n",
    "    # vm = max(np.nanmax(np.abs(ifg)), np.nanmax(np.abs(raider)))\n",
    "    vm = max(\n",
    "        np.nanpercentile(np.abs(ifg), 99.9), np.nanpercentile(np.abs(raider), 99.9)\n",
    "    )\n",
    "\n",
    "    ax = fig.subplot(221, title=f\"GOES: {d2}\", abc=\"(a)\")\n",
    "    ax.imshow(rgb, extent=extent)\n",
    "    # ax.set_axis_off()\n",
    "    ax.minorticks_off()\n",
    "\n",
    "    ax = fig.subplot(222, title=f\"Ifg: {d1} - {d2}\", abc=\"(a)\")\n",
    "    axim = ax.imshow(ifg, cmap=cmap, extent=extent, vmax=vm, vmin=-vm)\n",
    "    ax.colorbar(axim, loc=\"r\", label=\"[cm]\")\n",
    "    # fig.colorbar(axim, ax=ax)\n",
    "    # ax.set_title(f\"{type_, d1, d2}\")\n",
    "\n",
    "    ax = fig.subplot(223, title=\"GMAO predicted\", abc=\"(a)\")\n",
    "    axim = ax.imshow(raider, cmap=cmap, extent=extent, vmax=vm, vmin=-vm)\n",
    "    ax.colorbar(axim, loc=\"r\", label=\"[cm]\")\n",
    "    # fig.colorbar(axim, ax=ax)\n",
    "    # ax.set_title(f\"{type_, d1, d2}\")\n",
    "\n",
    "    ax = fig.subplot(224, title=\"Corrected Ifg\", abc=\"(a)\")\n",
    "    axim = ax.imshow(ifg - raider, cmap=cmap, extent=extent, vmax=vm, vmin=-vm)\n",
    "    ax.colorbar(axim, loc=\"r\", label=\"[cm]\")\n",
    "    # fig.colorbar(axim, ax=ax)\n",
    "    # ax.set_title(f\"{type_, d1, d2}\")\n",
    "    return fig\n",
    "\n",
    "\n",
    "pplt.rc[\"tick.minor\"] = False"
   ]
  },
  {
   "cell_type": "code",
   "execution_count": null,
   "id": "a6b48ecc-19af-4010-b78c-dea107d8f127",
   "metadata": {},
   "outputs": [],
   "source": [
    "fig = plot_ifg_corrections(slice(0, 3))"
   ]
  },
  {
   "cell_type": "code",
   "execution_count": null,
   "id": "61350a13-129a-4985-bee4-b5904d305ab6",
   "metadata": {},
   "outputs": [],
   "source": [
    "fig = plot_ifg_corrections(slice(3, 6))\n",
    "fig.savefig(\"../../figures/chapter3-sar/figure_tropo_correct_storm.pdf\", dpi=100)"
   ]
  },
  {
   "cell_type": "code",
   "execution_count": null,
   "id": "bdb39808-681f-4358-8a31-0173baafac5e",
   "metadata": {},
   "outputs": [],
   "source": [
    "fig = plot_ifg_corrections(slice(6, 9))\n",
    "fig.savefig(\"../../figures/chapter3-sar/figure_tropo_correct_wave.pdf\", dpi=100)"
   ]
  },
  {
   "cell_type": "code",
   "execution_count": null,
   "id": "6b000fa1-70bd-477d-9627-b21fd0550b1a",
   "metadata": {},
   "outputs": [],
   "source": [
    "def rms(arr):\n",
    "    return np.sqrt(np.mean(arr ** 2))"
   ]
  },
  {
   "cell_type": "code",
   "execution_count": null,
   "id": "f07a1e10-4911-430b-b693-d3729338d477",
   "metadata": {},
   "outputs": [],
   "source": [
    "aa, bb = np.nan_to_num(weather_arrs[0:2])\n",
    "print(f\"Calm noise: {aa.min():.2f}, {aa.max():.2f}, {aa.ptp():.2f}, {rms(aa)=:.2f}\")\n",
    "cc = aa - bb\n",
    "print(f\"ifg - gmao: {cc.min():.2f}, {cc.max():.2f}, {cc.ptp():.2f}, {rms(cc)=:.2f}\")\n",
    "print()\n",
    "\n",
    "aa, bb = np.nan_to_num(weather_arrs[3:5])\n",
    "print(f\"Storm noise: {aa.min():.2f}, {aa.max():.2f}, {aa.ptp():.2f}, {rms(aa)=:.2f}\")\n",
    "cc = aa - bb\n",
    "print(f\"ifg - gmao: {cc.min():.2f}, {cc.max():.2f}, {cc.ptp():.2f}, {rms(cc)=:.2f}\")\n",
    "print()\n",
    "\n",
    "aa, bb = np.nan_to_num(weather_arrs[6:8])\n",
    "print(f\"Wave noise: {aa.min():.2f}, {aa.max():.2f}, {aa.ptp():.2f}, {rms(aa)=:.2f}\")\n",
    "cc = aa - bb\n",
    "print(f\"ifg - gmao: {cc.min():.2f}, {cc.max():.2f}, {cc.ptp():.2f}, {rms(cc)=:.2f}\")\n",
    "print()"
   ]
  },
  {
   "cell_type": "code",
   "execution_count": null,
   "id": "1212e73e-070b-4a63-8424-34a9571e6d1e",
   "metadata": {},
   "outputs": [],
   "source": [
    "pplt.rc[\"grid.inlinelabels\"] = False"
   ]
  },
  {
   "cell_type": "code",
   "execution_count": null,
   "id": "cd2c5e08-f1d3-42d4-913f-854dc75c8f84",
   "metadata": {},
   "outputs": [],
   "source": [
    "# plt.imshow(aa)\n",
    "bbox78 = dem78.rio.bounds()\n",
    "\n",
    "import cartopy.crs as ccrs\n",
    "from cartopy.mpl.ticker import (\n",
    "    LatitudeFormatter,\n",
    "    LatitudeLocator,\n",
    "    LongitudeFormatter,\n",
    "    LongitudeLocator,\n",
    ")"
   ]
  },
  {
   "cell_type": "code",
   "execution_count": null,
   "id": "9f3f7c4e-1fcf-4674-be12-1a9c7fb404ae",
   "metadata": {},
   "outputs": [],
   "source": [
    "def plot_ifg_corrections_proj(\n",
    "    idxs=slice(0, 3),\n",
    "    cmap=\"RdBu\",\n",
    "    dms=False,\n",
    "    refwidth=2,\n",
    "    latticks=[31.0, 31.5, 32.0, 32.5],\n",
    "    lonticks=[-104.0, -103.0, -102.0],\n",
    "):\n",
    "    # fig, axes = plt.subplots(nrows=3, ncols=3, figsize=(9, 9))\n",
    "    # axes = axes.ravel()\n",
    "    # fig, axes = pplt.subplots(nrows=1, ncols=3, figsize=(9, 9), share=False)\n",
    "\n",
    "    # fig = pplt.figure(share=False, refwidth=2.3)\n",
    "    fig = pplt.figure(refwidth=refwidth)\n",
    "    # axes = fig.subplots(proj=(None, 'pcarree', 'pcarree', 'pcarree'))\n",
    "\n",
    "    ifg, raider, rgb = weather_arrs[idxs]\n",
    "    type_, d2, d1 = weather_files[idxs][0].strip(\".tif\").split(\"_\")[-3:]\n",
    "    print(type_, d1, d2)\n",
    "\n",
    "    # vm = max(np.nanmax(np.abs(ifg)), np.nanmax(np.abs(raider)))\n",
    "    vm = max(\n",
    "        np.nanpercentile(np.abs(ifg), 99.9), np.nanpercentile(np.abs(raider), 99.9)\n",
    "    )\n",
    "\n",
    "    ax = fig.subplot(\n",
    "        221, title=f\"GOES: {d2}\", abc=\"(a)\", projection=\"pcarree\", labels=True, dms=dms\n",
    "    )\n",
    "    ax.format(lonlocator=lonticks, latlocator=latticks)\n",
    "    # ax.imshow(rgb, extent=extent)\n",
    "    _, axim = plotting.map_img(rgb, bbox=bbox78, pad_pct=0.0, ax=ax)\n",
    "    # ax.set_xticks([-104, -103, -102], crs=ccrs.PlateCarree())\n",
    "    # ax.set_yticks([30, 31], crs=ccrs.PlateCarree())\n",
    "\n",
    "    ax = fig.subplot(\n",
    "        222,\n",
    "        title=f\"Ifg: {d1} - {d2}\",\n",
    "        abc=\"(a)\",\n",
    "        projection=\"pcarree\",\n",
    "        labels=True,\n",
    "        dms=dms,\n",
    "    )\n",
    "    ax.format(lonlocator=lonticks, latlocator=latticks)\n",
    "    # axim = ax.imshow(ifg, cmap=cmap, extent=extent, vmax=vm, vmin=-vm)\n",
    "    _, axim = plotting.map_img(\n",
    "        ifg, bbox=bbox78, pad_pct=0.0, ax=ax, cmap=cmap, vmax=vm, vmin=-vm\n",
    "    )\n",
    "    # ax.set_xticks([-104, -103, -102], crs=ccrs.PlateCarree())\n",
    "    # ax.set_yticks([31, 32], crs=ccrs.PlateCarree())\n",
    "    cbar = ax.colorbar(axim, loc=\"r\", label=\"[cm]\")\n",
    "    # fig.colorbar(axim, ax=ax)\n",
    "    plotting.scale_bar(ax, ax.projection, 50, location=(0.8, 0.08))\n",
    "\n",
    "    ax = fig.subplot(\n",
    "        223,\n",
    "        title=\"GMAO predicted\",\n",
    "        abc=\"(a)\",\n",
    "        projection=\"pcarree\",\n",
    "        labels=True,\n",
    "        dms=dms,\n",
    "    )\n",
    "    ax.format(lonlocator=lonticks, latlocator=latticks)\n",
    "    # axim = ax.imshow(raider, cmap=cmap, extent=extent, vmax=vm, vmin=-vm)\n",
    "    _, axim = plotting.map_img(\n",
    "        raider, bbox=bbox78, pad_pct=0.0, ax=ax, cmap=cmap, vmax=vm, vmin=-vm\n",
    "    )\n",
    "    # ax.set_xticks([-104, -103, -102], crs=ccrs.PlateCarree())\n",
    "    # ax.set_yticks([30, 31], crs=ccrs.PlateCarree())\n",
    "    ax.colorbar(axim, loc=\"r\", label=\"[cm]\")\n",
    "    plotting.scale_bar(ax, ax.projection, 50, location=(0.8, 0.08))\n",
    "\n",
    "    ax = fig.subplot(\n",
    "        224,\n",
    "        title=\"Corrected Ifg\",\n",
    "        abc=\"(a)\",\n",
    "        projection=\"pcarree\",\n",
    "        labels=True,\n",
    "        dms=dms,\n",
    "    )\n",
    "    # axim = ax.imshow(ifg - raider, cmap=cmap, extent=extent, vmax=vm, vmin=-vm)\n",
    "    ax.format(lonlocator=lonticks, latlocator=latticks)\n",
    "    _, axim = plotting.map_img(\n",
    "        ifg - raider, bbox=bbox78, pad_pct=0.0, ax=ax, cmap=cmap, vmax=vm, vmin=-vm\n",
    "    )\n",
    "    ax.colorbar(axim, loc=\"r\", label=\"[cm]\")\n",
    "    plotting.scale_bar(ax, ax.projection, 50, location=(0.8, 0.08))\n",
    "    # ax.set_xticks([-104, -103, -102], crs=ccrs.PlateCarree())\n",
    "    # ax.set_yticks([30, 31], crs=ccrs.PlateCarree())\n",
    "    return fig\n",
    "\n",
    "\n",
    "pplt.rc[\"tick.minor\"] = False"
   ]
  },
  {
   "cell_type": "code",
   "execution_count": null,
   "id": "898a4514-ea2d-4c58-b8fc-54884f40d94c",
   "metadata": {},
   "outputs": [],
   "source": [
    "fig = plot_ifg_corrections_proj(slice(3, 6))\n",
    "fig.savefig(\"../../figures/chapter3-sar/figure_tropo_correct_storm.pdf\", dpi=100)"
   ]
  },
  {
   "cell_type": "code",
   "execution_count": null,
   "id": "9ba4f0f0-5c35-4077-8c23-6d217aea154d",
   "metadata": {},
   "outputs": [],
   "source": [
    "fig = plot_ifg_corrections_proj(slice(6, 9))\n",
    "fig.savefig(\"../../figures/chapter3-sar/figure_tropo_correct_wave.pdf\", dpi=100)"
   ]
  },
  {
   "cell_type": "code",
   "execution_count": null,
   "id": "82b4ff8f-443c-4102-81f6-5bdc85e8e21f",
   "metadata": {},
   "outputs": [],
   "source": []
  },
  {
   "cell_type": "markdown",
   "id": "512b1ac3-13cc-44ac-9210-1ae5a352c43c",
   "metadata": {},
   "source": [
    "# 3.7 Section: LOS decomp "
   ]
  },
  {
   "cell_type": "code",
   "execution_count": null,
   "id": "c66df545-6a39-4ea1-a4c0-9fe29b86ef7e",
   "metadata": {},
   "outputs": [],
   "source": [
    "los_enu78 = rioxarray.open_rasterio(\"../los_enu/los_enu_path78.tif\")\n",
    "los_enu85 = rioxarray.open_rasterio(\"../los_enu/los_enu_path85.tif\")\n",
    "\n",
    "los_enu78"
   ]
  },
  {
   "cell_type": "code",
   "execution_count": null,
   "id": "f4aa3922-a44d-4274-a45e-8b90455e1805",
   "metadata": {},
   "outputs": [],
   "source": [
    "mask78 = np.isnan(sario.load(\"../los_enu/path78.tif\", band=1))\n",
    "# mask85 = sario.load(\"../los_enu/path85.tif\", band=1)\n",
    "mask85 = sario.load(\"../los_enu/path85.int\") == 0"
   ]
  },
  {
   "cell_type": "code",
   "execution_count": null,
   "id": "662ee434-5922-49c2-90b0-602dae9caf33",
   "metadata": {},
   "outputs": [],
   "source": [
    "# plt.imshow(mask78, cmap='viridis')\n",
    "# plt.imshow(mask85, cmap='viridis')\n",
    "los_enu78.values[:, mask78] = np.nan\n",
    "los_enu85.values[:, mask85] = np.nan"
   ]
  },
  {
   "cell_type": "code",
   "execution_count": null,
   "id": "db9ef6a6-52ae-4d6c-ab85-cafcafd14028",
   "metadata": {},
   "outputs": [],
   "source": [
    "los_enu85[0][: mask78.shape[0]].rio.bounds()"
   ]
  },
  {
   "cell_type": "code",
   "execution_count": null,
   "id": "b0642d33-e7c3-4425-8f94-47daf582d1b5",
   "metadata": {},
   "outputs": [],
   "source": [
    "los_enu78[0][: mask78.shape[0]].rio.bounds()"
   ]
  },
  {
   "cell_type": "code",
   "execution_count": null,
   "id": "52814dfa-8a33-4eb2-9bad-03932dc778fb",
   "metadata": {},
   "outputs": [],
   "source": [
    "cmap = \"viridis\"\n",
    "dms = False\n",
    "refwidth = (2,)\n",
    "latticks = [31.0, 31.5, 32.0, 32.5]\n",
    "lonticks = [-104.0, -103.0, -102.0]\n",
    "titles = [\"East\", \"North\", \"Up\"]\n",
    "scale_loc = (0.7, 0.08)\n",
    "bbox = los_enu78[0].rio.bounds()\n",
    "\n",
    "# fig = pplt.figure(share=False, refwidth=2.3)\n",
    "fig = pplt.figure(refwidth=1.8)\n",
    "axes = fig.subplots(nrows=2, ncols=3, proj=\"pcarree\")  # , refwidth=refwidth)\n",
    "axes.format(\n",
    "    abc=\"(a)\",\n",
    "    labels=True,\n",
    "    dms=dms,\n",
    "    lonlocator=lonticks,\n",
    "    latlocator=latticks,\n",
    "    leftlabels=(\"Ascending (Path 78)\", \"Descending (Path 85)\"),\n",
    ")\n",
    "\n",
    "for b, ax, t in zip(los_enu78, axes[:3], titles):\n",
    "    # ax = fig.subplot(223, title='GMAO predicted', abc=\"(a)\", projection='pcarree', labels=True, dms=dms)\n",
    "    # ax.format(lonlocator=lonticks, latlocator=latticks)\n",
    "    # axim = ax.imshow(raider, cmap=cmap, extent=extent, vmax=vm, vmin=-vm)\n",
    "    _, axim = plotting.map_img(\n",
    "        b, bbox=bbox, pad_pct=0.0, ax=ax, cmap=cmap\n",
    "    )  # , vmax=vm, vmin=-vm)\n",
    "    ax.colorbar(axim, loc=\"r\")\n",
    "    ax.set_title(t)\n",
    "    if t == \"East\":\n",
    "        plotting.scale_bar(ax, ax.projection, 50, location=scale_loc)\n",
    "\n",
    "\n",
    "for b, ax, t in zip(los_enu85, axes[3:], titles):\n",
    "    _, axim = plotting.map_img(\n",
    "        b[: mask78.shape[0]], bbox=bbox, pad_pct=0.0, ax=ax, cmap=cmap\n",
    "    )  # , vmax=vm, vmin=-vm)\n",
    "    ax.colorbar(axim, loc=\"r\")\n",
    "    ax.set_title(t)\n",
    "    if t == \"East\":\n",
    "        plotting.scale_bar(ax, ax.projection, 50, location=scale_loc)"
   ]
  },
  {
   "cell_type": "code",
   "execution_count": null,
   "id": "b5de9760-697f-4543-801e-1a20fe604d0d",
   "metadata": {},
   "outputs": [],
   "source": [
    "fig.savefig(\"../../figures/chapter3-sar/figure_los_enu_coeffs.pdf\", dpi=120)"
   ]
  },
  {
   "cell_type": "markdown",
   "id": "75dd7258-a13b-4f2e-b1af-6a357ba83943",
   "metadata": {},
   "source": [
    "## injection ascending/descending"
   ]
  },
  {
   "cell_type": "code",
   "execution_count": null,
   "id": "7dbfd26f-f8d0-43e5-9712-405d00c3dc0c",
   "metadata": {},
   "outputs": [],
   "source": [
    "!pwd"
   ]
  },
  {
   "cell_type": "code",
   "execution_count": null,
   "id": "02ac2f9a-0db3-4592-91f2-099695d00e62",
   "metadata": {},
   "outputs": [],
   "source": [
    "asc = rioxarray.open_rasterio(\"../injection_ascending.tif\").sel(band=1)\n",
    "desc = rioxarray.open_rasterio(\"../injection_descending.tif\").sel(band=1)\n",
    "asc"
   ]
  },
  {
   "cell_type": "code",
   "execution_count": null,
   "id": "5a72ba6d-b5bf-4d3f-bf0f-d9b7a6aae6d4",
   "metadata": {},
   "outputs": [],
   "source": [
    "cmap = \"seismic_wide_y_r\"\n",
    "dms = False\n",
    "refwidth = (2,)\n",
    "latticks = [31.75, 31.80]\n",
    "lonticks = [-103.30, -103.28]\n",
    "titles = [\"East\", \"North\", \"Up\"]\n",
    "scale_loc = (0.7, 0.08)\n",
    "bbox = asc.rio.bounds()\n",
    "\n",
    "# fig = pplt.figure(share=False, refwidth=2.3)\n",
    "fig = pplt.figure(refwidth=1.5)\n",
    "axes = fig.subplots(nrows=1, ncols=2, proj=\"pcarree\")  # , refwidth=refwidth)\n",
    "axes.format(\n",
    "    labels=True,\n",
    "    dms=dms,\n",
    "    # abc=\"(a)\",\n",
    "    # lonlocator=lonticks,\n",
    "    latlocator=latticks,\n",
    "    # leftlabels=('Ascending (Path 78)', 'Descending (Path 85)'),\n",
    ")\n",
    "\n",
    "ax = axes[0]\n",
    "_, axim = plotting.map_img(\n",
    "    asc, bbox=bbox, pad_pct=0.0, ax=ax, cmap=cmap, vmax=0.5, vmin=-5.5\n",
    ")\n",
    "ax.colorbar(axim, loc=\"r\", label=\"[cm]\")\n",
    "ax.set_title(\"Ascending (Path 78)\")\n",
    "ax = axes[1]\n",
    "_, axim = plotting.map_img(\n",
    "    desc, bbox=bbox, pad_pct=0.0, ax=ax, cmap=cmap, vmax=0.5, vmin=-5.5\n",
    ")\n",
    "ax.colorbar(axim, loc=\"r\", label=\"[cm]\")\n",
    "ax.set_title(\"Descending (Path 85)\")\n",
    "# ax.set_title(t)\n",
    "# plotting.scale_bar(ax, ax.projection, 50, location=scale_loc)\n",
    "\n",
    "\n",
    "# for b, ax, t in zip(los_enu85, axes[3:], titles):\n",
    "#     _, axim = plotting.map_img(b[:mask78.shape[0]], bbox=bbox, pad_pct=0.0, ax=ax, cmap=cmap) #, vmax=vm, vmin=-vm)\n",
    "#     ax.colorbar(axim, loc='r')\n",
    "#     ax.set_title(t)\n",
    "#     if t == \"East\":\n",
    "#         plotting.scale_bar(ax, ax.projection, 50, location=scale_loc)"
   ]
  },
  {
   "cell_type": "code",
   "execution_count": null,
   "id": "d108b85a-6876-44db-bae8-2d0e8ef3526c",
   "metadata": {},
   "outputs": [],
   "source": [
    "fig.savefig(\"../../figures/chapter3-sar/ch3-injection-asc-desc.pdf\", dpi=120)"
   ]
  },
  {
   "cell_type": "code",
   "execution_count": null,
   "id": "e21d9dfe-3f58-4cde-af4f-53dab2d5a438",
   "metadata": {},
   "outputs": [],
   "source": []
  }
 ],
 "metadata": {
  "kernelspec": {
   "display_name": "Python 3 (ipykernel)",
   "language": "python",
   "name": "python3"
  },
  "language_info": {
   "codemirror_mode": {
    "name": "ipython",
    "version": 3
   },
   "file_extension": ".py",
   "mimetype": "text/x-python",
   "name": "python",
   "nbconvert_exporter": "python",
   "pygments_lexer": "ipython3",
   "version": "3.8.6"
  }
 },
 "nbformat": 4,
 "nbformat_minor": 5
}
