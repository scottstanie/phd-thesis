{
 "cells": [
  {
   "cell_type": "code",
   "execution_count": null,
   "id": "0e297eee-49e2-4710-805c-480a89e3fb48",
   "metadata": {},
   "outputs": [],
   "source": [
    "import os\n",
    "from pathlib import Path\n",
    "\n",
    "import cartopy.crs as ccrs\n",
    "import geopandas as gpd\n",
    "import hvplot.xarray\n",
    "import matplotlib.pyplot as plt\n",
    "import numpy as np\n",
    "import pandas as pd\n",
    "import panel as pn\n",
    "import proplot as pplt\n",
    "import seaborn as sns\n",
    "import xarray as xr\n",
    "from apertools import gps, gps_plots, latlon, los, lowess, plotting, sario, utils\n",
    "from cartopy.feature import ShapelyFeature\n",
    "from cartopy.io.shapereader import Reader\n",
    "from scipy import signal, stats\n",
    "from shapely import geometry\n",
    "from troposim import igram_sim, turbulence\n",
    "\n",
    "pn.extension()\n",
    "# pplt.rc.update({\"subplots.share\": False, \"subplots.span\": False})\n",
    "\n",
    "\n",
    "sns.set_style(style=\"white\")\n",
    "# plotting.set_style(size=16)\n",
    "\n",
    "\n",
    "RNG = np.random.default_rng()\n",
    "\n",
    "%matplotlib inline\n",
    "# %matplotlib widget\n",
    "\n",
    "%load_ext autoreload\n",
    "%autoreload 2"
   ]
  },
  {
   "cell_type": "code",
   "execution_count": null,
   "id": "e9e6c2b5-b6fb-48e1-ae0e-f3cb4af3e6a1",
   "metadata": {},
   "outputs": [],
   "source": [
    "# sns.set_style?"
   ]
  },
  {
   "cell_type": "markdown",
   "id": "d3f08aa7-33f9-4400-91b3-1587152ac568",
   "metadata": {},
   "source": [
    "# Chapter: Improved Robust Long-term Time Series Methods\n",
    "\n",
    "1. Limitations of stacking to long time series\n",
    "2. Robust Time Series Methods\n",
    "    1. Regularization (Supplement from GRL)\n",
    "    1. LPF by triangle filiter \n",
    "    1. LOWESS smoothing\n",
    "3. Synthetic Example\n",
    "    1. frequency response of triangle\n",
    "    1. response of LOWESS\n",
    "4. 7 Year Time Series for the Permian Basin\n",
    "    1. Comparison to GPS\n",
    "    2. Anthropogenic Caused Deformation Patterns"
   ]
  },
  {
   "cell_type": "code",
   "execution_count": null,
   "id": "4126f3c8-5e5a-4362-8795-ba28ae2b34e1",
   "metadata": {},
   "outputs": [],
   "source": [
    "r = 100\n",
    "b = 2.7\n",
    "N = 10\n",
    "shape = (100, 100)\n",
    "ny, nx = shape\n",
    "\n",
    "igm_g = igram_sim.IgramMaker(\n",
    "    num_days=N,\n",
    "    shape=shape,\n",
    "    distribution=\"normal\",\n",
    "    resolution=r,\n",
    "    p0_default=100,\n",
    "    to_cm=True,\n",
    ")\n",
    "igm_u = igram_sim.IgramMaker(\n",
    "    num_days=N,\n",
    "    shape=shape,\n",
    "    distribution=\"uniform\",\n",
    "    resolution=r,\n",
    "    p0_default=100,\n",
    "    to_cm=True,\n",
    ")\n",
    "\n",
    "sar_stack_u, sar_date_list = igm_u.make_sar_stack(beta=b)\n",
    "sar_stack_g, _ = igm_g.make_sar_stack(beta=b)"
   ]
  },
  {
   "cell_type": "code",
   "execution_count": null,
   "id": "a428c4c7-ad2e-4688-b55b-89bbb0fe9ffc",
   "metadata": {},
   "outputs": [],
   "source": [
    "sar_stack_g.max(), sar_stack_g.min()"
   ]
  },
  {
   "cell_type": "code",
   "execution_count": null,
   "id": "764fb99f-6374-4a65-ac31-b44fa15e0c4c",
   "metadata": {},
   "outputs": [],
   "source": [
    "plt.figure()\n",
    "plt.imshow(sar_stack_u[0])\n",
    "plt.colorbar()"
   ]
  },
  {
   "cell_type": "code",
   "execution_count": null,
   "id": "76c5c4cc-ce7f-4a55-990d-c8d86e1e8ebc",
   "metadata": {},
   "outputs": [],
   "source": [
    "s = sar_stack_u[sar_stack_u.max(axis=(1, 2)).argmax()]\n",
    "\n",
    "plt.figure()\n",
    "plt.imshow(s)\n",
    "plt.colorbar()"
   ]
  },
  {
   "cell_type": "code",
   "execution_count": null,
   "id": "b487cf74-c68a-430d-bf92-2b393ac8ae08",
   "metadata": {},
   "outputs": [],
   "source": [
    "fig, axes = plt.subplots(1, 2, figsize=(8, 3), sharex=True, sharey=True, squeeze=False)\n",
    "axes = axes.ravel()\n",
    "\n",
    "# axes[0].hist(sar_stack1.ravel())\n",
    "# axes[1].hist(sar_stack2.ravel())\n",
    "ax = axes[0]\n",
    "for s in sar_stack_g:\n",
    "    sns.kdeplot(x=s.ravel(), ax=ax)\n",
    "ax.set_title(\"Gaussian\")\n",
    "\n",
    "ax = axes[1]\n",
    "for s in sar_stack_u:\n",
    "    sns.kdeplot(x=s.ravel(), ax=ax)\n",
    "ax.set_title(\"Uniform\")"
   ]
  },
  {
   "cell_type": "code",
   "execution_count": null,
   "id": "d6319774-6359-4c40-bded-e5c3fd57fa03",
   "metadata": {},
   "outputs": [],
   "source": [
    "fig, ax = plt.subplots(figsize=(5, 5), sharex=True, sharey=True)\n",
    "\n",
    "sns.kdeplot(x=sar_stack_g.ravel(), ax=ax, label=\"Gaussian\")\n",
    "sns.kdeplot(x=sar_stack_u.ravel(), ax=ax, label=\"Uniform\")\n",
    "ax.legend()"
   ]
  },
  {
   "cell_type": "markdown",
   "id": "fd724797-5368-4a8a-bf79-d383cf969470",
   "metadata": {},
   "source": [
    "# Add defo "
   ]
  },
  {
   "cell_type": "code",
   "execution_count": null,
   "id": "90c0e7d9-c7f2-48ad-9325-c367523bbda9",
   "metadata": {},
   "outputs": [],
   "source": [
    "p0_rv = \"gamma\"\n",
    "p0_params = {\"scale\": 50, \"a\": 2, \"loc\": 2}\n",
    "\n",
    "plt.figure()\n",
    "xx = np.linspace(0, 250)\n",
    "\n",
    "plt.plot(xx, stats.gamma(**p0_params).pdf(xx))\n",
    "plt.xlabel(\"p0\")"
   ]
  },
  {
   "cell_type": "code",
   "execution_count": null,
   "id": "0f66d854-1296-4390-8be2-1c3932c40c32",
   "metadata": {},
   "outputs": [],
   "source": [
    "defo_rates = [2, -2]\n",
    "# num_days = 80 # 2.6 years\n",
    "num_days = 91  # 3 years\n",
    "r = 200  # resolution, m\n",
    "# b = 2.7\n",
    "smooth_defo_days = 20\n",
    "\n",
    "shape = (300, 300)\n",
    "# shape = (600, 600)\n",
    "ny, nx = shape\n",
    "\n",
    "igm = igram_sim.IgramMaker(\n",
    "    num_days=num_days,\n",
    "    shape=shape,\n",
    "    resolution=r,\n",
    "    to_cm=True,\n",
    "    defo_rates=defo_rates,\n",
    "    smooth_defo_days=smooth_defo_days,\n",
    ")"
   ]
  },
  {
   "cell_type": "code",
   "execution_count": null,
   "id": "c956a887-95c1-474b-b658-c33f5c8776ea",
   "metadata": {},
   "outputs": [],
   "source": [
    "# Draw the daily powers from an exponential\n",
    "\n",
    "seed = 1\n",
    "beta_arr_slopes = stats.norm.rvs(\n",
    "    loc=-2.6, scale=0.1, size=(num_days,), random_state=seed\n",
    ")\n",
    "beta_arr = np.vstack((-9.7 * np.ones(num_days), beta_arr_slopes)).T\n",
    "\n",
    "sar_stack, sar_date_list = igm.make_sar_stack(\n",
    "    beta=beta_arr,\n",
    "    p0_params=p0_params,\n",
    "    p0_rv=p0_rv,\n",
    "    seed=seed,\n",
    ")\n",
    "dd = igm.make_defo_stack(sigma=15)"
   ]
  },
  {
   "cell_type": "code",
   "execution_count": null,
   "id": "8144ce40-35d4-4001-bc47-4ef194b45b58",
   "metadata": {},
   "outputs": [],
   "source": [
    "sns.histplot(np.max(np.abs(sar_stack), axis=(1, 2)), bins=20)"
   ]
  },
  {
   "cell_type": "code",
   "execution_count": null,
   "id": "f7642c68-6f40-40d8-ac73-470e839aea6e",
   "metadata": {},
   "outputs": [],
   "source": [
    "plt.figure()\n",
    "plt.imshow(igm.sar_stack[4])\n",
    "plt.colorbar()"
   ]
  },
  {
   "cell_type": "code",
   "execution_count": null,
   "id": "4989a967-147f-42a5-8fb6-28d011248013",
   "metadata": {},
   "outputs": [],
   "source": [
    "plt.figure()\n",
    "plt.imshow(dd[4])\n",
    "plt.colorbar()"
   ]
  },
  {
   "cell_type": "code",
   "execution_count": null,
   "id": "0250d86f-9dca-4df5-83e9-1ca531e3d676",
   "metadata": {},
   "outputs": [],
   "source": [
    "dates = pd.to_datetime(igm.sar_date_list)\n",
    "dd_xr = utils.stack_to_xr(dd, z_coords=dates, dims=(\"date\", \"y\", \"x\"))\n",
    "noise_xr = utils.stack_to_xr(igm.sar_stack, z_coords=dates, dims=(\"date\", \"y\", \"x\"))"
   ]
  },
  {
   "cell_type": "code",
   "execution_count": null,
   "id": "fd104a5f-b393-4ab5-8a92-ad625bc116c9",
   "metadata": {},
   "outputs": [],
   "source": [
    "plotting.hvplot_stack(dd_xr, x=\"x\", y=\"y\")"
   ]
  },
  {
   "cell_type": "code",
   "execution_count": null,
   "id": "e7258477-f19b-41d4-9b7b-1febd32f70d6",
   "metadata": {},
   "outputs": [],
   "source": [
    "plotting.hvplot_stack(noise_xr, x=\"x\", y=\"y\")"
   ]
  },
  {
   "cell_type": "markdown",
   "id": "fc903401-cac6-482f-bea3-87682b7322a8",
   "metadata": {},
   "source": [
    "# Time series of center of deformation"
   ]
  },
  {
   "cell_type": "code",
   "execution_count": null,
   "id": "3a32dcf9-8d0d-48e2-af5e-7feccc037879",
   "metadata": {},
   "outputs": [],
   "source": []
  },
  {
   "cell_type": "code",
   "execution_count": null,
   "id": "41d0abed-5e83-49f0-9668-ad083b31539b",
   "metadata": {},
   "outputs": [],
   "source": [
    "noise = igm.sar_stack.copy()\n",
    "noise = noise - noise[:, 5, 5][:, None, None]\n",
    "\n",
    "# # Make the day1 noise non-trivial\n",
    "# # day1max = np.abs(noise[0]).max()\n",
    "\n",
    "# # noisemids = np.abs(noise[:, ny//2, nx//2])\n",
    "# noisemids = noise[:, ny // 2, nx // 2]\n",
    "# # mid_idx = np.argmax(noisemids)\n",
    "# mid_idx = np.argsort(noisemids)[-3]  # get 3rd largest, not max\n",
    "# img1, img2 = noise[0], noise[mid_idx]\n",
    "# noise[0] = img2\n",
    "# noise[mid_idx] = img1\n",
    "\n",
    "# newmax = 2\n",
    "# noise[0] = (noise[0] / day1max) * newmax\n",
    "# save for later\n",
    "day1noise = noise[0].copy()\n",
    "# Subtract the day 1 from the rest:\n",
    "print(f\"Adding day 1 noise in middle: {day1noise[ny//2, nx//2]}\")\n",
    "noise = noise - noise[0][None, :, :]\n",
    "\n",
    "defo = igm.defo_stack.copy()\n",
    "defo_plus_noise = noise + defo\n",
    "dn_xr = utils.stack_to_xr(defo_plus_noise, z_coords=dates, dims=(\"date\", \"y\", \"x\"))"
   ]
  },
  {
   "cell_type": "code",
   "execution_count": null,
   "id": "aa218685-e92b-45b3-bcb5-a1e714fe73fe",
   "metadata": {},
   "outputs": [],
   "source": [
    "day1noise.max(), day1noise.min()"
   ]
  },
  {
   "cell_type": "code",
   "execution_count": null,
   "id": "3c21b157-402e-4071-a369-3569a18a4af5",
   "metadata": {},
   "outputs": [],
   "source": [
    "nmax = np.abs(day1noise).max()\n",
    "plt.imshow(day1noise, cmap=\"seismic_wide_y_r\", vmax=nmax, vmin=-nmax)\n",
    "plt.colorbar()"
   ]
  },
  {
   "cell_type": "code",
   "execution_count": null,
   "id": "bcedb578-c16a-481f-acb0-95e97ff969c2",
   "metadata": {},
   "outputs": [],
   "source": [
    "plotting.hvplot_stack(dn_xr, x=\"x\", y=\"y\")"
   ]
  },
  {
   "cell_type": "code",
   "execution_count": null,
   "id": "49efe588-40cd-4019-bcde-42e2662df2e4",
   "metadata": {},
   "outputs": [],
   "source": [
    "plt.figure()\n",
    "dn_xr.std(dim=(\"date\")).plot.imshow()\n",
    "plt.figure()\n",
    "noise_xr.std(dim=(\"date\")).plot.imshow()"
   ]
  },
  {
   "cell_type": "code",
   "execution_count": null,
   "id": "8c26b012-ce50-4f96-bad4-0be9ef1a3b0a",
   "metadata": {},
   "outputs": [],
   "source": [
    "ts_noisy0 = dn_xr.sel(x=nx // 2, y=ny // 2).copy()\n",
    "ts_truth = dd_xr.sel(x=nx // 2, y=ny // 2).copy()\n",
    "\n",
    "sigma = 0.7\n",
    "ts_white_noise = ts_truth.copy() + RNG.normal(scale=sigma, size=len(ts_noisy0))\n",
    "ts_white_noise -= ts_white_noise[0]"
   ]
  },
  {
   "cell_type": "code",
   "execution_count": null,
   "id": "6585b1ae-b281-4463-aa42-15b6e75a000a",
   "metadata": {},
   "outputs": [],
   "source": [
    "# stats.kstest?"
   ]
  },
  {
   "cell_type": "code",
   "execution_count": null,
   "id": "8c31b580-5ecd-4ec5-bfc4-745d4b68657c",
   "metadata": {},
   "outputs": [],
   "source": [
    "d1 = ts_noisy0.data - ts_truth.data\n",
    "d2 = ts_white_noise.data - ts_truth.data\n",
    "(\n",
    "    stats.kstest((d1 - d1.mean()) / d1.std(), stats.norm.cdf),\n",
    "    stats.kstest(stats.norm.rvs(size=100), stats.norm.cdf),\n",
    "    stats.kstest((d2 - d2.mean()) / d2.std(), stats.norm.cdf),\n",
    ")"
   ]
  },
  {
   "cell_type": "code",
   "execution_count": null,
   "id": "312e4d76-709d-4009-aba3-07681db0b862",
   "metadata": {},
   "outputs": [],
   "source": [
    "fig, ax = plt.subplots()\n",
    "ts_white_noise.plot(label=\"white noise\", ax=ax)\n",
    "ts_noisy0.plot(label=\"turbulence\", ax=ax)\n",
    "ax.legend()"
   ]
  },
  {
   "cell_type": "code",
   "execution_count": null,
   "id": "6f452b22-cbf7-4a35-9257-4b341ff21b3c",
   "metadata": {},
   "outputs": [],
   "source": [
    "fig, ax = plt.subplots(figsize=(7, 4))\n",
    "sns.kdeplot(stats.norm.rvs(size=len(ts_noisy0), scale=1), label=\"norm.rvs\")\n",
    "sns.kdeplot((d2 - d2.mean()) / d2.std(), label=\"white\")\n",
    "sns.kdeplot((d1 - d1.mean()) / d1.std(), label=\"turb\")\n",
    "ax.legend()"
   ]
  },
  {
   "cell_type": "markdown",
   "id": "c36b66c4-4ef4-405b-bc13-804ab99a7d80",
   "metadata": {},
   "source": [
    "# LOWESS Algorithm Demonstration"
   ]
  },
  {
   "cell_type": "markdown",
   "id": "b00e6a8f-154a-4061-81d2-8568dc64a5ce",
   "metadata": {},
   "source": [
    "## LOWESS windows only"
   ]
  },
  {
   "cell_type": "code",
   "execution_count": null,
   "id": "8deab8b1-c1d2-44c6-9377-94d67baa40ec",
   "metadata": {},
   "outputs": [],
   "source": [
    "fig, ax = pplt.subplots(refwidth=5, refheight=2, grid=True)\n",
    "xx = np.linspace(0, 1, 100)\n",
    "idx = 20\n",
    "\n",
    "for frac, fstr in zip([1 / 6, 1 / 3, 1 / 2], [\"1/6\", \"1/3\", \"1/2\"]):\n",
    "    w = lowess.demo_window(xx, frac=frac)\n",
    "    ax.plot(xx, w[:, idx], label=f\"$\\gamma =${fstr}\", lw=3)\n",
    "\n",
    "# ax.legend(loc='upper left')\n",
    "ax.legend(loc=\"upper right\", ncols=1)\n",
    "\n",
    "ax.set_ylabel(\"$\\mathbf{w}(t_i)$\")\n",
    "\n",
    "# ax.set_ylim((None, .1))\n",
    "ax.set_xticks([idx / 100], [\"$t_i$\"])\n",
    "ax.set_xlabel(\"$\\mathbf{t}$\")"
   ]
  },
  {
   "cell_type": "code",
   "execution_count": null,
   "id": "486a6698-9927-4cd7-81c7-eb04a0e0239c",
   "metadata": {},
   "outputs": [],
   "source": [
    "# f = 1/2\n",
    "# x = xx\n",
    "\n",
    "# n = len(x)\n",
    "# r = int(np.ceil(f * n))\n",
    "# h = [np.sort(np.abs(x - x[i]))[r] for i in range(n)]\n",
    "# w = np.clip(np.abs((x[:, None] - x[None, :]) / h), 0.0, 1.0)\n",
    "# w = (1 - w ** 3) ** 3\n",
    "# plt.figure(); plt.plot(w[:, 40])"
   ]
  },
  {
   "cell_type": "code",
   "execution_count": null,
   "id": "900abf39-1bae-4fb7-ad06-fefad28077e0",
   "metadata": {},
   "outputs": [],
   "source": [
    "fig.savefig(\"../figures/chapter5-lowess/figure1-window.pdf\")"
   ]
  },
  {
   "cell_type": "code",
   "execution_count": null,
   "id": "5ff7a037-e5b5-490e-84b4-09452611999b",
   "metadata": {},
   "outputs": [],
   "source": []
  },
  {
   "cell_type": "markdown",
   "id": "296ede29-53fb-46e8-9a8e-d02d0fd9e598",
   "metadata": {},
   "source": [
    "## LOWESS windows, time series example"
   ]
  },
  {
   "cell_type": "code",
   "execution_count": null,
   "id": "972ed73e-9a00-4da3-afa9-1b954b3d2c79",
   "metadata": {},
   "outputs": [],
   "source": []
  },
  {
   "cell_type": "code",
   "execution_count": null,
   "id": "303ca4bb-e033-4c85-bdc3-96a4566e7e9b",
   "metadata": {},
   "outputs": [],
   "source": [
    "dn_xr_noisy = dn_xr.copy()\n",
    "\n",
    "# Make something near the demo index noisy\n",
    "idx = 20\n",
    "\n",
    "dn_xr_noisy[idx + 7] += 6 - dn_xr_noisy[idx + 7]\n",
    "dn_xr_noisy[idx + 4] += 7 - dn_xr_noisy[idx + 4]\n",
    "# noiseidx = 59\n",
    "noiseidx = 51\n",
    "dn_xr_noisy[noiseidx] += -dn_xr_noisy[noiseidx] - 5.9\n",
    "dn_xr_noisy[noiseidx + 1] += -dn_xr_noisy[noiseidx + 1] - 5.1\n",
    "\n",
    "ts_noisy = dn_xr_noisy.sel(x=nx // 2, y=ny // 2).copy()\n",
    "ts_noisy[len(dn_xr_noisy) // 2] = 3.1\n",
    "# ts_noisy[idx + 7] = 5\n",
    "# ts_noisy[idx + 4] = 6.5\n",
    "# ts_noisy[59] = -3.7\n",
    "# ts_noisy[60] = -2.9\n",
    "\n",
    "x = lowess.date2num(dn_xr.date.values)\n",
    "x = (x - x[0]) / 365.25\n",
    "# x"
   ]
  },
  {
   "cell_type": "code",
   "execution_count": null,
   "id": "24cc7ead-f1d1-40cf-86d1-320ae21cd691",
   "metadata": {},
   "outputs": [],
   "source": [
    "np.median(noise[:, ny // 2, nx // 2])"
   ]
  },
  {
   "cell_type": "code",
   "execution_count": null,
   "id": "338eeb07-014f-42cd-bd5e-1ff7f9774d5d",
   "metadata": {},
   "outputs": [],
   "source": [
    "plt.figure()\n",
    "plt.plot(noise[:, nx // 2, ny // 2])\n",
    "plt.plot(defo[:, nx // 2, ny // 2])"
   ]
  },
  {
   "cell_type": "code",
   "execution_count": null,
   "id": "f19092fb-6945-4eea-8899-0b3d2b3dcb0f",
   "metadata": {},
   "outputs": [],
   "source": [
    "plt.figure()\n",
    "# plt.plot(dn_xr_noisy[:, nx // 2, ny // 2])\n",
    "plt.plot(ts_noisy)\n",
    "plt.plot(dn_xr[:, nx // 2, ny // 2])"
   ]
  },
  {
   "cell_type": "code",
   "execution_count": null,
   "id": "8372b6d9-8525-4291-99f6-b176a0bed6e0",
   "metadata": {},
   "outputs": [],
   "source": [
    "plt.figure()\n",
    "plt.plot(dn_xr_noisy[:, nx // 2, ny // 2] - np.median(noise[:, ny // 2, nx // 2]))\n",
    "plt.plot(defo[:, nx // 2, ny // 2])"
   ]
  },
  {
   "cell_type": "code",
   "execution_count": null,
   "id": "43bc9d0c-85a4-4233-9f73-f3c05ead1304",
   "metadata": {},
   "outputs": [],
   "source": [
    "pplt.rc[\"cycle\"] = \"colorblind\"\n",
    "pplt.rc[\"grid.alpha\"] = 0.4"
   ]
  },
  {
   "cell_type": "code",
   "execution_count": null,
   "id": "8051c813-7dbf-409a-bc1c-465165d6e0e9",
   "metadata": {},
   "outputs": [],
   "source": [
    "fig, ax = pplt.subplots(refwidth=5, refheight=2, grid=True)\n",
    "ax2 = ax.twinx()\n",
    "\n",
    "# lon, lat = gps.station_lonlat(\"TXKM\")\n",
    "# ax2.scatter(igm.sar_date_list, ts_noisy.data, label=r\"$\\phi$\", marker='.', lw=1, color=\"gold\", s=100)\n",
    "# Using the spiked\n",
    "y = ts_noisy.data\n",
    "\n",
    "ax2.scatter(\n",
    "    igm.sar_date_list, y, label=r\"$\\phi$\", marker=\".\", lw=1, color=\"gold\", s=100\n",
    ")\n",
    "\n",
    "\n",
    "years_smooth = [0.5, 1, 1.5]\n",
    "for year in years_smooth:\n",
    "    w = lowess.demo_window(x, min_x_weighted=year)\n",
    "    ax.plot(igm.sar_date_list, w[:, idx], label=f\"{year} year\", lw=3)\n",
    "\n",
    "# ax.legend(loc='upper left')\n",
    "ax.legend(loc=\"upper right\", ncols=1)\n",
    "# ax2.legend()\n",
    "# ax.set_title(\"Initial window weight for each LOWESS iteration\")\n",
    "ax2.set_title(\"\")\n",
    "ax2.set_ylabel(f\"$\\phi$ [cm]\")\n",
    "\n",
    "# ax2.set_ylim((-7, 7))\n",
    "ax.set_ylabel(\"$\\mathbf{w}(t_i)$\")"
   ]
  },
  {
   "cell_type": "code",
   "execution_count": null,
   "id": "79a95995-f591-49f3-8b99-8df560d69d14",
   "metadata": {},
   "outputs": [],
   "source": [
    "fig.savefig(\"../figures/chapter5-lowess/figure1-window-ts.pdf\")"
   ]
  },
  {
   "cell_type": "code",
   "execution_count": null,
   "id": "debb3086-2893-46a5-8fd9-90eb748016f0",
   "metadata": {},
   "outputs": [],
   "source": [
    "# fig, ax = plt.subplots()\n",
    "# ax2 = ax.twinx()\n",
    "\n",
    "# # lon, lat = gps.station_lonlat(\"TXKM\")\n",
    "# ts_noisy.plot(ax=ax2, label=\"insar\", marker='.', lw=1, color='gold')\n",
    "\n",
    "\n",
    "# years_smooth = [0.5, 1, 1.5]\n",
    "# for year in years_smooth:\n",
    "#     w = lowess.demo_window(x, min_x_weighted=year)\n",
    "#     ax.plot(igm.sar_date_list, w[50], label=f\"{year} year\", lw=3)\n",
    "\n",
    "# ax.legend(loc='upper left')\n",
    "# # ax2.legend()\n",
    "# ax.set_title(\"Initial window weight for each LOWESS iteration\")\n",
    "# ax2.set_title(\"\")\n",
    "# ax2.set_ylabel(\"InSAR [cm]\")\n",
    "\n",
    "# # ax2.set_ylim((-7, 7))\n",
    "# ax.set_ylabel(\"$\\mathbf{w}(t_i)$\")"
   ]
  },
  {
   "cell_type": "markdown",
   "id": "12a5e9b8-13e8-4ce2-9e1b-567cea77d40b",
   "metadata": {},
   "source": [
    "## Time series only plot, plus image of deformation"
   ]
  },
  {
   "cell_type": "code",
   "execution_count": null,
   "id": "b0ce8e24-7926-4171-8f0c-3e4e3d16a633",
   "metadata": {},
   "outputs": [],
   "source": [
    "ts_arr = [ts_truth, ts_noisy]\n",
    "# labels = ['Noisy', 'Truth']\n",
    "labels = [\"$\\mathbf{d}$\", \"$\\mathbf{\\phi}$\"]\n",
    "# colors = [\"C1\", \"C0\"]\n",
    "colors = [\"C1\", \"gray\"]\n",
    "# colors = [\"C0\", \"gray\"]\n",
    "\n",
    "# cmap_img = 'RdBu_r'\n",
    "cmap_img = \"seismic_wide_y\"\n",
    "\n",
    "\n",
    "fig, axes = pplt.subplots([[1, 2], [3, 3]], abc=\"(a)\")  # , figsize=(6, 3))\n",
    "\n",
    "\n",
    "ax.set_ylabel(\"[cm]\")\n",
    "# ax.set_title(\"Triangle-window smoothing\")\n",
    "# ax.grid()\n",
    "\n",
    "ax.legend()\n",
    "defo_img = dd_xr[len(dd_xr) // 2]\n",
    "img_date = dd_xr.indexes[\"date\"][len(dd_xr) // 2]\n",
    "defo_noise_img = dn_xr[len(dd_xr) // 2]\n",
    "vm = np.abs(defo_noise_img).max()\n",
    "\n",
    "\n",
    "ax = axes[0]\n",
    "# axim = ax.imshow(noise_xr[len(dd_xr)//2], cmap=cmap_img, vmax=vm, vmin=-vm)\n",
    "axim = ax.imshow(defo_img, cmap=cmap_img, vmax=vm, vmin=-vm)\n",
    "ax.colorbar(axim, loc=\"r\", label=\"[cm]\")\n",
    "ax.format(grid=False, title=f\"{labels[0]}: {str(img_date.date())}\")\n",
    "ax.plot(nx // 2, ny // 2, \"X\", color=\"black\")\n",
    "\n",
    "\n",
    "ax = axes[1]\n",
    "axim = ax.imshow(defo_noise_img, cmap=cmap_img, vmax=vm, vmin=-vm)\n",
    "ax.colorbar(axim, loc=\"r\", label=\"[cm]\")\n",
    "ax.format(grid=False, title=f\"{labels[1]}: {str(img_date.date())}\")\n",
    "ax.plot(nx // 2, ny // 2, \"X\", color=\"black\")\n",
    "\n",
    "ax = axes[2]\n",
    "\n",
    "dts = ts_noisy.date.values\n",
    "# for tt, label, color in zip(ts_arr, labels, colors):\n",
    "ax.plot(dts, ts_arr[0], lw=3, label=labels[0], color=colors[0])\n",
    "ax.plot(dts, ts_arr[1], lw=1.5, label=labels[1], marker=\".\", color=colors[1])\n",
    "ax.set_ylabel(\"[cm]\")\n",
    "ax.legend(loc=\"ur\")\n",
    "\n",
    "ylim = ax.get_ylim()  # Keep the same limits, but make a vert line for whole span\n",
    "ax.vlines(img_date, ylim[0], ylim[1], linestyle=\"--\", color=\"gray\", alpha=0.5)\n",
    "ax.set_ylim(ylim)"
   ]
  },
  {
   "cell_type": "code",
   "execution_count": null,
   "id": "8a407b24-7380-492d-814c-5f7af4e685e7",
   "metadata": {},
   "outputs": [],
   "source": [
    "fig.savefig(\"../figures/chapter5-lowess/figure2-demo-data.pdf\")"
   ]
  },
  {
   "cell_type": "markdown",
   "id": "550f1b0b-1afc-4bd1-b406-d9437c32105a",
   "metadata": {},
   "source": [
    "## *Figure 5.2"
   ]
  },
  {
   "cell_type": "code",
   "execution_count": null,
   "id": "81d1e7d4-cd88-4875-b105-c1d03d7419ab",
   "metadata": {},
   "outputs": [],
   "source": [
    "ts_arr = [ts_truth, ts_noisy]\n",
    "# labels = ['Noisy', 'Truth']\n",
    "labels = [\"$\\mathbf{d}$\", \"$\\mathbf{\\phi}$\"]\n",
    "# colors = [\"C1\", \"C0\"]\n",
    "colors = [\"C1\", \"gray\"]\n",
    "# colors = [\"C0\", \"gray\"]\n",
    "\n",
    "# cmap_img = 'RdBu_r'\n",
    "cmap_img = \"seismic_wide_y\"\n",
    "\n",
    "\n",
    "fig, ax = pplt.subplots(figsize=(5, 3))\n",
    "\n",
    "# ax.set_ylabel(\"[cm]\")\n",
    "# ax.set_title(\"Triangle-window smoothing\")\n",
    "# ax.grid()\n",
    "\n",
    "# ax.legend()\n",
    "# defo_img = dd_xr[len(dd_xr) // 2]\n",
    "# img_date = dd_xr.indexes[\"date\"][len(dd_xr) // 2]\n",
    "# defo_noise_img = dn_xr[len(dd_xr) // 2]\n",
    "# vm = np.abs(defo_noise_img).max()\n",
    "\n",
    "\n",
    "dts = ts_noisy.date.values\n",
    "# for tt, label, color in zip(ts_arr, labels, colors):\n",
    "ax.plot(dts, ts_arr[0], lw=3, label=labels[0], color=colors[0])\n",
    "ax.plot(dts, ts_arr[1], lw=1.5, label=labels[1], marker=\".\", color=colors[1])\n",
    "ax.set_ylabel(\"[cm]\")\n",
    "ax.legend(loc=\"ur\")\n",
    "ax.grid()\n",
    "\n",
    "ylim = ax.get_ylim()  # Keep the same limits, but make a vert line for whole span\n",
    "# ax.vlines(img_date, ylim[0], ylim[1], linestyle=\"--\", color=\"gray\", alpha=0.5)\n",
    "ax.set_ylim(ylim)"
   ]
  },
  {
   "cell_type": "code",
   "execution_count": null,
   "id": "dee45795-63be-4dfa-90a9-85e81bba6463",
   "metadata": {},
   "outputs": [],
   "source": [
    "fig.savefig(\"../figures/chapter5-lowess/figure2-demo-data-ts-only.pdf\")"
   ]
  },
  {
   "cell_type": "markdown",
   "id": "4cbd47b1-9f50-44fb-b12c-4b04e7b429af",
   "metadata": {},
   "source": [
    "### Color tests"
   ]
  },
  {
   "cell_type": "code",
   "execution_count": null,
   "id": "5de1bf8b-2b3d-4b79-b110-91e7d6e2cb1d",
   "metadata": {},
   "outputs": [],
   "source": [
    "# First Iteration\n",
    "from matplotlib.colors import LinearSegmentedColormap, to_rgb, to_rgba\n",
    "\n",
    "\n",
    "def get_alpha_by_value(alpha_arr, color=\"C1\"):\n",
    "    r, g, b = to_rgb(color)\n",
    "    # r, g, b, _ = to_rgba(color)\n",
    "    return [(r, g, b, alpha) for alpha in alpha_arr]\n",
    "\n",
    "\n",
    "get_alpha_by_value([0.5, 0.2, 1])\n",
    "# fig, axs = pplt.show_cycles(rasterized=True)\n",
    "# pplt.rc['cycle'] = 'tab10'"
   ]
  },
  {
   "cell_type": "code",
   "execution_count": null,
   "id": "fff75fdd-6058-45cd-ade8-6fbcd184996b",
   "metadata": {},
   "outputs": [],
   "source": [
    "# LinearSegmentedColormap.from_list('', [to_rgba(\"C2\"), to_rgba(\"grey\")], N)\n",
    "cmap = LinearSegmentedColormap.from_list(\"\", [to_rgba(\"grey\"), to_rgba(\"gold\")], N)\n",
    "cmap"
   ]
  },
  {
   "cell_type": "markdown",
   "id": "94e3c357-f7e4-48a4-9514-2d479bc2e1a7",
   "metadata": {},
   "source": [
    "## LOWESS window color shading"
   ]
  },
  {
   "cell_type": "code",
   "execution_count": null,
   "id": "3c5bd14e-e5ac-4153-a94c-db5437f4ac40",
   "metadata": {},
   "outputs": [],
   "source": [
    "# idx = 20\n",
    "# w = lowess.demo_window(x, min_x_weighted=1.0)\n",
    "# window = w[:, idx]\n",
    "\n",
    "# # color_arr = get_alpha_by_value(window)\n",
    "# # map from gray at 0 to green at max\n",
    "# N = 256\n",
    "# # cmap = LinearSegmentedColormap.from_list('', [to_rgba(\"C6\"), to_rgba(\"C8\")], N)\n",
    "# colors = cmap(window)\n",
    "\n",
    "# # fig, ax = pplt.subplots(figsize=(8, 5))\n",
    "# fig, ax = pplt.subplots(refwidth=5, refheight=2)\n",
    "\n",
    "# ax2 = ax.twinx()\n",
    "\n",
    "# # lon, lat = gps.station_lonlat(\"TXKM\")\n",
    "# aa = ax2.scatter(igm.sar_date_list, ts_noisy.data, label=\"insar\", marker='.', lw=1, color=colors, s=100)\n",
    "\n",
    "\n",
    "# ax.plot(igm.sar_date_list, window, lw=3)\n",
    "\n",
    "# # ax.legend(loc='upper left')\n",
    "# # ax2.legend()\n",
    "# # ax.set_title(\"Initial window weight for initial LOWESS iteration\")\n",
    "# ax2.set_title(\"\")\n",
    "# ax2.set_ylabel(\"InSAR [cm]\")\n",
    "\n",
    "# # ax2.set_ylim((-7, 7))\n",
    "# ax.set_ylabel(\"$\\mathbf{w}(t_i)$\")\n",
    "\n",
    "# # cmap"
   ]
  },
  {
   "cell_type": "markdown",
   "id": "691f5264-ba6d-44ca-b7e5-c62dc7eb4c3b",
   "metadata": {},
   "source": [
    "## LOWESS First iteration slope fit"
   ]
  },
  {
   "cell_type": "code",
   "execution_count": null,
   "id": "6c80e5f5-f1f2-4f95-af32-825bdc15b58c",
   "metadata": {},
   "outputs": [],
   "source": [
    "idx = 20\n",
    "w = lowess.demo_window(x, min_x_weighted=1.0)\n",
    "beta = lowess.demo_fit(x, ts_noisy.data, w, idx)\n",
    "x_slice = x[idx - 10 : idx + 10]\n",
    "yest = beta[0] + beta[1] * x_slice\n",
    "# yest"
   ]
  },
  {
   "cell_type": "code",
   "execution_count": null,
   "id": "1ec04b36-455a-461a-b800-6accc7e38a88",
   "metadata": {},
   "outputs": [],
   "source": [
    "from matplotlib.colors import LinearSegmentedColormap, to_rgba\n",
    "\n",
    "w = lowess.demo_window(x, min_x_weighted=1.0)\n",
    "window = w[:, idx]\n",
    "\n",
    "# color_arr = get_alpha_by_value(window)\n",
    "# map from gray at 0 to green at max\n",
    "N = 256\n",
    "# cmap = LinearSegmentedColormap.from_list('', [to_rgba(\"C6\"), to_rgba(\"C8\")], N)\n",
    "colors = cmap(window)\n",
    "\n",
    "# fig, ax = plt.subplots(figsize=(8, 5))\n",
    "fig, ax = pplt.subplots(refwidth=5, refheight=2)\n",
    "ax2 = ax.twinx()\n",
    "\n",
    "fit_color = \"C1\"\n",
    "# lon, lat = gps.station_lonlat(\"TXKM\")\n",
    "ax2.scatter(\n",
    "    igm.sar_date_list,\n",
    "    ts_noisy.data,\n",
    "    label=r\"$\\phi$\",\n",
    "    marker=\".\",\n",
    "    lw=1,\n",
    "    color=colors,\n",
    "    s=100,\n",
    ")\n",
    "ax2.plot(igm.sar_date_list[idx - 10 : idx + 10], yest, lw=6, color=fit_color)\n",
    "\n",
    "ax.plot(igm.sar_date_list, window, lw=3)\n",
    "\n",
    "# ax.legend(loc='upper left')\n",
    "# ax2.legend()\n",
    "ax.set_title(\"Initial fit\")\n",
    "ax2.set_title(\"\")\n",
    "ax2.set_ylabel(\"InSAR [cm]\")\n",
    "\n",
    "# ax2.set_ylim((-7, 7))\n",
    "ax.set_ylabel(\"$\\mathbf{w}(t_i)$\")"
   ]
  },
  {
   "cell_type": "code",
   "execution_count": null,
   "id": "ca64a6fe-54c9-409b-a071-8be9282952e8",
   "metadata": {},
   "outputs": [],
   "source": [
    "resid = lowess.demo_residual(x, ts_noisy.data, w, idx)\n",
    "beta_2 = lowess.demo_fit(x, ts_noisy.data, w, idx, delta=resid)\n",
    "yest_2 = beta_2[0] + beta_2[1] * x_slice\n",
    "yest_2"
   ]
  },
  {
   "cell_type": "code",
   "execution_count": null,
   "id": "f4fce9e2-0acf-426a-ad1a-4881ffd18583",
   "metadata": {},
   "outputs": [],
   "source": [
    "from matplotlib.colors import LinearSegmentedColormap, to_rgba\n",
    "\n",
    "w = lowess.demo_window(x, min_x_weighted=1.0)\n",
    "window = w[:, idx]\n",
    "window2 = resid * window\n",
    "\n",
    "# color_arr = get_alpha_by_value(window)\n",
    "# map from gray at 0 to green at max\n",
    "# N = 256\n",
    "# cmap = LinearSegmentedColormap.from_list('', [to_rgba(\"C6\"), to_rgba(\"C8\")], N)\n",
    "colors2 = cmap(window2)\n",
    "\n",
    "# fig, ax = plt.subplots(figsize=(8, 5))\n",
    "fig, ax = pplt.subplots(refwidth=5, refheight=2)\n",
    "\n",
    "ax2 = ax.twinx()\n",
    "\n",
    "fit_color = \"C1\"\n",
    "fit_color2 = \"C2\"\n",
    "# lon, lat = gps.station_lonlat(\"TXKM\")\n",
    "ax2.scatter(\n",
    "    igm.sar_date_list,\n",
    "    ts_noisy.data,\n",
    "    label=\"$\\phi$\",\n",
    "    marker=\".\",\n",
    "    lw=1,\n",
    "    color=colors2,\n",
    "    s=100,\n",
    ")\n",
    "ax2.plot(igm.sar_date_list[idx - 10 : idx + 10], yest, lw=5, color=fit_color, alpha=0.5)\n",
    "ax2.plot(igm.sar_date_list[idx - 10 : idx + 10], yest_2, lw=6, color=fit_color2)\n",
    "\n",
    "# ax.plot(igm.sar_date_list, window, lw=3)\n",
    "ax.plot(igm.sar_date_list, window2, lw=3)\n",
    "\n",
    "# ax.legend(loc='upper left')\n",
    "# ax2.legend()\n",
    "# ax.set_title(\"Second iteration fit\")\n",
    "ax2.set_title(\"\")\n",
    "ax2.set_ylabel(\"\\phi [cm]\")\n",
    "\n",
    "# ax2.set_ylim((-7, 7))\n",
    "ax.set_ylabel(\"$\\mathbf{w}(t_i)$\")"
   ]
  },
  {
   "cell_type": "markdown",
   "id": "441bf1c0-4b4b-4be7-9b42-9813fbae3a17",
   "metadata": {},
   "source": [
    "## Combined first 2 iterations"
   ]
  },
  {
   "cell_type": "code",
   "execution_count": null,
   "id": "6b895841-ccbc-478f-8bf5-e0da515ff114",
   "metadata": {},
   "outputs": [],
   "source": [
    "# Recalculate the 2 estimates\n",
    "idx = 20\n",
    "\n",
    "w = lowess.demo_window(x, min_x_weighted=1.0)\n",
    "beta = lowess.demo_fit(x, ts_noisy.data, w, idx)\n",
    "x_slice = x[idx - 10 : idx + 10]\n",
    "yest = beta[0] + beta[1] * x_slice\n",
    "\n",
    "\n",
    "resid = lowess.demo_residual(x, ts_noisy.data, w, idx)\n",
    "beta_2 = lowess.demo_fit(x, ts_noisy.data, w, idx, delta=resid)\n",
    "yest_2 = beta_2[0] + beta_2[1] * x_slice\n",
    "yest_2"
   ]
  },
  {
   "cell_type": "code",
   "execution_count": null,
   "id": "d4fb1c3e-efc0-4af7-9ede-3ba663631ce4",
   "metadata": {},
   "outputs": [],
   "source": [
    "# lowess.lowess_pixel(y, x, frac=.4, n_iter=2)"
   ]
  },
  {
   "cell_type": "code",
   "execution_count": null,
   "id": "c8a24297-bb17-4221-a40b-55d92be6cb51",
   "metadata": {},
   "outputs": [],
   "source": [
    "pplt.rc[\"subplots.refwidth\"]"
   ]
  },
  {
   "cell_type": "code",
   "execution_count": null,
   "id": "a5894eed-f413-419c-8d48-796560adeef9",
   "metadata": {},
   "outputs": [],
   "source": [
    "plt.plot(ts_noisy.data)"
   ]
  },
  {
   "cell_type": "markdown",
   "id": "16504198-ec3e-4124-bf76-b216b06ede55",
   "metadata": {},
   "source": [
    "## *Figure 5.3"
   ]
  },
  {
   "cell_type": "code",
   "execution_count": null,
   "id": "9789590b-3902-49ed-81e4-45584d537303",
   "metadata": {},
   "outputs": [],
   "source": [
    "# fig, axes = pplt.subplots(refwidth=4, refheight=1.2, nrows=3, abc=\"(a)\")\n",
    "fig, axes = pplt.subplots(\n",
    "    ncols=2,\n",
    "    nrows=2,\n",
    "    abc=\"(a)\",\n",
    "    sharey=False,\n",
    "    refwidth=2,\n",
    ")\n",
    "# fig, ax = plt.subplots(figsize=(8, 5))\n",
    "\n",
    "\n",
    "x = lowess.date2num(dn_xr.date.values)\n",
    "x = (x - x[0]) / 365.25\n",
    "y = ts_noisy.data\n",
    "y_iter1 = lowess.lowess_pixel(y, x, frac=1 / 3, n_iter=1)\n",
    "y_iter2 = lowess.lowess_pixel(y, x, frac=1 / 3, n_iter=2)\n",
    "\n",
    "\n",
    "w = lowess.demo_window(x, min_x_weighted=1.0)\n",
    "window = w[:, idx]\n",
    "\n",
    "lw2 = 3\n",
    "N = 256\n",
    "colors = cmap(window)\n",
    "\n",
    "\n",
    "ax1 = axes[0]\n",
    "ax2 = ax1.twinx()\n",
    "\n",
    "fit_color = \"C1\"\n",
    "ax1.plot(igm.sar_date_list, ts_noisy.data, lw=1.5, marker=\".\", color=\"gray\")\n",
    "# ax1.scatter(\n",
    "#     igm.sar_date_list,\n",
    "#     ts_noisy.data,\n",
    "#     label=r\"$\\phi$\",\n",
    "#     marker=\".\",\n",
    "#     color=colors,\n",
    "#     s=60,\n",
    "# )\n",
    "ax1.plot(igm.sar_date_list[idx - 10 : idx + 10], yest, lw=lw2, color=fit_color)\n",
    "ax1.set_ylabel(\"$\\phi$ [cm]\")\n",
    "\n",
    "ax2.plot(igm.sar_date_list, window, lw=lw2 - 1, color=fit_color)\n",
    "# ax2.set_ylim((-7, 7))\n",
    "ax2.set_ylabel(\"$\\mathbf{w}(t_i)$\")\n",
    "\n",
    "######################################\n",
    "\n",
    "ax = axes[1]\n",
    "\n",
    "fit_color = \"C1\"\n",
    "# ax.scatter(igm.sar_date_list, ts_noisy.data, marker=\".\", lw=1, color=\"gray\", s=100\n",
    "ax.plot(\n",
    "    igm.sar_date_list,\n",
    "    ts_noisy.data,\n",
    "    marker=\".\",\n",
    "    lw=1.5,\n",
    "    color=\"gray\",\n",
    ")  # , label=r\"$\\phi$\")\n",
    "ax.plot(igm.sar_date_list, y_iter1, lw=lw2, color=fit_color, label=\"1 iters\")\n",
    "\n",
    "\n",
    "ax.set_ylabel(\"$\\phi$ [cm]\")\n",
    "\n",
    "\n",
    "###############################\n",
    "window2 = resid * window\n",
    "colors2 = cmap(window2)\n",
    "\n",
    "ax1 = axes[2]\n",
    "ax2 = ax1.twinx()\n",
    "\n",
    "fit_color = \"C1\"\n",
    "fit_color2 = \"C2\"\n",
    "\n",
    "alpha = 0.7\n",
    "ax1.plot(igm.sar_date_list, ts_noisy.data, lw=1.5, marker=\".\", color=\"gray\")\n",
    "# ax1.scatter(\n",
    "#     igm.sar_date_list,\n",
    "#     ts_noisy.data,\n",
    "#     label=\"$\\phi$\",\n",
    "#     marker=\".\",\n",
    "#     lw=1.5,\n",
    "#     color=colors2,\n",
    "#     s=60,\n",
    "# )\n",
    "\n",
    "ax1.plot(\n",
    "    igm.sar_date_list[idx - 10 : idx + 10], yest, lw=lw2, color=fit_color, alpha=alpha\n",
    ")\n",
    "ax1.plot(igm.sar_date_list[idx - 10 : idx + 10], yest_2, lw=lw2, color=fit_color2)\n",
    "ax1.set_ylabel(\"$\\phi$ [cm]\")\n",
    "\n",
    "ax2.plot(igm.sar_date_list, window2, lw=lw2 - 1, color=fit_color2)\n",
    "# ax2.set_ylim((-7, 7))\n",
    "ax2.set_ylabel(\"$\\mathbf{w}(t_i)$\")\n",
    "\n",
    "\n",
    "######################################\n",
    "ax = axes[3]\n",
    "\n",
    "fit_color = \"C1\"\n",
    "# ax.scatter(igm.sar_date_list, ts_noisy.data, marker=\".\", lw=1, color=\"gray\", s=100)\n",
    "ax.plot(igm.sar_date_list, ts_noisy.data, marker=\".\", lw=1.5, color=\"gray\")\n",
    "ax.plot(\n",
    "    igm.sar_date_list, y_iter1, lw=lw2, color=fit_color, alpha=alpha, label=\"1 iters\"\n",
    ")\n",
    "ax.plot(igm.sar_date_list, y_iter2, lw=lw2, color=fit_color2, label=\"2 iters\")\n",
    "# ax.format(xticks=180)\n",
    "\n",
    "# xts = pd.date_range(igm.sar_date_list[0], igm.sar_date_list[-1], freq='6MS')\n",
    "# axes.format(xticks=xts.to_pydatetime(), xticklabels=xts.strftime(\"%Y-%m\").tolist())\n",
    "axes.format(xlocator=(\"month\", [1, 7]))\n",
    "\n",
    "ax.set_title(\"\")\n",
    "ax.set_ylabel(\"$\\phi$ [cm]\")\n",
    "ax.legend(loc=\"lower left\", ncols=1)"
   ]
  },
  {
   "cell_type": "code",
   "execution_count": null,
   "id": "6483d3da-bc97-4a76-9b9d-447773d9ee3d",
   "metadata": {},
   "outputs": [],
   "source": [
    "fig.savefig(\"../figures/chapter5-lowess/figure3-fits.pdf\")"
   ]
  },
  {
   "cell_type": "code",
   "execution_count": null,
   "id": "48f288c8-d137-40b9-95f7-e525d5d50c96",
   "metadata": {},
   "outputs": [],
   "source": [
    "# from matplotlib.colors import LinearSegmentedColormap, to_rgba\n",
    "\n",
    "# w = lowess.demo_window(x, min_x_weighted=1.0)\n",
    "# window = w[:, idx]\n",
    "\n",
    "# # color_arr = get_alpha_by_value(window)\n",
    "# # map from gray at 0 to green at max\n",
    "# N = 256\n",
    "# cmap = LinearSegmentedColormap.from_list('', [to_rgba(\"C6\"), to_rgba(\"C8\")], N)\n",
    "# colors = cmap(window)\n",
    "\n",
    "# fig, ax = plt.subplots(figsize=(8, 5))\n",
    "# ax2 = ax.twinx()\n",
    "\n",
    "# # lon, lat = gps.station_lonlat(\"TXKM\")\n",
    "# ax2.scatter(igm.sar_date_list, ts_noisy.data, label=\"insar\", marker='.', lw=1, color=colors, s=100)\n",
    "# ax2.plot(igm.sar_date_list[idx-10:idx+10], yest, lw=5, color='gray')\n",
    "# ax2.plot(igm.sar_date_list[idx-10:idx+10], yest_2, lw=6)\n",
    "\n",
    "# ax.plot(igm.sar_date_list, window, lw=3)\n",
    "\n",
    "# ax.legend(loc='upper left')\n",
    "# # ax2.legend()\n",
    "# ax.set_title(\"Second iteration fit\")\n",
    "# ax2.set_title(\"\")\n",
    "# ax2.set_ylabel(\"InSAR [cm]\")\n",
    "\n",
    "# # ax2.set_ylim((-7, 7))\n",
    "# ax.set_ylabel(\"$\\mathbf{w}(t_i)$\")"
   ]
  },
  {
   "cell_type": "code",
   "execution_count": null,
   "id": "bc1e5d5f-f750-4a5a-a028-1d086f1150e8",
   "metadata": {},
   "outputs": [],
   "source": [
    "y = ts_noisy.data\n",
    "y_iter1 = lowess.lowess_pixel(y, x, frac=1 / 3, n_iter=1)\n",
    "y_iter2 = lowess.lowess_pixel(y, x, frac=1 / 3, n_iter=2)\n",
    "\n",
    "y_iter2_zeroed = y_iter2 - y_iter2[0]\n",
    "ts_arr = [ts_truth, ts_noisy, y_iter2_zeroed]\n",
    "# labels = ['Noisy', 'Truth']\n",
    "labels = [\"$\\mathbf{d}$\", \"$\\mathbf{\\phi}$\", \"$\\mathbf{\\hat{\\phi}}$\"]\n",
    "colors = [\"C1\", \"C0\", \"C2\"]\n",
    "# [[1, 2], [3, 3]],\n",
    "fig, axes = pplt.subplots(abc=\"(a)\", figsize=(5, 3))\n",
    "\n",
    "ax = axes[0]\n",
    "dts = ts_noisy.date.values\n",
    "# for tt, label, color in zip(ts_arr, labels, colors):\n",
    "ax.plot(dts, ts_truth, lw=4, label=labels[0], color=colors[0])\n",
    "ax.plot(dts, ts_noisy, lw=2, label=labels[1], marker=\".\", color=colors[1])\n",
    "ax.plot(dts, y_iter2_zeroed, lw=4, label=labels[2], color=colors[2])\n",
    "\n",
    "ax.set_ylabel(\"[cm]\")\n",
    "ax.legend(loc=\"ur\")"
   ]
  },
  {
   "cell_type": "markdown",
   "id": "ab3cd2d9-6584-4af4-ba54-100bcec7ce0f",
   "metadata": {},
   "source": [
    "## Plot fits from first 2 iterations"
   ]
  },
  {
   "cell_type": "code",
   "execution_count": null,
   "id": "a81e0d0a-0df1-4c3e-adde-4ac384d15571",
   "metadata": {},
   "outputs": [],
   "source": [
    "y = ts_noisy.data\n",
    "y_iter1 = lowess.lowess_pixel(y, x, frac=1 / 3, n_iter=1)\n",
    "y_iter2 = lowess.lowess_pixel(y, x, frac=1 / 3, n_iter=2)\n",
    "\n",
    "\n",
    "fig, axes = pplt.subplots(refwidth=3.5, refheight=1.5, nrows=1, abc=\"(a)\")\n",
    "\n",
    "\n",
    "ax = axes[0]\n",
    "\n",
    "fit_color = \"C1\"\n",
    "ax.scatter(\n",
    "    igm.sar_date_list, ts_noisy.data, marker=\".\", lw=1, color=\"gray\", s=100\n",
    ")  # , label=r\"$\\phi$\")\n",
    "ax.plot(igm.sar_date_list, y_iter1, lw=4, color=fit_color, label=\"1 iters\")\n",
    "ax.plot(igm.sar_date_list, y_iter2, lw=3, color=fit_color2, label=\"2 iters\")\n",
    "\n",
    "\n",
    "ax.set_title(\"\")\n",
    "ax.set_ylabel(\"$\\phi$ [cm]\")\n",
    "ax.legend(loc=\"lower left\")"
   ]
  },
  {
   "cell_type": "markdown",
   "id": "eb4d281e-04d7-4165-b44d-0342486d756b",
   "metadata": {},
   "source": [
    "## Changes for each iteration"
   ]
  },
  {
   "cell_type": "code",
   "execution_count": null,
   "id": "7d1bf822-d08f-40b9-b55e-8a53592417e7",
   "metadata": {},
   "outputs": [],
   "source": [
    "plt.figure()\n",
    "yy = lowess.lowess_pixel(y, x, frac=1 / 3, n_iter=1)\n",
    "for nn in range(2, 5):\n",
    "    yprev = yy\n",
    "    yy = lowess.lowess_pixel(y, x, frac=1 / 3, n_iter=nn)\n",
    "    plt.plot(yy - yprev, label=f\"{nn} - {nn - 1}\")\n",
    "plt.legend()"
   ]
  },
  {
   "cell_type": "markdown",
   "id": "856b1f9a-556f-4bdd-9b54-20c563ef6cd3",
   "metadata": {},
   "source": [
    "## Compare Triangle to LOWESS"
   ]
  },
  {
   "cell_type": "markdown",
   "id": "781f027c-3f8c-44d3-bd80-f0aad861745c",
   "metadata": {},
   "source": [
    "### Do the whole image"
   ]
  },
  {
   "cell_type": "code",
   "execution_count": null,
   "id": "447b8f35-f173-45de-9980-fcbe994dfee9",
   "metadata": {},
   "outputs": [],
   "source": [
    "import shutil"
   ]
  },
  {
   "cell_type": "code",
   "execution_count": null,
   "id": "b2aaf0b9-b4f7-440c-a0b7-8bf55caf4945",
   "metadata": {},
   "outputs": [],
   "source": [
    "%%time\n",
    "frac = 0.4\n",
    "x2 = lowess.date2num(dn_xr.date.values)\n",
    "# dn_xr_lowess = lowess.lowess_xr(dn_xr, frac=1/3) #, min_days_weighted=365.0)\n",
    "\n",
    "fname = \"dn_xr_lowess.zarr\"\n",
    "overwrite = True\n",
    "dn_xr_lowess = None\n",
    "if os.path.exists(fname):\n",
    "    if not overwrite:\n",
    "        dn_xr_lowess = xr.open_zarr(fname)\n",
    "    else:\n",
    "        shutil.rmtree(fname)\n",
    "        # os.remove(fname)\n",
    "\n",
    "if dn_xr_lowess is None:\n",
    "    dn_lowess = lowess.lowess_stack(\n",
    "        # dn_xr.data, x2, frac=1 / 3\n",
    "        dn_xr_noisy.data,\n",
    "        x2,\n",
    "        frac=frac,\n",
    "    )  # , min_days_weighted=365.0)\n",
    "    dn_lowess = dn_lowess - dn_lowess[0][None, :, :]\n",
    "    dn_xr_lowess = dn_xr.copy()\n",
    "    dn_xr_lowess.data = dn_lowess\n",
    "\n",
    "    dn_xr_lowess.to_dataset().to_zarr(fname)"
   ]
  },
  {
   "cell_type": "code",
   "execution_count": null,
   "id": "a8ad4d62-2064-4bc6-ab4d-dea089db10a4",
   "metadata": {},
   "outputs": [],
   "source": [
    "dn_xr_lowess.shape"
   ]
  },
  {
   "cell_type": "code",
   "execution_count": null,
   "id": "e1d7946b-df4d-4cca-90fa-fec7fcc03630",
   "metadata": {},
   "outputs": [],
   "source": [
    "# dn_xr_lowess[:, nx//2, ny//2].plot()\n",
    "# fig, axes = dn_xr_lowess[len(x)//2].plot.imshow()"
   ]
  },
  {
   "cell_type": "code",
   "execution_count": null,
   "id": "089b0f77-dd41-4d28-96b5-b36cce7f388b",
   "metadata": {},
   "outputs": [],
   "source": [
    "from scipy import ndimage\n",
    "\n",
    "mode = \"reflect\"\n",
    "tri_win = signal.windows.triang(int(frac * len(x2)))\n",
    "\n",
    "dn_tri = ndimage.convolve1d(dn_xr_noisy.data, tri_win, axis=0, mode=mode) / sum(tri_win)\n",
    "dn_tri = dn_tri - dn_tri[0][None, :, :]\n",
    "dn_xr_tri = dn_xr.copy()\n",
    "dn_xr_tri.data = dn_tri\n",
    "# dn_xr_tri"
   ]
  },
  {
   "cell_type": "code",
   "execution_count": null,
   "id": "5be35371-2e7a-45dd-b668-0e147b67bb09",
   "metadata": {},
   "outputs": [],
   "source": [
    "fig, ax = pplt.subplots()\n",
    "\n",
    "dn_xr_lowess[:, nx // 2, ny // 2].plot(ax=ax, label=\"lowess\")\n",
    "dn_xr_tri[:, nx // 2, ny // 2].plot(ax=ax, label=\"tri\")\n",
    "ax.legend()"
   ]
  },
  {
   "cell_type": "code",
   "execution_count": null,
   "id": "34f464be-fb3d-4098-a329-5fa38be4be25",
   "metadata": {},
   "outputs": [],
   "source": [
    "iidx = len(x) // 2\n",
    "iidx = 62\n",
    "\n",
    "zoom = (slice(120, 180), slice(120, 180))\n",
    "# zoom = (slice(None), slice(None))\n",
    "\n",
    "plotting.plot_img_diff(\n",
    "    arrays=(\n",
    "        dn_xr_tri[iidx][zoom],\n",
    "        dn_xr_lowess[iidx][zoom],\n",
    "        dd_xr[iidx][zoom],\n",
    "    ),\n",
    "    show_diff=False,\n",
    "    titles=[\"Triangle\", \"LOWESS\", \"Truth (no noise)\"],\n",
    "    vm=3,\n",
    "    cbar_label=\"[cm]\",\n",
    "    # cmap=\"RdBu_r\",\n",
    "    cmap=\"seismic_wide_y\",\n",
    "    axis_off=True,\n",
    ")"
   ]
  },
  {
   "cell_type": "code",
   "execution_count": null,
   "id": "2341574f-35e5-4843-9305-9e5ab791e7b3",
   "metadata": {},
   "outputs": [],
   "source": [
    "iidx = len(x) // 2\n",
    "iidx = 62\n",
    "\n",
    "zoom = (slice(120, 180), slice(120, 180))\n",
    "# zoom = (slice(None), slice(None))\n",
    "\n",
    "plotting.plot_img_diff(\n",
    "    arrays=(\n",
    "        dn_xr_tri[iidx][zoom],\n",
    "        dn_xr_lowess[iidx][zoom],\n",
    "        dd_xr[iidx][zoom],\n",
    "    ),\n",
    "    show_diff=False,\n",
    "    titles=[\"Triangle\", \"LOWESS\", \"Truth (no noise)\"],\n",
    "    vm=3,\n",
    "    cbar_label=\"[cm]\",\n",
    "    # cmap=\"RdBu_r\",\n",
    "    cmap=\"seismic_wide_y_r\",\n",
    "    axis_off=True,\n",
    ")"
   ]
  },
  {
   "cell_type": "code",
   "execution_count": null,
   "id": "d90b580d-f2cb-43ca-83eb-3d73590c24ee",
   "metadata": {},
   "outputs": [],
   "source": [
    "def rms(x):\n",
    "    return np.sqrt((x ** 2).mean())"
   ]
  },
  {
   "cell_type": "code",
   "execution_count": null,
   "id": "0174d5df-64ab-4576-b04a-3e1a2abfb382",
   "metadata": {},
   "outputs": [],
   "source": [
    "tri_error = dn_xr_tri[iidx] - dd_xr[iidx]\n",
    "lowess_error = dn_xr_lowess[iidx] - dd_xr[iidx]\n",
    "\n",
    "# rms(dn_xr_tri[iidx] - dd_xr[iidx]), rms(dn_xr_lowess[iidx] - dd_xr[iidx]),\n",
    "np.abs(tri_error).max(), np.abs(lowess_error).max(),"
   ]
  },
  {
   "cell_type": "code",
   "execution_count": null,
   "id": "769aee3e-50c2-4af2-9b53-fc574216b60e",
   "metadata": {},
   "outputs": [],
   "source": [
    "fig, axes = pplt.subplots(ncols=1)\n",
    "ax = axes\n",
    "ax.hist(tri_error.data.ravel(), bins=50, label=\"tri\")\n",
    "\n",
    "ax.hist(lowess_error.data.ravel(), bins=50, label=\"lowess\", alpha=0.6)\n",
    "ax.legend()\n",
    "ax.set_xlim((-1.5, 1.5))"
   ]
  },
  {
   "cell_type": "code",
   "execution_count": null,
   "id": "d3cf87cb-33d7-4c41-b105-b78521af9789",
   "metadata": {},
   "outputs": [],
   "source": [
    "iidx = len(x) // 2\n",
    "iidx = 62\n",
    "plotting.plot_img_diff(\n",
    "    arrays=(tri_error, lowess_error),\n",
    "    # show_diff=False,\n",
    "    titles=[\"Triangle error\", \"LOWESS error\"],\n",
    "    vm=3,\n",
    ")"
   ]
  },
  {
   "cell_type": "code",
   "execution_count": null,
   "id": "42961a1a-57e1-40e8-b71b-d4cbcec65f8f",
   "metadata": {},
   "outputs": [],
   "source": [
    "# # signal.windows.gaussian\n",
    "# tri_win = signal.windows.triang(int(1 / 3 * len(x)))\n",
    "# ts_tri = signal.convolve(ts_noisy, tri_win, mode=\"same\") / sum(tri_win)\n",
    "# ts_tri -= ts_tri[0]\n",
    "\n",
    "\n",
    "# fig, ax = plt.subplots()\n",
    "\n",
    "# ax.plot(ts_noisy.date, ts_tri, lw=4, label=\"\", marker=\".\")\n",
    "\n",
    "\n",
    "# ax.set_title(\"Triangle-window smoothing\")\n",
    "# ax.grid()\n",
    "# ax.legend()"
   ]
  },
  {
   "cell_type": "markdown",
   "id": "56e6e9dc-a9e4-41e5-8abb-dc5e37cc97bb",
   "metadata": {},
   "source": [
    "### attempt the mean thing for removing day1"
   ]
  },
  {
   "cell_type": "code",
   "execution_count": null,
   "id": "0632b1c5-0566-4fee-aedd-d5f5b5b04b78",
   "metadata": {},
   "outputs": [],
   "source": [
    "diffs = dn_xr.data - dn_xr.data[0][None, :, :]\n",
    "diffs.shape\n",
    "fig, axes = pplt.subplots(ncols=3)\n",
    "\n",
    "day1noise_est = -1 * diffs.mean(axis=0)\n",
    "axes.format(title=[\"Est\", \"Truth\", \"Left - middle\"])\n",
    "\n",
    "ax = axes[0]\n",
    "axim = ax.imshow(day1noise_est)\n",
    "ax.colorbar(axim, loc=\"r\")\n",
    "\n",
    "ax = axes[1]\n",
    "axim = ax.imshow(day1noise)\n",
    "ax.colorbar(axim, loc=\"r\")\n",
    "\n",
    "\n",
    "ax = axes[2]\n",
    "axim = ax.imshow(day1noise_est - day1noise)\n",
    "ax.colorbar(axim, loc=\"r\")\n",
    "\n",
    "s = (150, 150)\n",
    "print(day1noise_est[s], day1noise[s])"
   ]
  },
  {
   "cell_type": "markdown",
   "id": "7d4e86ea-445a-47d3-bf1d-d26c410d0ae4",
   "metadata": {},
   "source": [
    "### Plot"
   ]
  },
  {
   "cell_type": "code",
   "execution_count": null,
   "id": "a7da1023-6725-491c-8044-db2a7cc9110a",
   "metadata": {},
   "outputs": [],
   "source": [
    "for f in [1 / 6, 1 / 4, 1 / 3, 0.4]:\n",
    "    print(lowess.lowess_pixel(y, x, frac=f, n_iter=2)[0])"
   ]
  },
  {
   "cell_type": "code",
   "execution_count": null,
   "id": "d46d60f8-6095-41bc-807a-9e2c45945711",
   "metadata": {},
   "outputs": [],
   "source": [
    "plt.plot(ts_truth - ts_tri)\n",
    "plt.plot(y_iter2_zeroed - ts_tri)\n",
    "plt.grid()"
   ]
  },
  {
   "cell_type": "code",
   "execution_count": null,
   "id": "7e4121fa-c126-449f-a6ae-7cdf23690680",
   "metadata": {},
   "outputs": [],
   "source": [
    "# fig, axes = pplt.subplots(figsize=(3, 5))\n",
    "fig, axes = pplt.subplots(\n",
    "    nrows=2, ncols=2, sharex=False, sharey=False, share=False, abc=\"(a)\"\n",
    ")\n",
    "\n",
    "\n",
    "y = ts_noisy.data\n",
    "# frac = 1/3\n",
    "frac = 0.4\n",
    "# y_iter1 = lowess.lowess_pixel(y, x, frac=frac, n_iter=1)\n",
    "y_iter2 = lowess.lowess_pixel(y, x, frac=frac, n_iter=2)\n",
    "y_iter2_zeroed = y_iter2 - y_iter2[0]\n",
    "\n",
    "tri_win = signal.windows.triang(int(frac * len(x)))\n",
    "# Add the estimate of the day1 noise\n",
    "ts_noisy_remove_est = ts_noisy.copy() + day1noise_est[s]\n",
    "ts_noisy_remove_est[0] = 0\n",
    "\n",
    "# To skip the \"remove the average ifg phase\"\n",
    "# ts_noisy_remove_est = ts_noisy.copy()\n",
    "\n",
    "ts_tri = signal.convolve(ts_noisy_remove_est, tri_win, mode=\"same\") / sum(tri_win)\n",
    "ts_tri_zeroed = ts_tri - ts_tri[0]\n",
    "\n",
    "\n",
    "ts_arr = [ts_truth, ts_noisy, y_iter2_zeroed, ts_tri]\n",
    "# labels = ['Noisy', 'Truth']\n",
    "labels = [\"$\\mathbf{d}$\", \"$\\mathbf{\\phi}$\", \"$\\mathbf{\\hat{\\phi}}$\", \"Triangle\"]\n",
    "colors = [\"C1\", \"C0\", \"C2\", \"C3\"]\n",
    "\n",
    "########## linneplots\n",
    "\n",
    "ax = axes[0]\n",
    "dts = ts_noisy.date.values\n",
    "# for tt, label, color in zip(ts_arr, labels, colors):\n",
    "ax.plot(dts, ts_truth, lw=3, label=labels[0], color=colors[0])\n",
    "ax.plot(dts, ts_noisy, lw=1.5, label=labels[1], marker=\".\", color=colors[1])\n",
    "ax.plot(dts, y_iter2_zeroed, lw=3, label=labels[2], color=colors[2])\n",
    "ax.plot(dts, ts_tri_zeroed, lw=3, label=labels[3], color=colors[3])\n",
    "# ax.plot(dts, ts_tri, lw=3)\n",
    "\n",
    "ax.set_ylabel(\"[cm]\")\n",
    "ax.legend(loc=\"ur\", ncols=2)\n",
    "\n",
    "# ylim = ax.get_ylim() # Keep the same limits, but make a vert line for whole span\n",
    "# ax.vlines(img_date, ylim[0], ylim[1], linestyle='--', color='gray', alpha=.5)\n",
    "# ax.set_ylim(ylim)\n",
    "\n",
    "#############################\n",
    "# iidx = len(x) // 2\n",
    "iidx = 53\n",
    "cmap_img = \"seismic_wide_y\"  # red blob\n",
    "# cmap_img = \"seismic_wide_y_r\" # blue blob\n",
    "\n",
    "\n",
    "zoom = (slice(120, 180), slice(120, 180))\n",
    "# zoom = (slice(None), slice(None))\n",
    "\n",
    "plotting.plot_img_diff(\n",
    "    arrays=(\n",
    "        dd_xr[iidx][zoom],\n",
    "        dn_xr_lowess[iidx][zoom],\n",
    "        dn_xr_tri[iidx][zoom],\n",
    "    ),\n",
    "    show_diff=False,\n",
    "    titles=[\"$\\mathbf{d}$\", \"LOWESS\", \"Triangle\"],\n",
    "    vm=3,\n",
    "    cbar_label=\"[cm]\",\n",
    "    # cmap=\"RdBu_r\",\n",
    "    cmap=cmap_img,\n",
    "    axis_off=True,\n",
    "    axes=axes[1:],\n",
    ")"
   ]
  },
  {
   "cell_type": "code",
   "execution_count": null,
   "id": "70dd8fa7-cc93-4b2a-b598-3f2b891900c3",
   "metadata": {},
   "outputs": [],
   "source": [
    "fig.savefig(\"../figures/chapter5-lowess/figure4-compare-tri.pdf\")"
   ]
  },
  {
   "cell_type": "markdown",
   "id": "ee8d57e8-68ee-4eac-a1b1-4b134b278238",
   "metadata": {},
   "source": [
    "## *Figure 5.4"
   ]
  },
  {
   "cell_type": "code",
   "execution_count": null,
   "id": "0361e3a3-ce3b-4d85-b912-c81cd87ee75b",
   "metadata": {},
   "outputs": [],
   "source": [
    "fig, ax = pplt.subplots(1, 1, figsize=(5, 3), sharey=True, sharex=True)\n",
    "y = ts_noisy.data\n",
    "\n",
    "frac = 0.4\n",
    "y_iter2 = lowess.lowess_pixel(y, x, frac=frac, n_iter=2)\n",
    "y_iter2_zeroed = y_iter2 - y_iter2[0]\n",
    "\n",
    "tri_win = signal.windows.triang(int(frac * len(x)))\n",
    "ts_tri = signal.convolve(y, tri_win, mode=\"same\") / sum(tri_win)\n",
    "ts_tri_zeroed = ts_tri - ts_tri[0]\n",
    "\n",
    "\n",
    "ts_arr = [ts_noisy, ts_truth, y_iter2_zeroed, ts_tri]\n",
    "labels = [\"Noisy\", \"Truth\", \"LOWESS\", \"Triangle\"]\n",
    "colors = [\"gray\", \"C1\", \"C2\", \"C3\"]\n",
    "\n",
    "\n",
    "lw2 = 2.2\n",
    "# for tt, label in zip(ts_arr, labels):\n",
    "# ax.plot(ts_noisy.date, tt, lw=4, label=label, marker=\".\")\n",
    "\n",
    "dts = ts_noisy.date.values\n",
    "# for tt, label, color in zip(ts_arr, labels, colors):\n",
    "ax.plot(dts, ts_noisy, lw=1.5, marker=\".\", label=labels[0], color=colors[0])\n",
    "ax.plot(dts, ts_truth, lw=lw2, label=labels[1], color=colors[1])\n",
    "ax.plot(dts, y_iter2_zeroed, lw=lw2, label=labels[2], color=colors[2])\n",
    "ax.plot(dts, ts_tri_zeroed, lw=lw2, label=labels[3], color=colors[3])\n",
    "\n",
    "title = \"\"\n",
    "# title = \"Triangle vs. LOWESS with outliers\"\n",
    "ax.format(title=title, grid=True, ylabel=\"[cm]\")\n",
    "\n",
    "# ax.set_ylim((-2.5, 4))\n",
    "\n",
    "ax.legend(loc=\"lower left\", ncols=2)"
   ]
  },
  {
   "cell_type": "code",
   "execution_count": null,
   "id": "9408d6bf-22b0-492d-9704-4c407deb92f0",
   "metadata": {},
   "outputs": [],
   "source": [
    "fig.savefig(\"../figures/chapter5-lowess/figure4-compare-tri-ts-only.pdf\")"
   ]
  },
  {
   "cell_type": "code",
   "execution_count": null,
   "id": "f14bcf98-0c39-4ec5-a7f8-40772367634b",
   "metadata": {},
   "outputs": [],
   "source": [
    "# # y = ts_noisy_spiked.values\n",
    "# # y -= y[0]\n",
    "\n",
    "# # ts_tri_spike = signal.convolve(y, tri_50, mode='same') / sum(tri_50)\n",
    "# # ts_spike = lowess.lowess_pixel(y, x, frac=0.5)\n",
    "# ts_tri_spike = signal.convolve(y, tri_40, mode=\"same\") / sum(tri_40)\n",
    "# ts_spike = lowess.lowess_pixel(y, x, frac=0.4)\n",
    "# # ts_tri_spike = signal.convolve(y, tri_30, mode='same') / sum(tri_30)\n",
    "# # ts_spike = lowess.lowess_pixel(y, x, frac=0.3)\n",
    "\n",
    "# ts_tri_spike -= ts_tri_spike[0]\n",
    "# ts_spike -= ts_spike[0]\n",
    "\n",
    "\n",
    "# ts_arr = [ts_noisy_spiked, ts_truth, ts_tri_spike, ts_spike]\n",
    "# labels = [\"Noisy\", \"Truth\", \"Triangle\", \"LOWESS\"]\n",
    "\n",
    "\n",
    "# fig, ax = plt.subplots(1, 1, figsize=(8, 4), sharey=True, sharex=True)\n",
    "\n",
    "\n",
    "# for tt, label in zip(ts_arr, labels):\n",
    "#     ax.plot(ts_noisy.date, tt, lw=4, label=label, marker=\".\")\n",
    "\n",
    "\n",
    "# ax.set_title(\"Triangle vs. LOWESS with outliers\")\n",
    "# ax.set_ylim((-2.5, 4))\n",
    "# ax.grid()\n",
    "# ax.legend(loc=\"lower right\")"
   ]
  },
  {
   "cell_type": "code",
   "execution_count": null,
   "id": "8da6329b-2f44-4a9e-9f1a-31960f517a8b",
   "metadata": {},
   "outputs": [],
   "source": []
  },
  {
   "cell_type": "markdown",
   "id": "41d98988-7727-4e0b-b593-062bf763507d",
   "metadata": {},
   "source": [
    "# Permian Basin"
   ]
  },
  {
   "cell_type": "markdown",
   "id": "1710c74d-ed77-45a1-9c1b-75ce44bcbda4",
   "metadata": {},
   "source": [
    "## Load data"
   ]
  },
  {
   "cell_type": "code",
   "execution_count": null,
   "id": "14728745-02de-4869-aa1f-c27c389d3b21",
   "metadata": {},
   "outputs": [],
   "source": [
    "datapath = \"/Users/scott/Documents/Learning/masters-thesis/7year_merged_solutions_looked_18_bw15_2year_noref_all_el1/\"\n",
    "\n",
    "gis_dir = \"/Users/scott/Documents/Learning/masters-thesis/fracking-qgis-data/\"\n",
    "\n",
    "data78 = Path(datapath + \"los_path78\")\n",
    "data85 = Path(datapath + \"los_path85\")\n",
    "data151 = Path(datapath + \"los_path151\")\n",
    "\n",
    "data_merged = Path(datapath + \"merged_cumulative_east_up\")\n",
    "data_clipped = Path(datapath + \"clipped_cumulative_up\")\n",
    "data_clipped_diffs = Path(datapath + \"clipped_diffs_up\")\n",
    "\n",
    "permian_clip_shape = gpd.read_file(datapath + \"clip_shape_outline.geojson\")\n",
    "# permian_clip_shape.plot()\n",
    "list(data78.glob(\"cumulative_los*\"))[:2]"
   ]
  },
  {
   "cell_type": "code",
   "execution_count": null,
   "id": "985f03f2-33c9-4b82-b243-93e2fa97de45",
   "metadata": {},
   "outputs": [],
   "source": [
    "# ds_78 = xr.open_dataset(datapath + \"los_path78\")\n",
    "ds_78 = sario.load_xr_tifs(data78.glob(\"cumulative_los*.tif\"))\n",
    "ds_85 = sario.load_xr_tifs(data85.glob(\"cumulative_los*.tif\"))\n",
    "ds_151 = sario.load_xr_tifs(data151.glob(\"cumulative_los*.tif\"))\n",
    "\n",
    "ds_up = sario.load_xr_tifs(data_merged.glob(\"*vertical*.tif\"))\n",
    "ds_east = sario.load_xr_tifs(data_merged.glob(\"*east*.tif\"))\n",
    "\n",
    "ds_clipped = sario.load_xr_tifs(data_clipped.glob(\"cumulative_vertical*.tif\"))\n",
    "ds_clipped_1year = sario.load_xr_tifs((data_clipped_diffs / \"1year\").glob(\"*.tif\"))\n",
    "ds_clipped_2year = sario.load_xr_tifs((data_clipped_diffs / \"2year\").glob(\"*.tif\"))\n",
    "\n",
    "# change to end years\n",
    "ds_clipped_1year[\"date\"] = ds_clipped_1year.indexes[\"date\"] + pd.DateOffset(years=1)\n",
    "ds_clipped_2year[\"date\"] = ds_clipped_2year.indexes[\"date\"] + pd.DateOffset(years=2)\n",
    "\n",
    "permian_clip_shape = permian_clip_shape.to_crs(ds_up.rio.crs)"
   ]
  },
  {
   "cell_type": "code",
   "execution_count": null,
   "id": "c798af72-d32f-4b3b-b653-93fe37584a42",
   "metadata": {},
   "outputs": [],
   "source": [
    "permian_shape_path = (\n",
    "    gis_dir + \"repermianbasinshapefile/delaware_midland_central_basin.geojson\"\n",
    ")\n",
    "gdf_permian = gpd.read_file(permian_shape_path).to_crs(\"EPSG:4326\")\n",
    "# fig, ax = pplt.subplots(projection='pcarree')\n",
    "gdf_permian.plot(facecolor=(1, 1, 1, 0), edgecolor=\"purple\", lw=2, alpha=0.3)"
   ]
  },
  {
   "cell_type": "code",
   "execution_count": null,
   "id": "82619721-989f-4b2c-9061-7dbd48d90e9d",
   "metadata": {},
   "outputs": [],
   "source": [
    "ds_78"
   ]
  },
  {
   "cell_type": "code",
   "execution_count": null,
   "id": "d9502200-bc69-4e2f-be52-c1bc16f67637",
   "metadata": {},
   "outputs": [],
   "source": [
    "pplt.rc[\"font.size\"] = 12"
   ]
  },
  {
   "cell_type": "code",
   "execution_count": null,
   "id": "5b052d2b-bfcc-4290-927f-b0a5538108fd",
   "metadata": {},
   "outputs": [],
   "source": [
    "def plot_defo_image(\n",
    "    ds,\n",
    "    idx=-1,\n",
    "    date=None,\n",
    "    ax=None,\n",
    "    vm=7,\n",
    "    cmap=\"seismic_wide_y_r\",\n",
    "    lonticks=[-104, -103, -102],\n",
    "    latticks=[31, 32],\n",
    "    cbar_label=\"LOS [cm]\",\n",
    "    add_colorbar=True,\n",
    "    bbox=None,\n",
    "    pad_pct=0.1,\n",
    "    plot_basin_shape=True,\n",
    "    add_scale_bar=True,\n",
    "    scale_bar_km=50,\n",
    "    scale_loc=(0.8, 0.88),\n",
    "    add_zebra=True,\n",
    "    zebra_lw=3,\n",
    "):\n",
    "    # ds, idx = ds_78, -1\n",
    "    if date is not None:\n",
    "        img = ds.sel(date=date)\n",
    "    else:\n",
    "        img = ds[idx]\n",
    "    crs = ccrs.PlateCarree()\n",
    "    # crs = \"pcarree\"\n",
    "\n",
    "    if ax is None:\n",
    "        # fig, ax = pplt.subplots(proj=crs, figsize=(4, 4))#, sharex=True, sharey=True)\n",
    "        fig = pplt.figure(\n",
    "            refwidth=3,\n",
    "            sharex=False,\n",
    "            sharey=False,\n",
    "        )\n",
    "        ax = fig.subplot(\n",
    "            abc=\"(a)\",\n",
    "            projection=\"pcarree\",\n",
    "            labels=False,\n",
    "            dms=False,\n",
    "        )\n",
    "    else:\n",
    "        fig = ax.figure\n",
    "\n",
    "    if bbox is None:\n",
    "        bbox = ds.rio.bounds()\n",
    "    print(f\"{bbox = }\")\n",
    "    # _, axim = plotting.map_img(\n",
    "    #     img, bbox=bbox, pad_pct=0.0, ax=ax, vmax=vm, vmin=-vm, cmap=cmap\n",
    "    # )\n",
    "    _, ax = plotting.map_background(\n",
    "        image=img,\n",
    "        bbox=bbox,\n",
    "        pad_pct=pad_pct,\n",
    "        ax=ax,\n",
    "        vmax=vm,\n",
    "        vmin=-vm,\n",
    "        cmap=cmap,\n",
    "        interpolation=\"nearest\",\n",
    "    )\n",
    "    axim = ax.get_images()[0]\n",
    "    # axim = ax.imshow(np.random.rand(50, 50))\n",
    "    if add_colorbar:\n",
    "        ax.colorbar(axim, loc=\"r\", label=cbar_label)\n",
    "\n",
    "    if plot_basin_shape:\n",
    "        gdf_permian.plot(\n",
    "            alpha=0.3, facecolor=\"none\", edgecolor=\"purple\", lw=2, ax=ax, zorder=3\n",
    "        )\n",
    "\n",
    "    # ax.add_feature(shape_feature, zorder = 1)\n",
    "    # perm = ax.add_feature(gdf['geometry'], crs=crs, alpha=.7, edgecolor=\"purple\", lw=2, zorder=3)\n",
    "    # perm.set_facecolor((1, 1, 0.5, 0.0))\n",
    "\n",
    "    left, right, bot, top = plotting.padded_extent(bbox, pad_pct)\n",
    "    ax.format(\n",
    "        lonlim=(left, right),\n",
    "        latlim=(bot, top),\n",
    "        labels=False,\n",
    "        dms=False,\n",
    "        lonlines=1,\n",
    "        latlines=1,\n",
    "    )\n",
    "    ax.set_xticks(lonticks)\n",
    "    ax.set_yticks(latticks)\n",
    "    lw = 4\n",
    "    ax.tick_params(axis=\"both\", which=\"major\", pad=lw)\n",
    "\n",
    "    if add_zebra:\n",
    "        plotting.add_zebra_frame(ax, lw=zebra_lw, zorder=3)\n",
    "\n",
    "    if add_scale_bar:\n",
    "        plotting.scale_bar(\n",
    "            ax, ax.projection, scale_bar_km, location=scale_loc, zorder=4\n",
    "        )\n",
    "    return fig, ax"
   ]
  },
  {
   "cell_type": "code",
   "execution_count": null,
   "id": "94a8b833-14e5-403a-a77d-4b1e6e6560c3",
   "metadata": {},
   "outputs": [],
   "source": [
    "fig, ax = plot_defo_image(ds_78, idx=-1)"
   ]
  },
  {
   "cell_type": "code",
   "execution_count": null,
   "id": "47ba2bdc-3bc7-41e4-976d-db7e60351329",
   "metadata": {},
   "outputs": [],
   "source": [
    "fig, ax = plot_defo_image(ds_78, idx=-1, lonticks=[-104, -103, -102, -101])"
   ]
  },
  {
   "cell_type": "code",
   "execution_count": null,
   "id": "7cd54e4c-e4d9-4788-81c5-f3702b882f36",
   "metadata": {},
   "outputs": [],
   "source": [
    "fig.savefig(\"~/test300.pdf\", dpi=300)\n",
    "# figures/chapter5-lowess/figure-results-los-path78.pdf"
   ]
  },
  {
   "cell_type": "code",
   "execution_count": null,
   "id": "20b56dc1-572c-4f8f-a4d6-96a8a53cd532",
   "metadata": {},
   "outputs": [],
   "source": [
    "ds_78 = sario.load_xr_tifs(data78.glob(\"cumulative_los*\"))\n",
    "ds_78"
   ]
  },
  {
   "cell_type": "code",
   "execution_count": null,
   "id": "83d019e5-7e4e-4866-9868-2d2e0130c5a0",
   "metadata": {},
   "outputs": [],
   "source": [
    "ymin = ds_78.rio.bounds()[1]\n",
    "ymax = ds_78.rio.bounds()[3]\n",
    "ds_85 = ds_85.sel(lat=slice(ymax, ymin)).rio.set_spatial_dims(\"lon\", \"lat\")\n",
    "ds_151 = ds_151.sel(lat=slice(ymax, ymin)).rio.set_spatial_dims(\"lon\", \"lat\")"
   ]
  },
  {
   "cell_type": "code",
   "execution_count": null,
   "id": "acea75a8-11b6-4560-99c5-78f66201b262",
   "metadata": {},
   "outputs": [],
   "source": [
    "ds_78.rio.bounds(), ds_85.rio.bounds(), ds_151.rio.bounds()"
   ]
  },
  {
   "cell_type": "markdown",
   "id": "765c8421-05ec-42f6-94fb-338e6a459523",
   "metadata": {},
   "source": [
    "## Plot 7 year cumulative for each path"
   ]
  },
  {
   "cell_type": "code",
   "execution_count": null,
   "id": "551fe77b-4329-43d3-b5f8-1b0f63fe5ad6",
   "metadata": {},
   "outputs": [],
   "source": [
    "fig = pplt.figure(refwidth=2.5, refheight=1.8, sharex=False, sharey=False)\n",
    "ax = fig.subplot(311, abc=\"(a)\", projection=\"pcarree\", labels=False, dms=False)\n",
    "plot_defo_image(ds_151, idx=-1, ax=ax, lonticks=[-105, -104, -103])\n",
    "\n",
    "ax = fig.subplot(312, abc=\"(a)\", projection=\"pcarree\", labels=False, dms=False)\n",
    "plot_defo_image(ds_85, idx=-1, ax=ax, lonticks=[-105, -104, -103])\n",
    "\n",
    "ax = fig.subplot(313, abc=\"(a)\", projection=\"pcarree\", labels=False, dms=False)\n",
    "plot_defo_image(ds_78, idx=-1, ax=ax, lonticks=[-104, -103, -102])"
   ]
  },
  {
   "cell_type": "code",
   "execution_count": null,
   "id": "840c07ed-9276-4645-b1da-0aa355bdb6f8",
   "metadata": {},
   "outputs": [],
   "source": [
    "fig.savefig(\"../figures/chapter5-lowess/figure-results-los.pdf\", dpi=300)"
   ]
  },
  {
   "cell_type": "code",
   "execution_count": null,
   "id": "93c524a5-79da-4692-a10c-8c46721e25af",
   "metadata": {},
   "outputs": [],
   "source": [
    "fig = pplt.figure(refwidth=2.3, refheight=1.8, sharex=False, sharey=False)\n",
    "ax = fig.subplot(211, abc=\"(a)\", projection=\"pcarree\", labels=False, dms=False)\n",
    "plot_defo_image(ds_151, idx=-1, ax=ax, lonticks=[-105, -104, -103])\n",
    "\n",
    "ax = fig.subplot(212, abc=\"(a)\", projection=\"pcarree\", labels=False, dms=False)\n",
    "plot_defo_image(ds_85, idx=-1, ax=ax, lonticks=[-105, -104, -103])"
   ]
  },
  {
   "cell_type": "code",
   "execution_count": null,
   "id": "4bdbf7bb-48e7-47a8-8961-5a5c76a836bb",
   "metadata": {},
   "outputs": [],
   "source": [
    "fig.savefig(\"../figures/chapter5-lowess/figure-results-los-paths-85-151.pdf\", dpi=300)"
   ]
  },
  {
   "cell_type": "markdown",
   "id": "cc873ff0-7ef0-4aa8-91f7-4fdbe116a724",
   "metadata": {},
   "source": [
    "## East up cumulative"
   ]
  },
  {
   "cell_type": "code",
   "execution_count": null,
   "id": "68d5299b-f394-49bb-b4bf-5c16f79a51d1",
   "metadata": {},
   "outputs": [],
   "source": [
    "cmap = \"seismic_wide_y\"\n",
    "# cmap = \"RdYlBlu_r\"\n",
    "\n",
    "fig = pplt.figure(refwidth=3, refheight=2.3, sharex=False, sharey=False)\n",
    "ax = fig.subplot(211, abc=\"(a)\", projection=\"pcarree\", labels=False, dms=False)\n",
    "plot_defo_image(\n",
    "    # ds_up.rio.clip(permian_clip_shape.geometry),\n",
    "    ds_up,\n",
    "    idx=-1,\n",
    "    ax=ax,\n",
    "    lonticks=[-105, -104, -103],\n",
    "    cmap=cmap,\n",
    "    cbar_label=\"[cm]\",\n",
    ")\n",
    "ax.set_title(\"Cumulative vertical\")\n",
    "\n",
    "ax = fig.subplot(212, abc=\"(a)\", projection=\"pcarree\", labels=False, dms=False)\n",
    "plot_defo_image(\n",
    "    ds_east, idx=-1, ax=ax, lonticks=[-105, -104, -103], cmap=cmap, cbar_label=\"[cm]\"\n",
    ")\n",
    "ax.set_title(\"Cumulative eastward\")"
   ]
  },
  {
   "cell_type": "code",
   "execution_count": null,
   "id": "bc6b6b7d-f107-4dba-b772-e4b0008d6c31",
   "metadata": {},
   "outputs": [],
   "source": [
    "fig.savefig(\"../figures/chapter5-lowess/figure-results-east-up.pdf\", dpi=300)"
   ]
  },
  {
   "cell_type": "code",
   "execution_count": null,
   "id": "448785c9-abbc-40bb-b1ec-50104a327d4c",
   "metadata": {},
   "outputs": [],
   "source": [
    "ds_up.rio.clip(permian_clip_shape.geometry).rio.crs"
   ]
  },
  {
   "cell_type": "code",
   "execution_count": null,
   "id": "83549b77-7130-42d5-8ee7-9aad1d0a955e",
   "metadata": {},
   "outputs": [],
   "source": [
    "2.3 / 3 * 2.5"
   ]
  },
  {
   "cell_type": "code",
   "execution_count": null,
   "id": "9792e11b-492e-49ac-b9d4-ddaaf2ca9ecc",
   "metadata": {},
   "outputs": [],
   "source": [
    "cmap = \"seismic_wide_y\"\n",
    "# cmap = \"RdYlBlu_r\"\n",
    "\n",
    "fig = pplt.figure(refwidth=2.5, refheight=1.9, sharex=False, sharey=False)\n",
    "ax = fig.subplot(211, abc=\"(a)\", projection=\"pcarree\", labels=False, dms=False)\n",
    "plot_defo_image(\n",
    "    ds_up.rio.clip(permian_clip_shape.geometry),\n",
    "    # ds_up,\n",
    "    idx=-1,\n",
    "    ax=ax,\n",
    "    lonticks=[-105, -104, -103],\n",
    "    bbox=plotting._get_rio_bbox(ds_up),\n",
    "    cmap=cmap,\n",
    "    cbar_label=\"[cm]\",\n",
    ")\n",
    "ax.set_title(\"Cumulative vertical\")\n",
    "\n",
    "ax = fig.subplot(212, abc=\"(a)\", projection=\"pcarree\", labels=False, dms=False)\n",
    "plot_defo_image(\n",
    "    # ds_east,\n",
    "    ds_east.rio.clip(permian_clip_shape.geometry),\n",
    "    idx=-1,\n",
    "    ax=ax,\n",
    "    lonticks=[-105, -104, -103],\n",
    "    bbox=plotting._get_rio_bbox(ds_up),\n",
    "    cmap=cmap,\n",
    "    cbar_label=\"[cm]\",\n",
    ")\n",
    "ax.set_title(\"Cumulative eastward\")"
   ]
  },
  {
   "cell_type": "code",
   "execution_count": null,
   "id": "72d5a501-91e5-4912-8a02-8ad319fd8e75",
   "metadata": {},
   "outputs": [],
   "source": [
    "fig.savefig(\"../figures/chapter5-lowess/figure-results-east-up-clipped.pdf\", dpi=300)"
   ]
  },
  {
   "cell_type": "code",
   "execution_count": null,
   "id": "df1f3931-6839-4bd3-8301-2e5a10bc2e0e",
   "metadata": {},
   "outputs": [],
   "source": [
    "(\n",
    "    plotting._get_rio_bbox(ds_up.rio.clip(permian_clip_shape.geometry)),\n",
    "    plotting._get_rio_bbox(ds_clipped),\n",
    "    plotting._get_rio_bbox(ds_up),\n",
    ")"
   ]
  },
  {
   "cell_type": "markdown",
   "id": "6f82d70a-748c-4f8e-9d9b-e49e7fd50599",
   "metadata": {},
   "source": [
    "## Time series of interesting pixels"
   ]
  },
  {
   "cell_type": "code",
   "execution_count": null,
   "id": "f9f66620-c07c-4a4a-9299-ba44095cef2e",
   "metadata": {},
   "outputs": [],
   "source": [
    "zarr_path = \"https://scott-insar.s3.us-west-004.backblazeb2.com/test-insar/defo_los_path{}.zarr/\"\n",
    "# ds78full = xr.open_zarr(zarr_path.format(78))\n",
    "# ds85full = xr.open_zarr(zarr_path.format(85))\n",
    "ds151full = xr.open_zarr(zarr_path.format(151))\n",
    "\n",
    "ds78full = xr.open_zarr(\"./defo_los_path78.zarr/\")\n",
    "ds85full = xr.open_zarr(\"./defo_los_path85.zarr/\")"
   ]
  },
  {
   "cell_type": "code",
   "execution_count": null,
   "id": "c7eea627-d76d-4dcb-8a02-62e41cc27a6c",
   "metadata": {},
   "outputs": [],
   "source": [
    "# ds151full.atmo_day1.plot.imshow(cmap='seismic_wide_y_r', vmax=3, vmin=-3)"
   ]
  },
  {
   "cell_type": "code",
   "execution_count": null,
   "id": "fe28569d-21ac-40b2-be4e-03e86cb2c7a0",
   "metadata": {},
   "outputs": [],
   "source": [
    "ds78full"
   ]
  },
  {
   "cell_type": "code",
   "execution_count": null,
   "id": "3bc84a76-e5f6-4db7-a529-36a455aba6bc",
   "metadata": {},
   "outputs": [],
   "source": [
    "len(ds78full.date), len(ds85full.date), len(ds151full.date)"
   ]
  },
  {
   "cell_type": "code",
   "execution_count": null,
   "id": "265434ff-94e1-42d0-983b-53efb8a6c908",
   "metadata": {},
   "outputs": [],
   "source": [
    "ds78full.indexes[\"date\"][[0, -1]], ds85full.indexes[\"date\"][[0, -1]], ds151full.indexes[\n",
    "    \"date\"\n",
    "][[0, -1]]"
   ]
  },
  {
   "cell_type": "code",
   "execution_count": null,
   "id": "d2f4abf3-753d-43d6-bb98-1292f4a9c91c",
   "metadata": {},
   "outputs": [],
   "source": [
    "lon, lat = -103.5686, 31.2804  # middle of batwing/pecos pumping\n",
    "\n",
    "# lon, lat = -103.5582, 32.0468 # deep mid-Delaware oil subsidence bowl\n",
    "# lon, lat = -103.5259, 31.4409 # near Hunjoo fault\n",
    "# lon, lat = -103.7400, 31.9215 # one of the injection uplifts\n",
    "lon, lat = -103.31335, 31.78026  # Kim/Lu injection\n",
    "\n",
    "ts78 = ds78full.sel(lon=lon, lat=lat, method=\"nearest\")\n",
    "ts85 = ds85full.sel(lon=lon, lat=lat, method=\"nearest\")\n",
    "\n",
    "titles = [\"Asc. (Path 78)\", \"Desc. (Path 85)\"]\n",
    "\n",
    "fig, axes = pplt.subplots(ncols=2, abc=\"(a)\", refwidth=3.5)\n",
    "\n",
    "for ax, ts, title in zip(axes, [ts78, ts85], titles):\n",
    "    ax.plot(ts.date, ts[\"defo_noisy\"], label=\"Noisy\")\n",
    "    ax.plot(ts.date, ts[\"defo_lowess_2year\"], label=\"LOWESS\")\n",
    "    ax.format(ylabel=\"LOS [cm]\", title=title, xlabel=\"\", grid=True)\n",
    "    ax.legend(ncols=1, loc=\"lower left\")"
   ]
  },
  {
   "cell_type": "code",
   "execution_count": null,
   "id": "5a033722-57bd-421f-85a8-f083d032ec2e",
   "metadata": {},
   "outputs": [],
   "source": [
    "lon, lat = -102.7712, 31.4970\n",
    "tsup = ds78full.sel(lon=lon, lat=lat, method=\"nearest\")"
   ]
  },
  {
   "cell_type": "code",
   "execution_count": null,
   "id": "f107851a-c993-49b8-a475-f9d3988e7f25",
   "metadata": {},
   "outputs": [],
   "source": [
    "fig, ax = pplt.subplots()\n",
    "\n",
    "tsup[\"defo_noisy\"].plot(ax=ax, label=\"Noisy\")\n",
    "tsup[\"defo_lowess_2year\"].plot(label=\"LOWESS\")\n",
    "ax.format(ylabel=\"LOS [cm]\")\n",
    "ax.legend(ncols=1, loc=\"lower left\")"
   ]
  },
  {
   "cell_type": "code",
   "execution_count": null,
   "id": "c787c924-a364-4b0f-bc71-e9752d378413",
   "metadata": {},
   "outputs": [],
   "source": [
    "lon, lat = -103.5582, 32.0468\n",
    "bbox = -103.8, 31.9, -103.3, 32.3\n",
    "left, bot, right, top = bbox\n",
    "tsubs = ds78full.sel(lon=lon, lat=lat, method=\"nearest\")\n",
    "img_subs = ds78full[\"defo_lowess_2year\"][-1].sel(\n",
    "    lon=slice(left, right), lat=slice(top, bot)\n",
    ")\n",
    "img_subs.load()"
   ]
  },
  {
   "cell_type": "code",
   "execution_count": null,
   "id": "23c9271a-b9fb-4cf9-9d00-180120187bd7",
   "metadata": {},
   "outputs": [],
   "source": [
    "fig, ax = pplt.subplots()\n",
    "# ax.imshow(img_subs, cmap=\"RdBu\")\n",
    "img_subs.plot.imshow(cmap=\"RdBu\", ax=ax)\n",
    "\n",
    "\n",
    "box = gpd.GeoSeries(geometry.box(*bbox))\n",
    "\n",
    "# print(circle)\n",
    "circle = gpd.GeoSeries(geometry.Point(lon, lat).buffer(0.1))\n",
    "circle.plot(ax=ax, facecolor=\"None\", edgecolor=\"k\")"
   ]
  },
  {
   "cell_type": "code",
   "execution_count": null,
   "id": "5996103a-cf12-439c-b361-bd88ea7495fa",
   "metadata": {},
   "outputs": [],
   "source": [
    "img_subs_window = utils.window_stack_xr(\n",
    "    # ds78full[\"defo_lowess_2year\"].sel(date=slice(None, \"2020-01-01\")),\n",
    "    ds78full[\"defo_lowess_2year\"],\n",
    "    lon=lon,\n",
    "    lat=lat,\n",
    "    window_size=51,\n",
    "    func=np.max,\n",
    ")\n",
    "\n",
    "img_subs_window.plot()"
   ]
  },
  {
   "cell_type": "code",
   "execution_count": null,
   "id": "33b89153-ec1d-452f-b82c-4212d112990f",
   "metadata": {},
   "outputs": [],
   "source": [
    "gdf_oil = sario.read_geopandas(gis_dir + \"oil_production_2009-2019.csv\")\n",
    "gdf_water = sario.read_geopandas(gis_dir + \"water_production_2009-2019.csv\")\n",
    "# gdf_water.columns, gdf_oil.columns\n",
    "\n",
    "# https://stackoverflow.com/questions/9958506/element-wise-string-concatenation-in-numpy\n",
    "years = np.arange(2015, 2019 + 1)\n",
    "yearcols = np.char.add(\"y\", years.astype(str))\n",
    "\n",
    "gdf_oil = gdf_oil.loc[:, [\"API\", \"geometry\", \"TopPerfDepth\", *yearcols]]\n",
    "gdf_water = gdf_water.loc[:, [\"API\", \"geometry\", \"TopPerfDepth\", *years.astype(str)]]\n",
    "\n",
    "gdf_oil.rename(columns={\"TopPerfDepth\": \"depth\"}, inplace=True)\n",
    "gdf_water.rename(columns={\"TopPerfDepth\": \"depth\"}, inplace=True)\n",
    "\n",
    "gdf_oil = gdf_oil.rename({yc: yc.strip(\"y\") for yc in yearcols}, axis=1)\n",
    "\n",
    "gdf_oil.fillna(0.0, inplace=True)\n",
    "gdf_water.fillna(0.0, inplace=True)"
   ]
  },
  {
   "cell_type": "code",
   "execution_count": null,
   "id": "43bb2ddb-6ea1-43ae-84bd-219f6333ef81",
   "metadata": {},
   "outputs": [],
   "source": [
    "gdf_water.head()"
   ]
  },
  {
   "cell_type": "code",
   "execution_count": null,
   "id": "422ff30b-d7f5-4883-9b67-f1421d583cf5",
   "metadata": {},
   "outputs": [],
   "source": [
    "# To get per-well totals\n",
    "# agg_dict = {\"volume\": \"sum\", \"geometry\": \"first\", \"depth\": \"first\"}\n",
    "# gdf_circle.groupby(\"API\").agg(agg_dict)\n",
    "\n",
    "\n",
    "def get_yearly_within_poly(gdf, poly):\n",
    "    gdf2 = gdf.clip(poly).melt(\n",
    "        id_vars=gdf.columns[:3],\n",
    "        value_vars=gdf.columns[3:],\n",
    "        var_name=\"year\",\n",
    "        value_name=\"volume\",\n",
    "    )\n",
    "    return gdf2[[\"year\", \"volume\"]].groupby(\"year\").sum()"
   ]
  },
  {
   "cell_type": "code",
   "execution_count": null,
   "id": "e193f325-30ae-4cc4-86f9-4a5972e851aa",
   "metadata": {},
   "outputs": [],
   "source": [
    "gdf_water_circle = get_yearly_within_poly(gdf_water, circle)\n",
    "gdf_oil_circle = get_yearly_within_poly(gdf_oil, circle)\n",
    "gdf_oil_circle.head()"
   ]
  },
  {
   "cell_type": "code",
   "execution_count": null,
   "id": "946f3909-dd61-44ca-ae08-a00535d16853",
   "metadata": {},
   "outputs": [],
   "source": [
    "gdf_circle = gdf_water_circle.join(gdf_oil_circle, lsuffix=\"_oil\", rsuffix=\"_water\")"
   ]
  },
  {
   "cell_type": "code",
   "execution_count": null,
   "id": "0aeb0f0f-1256-4c71-931d-1e5b3a1a25ae",
   "metadata": {},
   "outputs": [],
   "source": [
    "fig, axes = pplt.subplots(ncols=2, sharex=False, sharey=False, abc=\"(a)\")\n",
    "\n",
    "ax = axes[0]\n",
    "\n",
    "# img_subs = img_subs.rio.set_spatial_dims('lon', 'lat')\n",
    "# axim = ax.imshow(img_subs, cmap=\"RdBu\", extent=img_subs.rio.bounds())\n",
    "\n",
    "axim = img_subs.plot.imshow(ax=ax, cmap=\"RdBu\", add_colorbar=False)\n",
    "ax.colorbar(axim, loc=\"r\", label=\"LOS [cm]\")\n",
    "ax.format(xlabel=\"\", ylabel=\"\", title=\"\")\n",
    "\n",
    "circle.plot(ax=ax, facecolor=\"None\", edgecolor=\"k\")\n",
    "\n",
    "gdf_water[\"geometry\"].clip(box).plot(ax=ax, ms=2, edgecolor=\"none\", facecolor=\"gray\")\n",
    "\n",
    "\n",
    "###\n",
    "ax = axes[1]\n",
    "ax.bar(gdf_circle.index, gdf_circle.values / 1e6, stack=True, labels=[\"Water\", \"Oil\"])\n",
    "ax.format(ylabel=\"Production [MBBl]\", xlabel=\"\")\n",
    "ax.legend(ncols=1)"
   ]
  },
  {
   "cell_type": "code",
   "execution_count": null,
   "id": "a42f468b-bd98-4215-86da-ad3bbba40849",
   "metadata": {},
   "outputs": [],
   "source": [
    "fig.savefig(\"../figures/chapter5-lowess/figure-los-path78-production.pdf\", dpi=300)"
   ]
  },
  {
   "cell_type": "markdown",
   "id": "780527f2-4865-483f-acab-199c301a43d0",
   "metadata": {},
   "source": [
    "## Get injection timeseries"
   ]
  },
  {
   "cell_type": "code",
   "execution_count": null,
   "id": "7c3f5225-447d-4a82-9eec-7ef8c940389a",
   "metadata": {},
   "outputs": [],
   "source": [
    "gdf = sario.read_geopandas(\n",
    "    \"/Users/scott/Documents/Learning/masters-thesis/fracking-qgis-data/water_injection_2009-2019.csv\"\n",
    ")\n",
    "years = np.arange(2015, 2019 + 1)\n",
    "gdf = gdf[gdf[\"Type\"] == \"SWD\"]  # only salt water disposal, not EOR\n",
    "gdf = gdf.loc[:, [\"API\", \"geometry\", \"TopPerfDepth\", *years.astype(str)]]\n",
    "\n",
    "gdf.rename(columns={\"TopPerfDepth\": \"depth\"}, inplace=True)\n",
    "gdf.fillna(0.0, inplace=True)\n",
    "gdf"
   ]
  },
  {
   "cell_type": "code",
   "execution_count": null,
   "id": "6f128b4b-638a-4eb3-b070-14c1a43a8c8c",
   "metadata": {},
   "outputs": [],
   "source": [
    "gdf2 = gdf.melt(\n",
    "    id_vars=gdf.columns[:3],\n",
    "    value_vars=gdf.columns[3:],\n",
    "    var_name=\"year\",\n",
    "    value_name=\"volume\",\n",
    ")\n",
    "\n",
    "gdf2[\"year\"] = pd.to_datetime(gdf2[\"year\"], format=\"%Y\")\n",
    "\n",
    "gdf2"
   ]
  },
  {
   "cell_type": "code",
   "execution_count": null,
   "id": "21dc1518-a80c-4a85-862b-2e429dd13f1f",
   "metadata": {},
   "outputs": [],
   "source": [
    "kim_lu_api = 4249533675\n",
    "gdf2_inj = gdf2[gdf2[\"API\"] == kim_lu_api]\n",
    "gdf2_inj"
   ]
  },
  {
   "cell_type": "code",
   "execution_count": null,
   "id": "cba57b43-3328-4d0e-9134-e3c4f75be8ed",
   "metadata": {},
   "outputs": [],
   "source": [
    "lon, lat = gdf2_inj.iloc[0].geometry.coords[0]\n",
    "lon, lat"
   ]
  },
  {
   "cell_type": "code",
   "execution_count": null,
   "id": "04be2d21-510a-475a-a80b-309c3fd139ff",
   "metadata": {},
   "outputs": [],
   "source": [
    "lon, lat = gdf2_inj.iloc[0].geometry.coords[0]\n",
    "tsinj = ds78full.sel(lon=lon, lat=lat, method=\"nearest\")"
   ]
  },
  {
   "cell_type": "code",
   "execution_count": null,
   "id": "9b44465e-49eb-49b5-adb6-297c6d8f25ee",
   "metadata": {},
   "outputs": [],
   "source": [
    "gdf2_inj"
   ]
  },
  {
   "cell_type": "code",
   "execution_count": null,
   "id": "669491be-2631-46fb-b168-b6643d3e8215",
   "metadata": {},
   "outputs": [],
   "source": [
    "circle = gpd.GeoSeries(geometry.Point(lon, lat).buffer(0.02))\n",
    "gdf2.clip(circle).sort_values([\"year\", \"API\"])"
   ]
  },
  {
   "cell_type": "code",
   "execution_count": null,
   "id": "650e740c-26f9-4cc9-bb7e-9df78555b9a1",
   "metadata": {},
   "outputs": [],
   "source": [
    "(tsinj[\"defo_noisy\"].indexes[\"date\"] - tsinj[\"defo_noisy\"].indexes[\"date\"][0])[:25]"
   ]
  },
  {
   "cell_type": "code",
   "execution_count": null,
   "id": "5519f73e-4e02-4b28-add1-552b2bba4183",
   "metadata": {},
   "outputs": [],
   "source": [
    "mode = \"reflect\"\n",
    "# about 2 years\n",
    "tri_win = signal.windows.triang(25)\n",
    "\n",
    "dn_tri = ndimage.convolve1d(tsinj[\"defo_noisy\"].data, tri_win, axis=0, mode=mode) / sum(\n",
    "    tri_win\n",
    ")\n",
    "dn_tri = dn_tri - dn_tri[0]\n",
    "dn_xr_tri = tsinj[\"defo_noisy\"].copy()\n",
    "dn_xr_tri.data = dn_tri\n",
    "# dn_xr_tri"
   ]
  },
  {
   "cell_type": "code",
   "execution_count": null,
   "id": "e38a2be9-c5ce-4b31-8cf8-f5c82884d5dc",
   "metadata": {},
   "outputs": [],
   "source": [
    "fig, ax = pplt.subplots(refwidth=3.5, refheight=2.8)\n",
    "\n",
    "# ds = pd.to_datetime(tsinj.indexes['date']).to_series()\n",
    "ds = tsinj.indexes[\"date\"].to_pydatetime()\n",
    "\n",
    "# tsinj['defo_noisy'].plot(ax=ax, label='Noisy')\n",
    "# tsinj['defo_lowess_2year'].plot(ax=ax, label='LOWESS')\n",
    "l1 = ax.plot(ds, tsinj[\"defo_noisy\"].values, label=\"Noisy\")\n",
    "l2 = ax.plot(ds, tsinj[\"defo_lowess_2year\"].values, label=\"LOWESS\", lw=3)\n",
    "# tsinj['defo_lowess_2year'].plot(ax=ax, label='LOWESS')\n",
    "# l3 = ax.plot(ds, dn_xr_tri.values, label='Tri', lw=3, color='C3')\n",
    "\n",
    "ax.format(ylabel=\"LOS [cm]\", grid=True)\n",
    "\n",
    "\n",
    "ax2 = ax.twinx()\n",
    "ax2.set_zorder(1)\n",
    "ax.set_zorder(2)\n",
    "# gdf2_inj[['year', 'volume']].plot(kind='bar', x='year', ax=ax)\n",
    "# gdf2_inj[['year', 'volume']].set_index('year').plot(ax=ax2, marker='o')\n",
    "# li = ax2.plot(gdf2_inj['year'].values, gdf2_inj['volume'] / 1e6, marker='o', color='C2')\n",
    "li = ax2.bar(\n",
    "    gdf2_inj.year.dt.to_pydatetime(), gdf2_inj[\"volume\"] / 1e6, color=\"C2\", alpha=0.6\n",
    ")\n",
    "ax2.format(ylabel=\"Yearly Injection Volume (MBBl)\")\n",
    "\n",
    "\n",
    "# ax.legend([l1, l2, l3, li], ['Noisy', 'LOWESS', 'Triangle', 'Injection'], ncols=1, loc='lower left')\n",
    "ax.legend([l1, l2, li], [\"Noisy\", \"LOWESS\", \"Injection\"], ncols=1, loc=\"lower right\")"
   ]
  },
  {
   "cell_type": "code",
   "execution_count": null,
   "id": "64cf4e7e-352f-4f97-815e-0a97e536e86e",
   "metadata": {},
   "outputs": [],
   "source": [
    "(dn_xr_tri - tsinj[\"defo_lowess_2year\"]).plot()"
   ]
  },
  {
   "cell_type": "markdown",
   "id": "dce6e7f8-a341-4512-af26-132c85de8b0b",
   "metadata": {},
   "source": [
    "## Path 78 LOS and injections"
   ]
  },
  {
   "cell_type": "code",
   "execution_count": null,
   "id": "c8006e51-f993-4197-bd7c-40cf0a2fd88a",
   "metadata": {},
   "outputs": [],
   "source": [
    "import matplotlib.patches as patches\n",
    "\n",
    "\n",
    "def plot_rect(\n",
    "    ax,\n",
    "    lon=None,\n",
    "    lat=None,\n",
    "    w=0.05,\n",
    "    bbox=None,\n",
    "    edgecolor=\"k\",\n",
    "    lw=3,\n",
    "    zorder=5,\n",
    "):\n",
    "    if lon is not None and lat is not None and w is not None:\n",
    "        xy = (lon - w / 2, lat - w / 2)\n",
    "        width = height = w\n",
    "    elif bbox is not None:\n",
    "        left, bot, right, top = bbox\n",
    "        xy = (left, bot)\n",
    "        width = right - left\n",
    "        height = top - bot\n",
    "    rect = patches.Rectangle(\n",
    "        xy, width, height, facecolor=\"none\", edgecolor=edgecolor, lw=lw, zorder=zorder\n",
    "    )\n",
    "    return ax.add_patch(rect)"
   ]
  },
  {
   "cell_type": "code",
   "execution_count": null,
   "id": "8389e856-aa84-4894-9ead-b1ce822482f8",
   "metadata": {},
   "outputs": [],
   "source": [
    "fig = pplt.figure(refwidth=3, sharex=False, sharey=False)\n",
    "\n",
    "ax = fig.subplot(projection=\"pcarree\", labels=False, dms=False)\n",
    "plot_defo_image(\n",
    "    ds_78, idx=-1, ax=ax, lonticks=[-104, -103, -102], plot_basin_shape=False\n",
    ")\n",
    "gdf_permian.plot(alpha=0.3, facecolor=\"none\", edgecolor=\"purple\", lw=2, ax=ax, zorder=3)\n",
    "\n",
    "# Add rect on time series areas\n",
    "\n",
    "lon, lat = gdf2_inj.iloc[0].geometry.coords[0]\n",
    "w = 0.2\n",
    "plot_rect(ax, lon, lat, w=w, zorder=5, lw=2)\n",
    "\n",
    "bbox = -103.75, 31.9, -103.35, 32.25\n",
    "plot_rect(ax, bbox=bbox, zorder=5)"
   ]
  },
  {
   "cell_type": "code",
   "execution_count": null,
   "id": "6ab9ecd9-8b68-4387-a64b-bb82cb671efa",
   "metadata": {},
   "outputs": [],
   "source": [
    "fig.savefig(\"../figures/chapter5-lowess/figure-results-los-path78.pdf\", dpi=300)"
   ]
  },
  {
   "cell_type": "code",
   "execution_count": null,
   "id": "bdb0ec7b-dae3-4912-875c-137986da337f",
   "metadata": {},
   "outputs": [],
   "source": [
    "fig = pplt.figure(refwidth=3, sharex=False, sharey=False)\n",
    "\n",
    "ax = fig.subplot(121, abc=\"(a)\", projection=\"pcarree\", labels=False, dms=False)\n",
    "plot_defo_image(ds_78, idx=-1, ax=ax, lonticks=[-104, -103, -102])\n",
    "# Add rect on time series area\n",
    "w = 0.15\n",
    "plot_rect(ax, lon, lat, w=w, zorder=5)\n",
    "\n",
    "# Injection timeseries\n",
    "ax = fig.subplot(122, abc=\"(a)\")\n",
    "ds = tsinj.indexes[\"date\"].to_pydatetime()\n",
    "\n",
    "l1 = ax.plot(ds, tsinj[\"defo_noisy\"].values, label=\"Noisy\")\n",
    "l2 = ax.plot(ds, tsinj[\"defo_lowess_2year\"].values, label=\"LOWESS\", lw=3)\n",
    "# l3 = ax.plot(ds, dn_xr_tri.values, label='Tri', lw=3, color='C3')\n",
    "\n",
    "ax.format(ylabel=\"LOS [cm]\", grid=True)\n",
    "\n",
    "\n",
    "ax2 = ax.twinx()\n",
    "ax2.set_zorder(1)\n",
    "ax.set_zorder(2)\n",
    "li = ax2.bar(\n",
    "    gdf2_inj.year.dt.to_pydatetime(), gdf2_inj[\"volume\"] / 1e6, color=\"C2\", alpha=0.6\n",
    ")\n",
    "ax2.format(ylabel=\"Yearly Injection Volume (MBBl)\")\n",
    "\n",
    "# ax.legend([l1, l2, l3, li], ['Noisy', 'LOWESS', 'Triangle', 'Injection'], ncols=1, loc='lower left')\n",
    "ax.legend([l1, l2, li], [\"Noisy\", \"LOWESS\", \"Injection\"], ncols=1, loc=\"lower left\")"
   ]
  },
  {
   "cell_type": "code",
   "execution_count": null,
   "id": "b4d71b51-9a70-4f50-b0ba-88425f586799",
   "metadata": {},
   "outputs": [],
   "source": [
    "fig.savefig(\"../figures/chapter5-lowess/figure-results-los-path78.pdf\", dpi=300)"
   ]
  },
  {
   "cell_type": "markdown",
   "id": "7917cd65-6f29-4a3a-9ee3-4dfbe40944e7",
   "metadata": {},
   "source": [
    "### Combined inj and subsidence"
   ]
  },
  {
   "cell_type": "code",
   "execution_count": null,
   "id": "d5af083a-591c-40c5-b39a-08d7008d2231",
   "metadata": {},
   "outputs": [],
   "source": [
    "gdf2_inj"
   ]
  },
  {
   "cell_type": "code",
   "execution_count": null,
   "id": "f5e3129b-ee90-462f-81dc-efa1b38069e0",
   "metadata": {},
   "outputs": [],
   "source": [
    "# fig, ax = pplt.subplots()\n",
    "# axim = img_inj.plot.imshow(ax=ax, cmap=\"RdBu\", add_colorbar=False)\n",
    "# ax.colorbar(axim, loc=\"r\", label=\"LOS [cm]\")\n",
    "# ax.format(xlabel=\"\", ylabel=\"\")\n",
    "\n",
    "# # circle.plot(ax=ax, facecolor=\"None\", edgecolor=\"k\")\n",
    "\n",
    "# gdf2_inj[\"geometry\"].iloc[:1].plot(ax=ax, ms=30, edgecolor=\"none\", facecolor=\"gray\")\n",
    "# ax.format(xticks=0.04, yticks=0.03)"
   ]
  },
  {
   "cell_type": "code",
   "execution_count": null,
   "id": "08843046-d84b-4132-b7d6-88caa3075cd6",
   "metadata": {},
   "outputs": [],
   "source": [
    "# gdf_inj.pivot?"
   ]
  },
  {
   "cell_type": "code",
   "execution_count": null,
   "id": "3ee95ab5-86d1-45be-8947-5b161b6d0f6a",
   "metadata": {},
   "outputs": [],
   "source": [
    "lon, lat = gdf2_inj.iloc[0].geometry.coords[0]\n",
    "\n",
    "gdf_inj = gdf2.clip(gpd.GeoSeries(geometry.Point(lon, lat).buffer(0.01)))[\n",
    "    [\"API\", \"year\", \"volume\"]\n",
    "]\n",
    "gdf_inj_2api = (\n",
    "    gdf_inj.groupby([\"year\", \"API\"]).sum().reset_index(level=1).pivot(columns=[\"API\"])\n",
    ")\n",
    "gdf_inj_2api\n",
    "\n",
    "# gdf_inj.unstack?"
   ]
  },
  {
   "cell_type": "code",
   "execution_count": null,
   "id": "8f40a45a-c302-4a78-aa5d-be9c5042ccc3",
   "metadata": {},
   "outputs": [],
   "source": [
    "pplt.rc[\"font.size\"] = 10.0"
   ]
  },
  {
   "cell_type": "code",
   "execution_count": null,
   "id": "1ae9fb79-65a7-4f35-add8-b055ea5396a0",
   "metadata": {},
   "outputs": [],
   "source": [
    "fig, axes = pplt.subplots(\n",
    "    nrows=2,\n",
    "    ncols=2,\n",
    "    refwidth=2.3,\n",
    "    sharey=False,\n",
    "    sharex=False,\n",
    "    refheight=1.9,\n",
    "    abc=\"(a)\",\n",
    ")\n",
    "\n",
    "# cmap = \"RdBu\"\n",
    "cmap = \"seismic_wide_y_r\"\n",
    "\n",
    "################# Injection################\n",
    "lon, lat = gdf2_inj.iloc[0].geometry.coords[0]\n",
    "dx, dy = 0.06, 0.049\n",
    "bbox = lon - dx, lat - dy, lon + dx, lat + dy\n",
    "left, bot, right, top = bbox\n",
    "\n",
    "\n",
    "d = \"2018-01-01\"\n",
    "img_inj = (\n",
    "    ds78full[\"defo_lowess_2year\"]\n",
    "    .sel(lon=slice(left, right), lat=slice(top, bot))\n",
    "    .sel(date=d, method=\"nearest\")\n",
    ")\n",
    "\n",
    "\n",
    "ax = axes[0]\n",
    "axim = img_inj.plot.imshow(ax=ax, cmap=cmap, add_colorbar=False)\n",
    "ax.colorbar(axim, loc=\"r\", label=\"LOS [cm]\")\n",
    "ax.format(xlabel=\"\", ylabel=\"\", title=d, xticks=0.04, yticks=0.03)\n",
    "# circle.plot(ax=ax, facecolor=\"None\", edgecolor=\"k\")\n",
    "\n",
    "\n",
    "circle = gpd.GeoSeries(geometry.Point(lon, lat).buffer(0.01))\n",
    "gdf2.clip(circle).plot(ax=ax, ms=30, edgecolor=\"none\", facecolor=\"gray\")\n",
    "# gdf2_inj[\"geometry\"].iloc[:1].plot(ax=ax, ms=30, edgecolor=\"none\", facecolor=\"gray\")\n",
    "\n",
    "# Label the wells\n",
    "api = 4249530150\n",
    "x, y = gdf2[gdf2.API == api].iloc[0].geometry.coords[0]\n",
    "ax.text(x + 0.005, y - 1e-3, s=\"(1)\", size=\"large\", weight=\"bold\")\n",
    "\n",
    "api = 4249533675\n",
    "x, y = gdf2[gdf2.API == api].iloc[0].geometry.coords[0]\n",
    "ax.text(x - 0.01, y + 0.005, s=\"(2)\", size=\"large\", weight=\"bold\")\n",
    "\n",
    "\n",
    "ax = axes[1]\n",
    "\n",
    "dts = tsinj.indexes[\"date\"].to_pydatetime()\n",
    "\n",
    "l1 = ax.plot(dts, tsinj[\"defo_noisy\"].values, label=\"Noisy\")\n",
    "l2 = ax.plot(dts, tsinj[\"defo_lowess_2year\"].values, label=\"LOWESS\", lw=3)\n",
    "ax.format(ylabel=\"LOS [cm]\", grid=True)\n",
    "# ax.legend([l1, l2], [\"Noisy\", \"LOWESS\"], ncols=1, loc=\"lower right\")\n",
    "\n",
    "\n",
    "ax2 = ax.twinx()\n",
    "ax2.set_zorder(1)\n",
    "ax.set_zorder(2)\n",
    "b1, b2 = ax2.bar(\n",
    "    # li = ax.bar(\n",
    "    # Single well:\n",
    "    # gdf2_inj.year.dt.to_pydatetime(),\n",
    "    # gdf2_inj[\"volume\"] / 1e6,\n",
    "    # # or the 3 nearest wells\n",
    "    gdf_inj_2api.index.to_pydatetime(),\n",
    "    gdf_inj_2api.values / 1e6,\n",
    "    stack=True,\n",
    "    cycle=pplt.Cycle(\"colorblind\")[2:],\n",
    "    # gdf2.clip(circle).groupby(\"year\").sum().index.to_pydatetime(),\n",
    "    # gdf2.clip(circle).groupby(\"year\").sum()[\"volume\"] / 1e6,\n",
    "    # color=\"C2\",\n",
    "    alpha=0.6,\n",
    ")\n",
    "# ax.format(ylabel=\"Yearly Injection Volume (MBBl)\", grid=True)\n",
    "\n",
    "\n",
    "ax2.format(ylabel=\"Yearly Injection Volume (MBBl)\")  # , grid=True)\n",
    "# ax.legend([b1, b2, l1, l2], [\"Inj. 1\", \"Inj. 2\", \"Noisy\", \"LOWESS\", ],ncols=2, loc=\"top\", frame=False)\n",
    "ax.legend([l1, l2], [\"Noisy\", \"LOWESS\"], ncols=2, loc=\"bottom\", frame=False)\n",
    "ax2.legend([b1, b2], [\"Inj. 1\", \"Inj. 2\"], ncols=1, loc=\"lr\", frame=False)\n",
    "\n",
    "\n",
    "#####################################################\n",
    "############### Subsidence ##########################\n",
    "lon, lat = -103.5505, 32.0373\n",
    "bbox = -103.75, 31.9, -103.35, 32.25\n",
    "box = gpd.GeoSeries(geometry.box(*bbox))\n",
    "left, bot, right, top = bbox\n",
    "\n",
    "circle = gpd.GeoSeries(geometry.Point(lon, lat).buffer(0.07))\n",
    "\n",
    "d = ds78full.indexes[\"date\"][-1]\n",
    "\n",
    "img_subs = (\n",
    "    ds78full[\"defo_lowess_2year\"]\n",
    "    .sel(lon=slice(left, right), lat=slice(top, bot))\n",
    "    .sel(date=d)\n",
    ")\n",
    "# tsubs = ds78full.sel(lon=lon, lat=lat, method=\"nearest\")\n",
    "tssub_lowess = utils.window_stack_xr(\n",
    "    ds78full[\"defo_lowess_2year\"], lon=lon, lat=lat, window_size=51, func=np.max\n",
    ")\n",
    "tssub_noisy = utils.window_stack_xr(\n",
    "    ds78full[\"defo_noisy\"], lon=lon, lat=lat, window_size=51, func=np.max\n",
    ")\n",
    "\n",
    "###\n",
    "ax = axes[2]\n",
    "\n",
    "# img_subs = img_subs.rio.set_spatial_dims('lon', 'lat')\n",
    "# axim = ax.imshow(img_subs, cmap=\"RdBu\", extent=img_subs.rio.bounds())\n",
    "\n",
    "axim = img_subs.plot.imshow(ax=ax, cmap=cmap, add_colorbar=False)\n",
    "ax.colorbar(axim, loc=\"r\", label=\"LOS [cm]\")\n",
    "ax.format(xlabel=\"\", ylabel=\"\", title=d.strftime(\"%Y-%m-%d\"), xticks=0.1, yticks=0.1)\n",
    "\n",
    "circle.plot(ax=ax, facecolor=\"None\", edgecolor=\"k\")\n",
    "\n",
    "gdf_water[\"geometry\"].clip(box).plot(ax=ax, ms=2, edgecolor=\"none\", facecolor=\"gray\")\n",
    "\n",
    "\n",
    "###################\n",
    "ax = axes[3]\n",
    "\n",
    "\n",
    "l1 = ax.plot(dts, tssub_noisy.values, label=\"Noisy\")\n",
    "l2 = ax.plot(dts, tssub_lowess.values, label=\"LOWESS\", lw=3)\n",
    "ax.format(ylabel=\"LOS [cm]\", grid=True)\n",
    "# ax.legend(ncols=1)\n",
    "\n",
    "ax2 = ax.twinx()\n",
    "ax2.set_zorder(1)\n",
    "ax.set_zorder(2)\n",
    "# li = ax2.bar(\n",
    "\n",
    "\n",
    "b1, b2 = ax2.bar(\n",
    "    pd.to_datetime(gdf_circle.index, format=\"%Y\"),\n",
    "    gdf_circle.values / 1e6,\n",
    "    stack=True,\n",
    "    labels=[\"Water\", \"Oil\"],\n",
    "    # fc=[\"C2\", \"C3\"],\n",
    "    cycle=pplt.Cycle(\"colorblind\")[2:],  # use the 3rd, 4th colors for the bars\n",
    "    alpha=0.6,\n",
    ")\n",
    "ax2.format(ylabel=\"Production [MBBl]\", xlabel=\"\")\n",
    "\n",
    "\n",
    "# ax.legend(\n",
    "#     [l1, l2, b1, b2], [\"Noisy\", \"LOWESS\", \"Water\", \"Oil\"], ncols=1, loc=\"upper left\", frame=False\n",
    "# )\n",
    "ax.legend([b1, b2], [\"Water\", \"Oil\"], ncols=1, loc=\"upper left\", frame=False)"
   ]
  },
  {
   "cell_type": "code",
   "execution_count": null,
   "id": "2bb7112f-fff6-468a-bbda-39f29e13d5ed",
   "metadata": {},
   "outputs": [],
   "source": [
    "fig.savefig(\"../figures/chapter5-lowess/figure-results-path78-examples.pdf\", dpi=300)"
   ]
  },
  {
   "cell_type": "code",
   "execution_count": null,
   "id": "d5d243ae-7b07-4e02-875d-dad08e05ee65",
   "metadata": {},
   "outputs": [],
   "source": [
    "lon, lat = gdf2_inj.iloc[0].geometry.coords[0]\n",
    "dx, dy = 0.06, 0.049\n",
    "bbox = lon - dx, lat - dy, lon + dx, lat + dy\n",
    "left, bot, right, top = bbox\n",
    "\n",
    "circle = gpd.GeoSeries(geometry.Point(lon, lat).buffer(0.01))\n",
    "\n",
    "\n",
    "fig, axes = pplt.subplots(nrows=2, ncols=2, abc=\"(a)\", share=False)\n",
    "\n",
    "ax = axes[0]\n",
    "\n",
    "# d = \"2018-01-01\"\n",
    "# img_inj = (\n",
    "#     ds78full[\"defo_lowess_2year\"]\n",
    "#     .sel(lon=slice(left, right), lat=slice(top, bot))\n",
    "#     .sel(date=d, method=\"nearest\")\n",
    "# )\n",
    "\n",
    "\n",
    "# # ax = axes[0]\n",
    "# axim = img_inj.plot.imshow(ax=ax, cmap=\"RdBu\", add_colorbar=False)\n",
    "# ax.colorbar(axim, loc=\"r\", label=\"LOS [cm]\")\n",
    "# ax.format(xlabel=\"\", ylabel=\"\", title=d, xticks=0.04, yticks=0.03)\n",
    "# # circle.plot(ax=ax, facecolor=\"None\", edgecolor=\"k\")\n",
    "\n",
    "# # gdf2_inj[\"geometry\"].iloc[:1].plot(ax=ax, ms=30, edgecolor=\"none\", facecolor=\"gray\")\n",
    "# gdf2.clip(circle).plot(ax=ax, ms=30, edgecolor=\"none\", facecolor=\"gray\")\n",
    "\n",
    "# api = 4249530150\n",
    "# x, y = gdf2[gdf2.API == api].iloc[0].geometry.coords[0]\n",
    "# ax.text(x + 0.005, y - 1e-3, s=\"(1)\", size=\"large\", weight=\"bold\")\n",
    "\n",
    "# api = 4249533675\n",
    "# x, y = gdf2[gdf2.API == api].iloc[0].geometry.coords[0]\n",
    "# ax.text(x- 0.01, y + 0.005, s=\"(2)\", size=\"large\", weight=\"bold\")\n",
    "\n",
    "\n",
    "for ax in [axes[1], axes[3]]:\n",
    "    # ax = axes[1]\n",
    "    l1 = ax.plot(dts, tssub_noisy.values, label=\"Noisy\")\n",
    "    l2 = ax.plot(dts, tssub_lowess.values, label=\"LOWESS\", lw=3)\n",
    "    ax.format(ylabel=\"LOS [cm]\", grid=True)\n",
    "    # ax.legend(ncols=1)\n",
    "\n",
    "    ax2 = ax.twinx()\n",
    "    ax2.set_zorder(1)\n",
    "    ax.set_zorder(2)\n",
    "    # li = ax2.bar(\n",
    "\n",
    "    b1, b2 = ax2.bar(\n",
    "        pd.to_datetime(gdf_circle.index, format=\"%Y\"),\n",
    "        gdf_circle.values / 1e6,\n",
    "        stack=True,\n",
    "        labels=[\"Water\", \"Oil\"],\n",
    "        # fc=[\"C2\", \"C3\"],\n",
    "        cycle=pplt.Cycle(\"colorblind\")[2:],  # use the 3rd, 4th colors for the bars\n",
    "        alpha=0.6,\n",
    "    )\n",
    "    ax2.format(ylabel=\"Production [MBBl]\", xlabel=\"\")\n",
    "\n",
    "    ax.legend(\n",
    "        [l1, l2, b1, b2],\n",
    "        [\"Noisy\", \"LOWESS\", \"Water\", \"Oil\"],\n",
    "        ncols=2,\n",
    "        loc=\"bottom\",\n",
    "        frame=False,\n",
    "    )"
   ]
  },
  {
   "cell_type": "code",
   "execution_count": null,
   "id": "e14b4602-bad9-4281-99d2-99c370722a19",
   "metadata": {},
   "outputs": [],
   "source": [
    "gdf2[gdf2.API == api].iloc[0].geometry.coords[0]"
   ]
  },
  {
   "cell_type": "code",
   "execution_count": null,
   "id": "bcd6442b-22ab-4e6d-bdf8-a6f38a8583da",
   "metadata": {},
   "outputs": [],
   "source": [
    "ax.text"
   ]
  },
  {
   "cell_type": "code",
   "execution_count": null,
   "id": "d38106ee-3136-4852-97df-bb7be3f19a01",
   "metadata": {},
   "outputs": [],
   "source": [
    "l1, l2 = gdf2[gdf2.API == 4249530150].iloc[0].geometry.coords[0]\n",
    "l1"
   ]
  },
  {
   "cell_type": "code",
   "execution_count": null,
   "id": "703cdb2a-f6c0-4c62-baea-aea2514064c2",
   "metadata": {},
   "outputs": [],
   "source": [
    "ax.text?"
   ]
  },
  {
   "cell_type": "markdown",
   "id": "ed965e5f-46f6-4ad5-a4a1-61a3c3db9bff",
   "metadata": {},
   "source": [
    "## Earthquakes and diff images"
   ]
  },
  {
   "cell_type": "code",
   "execution_count": null,
   "id": "2e2eef49-b902-4d0d-8656-68317047e6df",
   "metadata": {},
   "outputs": [],
   "source": [
    "gdf_eqs = sario.read_geopandas(\n",
    "    gis_dir + \"texnet_events_20220414.csv\",\n",
    "    latcol=\"Latitude (WGS84)\",\n",
    "    loncol=\"Longitude (WGS84)\",\n",
    ")\n",
    "# gdf_eqs_growclust = sario.read_geopandas(gis_dir + \"texnet_growclust_20211208.csv\", latcol='latC', loncol='lonC')\n",
    "gdf_eqs_growclust = sario.read_geopandas(\n",
    "    gis_dir + \"texnet_growclust_20211208.csv\", latcol=\"latR\", loncol=\"lonR\"\n",
    ")"
   ]
  },
  {
   "cell_type": "code",
   "execution_count": null,
   "id": "cdef65a4-e642-41d6-8670-8ecdc641d367",
   "metadata": {},
   "outputs": [],
   "source": [
    "# gdf_eqs_growclust.plot(markersize=1)"
   ]
  },
  {
   "cell_type": "code",
   "execution_count": null,
   "id": "92587dd5-a760-4620-85b4-fccfa90cfec7",
   "metadata": {},
   "outputs": [],
   "source": [
    "ds_clipped_2year.date"
   ]
  },
  {
   "cell_type": "code",
   "execution_count": null,
   "id": "fe86e9e1-a4c3-4c37-9c37-d9b01bb3ab8e",
   "metadata": {},
   "outputs": [],
   "source": [
    "(pd.to_datetime(d1) + pd.DateOffset(years=2)).strftime(\"%Y%m%d\")"
   ]
  },
  {
   "cell_type": "code",
   "execution_count": null,
   "id": "dbaca27d-dcc4-465c-8ce6-bd43a5e06259",
   "metadata": {},
   "outputs": [],
   "source": []
  },
  {
   "cell_type": "code",
   "execution_count": null,
   "id": "715e69e0-6d2e-4545-a3f4-4df9fd14b301",
   "metadata": {},
   "outputs": [],
   "source": [
    "def dt_to_title(d, span=2):\n",
    "    start = pd.to_datetime(d) - pd.DateOffset(years=span) + pd.DateOffset(days=2)\n",
    "    # end = pd.to_datetime(d) + pd.DateOffset(years=span)\n",
    "    end = pd.to_datetime(d)\n",
    "    return f\"{start.strftime('%Y')} - {end.strftime('%Y')}\"\n",
    "\n",
    "\n",
    "dt_to_title(d1)"
   ]
  },
  {
   "cell_type": "code",
   "execution_count": null,
   "id": "52afceb9-96ba-4f21-a1cf-3399288a3639",
   "metadata": {},
   "outputs": [],
   "source": [
    "# End dates for 2 year diffs\n",
    "d1, d2, d3 = \"2017-12-31\", \"2019-12-31\", \"2021-12-31\"\n",
    "cmap = \"seismic_wide_y\"\n",
    "vm = 2.5\n",
    "lonticks = [-104.5, -103.5]\n",
    "# bbox = ds_clipped_2year.rio.bounds()\n",
    "bbox = (-104.7, 30.8, -103, 32.5)\n",
    "\n",
    "fig = pplt.figure(refwidth=2.0, refheight=1.8, sharex=False, sharey=False)\n",
    "\n",
    "for n, dd in zip([321, 323, 325], [d1, d2, d3]):\n",
    "    ax = fig.subplot(n, abc=\"(a)\", projection=\"pcarree\", labels=False, dms=False)\n",
    "    plot_defo_image(\n",
    "        ds_clipped_2year, date=dd, ax=ax, lonticks=lonticks, cmap=cmap, vm=vm, bbox=bbox\n",
    "    )\n",
    "    ax.set_title(dt_to_title(dd))\n",
    "\n",
    "\n",
    "## With earthquakes\n",
    "for n, dd, yrs in zip(\n",
    "    [322, 324, 326], [d1, d2, d3], [[2017], [2018, 2019], [2020, 2021]]\n",
    "):\n",
    "    ax = fig.subplot(n, abc=\"(a)\", projection=\"pcarree\", labels=False, dms=False)\n",
    "    plot_defo_image(\n",
    "        ds_clipped_2year,\n",
    "        date=dd,\n",
    "        ax=ax,\n",
    "        lonticks=lonticks,\n",
    "        cmap=cmap,\n",
    "        vm=vm,\n",
    "        bbox=bbox,\n",
    "        add_colorbar=False,\n",
    "    )\n",
    "    gdf_eqs_growclust[gdf_eqs_growclust.yr.isin(yrs)].plot(\n",
    "        markersize=10,\n",
    "        ax=ax,\n",
    "        zorder=5,\n",
    "        column=\"depR\",\n",
    "        cmap=\"Purples\",\n",
    "        legend=True,\n",
    "        vmax=7,\n",
    "        vmin=2.5,\n",
    "        legend_kwds={\"label\": \"Depth [km]\"},\n",
    "    )\n",
    "    ax.set_title(dt_to_title(dd))"
   ]
  },
  {
   "cell_type": "markdown",
   "id": "7676b4d3-4d8d-4d71-a00b-623575166f1d",
   "metadata": {},
   "source": [
    "### *Figure 5.12: three 2-year periods"
   ]
  },
  {
   "cell_type": "code",
   "execution_count": null,
   "id": "da0bf0f0-211f-41e4-a98c-9936d6f21eda",
   "metadata": {},
   "outputs": [],
   "source": [
    "def dt_to_title(d, span=2):\n",
    "    start = pd.to_datetime(d) - pd.DateOffset(years=span) + pd.DateOffset(days=2)\n",
    "    end = pd.to_datetime(d)  # + pd.DateOffset(years=span)\n",
    "    return f\"{start.strftime('%Y')} - {end.strftime('%Y')}\""
   ]
  },
  {
   "cell_type": "code",
   "execution_count": null,
   "id": "5ce8f903-b12d-4e07-bd0d-5e1f328920b2",
   "metadata": {},
   "outputs": [],
   "source": [
    "# End dates for 2 year diffs\n",
    "d1, d2, d3 = \"2017-12-31\", \"2019-12-31\", \"2021-12-31\"\n",
    "cmap = \"seismic_wide_y\"\n",
    "vm = 2.5\n",
    "lonticks = [-104.5, -104.0, -103.5, -103.0]\n",
    "latticks = [31.0, 31.5, 32.0]\n",
    "# bbox = ds_clipped_2year.rio.bounds()\n",
    "# bbox = (-104.7, 30.8, -102.9, 32.3)\n",
    "bbox = (-104.7, 30.95, -102.8, 32.05)\n",
    "scale_bar_km = 50\n",
    "# scale_loc = (0.85, 0.85) # top right\n",
    "scale_loc = (0.15, 0.08)  # bot left\n",
    "fig = pplt.figure(refwidth=2.7, refheight=1.6, sharex=False, sharey=False)\n",
    "\n",
    "## With earthquakes\n",
    "for n, dd, yrs in zip(\n",
    "    [311, 312, 313], [d1, d2, d3], [[2017], [2018, 2019], [2020, 2021]]\n",
    "):\n",
    "    ax = fig.subplot(n, abc=\"(a)\", projection=\"pcarree\", labels=False, dms=False)\n",
    "    plot_defo_image(\n",
    "        ds_clipped_2year,\n",
    "        date=dd,\n",
    "        ax=ax,\n",
    "        lonticks=lonticks,\n",
    "        latticks=latticks,\n",
    "        cmap=cmap,\n",
    "        vm=vm,\n",
    "        bbox=bbox,\n",
    "        cbar_label=\"[cm]\",\n",
    "        scale_bar_km=scale_bar_km,\n",
    "        scale_loc=scale_loc,\n",
    "    )\n",
    "    eqs = gdf_eqs_growclust.clip(geometry.box(*bbox))\n",
    "    eqs[eqs.yr.isin(yrs)].plot(\n",
    "        markersize=1,\n",
    "        ax=ax,\n",
    "        zorder=5,\n",
    "        color=\"black\",\n",
    "    )\n",
    "    ax.set_title(dt_to_title(dd))\n",
    "    # break"
   ]
  },
  {
   "cell_type": "code",
   "execution_count": null,
   "id": "e784f3ec-0d38-47d8-a0df-033723710e1d",
   "metadata": {},
   "outputs": [],
   "source": [
    "fig.savefig(\"../figures/chapter5-lowess/figure-results-eqs.pdf\", dpi=300)"
   ]
  },
  {
   "cell_type": "code",
   "execution_count": null,
   "id": "ca647ac3-8711-4e7a-8e1b-e9a8d28b99c9",
   "metadata": {},
   "outputs": [],
   "source": [
    "gdf_eqs_growclust.columns"
   ]
  },
  {
   "cell_type": "code",
   "execution_count": null,
   "id": "8bef46cd-976f-4c41-8350-3002c3adcd74",
   "metadata": {},
   "outputs": [],
   "source": [
    "fig.savefig(\"../figures/chapter5-lowess/figure-cmez-zoom.pdf\", dpi=300)"
   ]
  },
  {
   "cell_type": "markdown",
   "id": "1bd6f0ef-2508-4b54-90c7-58c3f24966d8",
   "metadata": {},
   "source": [
    "## Transects through fault deformation"
   ]
  },
  {
   "cell_type": "code",
   "execution_count": null,
   "id": "656d700f-1811-455c-9164-97a23e19ace1",
   "metadata": {},
   "outputs": [],
   "source": [
    "from apertools import latlon\n",
    "\n",
    "npoints = 500\n",
    "\n",
    "# start1 = -104.22, 31.8\n",
    "# end1 = -104.49, 31.475\n",
    "start1 = -104.19, 31.75\n",
    "end1 = -104.15, 31.49\n",
    "\n",
    "transect1 = utils.transect(ds_clipped_2year, start1, end1, npoints)\n",
    "total_dist1 = latlon.latlon_to_dist(start1[::-1], end1[::-1])\n",
    "transect1[\"index\"] = transect1[\"index\"] / transect1[\"index\"].max() * total_dist1 / 1e3\n",
    "\n",
    "\n",
    "start2 = -104.368, 31.75\n",
    "end2 = -104.4, 31.55\n",
    "transect2 = utils.transect(ds_clipped_2year, start2, end2, npoints)\n",
    "total_dist2 = latlon.latlon_to_dist(start2[::-1], end2[::-1])\n",
    "transect2[\"index\"] = transect2[\"index\"] / transect2[\"index\"].max() * total_dist2 / 1e3\n",
    "\n",
    "\n",
    "transect_sm1 = transect1.rolling(index=10, min_periods=1).mean()[\n",
    "    ::2\n",
    "]  # get only 1/3/5th transect\n",
    "transect_sm2 = transect2.rolling(index=10, min_periods=1).mean()[::2]\n",
    "\n",
    "transect_sm1"
   ]
  },
  {
   "cell_type": "markdown",
   "id": "0c289e5f-0b95-4040-aa44-6c89d2fdc708",
   "metadata": {},
   "source": [
    "## *Figure 5.13: transect "
   ]
  },
  {
   "cell_type": "code",
   "execution_count": null,
   "id": "57400850-f355-42b7-9d57-4344071e15aa",
   "metadata": {},
   "outputs": [],
   "source": [
    "bbox = (-104.62, 31.45, -103.9, 31.9)\n",
    "d1, d2, d3 = \"2017-12-31\", \"2019-12-31\", \"2021-12-31\"\n",
    "cmap = \"seismic_wide_y\"\n",
    "vm = 2.5\n",
    "\n",
    "yrs = [2020, 2021]\n",
    "dd = d3\n",
    "lonticks = [-104.5, -104.25, -104.0]\n",
    "latticks = [31.5, 31.75]\n",
    "scale_bar_km = 20\n",
    "scale_loc = (0.2, 0.88)\n",
    "pad_pct = 0.0\n",
    "\n",
    "fig = pplt.figure(\n",
    "    share=False, refwidth=5\n",
    ")  # refwidth=3.3, refheight=2, sharex=False, sharey=False)\n",
    "\n",
    "ncols = 15\n",
    "gs = pplt.GridSpec(nrows=2, ncols=ncols, hratios=(1.5, 0.8))\n",
    "ax = fig.add_subplot(gs[0, 1:-1], proj=\"pcarree\", labels=False, dms=False, abc=\"(a)\")\n",
    "\n",
    "\n",
    "plot_defo_image(\n",
    "    ds_clipped_2year,\n",
    "    date=dd,\n",
    "    ax=ax,\n",
    "    lonticks=lonticks,\n",
    "    latticks=latticks,\n",
    "    cmap=cmap,\n",
    "    vm=vm,\n",
    "    bbox=bbox,\n",
    "    pad_pct=pad_pct,\n",
    "    scale_bar_km=scale_bar_km,\n",
    "    scale_loc=scale_loc,\n",
    "    cbar_label=\"[cm]\",\n",
    ")\n",
    "ax.set_title(dt_to_title(dd))\n",
    "\n",
    "dx = dy = 0.01\n",
    "transect_color = \"gray\"\n",
    "ax.plot(transect_sm1.lon, transect_sm1.lat, zorder=3, lw=2, linestyle=\"dashed\", color=transect_color)\n",
    "ax.text(transect_sm1.lon[0] - dx, transect_sm1.lat[0] + dy, \"(c)\", weight=\"bold\")\n",
    "\n",
    "ax.plot(transect_sm2.lon, transect_sm2.lat, zorder=3, lw=2, linestyle=\"dashed\", color=transect_color)\n",
    "ax.text(transect_sm2.lon[0] - dx, transect_sm2.lat[0] + dy, \"(b)\", weight=\"bold\")\n",
    "\n",
    "left, right, bot, top = plotting.padded_extent(bbox, pad_pct)\n",
    "# left, bot, right, top = bbox\n",
    "\n",
    "eqs = gdf_eqs_growclust.clip(geometry.box(*bbox))\n",
    "eqs[eqs.yr.isin(yrs) & (eqs.mag > 1.5)].plot(\n",
    "    markersize=1,\n",
    "    ax=ax,\n",
    "    zorder=5,\n",
    "    color=\"black\",\n",
    "    # column=\"depR\",\n",
    "    # cmap=\"Purples\",\n",
    "    # legend=True,\n",
    "    # legend_kwds={\"label\": \"Depth [km]\"},\n",
    "    # vmax=7,\n",
    "    # vmin=2.5,\n",
    ")\n",
    "gdf_mentone_eq = gdf_eqs_growclust[gdf_eqs_growclust['mag'] > 4.9]\n",
    "gdf_mentone_eq.plot(ax=ax, markersize=120, color=\"purple\", zorder=6)\n",
    "ax.text(gdf_mentone_eq.lonR, gdf_mentone_eq.latR + 2*dy, \"M5.0\", weight=\"bold\", color=\"purple\")\n",
    "\n",
    "ax.set_title(dt_to_title(dd))\n",
    "\n",
    "\n",
    "##### Transect plots #####\n",
    "labels = [dt_to_title(dd) for dd in [d1, d2, d3]]\n",
    "\n",
    "lw = 2.5\n",
    "\n",
    "\n",
    "ax = fig.subplot(gs[1, : ncols // 2], abc=\"(a)\", grid=True)\n",
    "lines = transect_sm2.plot.line(hue=\"date\", add_legend=False, ax=ax, lw=lw)\n",
    "ax.format(ylabel=\"[cm]\", title=\"\", xlabel=\"Distance along transect [km]\")\n",
    "\n",
    "\n",
    "ax = fig.subplot(gs[1, ncols // 2 :], abc=\"(a)\", grid=True)  # sharey=ax,\n",
    "lines = transect_sm1.plot.line(hue=\"date\", add_legend=False, ax=ax, lw=lw)\n",
    "# ax.legend(lines, labels, ncols=1, loc=\"ur\")\n",
    "ax.format(ylabel=\"[cm]\", title=\"\", xlabel=\"Distance along transect [km]\")\n",
    "\n",
    "fig.legend(lines, labels, loc=\"bottom\", frame=False)"
   ]
  },
  {
   "cell_type": "code",
   "execution_count": null,
   "id": "7252f2bf-d9f2-4504-9d15-bdc68ebbb839",
   "metadata": {},
   "outputs": [],
   "source": [
    "fig.savefig(\"../figures/chapter5-lowess/figure-cmez-zoom-transect.pdf\", dpi=300)"
   ]
  },
  {
   "cell_type": "code",
   "execution_count": null,
   "id": "2fe91118-9d54-46dc-8581-3b2ca0de6f68",
   "metadata": {},
   "outputs": [],
   "source": [
    "labels = [dt_to_title(dd) for dd in [d1, d2, d3]]\n",
    "fig, axes = pplt.subplots(ncols=2, refwidth=3, refheight=2.4, share=False, abc=\"(a)\")\n",
    "\n",
    "ax = axes[0]\n",
    "lines = transect_sm1.plot.line(hue=\"date\", add_legend=False, ax=ax)\n",
    "ax.legend(lines, labels, ncols=1, loc=\"ur\")\n",
    "ax.format(ylabel=\"[cm]\", title=\"\", xlabel=\"Distance along transect [km]\")\n",
    "\n",
    "ax = axes[1]\n",
    "lines = transect_sm2.plot.line(hue=\"date\", add_legend=False, ax=ax)\n",
    "ax.legend(lines, labels, ncols=1, loc=\"ur\")\n",
    "ax.format(ylabel=\"[cm]\", title=\"\", xlabel=\"Distance along transect [km]\")"
   ]
  },
  {
   "cell_type": "code",
   "execution_count": null,
   "id": "0f6a3b07-b103-4a58-9483-e2cfcd394b44",
   "metadata": {},
   "outputs": [],
   "source": [
    "fig.savefig(\"../figures/chapter5-lowess/figure-cmez-transects.pdf\", dpi=300)"
   ]
  },
  {
   "cell_type": "code",
   "execution_count": null,
   "id": "058ca4d2-7c98-460b-bf76-86c20502d631",
   "metadata": {},
   "outputs": [],
   "source": [
    "bbox = (-104.52, 31.45, -103.98, 31.9)\n",
    "yrs = [2020, 2021]\n",
    "dd = d3\n",
    "lonticks = [-104.5, -104.25, -104.0]\n",
    "latticks = [31.5, 31.75]\n",
    "scale_bar_km = 20\n",
    "scale_loc = (0.2, 0.88)\n",
    "pad_pct = 0.4\n",
    "\n",
    "fig = pplt.figure(sharex=False, sharey=False, figsize=(6, 6))\n",
    "\n",
    "ax = fig.subplot(211, abc=\"(a)\", projection=\"pcarree\", labels=False, dms=False)\n",
    "# plot_defo_image(\n",
    "#     ds_clipped_2year, date=dd, ax=ax, lonticks=lonticks, latticks=latticks,\n",
    "#     cmap=cmap, vm=vm, bbox=bbox, scale_bar_km=scale_bar_km, scale_loc=scale_loc,\n",
    "#     add_scale_bar=False,\n",
    "# )\n",
    "\n",
    "_, ax = plotting.map_background(\n",
    "    # image=ds_clipped_2year[-1],\n",
    "    image=np.random.rand(*ds_clipped_2year[-1].shape),\n",
    "    bbox=bbox,\n",
    "    bbox_image=bbox,\n",
    "    pad_pct=pad_pct,\n",
    "    ax=ax,\n",
    "    vmax=vm,\n",
    "    vmin=-vm,\n",
    "    cmap=cmap,\n",
    "    interpolation=\"nearest\",\n",
    ")\n",
    "\n",
    "left, right, bot, top = plotting.padded_extent(bbox, pad_pct)\n",
    "# left, bot, right, top = bbox\n",
    "ax.format(\n",
    "    # lonlim=(left, right),\n",
    "    # latlim=(bot, top),\n",
    "    labels=False,\n",
    "    dms=False,\n",
    "    lonlines=1,\n",
    "    latlines=1,\n",
    ")\n",
    "ax.format(\n",
    "    lonlim=(left, right),\n",
    "    latlim=(bot, top),\n",
    ")\n",
    "# ax.set_extent((left, right, bot, top))\n",
    "ax.set_xticks(lonticks)\n",
    "ax.set_yticks(latticks)\n",
    "lw = 4\n",
    "ax.tick_params(axis=\"both\", which=\"major\", pad=lw)\n",
    "\n",
    "plotting.add_zebra_frame(ax, lw=3)\n",
    "\n",
    "\n",
    "# ax.set_title(dt_to_title(dd))\n",
    "# ax.plot(transect_sm1.lon, transect_sm1.lat, zorder=3, lw=2, linestyle='dashed')\n",
    "# ax.plot(transect_sm2.lon, transect_sm2.lat, zorder=3, lw=2, linestyle='dashed')"
   ]
  },
  {
   "cell_type": "code",
   "execution_count": null,
   "id": "05927b57-d6ba-4c62-89b9-e16b0cd27f63",
   "metadata": {},
   "outputs": [],
   "source": [
    "ax.get_extent(), ax.get_xticks()"
   ]
  },
  {
   "cell_type": "code",
   "execution_count": null,
   "id": "8dee6bf3-3c7f-4ca9-83be-677a76f87e02",
   "metadata": {},
   "outputs": [],
   "source": [
    "bbox, plotting.padded_extent(bbox, pad_pct)"
   ]
  },
  {
   "cell_type": "markdown",
   "id": "9af436f0-76da-4aee-ad8a-24fb028f988c",
   "metadata": {},
   "source": [
    "# Precise GPS solutions"
   ]
  },
  {
   "cell_type": "code",
   "execution_count": null,
   "id": "45d85811-a7b9-447c-b643-8222d6d2f52f",
   "metadata": {},
   "outputs": [],
   "source": [
    "pppdir = Path(\n",
    "    \"/Users/scott/Documents/Learning/masters-thesis/bettadpur-precise-gps-gpsppp/\"\n",
    ")\n",
    "# pd.read_csv?"
   ]
  },
  {
   "cell_type": "code",
   "execution_count": null,
   "id": "19341a83-a8fe-4110-9fdf-aba138e4c040",
   "metadata": {},
   "outputs": [],
   "source": [
    "from apertools import gps, gps_plots, latlon, los"
   ]
  },
  {
   "cell_type": "code",
   "execution_count": null,
   "id": "93c9c18a-46b8-47db-8fd6-77d86359897b",
   "metadata": {},
   "outputs": [],
   "source": [
    "def read_ppp_gps(filename):\n",
    "    df = pd.read_csv(\n",
    "        filename,\n",
    "        sep=r\"\\s+\",\n",
    "        names=[\"MJD\", \"date\", \"x\", \"y\", \"z\"],\n",
    "        header=None,\n",
    "        parse_dates=[\"date\"],\n",
    "    )\n",
    "    return df[[\"date\", \"x\", \"y\", \"z\"]].set_index(\"date\")"
   ]
  },
  {
   "cell_type": "code",
   "execution_count": null,
   "id": "58204389-539d-43ad-8087-516d8c6886e4",
   "metadata": {},
   "outputs": [],
   "source": [
    "gpsfiles = list(pppdir.glob(\"*\"))\n",
    "df0 = read_ppp_gps(gpsfiles[0])\n",
    "df1 = read_ppp_gps(gpsfiles[1])\n",
    "df0.tail()"
   ]
  },
  {
   "cell_type": "code",
   "execution_count": null,
   "id": "02299c2f-c933-4e82-bf3e-d86b4f1c0cb6",
   "metadata": {},
   "outputs": [],
   "source": [
    "(100 * (df0 - df0.iloc[0])).plot()"
   ]
  },
  {
   "cell_type": "code",
   "execution_count": null,
   "id": "1207b520-070d-47e3-8e3c-3c87df35acbb",
   "metadata": {},
   "outputs": [],
   "source": [
    "(100 * (df1 - df1.iloc[0])).plot()"
   ]
  },
  {
   "cell_type": "code",
   "execution_count": null,
   "id": "24ee8329-4f5b-452b-9e24-f161e0b5a80a",
   "metadata": {},
   "outputs": [],
   "source": [
    "lat, lon = 31.0, -104.0\n",
    "enu0 = los.rotate_xyz_to_enu(df0.values.T, lat, lon).T\n",
    "enu1 = los.rotate_xyz_to_enu(df1.values.T, lat, lon).T\n",
    "\n",
    "\n",
    "df_enu0 = df0.copy()\n",
    "df_enu1 = df1.copy()\n",
    "\n",
    "df_enu0.columns = df_enu1.columns = [\"e\", \"n\", \"u\"]\n",
    "df_enu0[:] = (enu0 - enu0[0]) * 100\n",
    "df_enu1[:] = (enu1 - enu1[0]) * 100\n",
    "\n",
    "df_enu0.head()"
   ]
  },
  {
   "cell_type": "code",
   "execution_count": null,
   "id": "b35e7b70-1434-4c62-b093-508a20da27d4",
   "metadata": {},
   "outputs": [],
   "source": [
    "# %%timeit\n",
    "# apertools.los.rotate_xyz_to_enu(df1.values.T, lat, lon).T.shape\n",
    "# %%timeit\n",
    "# latlon.xyz_to_enu_proj(df0.x, df0.y, df0.z)[2].shape\n",
    "# es, ns, ups = latlon.xyz_to_enu_proj(df0.x, df0.y, df0.z)\n",
    "# df_enu0_2 = df0.copy()\n",
    "# df_enu0_2.columns = ['e', 'n', 'u']\n",
    "# df_enu0_2['e'] = es\n",
    "# df_enu0_2['n'] = ns\n",
    "# df_enu0_2['u'] = ups\n",
    "# # df_enu0_2['e'] = es - es[0]\n",
    "# # df_enu0_2['n'] = ns - ns[0]\n",
    "# # df_enu0_2['u'] = ups - ups[0]"
   ]
  },
  {
   "cell_type": "code",
   "execution_count": null,
   "id": "b0b9c4d3-8bec-465d-9c24-a857eea0d889",
   "metadata": {},
   "outputs": [],
   "source": [
    "df_enu0.plot()"
   ]
  },
  {
   "cell_type": "code",
   "execution_count": null,
   "id": "cdb48b03-5898-4d8a-b28e-1fcd2c2d5c55",
   "metadata": {},
   "outputs": [],
   "source": [
    "df_ppp_diff = df_enu1 - df_enu0\n",
    "ax = df_ppp_diff.rolling(3, min_periods=1).mean().plot(lw=2)\n",
    "ax.set_ylim(-2, 2)"
   ]
  },
  {
   "cell_type": "code",
   "execution_count": null,
   "id": "91ae1616-6be9-466b-b698-086f75c7c77f",
   "metadata": {},
   "outputs": [],
   "source": [
    "df_txkm_enu = gps.load_station_enu(\n",
    "    \"TXKM\", start_date=\"2015-01-01\", end_date=\"2020-01-01\"\n",
    ")\n",
    "\n",
    "df_txmh_enu = gps.load_station_enu(\n",
    "    \"TXMH\", start_date=\"2015-01-01\", end_date=\"2020-01-01\"\n",
    ")"
   ]
  },
  {
   "cell_type": "code",
   "execution_count": null,
   "id": "8a84a4f9-d26a-4ae2-8af1-f324421b912e",
   "metadata": {},
   "outputs": [],
   "source": [
    "df_diff_sm = (df_txmh_enu - df_txkm_enu).rolling(21, min_periods=1).mean()\n",
    "# ax = df_diff_sm.plot(linestyle=\"none\", marker=\".\", alpha=0.5)\n",
    "ax = df_diff_sm.plot(lw=2)\n",
    "ax.set_ylim(-2, 2)\n",
    "# df_txkm_enu.plot(linestyle=\"none\", marker=\".\", alpha=0.5)"
   ]
  },
  {
   "cell_type": "code",
   "execution_count": null,
   "id": "8a8c1f7e-6ade-4a76-b143-8a2bf047968c",
   "metadata": {},
   "outputs": [],
   "source": [
    "s = \"TXAD\"\n",
    "# gps_plots.plot_gps_enu(station=s)\n",
    "gps_plots.plot_gps_los(s,"
   ]
  },
  {
   "cell_type": "markdown",
   "id": "51d22c72-a5b6-456a-b3d5-a98cef262fdc",
   "metadata": {},
   "source": [
    "# GPS Comparison plots"
   ]
  },
  {
   "cell_type": "code",
   "execution_count": null,
   "id": "50210714-b98a-4040-a032-05d178224847",
   "metadata": {},
   "outputs": [],
   "source": [
    "!pwd"
   ]
  },
  {
   "cell_type": "code",
   "execution_count": null,
   "id": "1c0a571e-f99d-4c2e-b719-da60bcc87ce6",
   "metadata": {},
   "outputs": [],
   "source": [
    "ds78boots = xr.open_zarr(\"defo_los_path78_bootstrap.zarr\")\n",
    "ds78boots"
   ]
  },
  {
   "cell_type": "code",
   "execution_count": null,
   "id": "2f2c15ad-b84e-4216-a88b-d3ce12550d2c",
   "metadata": {},
   "outputs": [],
   "source": [
    "ds78boots.defo_lowess_std.attrs"
   ]
  },
  {
   "cell_type": "markdown",
   "id": "d7b555bf-7ca5-4c2c-9579-7530817c122b",
   "metadata": {},
   "source": [
    "## Path 78"
   ]
  },
  {
   "cell_type": "code",
   "execution_count": null,
   "id": "4e5dc3df-5539-4bc5-9bc7-1d3e7ad5aa34",
   "metadata": {},
   "outputs": [],
   "source": [
    "# ds_78\n",
    "# ds78full.to_zarr(\"defo_los_path78.zarr\")\n",
    "try:\n",
    "    ds78full.close()\n",
    "except:\n",
    "    pass\n",
    "ds78full = xr.open_zarr(\"./defo_los_path78.zarr/\")\n",
    "ds78boots = xr.open_zarr(\"defo_los_path78_bootstrap.zarr\")\n",
    "ds78full[\"defo_lowess_std\"] = ds78boots[\"defo_lowess_std\"]\n",
    "ds78boots.close()\n",
    "ds78full"
   ]
  },
  {
   "cell_type": "code",
   "execution_count": null,
   "id": "c78eb9f7-8477-43ae-a3a5-6f7023ff5c96",
   "metadata": {},
   "outputs": [],
   "source": [
    "ds85full = xr.open_zarr(\"./defo_los_path78.zarr/\")"
   ]
  },
  {
   "cell_type": "code",
   "execution_count": null,
   "id": "ee92f643-aa40-4bd3-b9e7-e7bad910921a",
   "metadata": {},
   "outputs": [],
   "source": [
    "# %pdb\n",
    "reference_station = \"TXKM\"\n",
    "igc = gps.InsarGPSCompare(\n",
    "    # insar_ds=ds_78,\n",
    "    insar_ds=ds78full,\n",
    "    dset=\"defo_lowess_2year\",\n",
    "    los_dset=\"los_enu\",\n",
    "    window_size=11,\n",
    "    # max_nan_pct=self.gps_max_nan_pct,\n",
    "    days_smooth_gps=30,\n",
    "    reference_station=reference_station,\n",
    "    insar_std_dset=\"defo_lowess_std\",\n",
    ")\n",
    "df, df_diff = igc.run()\n",
    "\n",
    "drop_cols = [\n",
    "    f\"{reference_station}_gps\",\n",
    "    f\"{reference_station}_insar\",\n",
    "    f\"{reference_station}_diff\",\n",
    "    f\"{reference_station}_std\",\n",
    "]\n",
    "ref_df = df[drop_cols]\n",
    "df = df.drop(\n",
    "    columns=drop_cols,\n",
    "    errors=\"ignore\",\n",
    ")\n",
    "\n",
    "df_diff_ref = df_diff.loc[f\"{reference_station}\"]\n",
    "df_diff = df_diff.drop(labels=[f\"{reference_station}\"], errors=\"ignore\")"
   ]
  },
  {
   "cell_type": "code",
   "execution_count": null,
   "id": "5345f9a7-7721-4699-bf4b-86400eca56d8",
   "metadata": {},
   "outputs": [],
   "source": [
    "df_diff.sort_values(\"velo_diff\")"
   ]
  },
  {
   "cell_type": "code",
   "execution_count": null,
   "id": "69f115e8-c4ec-4fac-a8b0-f180c4d8c38b",
   "metadata": {},
   "outputs": [],
   "source": [
    "# df_diff.sort_values(\"velo_diff\")\n",
    "# sorted(df.columns)"
   ]
  },
  {
   "cell_type": "code",
   "execution_count": null,
   "id": "8bfb5588-955d-424d-96c0-7fdd1c746567",
   "metadata": {},
   "outputs": [],
   "source": [
    "df_diff.loc[[\"TXFS\", \"TXSO\"], :]"
   ]
  },
  {
   "cell_type": "markdown",
   "id": "810a5ae2-78c4-4a77-8d13-23209372ed11",
   "metadata": {},
   "source": [
    "## *Figure 5.5: 2 example stations with noisy InSAR"
   ]
  },
  {
   "cell_type": "code",
   "execution_count": null,
   "id": "f57089b0-3526-4c71-8f51-fc10238ab89d",
   "metadata": {},
   "outputs": [],
   "source": [
    "# fig, axes = pplt.subplots(ncols=2)\n",
    "ss = [\"TXFS\", \"TXSO\"]\n",
    "# for ax, s in axip(axes, ss):\n",
    "cols = [c for c in df.columns if any([s in c for s in ss])]\n",
    "fig, axes, lines = gps_plots.plot_all_stations(\n",
    "    df[cols],\n",
    "    df_diff.loc[ss, :],\n",
    "    ncols=2,\n",
    "    # ylim=(-5.5, 5.5),\n",
    "    figsize=(5.5, 2.5),\n",
    "    lw_insar=3,\n",
    "    lw_gps=2.5,\n",
    "    # color_gps=\"C1\",\n",
    "    # color_insar=\"C2\",\n",
    "    # outname=self.figure_directory / \"insar_gps_plots.pdf\",\n",
    "    abc=\"(a)\",\n",
    "    share=True,\n",
    "    return_lines=True,\n",
    "    days_smooth_gps=0,\n",
    "    shift_gps=True,\n",
    ")\n",
    "\n",
    "\n",
    "for ax, s in zip(axes, ss):\n",
    "    lon, lat = gps.station_lonlat(s)\n",
    "    ts = utils.window_stack_xr(\n",
    "        ds78full[\"defo_noisy\"], lon=lon, lat=lat, window_size=11\n",
    "    ).load()\n",
    "    l4 = ax.plot(ts.date, ts, alpha=0.8, marker=\".\", color=\"gray\", zorder=-1)\n",
    "    lines.append(l4)\n",
    "# fig.legend(lines, [\"GPS\", \"Smoothed GPS\", \"LOWESS InSAR\", \"Noisy InSAR\"], loc='bottom', frame=False, ncols=2)\n",
    "fig.legend(lines, [\"GPS\", \"LOWESS InSAR\", \"Noisy InSAR\"], loc=\"bottom\", frame=False)"
   ]
  },
  {
   "cell_type": "code",
   "execution_count": null,
   "id": "05db6271-89ff-4766-bd06-8281e786d939",
   "metadata": {},
   "outputs": [],
   "source": [
    "fig.savefig(\"../figures/chapter5-lowess/gps_path78_2plots.pdf\", dpi=200)"
   ]
  },
  {
   "cell_type": "code",
   "execution_count": null,
   "id": "87737500-8a9d-419c-b27e-a0e10063e1ed",
   "metadata": {},
   "outputs": [],
   "source": [
    "# fig, axes = pplt.subplots(ncols=2)\n",
    "ss = [\"TXFS\", \"TXSO\"]\n",
    "# for ax, s in axip(axes, ss):\n",
    "cols = [c for c in df.columns if any([s in c for s in ss])]\n",
    "fig, axes = gps_plots.plot_all_stations(\n",
    "    df[cols],\n",
    "    df_diff.loc[ss, :],\n",
    "    ncols=2,\n",
    "    ylim=(-5.5, 5.5),\n",
    "    figsize=(6.5, 2.25),\n",
    "    lw_insar=4,\n",
    "    lw_gps=4,\n",
    "    color_gps=\"C1\",\n",
    "    color_insar=\"C2\",\n",
    "    # outname=self.figure_directory / \"insar_gps_plots.pdf\",\n",
    "    abc=\"(a)\",\n",
    "    plot_std=True,\n",
    ")\n",
    "\n",
    "\n",
    "for ax, s in zip(axes, ss):\n",
    "    lon, lat = gps.station_lonlat(s)\n",
    "    ts = utils.window_stack_xr(\n",
    "        ds78full[\"defo_noisy\"], lon=lon, lat=lat, window_size=11\n",
    "    ).load()\n",
    "    ax.plot(ts.date, ts, alpha=0.5, marker=\".\", color=\"gray\", zorder=-1)"
   ]
  },
  {
   "cell_type": "markdown",
   "id": "41abf9cb-a73b-44a2-8840-834811eaca44",
   "metadata": {},
   "source": [
    "## *Figure 5.6: Full comparison"
   ]
  },
  {
   "cell_type": "code",
   "execution_count": null,
   "id": "88f43db2-1ae3-47a1-8c48-9b39c371d2dc",
   "metadata": {},
   "outputs": [],
   "source": [
    "fig, axes, lines, rms_diff = gps_plots.plot_all_stations(\n",
    "    df,\n",
    "    df_diff,\n",
    "    ncols=int(np.sqrt(len(df_diff))),\n",
    "    ylim=(-2, 2),\n",
    "    figsize=(8, 8),\n",
    "    # outname=\"../figures/chapter5-lowess/gps_path78.pdf\",\n",
    "    # color_gps=\"C1\",\n",
    "    color_insar=\"C1\",\n",
    "    lw_insar=2,\n",
    "    # lw_gps=0,\n",
    "    days_smooth_gps=0,\n",
    "    return_lines=True,\n",
    "    return_rms=True,\n",
    "    shift_gps=True,\n",
    ")\n",
    "fig.legend(lines, [\"GPS\", \"LOWESS InSAR\"], loc=\"bottom\", frame=False)"
   ]
  },
  {
   "cell_type": "code",
   "execution_count": null,
   "id": "b43b6e8f-cc99-4125-89c9-0f0fc10a929e",
   "metadata": {},
   "outputs": [],
   "source": [
    "fig.savefig(\"../figures/chapter5-lowess/gps_path78.pdf\", dpi=200)"
   ]
  },
  {
   "cell_type": "code",
   "execution_count": null,
   "id": "9e7afdfb-810d-4f27-bf89-c941cd83e231",
   "metadata": {},
   "outputs": [],
   "source": []
  },
  {
   "cell_type": "code",
   "execution_count": null,
   "id": "a6cd2ae9-91dc-4601-a175-c3c35d83ce7d",
   "metadata": {},
   "outputs": [],
   "source": [
    "rms_diff"
   ]
  },
  {
   "cell_type": "code",
   "execution_count": null,
   "id": "15aca0a4-4d7b-412e-92cc-ece07411aa2f",
   "metadata": {},
   "outputs": [],
   "source": [
    "df_rms_diff = pd.DataFrame(rms_diff).T\n",
    "df_rms_diff.columns = [\"rms\", \"maxabs\"]\n",
    "df_rms_diff"
   ]
  },
  {
   "cell_type": "code",
   "execution_count": null,
   "id": "12fb2abe-b2d6-46a5-958d-9eec0299cb5f",
   "metadata": {},
   "outputs": [],
   "source": [
    "print(df_rms_diff.agg([\"mean\", \"max\"]))"
   ]
  },
  {
   "cell_type": "markdown",
   "id": "d1cf064e-415a-4016-9f92-c0c9a3d65bc1",
   "metadata": {},
   "source": [
    "### Table summaries"
   ]
  },
  {
   "cell_type": "code",
   "execution_count": null,
   "id": "d1e2e1e8-85aa-47b5-8638-1dc259a9b174",
   "metadata": {},
   "outputs": [],
   "source": [
    "def rms(x):\n",
    "    return np.sqrt(np.nanmean(x ** 2))\n",
    "\n",
    "\n",
    "def maxabs(x):\n",
    "    return np.nanmax(np.abs(x))"
   ]
  },
  {
   "cell_type": "code",
   "execution_count": null,
   "id": "da3b9d2d-f5c5-4e00-9a87-170d190951eb",
   "metadata": {},
   "outputs": [],
   "source": [
    "fig, ax = pplt.subplots()\n",
    "df[\"TXSO_gps\"].plot(ax=ax)\n",
    "df_gps_sm[\"TXSO\"].plot(ax=ax)"
   ]
  },
  {
   "cell_type": "code",
   "execution_count": null,
   "id": "61fc14dc-0468-4080-8993-2d1eaf4b69c6",
   "metadata": {},
   "outputs": [],
   "source": [
    "diffcols = [c for c in df.columns if c.endswith(\"_diff\")]\n",
    "insarcols = [c.replace(\"_diff\", \"_insar\") for c in diffcols]\n",
    "gpscols = [c.replace(\"_diff\", \"_gps\") for c in diffcols]\n",
    "station_names = [c.replace(\"_diff\", \"\") for c in diffcols]\n",
    "\n",
    "gps_rolling_window = 360\n",
    "df_gps_sm = df[gpscols].rolling(gps_rolling_window, min_periods=1).mean()\n",
    "df_gps_sm.columns = station_names\n",
    "\n",
    "df_full_insar = df[insarcols]\n",
    "df_full_insar.columns = station_names\n",
    "df_full_diffs = (df_gps_sm - df_full_insar).dropna(how=\"all\")\n",
    "# df_full_diffs.head()"
   ]
  },
  {
   "cell_type": "markdown",
   "id": "9a508f7b-7221-4c33-8483-da73e34bf521",
   "metadata": {},
   "source": [
    "$$\n",
    "\\sum_{i=0}^{N} (x_i - c)^2 = \\sum_{i=0}^{N} (x_i^2 - 2cx_i + c^2) \\\\\n",
    "0 =  \\sum_{i=0}^{N} (- 2x_i + 2c) \\\\\n",
    " \\sum_{i=0}^{N} x_i = Nc \\\\\n",
    "c = E[x]\n",
    "$$"
   ]
  },
  {
   "cell_type": "code",
   "execution_count": null,
   "id": "3a6a6fc7-5436-4d68-89ed-ad2cb8acd396",
   "metadata": {},
   "outputs": [],
   "source": [
    "df_full_diffs2 = df[diffcols].dropna(how=\"all\")\n",
    "df_full_diffs2.columns = station_names\n",
    "# df_full_diffs2.head()"
   ]
  },
  {
   "cell_type": "code",
   "execution_count": null,
   "id": "cedd1bf5-2b2d-4b2d-9bc2-a2feabf10a21",
   "metadata": {},
   "outputs": [],
   "source": [
    "pd.set_option(\"display.float_format\", \"{:.2f}\".format)"
   ]
  },
  {
   "cell_type": "code",
   "execution_count": null,
   "id": "0e0431c0-cd04-47c4-b61e-38b2e8cda29e",
   "metadata": {},
   "outputs": [],
   "source": [
    "# Bug with this: https://github.com/pandas-dev/pandas/issues/41768\n",
    "# df_full_diffs.agg([rms, maxabs])\n",
    "\n",
    "summary_table = df_full_diffs.apply(\n",
    "    lambda r: pd.Series({\"RMS_diff\": rms(r), \"max_abs_diff\": maxabs(r)})\n",
    ")\n",
    "print(summary_table.T.agg([\"mean\", \"max\"]))\n",
    "summary_table  # [cm]"
   ]
  },
  {
   "cell_type": "code",
   "execution_count": null,
   "id": "654cb533-7f8a-4439-b5af-df25ce142b28",
   "metadata": {},
   "outputs": [],
   "source": [
    "np.abs(df_diff).agg([\"mean\", \"max\"])  # mm / year"
   ]
  },
  {
   "cell_type": "markdown",
   "id": "4292cc9a-1593-4249-8d8a-cb943572be0a",
   "metadata": {},
   "source": [
    "### *Version with error bars"
   ]
  },
  {
   "cell_type": "code",
   "execution_count": null,
   "id": "17db847c-6f74-4d25-aca8-8596a4dbfd84",
   "metadata": {},
   "outputs": [],
   "source": [
    "pplt.rc[\"font.size\"]"
   ]
  },
  {
   "cell_type": "code",
   "execution_count": null,
   "id": "afde8118-4900-4c0c-9633-7844961417f9",
   "metadata": {},
   "outputs": [],
   "source": [
    "fig, axes, lines, rms_diff = gps_plots.plot_all_stations(\n",
    "    df,\n",
    "    df_diff,\n",
    "    ncols=int(np.sqrt(len(df_diff))),\n",
    "    ylim=(-2, 2),\n",
    "    figsize=(8, 8),\n",
    "    # outname=\"../figures/chapter5-lowess/gps_path78.pdf\",\n",
    "    # color_gps=\"C1\",\n",
    "    color_insar=\"C1\",\n",
    "    lw_insar=2,\n",
    "    # lw_gps=0,\n",
    "    days_smooth_gps=0,\n",
    "    return_lines=True,\n",
    "    return_rms=True,\n",
    "    shift_gps=True,\n",
    "    plot_std=True,\n",
    "    alpha_std=0.4,\n",
    "    color_std=\"C2\",\n",
    ")\n",
    "fig.legend(lines, [\"GPS\", \"2 $\\sigma_{boot}$\", \"LOWESS InSAR\"], loc=\"bottom\", frame=False)\n"
   ]
  },
  {
   "cell_type": "code",
   "execution_count": null,
   "id": "feb128d1-cfc3-46c4-9220-03117deb6c4b",
   "metadata": {},
   "outputs": [],
   "source": [
    "fig.savefig(\"../figures/chapter5-lowess/gps_path78_with_sigma.pdf\")"
   ]
  },
  {
   "cell_type": "code",
   "execution_count": null,
   "id": "e76e7a32-624d-4872-bdc4-0814de949138",
   "metadata": {},
   "outputs": [],
   "source": [
    "# fig ,ax = pplt.subplots(nrows=2)\n",
    "ax = df[\"TXSO_gps\"].rolling(30, min_periods=1).mean().plot()\n",
    "df[\"TXSO_insar\"].dropna().plot(ax=ax, lw=3)\n",
    "# ax = axes[0]\n",
    "df_full_diffs[\"TXSO\"].plot(ax=ax, lw=1)\n",
    "ax.grid()\n",
    "# ax = axes[1]\n",
    "# df['TXSO_gps'].rolling(30, min_periods=1).mean().plot(ax=ax)"
   ]
  },
  {
   "cell_type": "code",
   "execution_count": null,
   "id": "8a01c072-be66-4c57-b130-3ee0abe74c43",
   "metadata": {},
   "outputs": [],
   "source": [
    "ds78full[\"defo_lowess_std\"][-1].plot.imshow(vmax=1, cmap=\"plasma\")"
   ]
  },
  {
   "cell_type": "code",
   "execution_count": null,
   "id": "9ad2e836-f705-4e95-a0ad-3136c7862bb4",
   "metadata": {},
   "outputs": [],
   "source": [
    "insar_cols = [c for c in df.columns if c.endswith(\"insar\") or c.endswith(\"std\")]\n",
    "df_nona_insar = df[insar_cols].dropna(how=\"all\")"
   ]
  },
  {
   "cell_type": "markdown",
   "id": "88a345c9-086f-4979-8944-9ba6bf9b8fc9",
   "metadata": {},
   "source": [
    "### Testing stuff with different windows"
   ]
  },
  {
   "cell_type": "code",
   "execution_count": null,
   "id": "9391046a-66d7-43b6-badd-56d4a29e9837",
   "metadata": {},
   "outputs": [],
   "source": [
    "# (df[\"TXFS_gps\"] - ref_df[\"TXKM_gps\"]).plot(marker=\"x\")\n",
    "# (df[\"TXFS_insar\"] - ref_df[\"TXKM_insar\"]).plot(marker=\"x\")\n",
    "# (df['TXFS_gps'] - df['TXKM_gps']).plot(marker='x')\n",
    "# df['TXFS_diff'].plot(marker='x')\n",
    "\n",
    "fig, ax = pplt.subplots()\n",
    "ax = df[\"TXFS_gps\"].plot(marker=\".\", ax=ax, alpha=0.4)\n",
    "# ax.errorbar(df.index, df[\"TXFS_insar\"], yerr=df[\"TXFS_std\"])\n",
    "# df_nona = df.dropna(how='all')\n",
    "ax.fill_between(\n",
    "    df_nona_insar.index,\n",
    "    df_nona_insar[\"TXFS_insar\"] - df_nona_insar[\"TXFS_std\"],\n",
    "    df_nona_insar[\"TXFS_insar\"] + df_nona_insar[\"TXFS_std\"],\n",
    "    alpha=0.8,\n",
    "    color=\"cyan\",\n",
    "    zorder=5,\n",
    ")\n",
    "# ax = df_nona['TXFS_insar'].plot(marker='.', ax=ax)\n",
    "ax = df_nona_insar[\"TXFS_insar\"].plot(\n",
    "    ax=ax,\n",
    "    lw=2.5,\n",
    "    zorder=6,\n",
    ")\n",
    "ax.grid(True)\n",
    "ax.set_ylim(-2, 2)"
   ]
  },
  {
   "cell_type": "code",
   "execution_count": null,
   "id": "9abaf039-5856-4104-a755-fd21fbfae5c3",
   "metadata": {},
   "outputs": [],
   "source": [
    "# df['TXFS_insar']"
   ]
  },
  {
   "cell_type": "code",
   "execution_count": null,
   "id": "aa46cd65-f705-48f1-82dd-b3b2e89aeefe",
   "metadata": {},
   "outputs": [],
   "source": [
    "# df.iloc[-1]"
   ]
  },
  {
   "cell_type": "code",
   "execution_count": null,
   "id": "2b2be1ad-7502-4c6d-8ecd-a57fe74015b5",
   "metadata": {},
   "outputs": [],
   "source": [
    "lon, lat = gps.station_lonlat(\"TXOZ\")\n",
    "ds78full[\"defo_lowess_2year\"][-1].sel(lon=lon, lat=lat, method=\"nearest\").load()"
   ]
  },
  {
   "cell_type": "code",
   "execution_count": null,
   "id": "8624eb91-4e9b-4619-a60f-7be2a61a1c5b",
   "metadata": {},
   "outputs": [],
   "source": [
    "lon, lat = gps.station_lonlat(\"TXBG\")\n",
    "\n",
    "for w in range(1, 16, 2):\n",
    "    print(\n",
    "        w,\n",
    "        utils.window_stack_xr(\n",
    "            ds78full[\"defo_lowess_2year\"][-1], lon=lon, lat=lat, window_size=w\n",
    "        )\n",
    "        .load()\n",
    "        .item(),\n",
    "    )"
   ]
  },
  {
   "cell_type": "code",
   "execution_count": null,
   "id": "4f4f94c9-75f0-47f5-b8e1-d99ffb0f9e35",
   "metadata": {},
   "outputs": [],
   "source": [
    "for w in range(1, 8, 2):\n",
    "    print(\n",
    "        utils.window_stack_xr(ds_78[-1], lon=lon, lat=lat, window_size=w).load().item()\n",
    "    )"
   ]
  },
  {
   "cell_type": "code",
   "execution_count": null,
   "id": "50652380-78d8-47b1-a23e-0cbca337656e",
   "metadata": {},
   "outputs": [],
   "source": [
    "def shift_latlon(da, full_pixel=False, down_right=False, copy=True):\n",
    "\n",
    "    denom = 1 if full_pixel else 2\n",
    "    if down_right:\n",
    "        denom *= -1\n",
    "\n",
    "    dlat = np.diff(da.lat)[0]\n",
    "    dlon = np.diff(da.lon)[0]\n",
    "    lats = da.lat.copy()\n",
    "    lons = da.lon.copy()\n",
    "    lats = lats - dlat / denom\n",
    "    lons = lons - dlon / denom\n",
    "\n",
    "    out_da = da if not copy else da.copy()\n",
    "    out_da[\"lon\"] = lons\n",
    "    out_da[\"lat\"] = lats\n",
    "    return out_da"
   ]
  },
  {
   "cell_type": "code",
   "execution_count": null,
   "id": "9de44972-e118-48c4-a037-c6d280a9d944",
   "metadata": {},
   "outputs": [],
   "source": [
    "shift_latlon(ds78full[\"defo_lowess_2year\"][-1], down_right=True).lat[:3]"
   ]
  },
  {
   "cell_type": "code",
   "execution_count": null,
   "id": "00636428-eaa5-4e62-841a-9bd70e170de5",
   "metadata": {},
   "outputs": [],
   "source": [
    "lon, lat = gps.station_lonlat(\"TXOZ\")\n",
    "\n",
    "for w in range(1, 8, 2):\n",
    "    print(\n",
    "        utils.window_stack_xr(\n",
    "            shift_latlon(ds78full[\"defo_lowess_2year\"][-1], down_right=True),\n",
    "            lon=lon,\n",
    "            lat=lat,\n",
    "            window_size=w,\n",
    "        )\n",
    "        .load()\n",
    "        .item()\n",
    "    )"
   ]
  },
  {
   "cell_type": "code",
   "execution_count": null,
   "id": "be28f84a-4a8d-44f7-8728-cf738a833c42",
   "metadata": {},
   "outputs": [],
   "source": [
    "reference_station = \"TXKM\"\n",
    "igc = gps.InsarGPSCompare(\n",
    "    # insar_ds=ds_78,\n",
    "    insar_ds=shift_latlon(ds78full, down_right=True),\n",
    "    dset=\"defo_lowess_2year\",\n",
    "    los_dset=\"los_enu\",\n",
    "    window_size=3,\n",
    "    # max_nan_pct=self.gps_max_nan_pct,\n",
    "    days_smooth_gps=30,\n",
    "    # reference_station=reference_station,\n",
    ")\n",
    "df, df_diff = igc.run()\n",
    "df = df.drop(\n",
    "    columns=[\n",
    "        f\"{reference_station}_gps\",\n",
    "        f\"{reference_station}_insar\",\n",
    "        f\"{reference_station}_diff\",\n",
    "    ],\n",
    "    errors=\"ignore\",\n",
    ")\n",
    "df_diff = df_diff.drop(labels=[f\"{reference_station}\"], errors=\"ignore\")"
   ]
  },
  {
   "cell_type": "code",
   "execution_count": null,
   "id": "c8f13fba-da5b-4d33-88d9-597e6fa386da",
   "metadata": {},
   "outputs": [],
   "source": [
    "gps_plots.plot_all_stations(\n",
    "    df,\n",
    "    df_diff,\n",
    "    ncols=int(np.sqrt(len(df_diff))),\n",
    "    ylim=(-2, 2),\n",
    "    # figsize=self.figsize,\n",
    "    # outname=self.figure_directory / \"insar_gps_plots.pdf\",\n",
    ")"
   ]
  },
  {
   "cell_type": "code",
   "execution_count": null,
   "id": "e32e5f28-52d8-45ea-86d4-752d452b5722",
   "metadata": {},
   "outputs": [],
   "source": [
    "s = \"TXBG\"\n",
    "lon, lat = gps.station_lonlat(s)\n",
    "\n",
    "ts = utils.window_stack_xr(\n",
    "    shift_latlon(ds78full[\"defo_lowess_2year\"], down_right=True),\n",
    "    lon=lon,\n",
    "    lat=lat,\n",
    "    window_size=3,\n",
    ")\n",
    "\n",
    "ts_noisy = utils.window_stack_xr(\n",
    "    shift_latlon(ds78full[\"defo_noisy\"], down_right=True),\n",
    "    lon=lon,\n",
    "    lat=lat,\n",
    "    window_size=3,\n",
    ")\n",
    "ts_gps = gps.load_gps_los(\n",
    "    s, los_da=ds78full[\"los_enu\"], start_date=\"2014-11-01\", end_date=\"2022-03-31\"\n",
    ")\n",
    "ts_gps_sm = ts_gps.rolling(30, min_periods=1).mean()"
   ]
  },
  {
   "cell_type": "code",
   "execution_count": null,
   "id": "38d50c80-4eaa-4232-9070-29ca75a5eb46",
   "metadata": {},
   "outputs": [],
   "source": []
  },
  {
   "cell_type": "code",
   "execution_count": null,
   "id": "6656a436-1d59-44bd-98ea-c4711270118f",
   "metadata": {},
   "outputs": [],
   "source": [
    "fig, ax = pplt.subplots(figsize=(6, 3))\n",
    "ts_gps.plot(ax=ax)\n",
    "ts_noisy.plot(ax=ax)\n",
    "ts.plot(ax=ax)\n",
    "\n",
    "ax.grid(True)"
   ]
  },
  {
   "cell_type": "code",
   "execution_count": null,
   "id": "458a5387-7a0b-46b1-965a-773539ab032e",
   "metadata": {},
   "outputs": [],
   "source": [
    "import statsmodels.api as sm\n",
    "\n",
    "lowess_sm = sm.nonparametric.lowess"
   ]
  },
  {
   "cell_type": "code",
   "execution_count": null,
   "id": "36a393b2-9cd9-4042-9c1e-67a16a71649b",
   "metadata": {},
   "outputs": [],
   "source": [
    "f"
   ]
  },
  {
   "cell_type": "code",
   "execution_count": null,
   "id": "501a75c4-78a1-4ce5-bc91-214f998ba3a0",
   "metadata": {},
   "outputs": [],
   "source": [
    "%timeit lowess_sm(ts_noisy.values, x, frac=f, it=2).T[1].shape"
   ]
  },
  {
   "cell_type": "code",
   "execution_count": null,
   "id": "beca6143-9fdc-479c-8d7d-fc34914c88a1",
   "metadata": {},
   "outputs": [],
   "source": [
    "%timeit lowess_sm(ts_noisy.values, x, frac=f, it=2, delta=30).T[1].shape"
   ]
  },
  {
   "cell_type": "code",
   "execution_count": null,
   "id": "51dc4288-f24c-4e28-9ca6-0e5c970439a7",
   "metadata": {},
   "outputs": [],
   "source": [
    "x_sub = x[::10]\n",
    "%timeit lowess_sm(ts_noisy.values, x, frac=f, it=2, xvals=x_sub).shape"
   ]
  },
  {
   "cell_type": "code",
   "execution_count": null,
   "id": "79302b7b-9df6-4efe-aad9-3e108b8bba61",
   "metadata": {},
   "outputs": [],
   "source": [
    "y1 = lowess_sm(ts_noisy.values, x, frac=f, it=2, xvals=x)\n",
    "y10 = lowess_sm(ts_noisy.values, x, frac=f, it=2, xvals=x[::10])"
   ]
  },
  {
   "cell_type": "code",
   "execution_count": null,
   "id": "05f68616-4c78-4668-9dde-dabe0f631598",
   "metadata": {},
   "outputs": [],
   "source": [
    "%timeit lowess.lowess_pixel(ts_noisy.values, x, frac=f).shape"
   ]
  },
  {
   "cell_type": "code",
   "execution_count": null,
   "id": "b59dc277-17d8-4d25-ba84-2b619c9f4424",
   "metadata": {},
   "outputs": [],
   "source": [
    "%timeit lowess.lowess_pixel(ts_noisy.values, x, frac=f, x_out=x[::10]).shape"
   ]
  },
  {
   "cell_type": "code",
   "execution_count": null,
   "id": "e05d9505-eee0-4e1e-80a2-4d2d533f0c37",
   "metadata": {},
   "outputs": [],
   "source": [
    "x = lowess.date2num(ds78full.date)\n",
    "x_sub = x[::10]\n",
    "lowess.lowess_pixel(ts_noisy.values, x, frac=f, x_out=x_sub).shape\n",
    "# lowess.lowess_pixel(ts_noisy.values, x, frac=f).shape"
   ]
  },
  {
   "cell_type": "code",
   "execution_count": null,
   "id": "01b6620e-a3d4-4a7b-b77f-329bd11d6f60",
   "metadata": {},
   "outputs": [],
   "source": [
    "fig, ax = pplt.subplots(figsize=(9, 5))\n",
    "\n",
    "s = \"TXBG\"\n",
    "# s = \"TXSO\"\n",
    "lon, lat = gps.station_lonlat(s)\n",
    "\n",
    "ts = utils.window_stack_xr(\n",
    "    shift_latlon(ds78full[\"defo_lowess_2year\"], down_right=True),\n",
    "    lon=lon,\n",
    "    lat=lat,\n",
    "    window_size=3,\n",
    ")\n",
    "\n",
    "ts_noisy = utils.window_stack_xr(\n",
    "    shift_latlon(ds78full[\"defo_noisy\"], down_right=True),\n",
    "    lon=lon,\n",
    "    lat=lat,\n",
    "    window_size=3,\n",
    ")\n",
    "ts_gps = gps.load_gps_los(\n",
    "    s, los_da=ds78full[\"los_enu\"], start_date=\"2014-11-01\", end_date=\"2022-03-31\"\n",
    ")\n",
    "ts_gps_sm = ts_gps.rolling(30, min_periods=1).mean()\n",
    "\n",
    "\n",
    "ts_gps.plot(ax=ax)\n",
    "ts_gps_sm.plot(ax=ax)\n",
    "ts_noisy.plot(ax=ax)\n",
    "# ts.plot(ax=ax, lw=2)\n",
    "ax.grid(True)\n",
    "\n",
    "\n",
    "x = lowess.date2num(ds78full.date)\n",
    "n = len(x)\n",
    "\n",
    "for mp in [20, 30, 40, 50]:\n",
    "    f = lowess.find_frac(x, 365 * 2, how=\"any\", min_points=mp)\n",
    "    print(f\"{mp = }, {f = :.2f}\")\n",
    "    # f = lowess._find_frac(x, 365*2, how='all')\n",
    "    y_sm = lowess.lowess_pixel(ts_noisy.values, x, frac=f)\n",
    "\n",
    "    ax.plot(ts_noisy.date, y_sm, lw=2, label=mp)\n",
    "ax.legend()"
   ]
  },
  {
   "cell_type": "code",
   "execution_count": null,
   "id": "d019c290-6666-44f6-b78c-3a413d29eb9d",
   "metadata": {},
   "outputs": [],
   "source": [
    "fig, ax = pplt.subplots(figsize=(5, 3))\n",
    "\n",
    "ts_gps.plot(ax=ax)\n",
    "ts_gps_sm.plot(ax=ax)\n",
    "# ts_noisy.plot(ax=ax)\n",
    "ts.plot(ax=ax)\n",
    "\n",
    "ax.plot(ts_noisy.date, y_sm, lw=2, label=mp)\n",
    "ax.set_ylim(-2, 2)\n",
    "ax.legend()"
   ]
  },
  {
   "cell_type": "code",
   "execution_count": null,
   "id": "b41d1e51-4877-4c6a-bebe-1a5e050d3d50",
   "metadata": {},
   "outputs": [],
   "source": [
    "day_diffs = np.abs(x.reshape((-1, 1)) - x.reshape((1, -1)))\n",
    "plt.figure(figsize=(8, 8))\n",
    "# plt.imshow(day_diffs, vmax=2.5*365);\n",
    "plt.imshow(np.clip(day_diffs, None, 2 * 365))\n",
    "plt.colorbar()"
   ]
  },
  {
   "cell_type": "code",
   "execution_count": null,
   "id": "1ca47b4a-b3b4-465c-a217-46308794c242",
   "metadata": {},
   "outputs": [],
   "source": [
    "# Check bootstrap widths\n",
    "\n",
    "fig, ax = pplt.subplots(figsize=(9, 5))\n",
    "\n",
    "\n",
    "ts_gps.plot(ax=ax)\n",
    "ts_gps_sm.plot(ax=ax)\n",
    "ts_noisy.plot(ax=ax)\n",
    "# ts.plot(ax=ax, lw=2)\n",
    "ax.grid(True)\n",
    "\n",
    "\n",
    "x = lowess.date2num(ds78full.date)\n",
    "n = len(x)\n",
    "\n",
    "for mp in [30, 45, 60]:\n",
    "    f = lowess.find_frac(x, 365 * 2, how=\"any\", min_points=mp)\n",
    "    print(f\"{mp = }, {f = :.2f}\")\n",
    "    # f = lowess._find_frac(x, 365*2, how='all')\n",
    "    # y_sm = lowess.lowess_pixel(ts_noisy.values, x, frac=f)\n",
    "\n",
    "    lowess.plot_bootstrap(x=x, y=ts_noisy.values, frac=f, ax=ax)\n",
    "\n",
    "    # ax.plot(ts_noisy.date, y_sm, lw=2, label=mp)\n",
    "ax.legend()"
   ]
  },
  {
   "cell_type": "code",
   "execution_count": null,
   "id": "828b2640-f460-49f3-99fc-7c90d8e90b5a",
   "metadata": {},
   "outputs": [],
   "source": [
    "lowess.bootstrap_lowess"
   ]
  },
  {
   "cell_type": "markdown",
   "id": "80e88f02-cbb0-4185-8e1e-007a1896ce60",
   "metadata": {},
   "source": [
    "### Comparing bootstrap standard deviations with different fractions"
   ]
  },
  {
   "cell_type": "code",
   "execution_count": null,
   "id": "2d387792-7035-4031-a1ff-3730f9612a78",
   "metadata": {},
   "outputs": [],
   "source": [
    "# s = \"TXBG\"\n",
    "s = \"TXSO\"\n",
    "lon, lat = gps.station_lonlat(s)\n",
    "\n",
    "ts_noisy = utils.window_stack_xr(\n",
    "    utils.shift_latlon(ds78full[\"defo_noisy\"], down_right=True),\n",
    "    lon=lon,\n",
    "    lat=lat,\n",
    "    window_size=3,\n",
    ")\n",
    "ts_gps = gps.load_gps_los(\n",
    "    s,\n",
    "    los_da=ds78full[\"los_enu\"],\n",
    "    start_date=\"2014-11-01\",\n",
    "    # end_date=\"2022-01-31\",\n",
    "    end_date=ds78full.indexes[\"date\"][-1],\n",
    ")\n",
    "# ts_gps_sm = ts_gps.rolling(30, min_periods=1).mean()\n",
    "\n",
    "x = lowess.date2num(ds78full.date)\n",
    "n = len(x)"
   ]
  },
  {
   "cell_type": "code",
   "execution_count": null,
   "id": "e43b8a1d-73ad-456d-b536-0d6e51792cd8",
   "metadata": {},
   "outputs": [],
   "source": [
    "span_days = x[-1] - x[0]\n",
    "\n",
    "# # Specify the frac, get the number of years\n",
    "# fracs = np.array([0.15, 0.2, 0.3, 0.4, 0.5])\n",
    "# fracs_yrs = fracs * span_days / 365.25\n",
    "\n",
    "\n",
    "# Specify the years, get the frac\n",
    "# fracs_yrs = np.array([0.5, 1.0, 1.5, 2.0, 2.5, 3.0])\n",
    "fracs_yrs = np.array([0.5, 1.0, 2.0, 3.0])\n",
    "# fracs = fracs_yrs * 365.25 / span_days\n",
    "fracs = np.array([lowess.find_frac(x, min_x_weighted=y*365.25, min_points=0) for y in fracs_yrs])\n",
    "\n",
    "fracs"
   ]
  },
  {
   "cell_type": "code",
   "execution_count": null,
   "id": "b76bf3b3-96b7-4d8f-b719-fae2a83c6355",
   "metadata": {},
   "outputs": [],
   "source": [
    "labels = []\n",
    "bootstraps_dict = {}\n",
    "for idx, (f, f_yrs) in enumerate(zip(fracs, fracs_yrs)):\n",
    "    label = f\"{f_yrs:.1f} years\"\n",
    "    labels.append(label)\n",
    "    print(f, label)\n",
    "\n",
    "    y_sm = lowess.lowess_pixel(ts_noisy.values, x, frac=f)\n",
    "    bootstraps = lowess.bootstrap_lowess(ts_noisy.values, x, frac=f, K=1000)\n",
    "    # m, std = lowess.bootstrap_mean_std(ts_noisy.values, x, frac=f, K=1000)\n",
    "    abnormal_idxs = (\n",
    "        np.abs(bootstraps).max(axis=1) > np.abs(ts_noisy).max().compute().item()\n",
    "    )\n",
    "    bootstraps = bootstraps[~abnormal_idxs]\n",
    "    mean = np.nanmean(bootstraps, axis=0)\n",
    "    std = np.nanstd(bootstraps, axis=0)\n",
    "    bootstraps_dict[label] = bootstraps, mean, std, y_sm"
   ]
  },
  {
   "cell_type": "code",
   "execution_count": null,
   "id": "357d9d54-c22c-470c-a0fe-f5a165923b7a",
   "metadata": {},
   "outputs": [],
   "source": [
    "print(bootstraps_dict[\"2.0 years\"][0].shape)\n",
    "bootstraps, mean, std, y_sm = bootstraps_dict[labels[0]]\n",
    "\n",
    "maxidx, _ = np.unravel_index(np.argmax(np.abs(bootstraps)), bootstraps.shape)\n",
    "plt.plot(bootstraps[maxidx])"
   ]
  },
  {
   "cell_type": "code",
   "execution_count": null,
   "id": "8797f115-d05f-493c-9a54-a6ce3b3858fc",
   "metadata": {},
   "outputs": [],
   "source": [
    "pplt.rc[\"grid.alpha\"] = 0.3"
   ]
  },
  {
   "cell_type": "markdown",
   "id": "1c7045d6-c73f-493d-bf49-02d98b479bea",
   "metadata": {},
   "source": [
    "### *Figure 5.6?"
   ]
  },
  {
   "cell_type": "code",
   "execution_count": null,
   "id": "dfc8b68f-1212-4e3f-9c93-7f7420c85807",
   "metadata": {},
   "outputs": [],
   "source": [
    "fig, axes = pplt.subplots(abc=\"(a)\", nrows=2, ncols=2, figsize=(9, 6), share=False)\n",
    "\n",
    "# ax = axes[0]\n",
    "\n",
    "# # ts_gps.plot(ax=ax, linestyle=\"none\", marker=\".\", label=\"GPS\", ms=2)\n",
    "# l1 = ax.plot(ts_gps.index, ts_gps, linestyle=\"none\", marker=\".\", label=\"GPS\", ms=2)\n",
    "# # l2 = ts_gps_sm.plot(ax=ax)\n",
    "\n",
    "# dts = ts_noisy.indexes[\"date\"].to_pydatetime()\n",
    "\n",
    "# plot_params = dict(alpha=0.8, marker=\".\", color=\"gray\", zorder=-1)\n",
    "# # ts_noisy.plot(ax=ax, label=\"$\\mathbf{\\phi}$\",  **plot_params)\n",
    "# l3 = ax.plot(dts, ts_noisy, label=\"$\\mathbf{\\phi}$\", **plot_params)\n",
    "\n",
    "# ax.format(ylabel=\"LOS [cm]\")\n",
    "# ax.legend(frame=False)\n",
    "# # ax.legend([l1, l3], [\"GPS\", \"$\\mathbf{\\phi}$\"])\n",
    "\n",
    "mean_color = \"k\"\n",
    "# mean_color = \"C1\"\n",
    "###########################\n",
    "\n",
    "ax = axes[1]\n",
    "label = labels[2]\n",
    "\n",
    "for label, ax in zip(labels[::2], axes[:2]):\n",
    "\n",
    "    # ax.plot(dts, ts_noisy, label=\"$\\mathbf{\\phi}$\",  **plot_params)\n",
    "    # for idx, (label, f_yrs) in enumerate(zip(labels, fracs_yrs)):\n",
    "\n",
    "    bootstraps, mean, std, y_sm = bootstraps_dict[label]\n",
    "    # idxs = np.unique(np.argmax(np.abs(bootstraps), axis=0))\n",
    "    idxs = slice(None, 80)\n",
    "    lines = ax.plot(dts, bootstraps[idxs].T, color=f\"C2\", alpha=0.3)\n",
    "    # l1 = ax.plot(ts_gps.index, ts_gps, linestyle=\"none\", marker=\".\", label=\"GPS\", ms=2)\n",
    "    # ax.plot(ts_noisy.date, mean, color=f\"gray\", lw=2)\n",
    "    l2 = ax.plot(dts, y_sm, color=mean_color, lw=2)\n",
    "    ax.sharey(axes[0])\n",
    "\n",
    "    ax.format(title=f\"$\\gamma$ = {label}\", ylabel=\"LOS [cm]\")\n",
    "    print(label)\n",
    "    ax.legend([lines[0], l2], [\"Bootstraps\", \"Mean\"], frame=False)\n",
    "\n",
    "\n",
    "###########################\n",
    "\n",
    "ax = axes[2]\n",
    "\n",
    "# label = labels[2]\n",
    "label = \"2.0 years\"\n",
    "\n",
    "l1 = ax.plot(ts_gps.index, ts_gps, linestyle=\"none\", marker=\".\", label=\"GPS\", ms=2)\n",
    "\n",
    "plot_params = dict(alpha=0.8, marker=\".\", color=\"gray\", zorder=-1)\n",
    "# l1 = ax.plot(dts, ts_noisy, label=\"$\\mathbf{\\phi}$\", **plot_params)\n",
    "l2 = ax.plot(dts, y_sm, color=mean_color, lw=2)\n",
    "l3 = ax.fill_between(dts, y_sm - 2 * std, y_sm + 2 * std, color=f\"C2\", alpha=0.4)\n",
    "\n",
    "ax.format(ylabel=\"LOS [cm]\", ylim=(-3, 3))\n",
    "ax.legend([l1, l2, l3], [\"GPS\", \"LOWESS\", \"2 $\\sigma_{boot}$\"], loc=\"lr\", frame=False)\n",
    "\n",
    "\n",
    "###############################\n",
    "\n",
    "ax = axes[-1]\n",
    "\n",
    "for idx, (label, f_yrs) in enumerate(zip(labels, fracs_yrs)):\n",
    "    bootstraps, mean, std, y_sm = bootstraps_dict[label]\n",
    "\n",
    "    ax.plot(dts, std, label=label.strip(\" years\"), color=f\"C{idx}\")\n",
    "    # ax.plot(dts, -std, color=f\"C{idx}\")\n",
    "\n",
    "ax.format(ylabel=\"$\\sigma_{boot}$ [cm]\")#, ylim=(-1, 1))  # , ylim=(0, None), )\n",
    "# ax.sharey(axes[-2])\n",
    "ax.legend(loc='bottom', frame=False, ncols=4)\n",
    "# ax.legend(frame=False)\n",
    "axes.format(grid=True, xlabel=\"\")"
   ]
  },
  {
   "cell_type": "code",
   "execution_count": null,
   "id": "ac5491b2-53e5-4ad6-b72a-227bbe7d2c39",
   "metadata": {},
   "outputs": [],
   "source": [
    "fig.savefig(\"../figures/chapter5-lowess/figure-results-bootstrap.pdf\")"
   ]
  },
  {
   "cell_type": "code",
   "execution_count": null,
   "id": "f539d5e0-9c24-43d3-a848-cad6e19091dd",
   "metadata": {},
   "outputs": [],
   "source": [
    "fig, ax = pplt.subplots()\n",
    "\n",
    "for idx, (label, f_yrs) in enumerate(zip(labels, fracs_yrs)):\n",
    "    bootstraps, mean, std, y_sm = bootstraps_dict[label]\n",
    "\n",
    "    ax.plot(dts, std, label=label, color=f\"C{idx}\")\n",
    "    ax.plot(dts, -std, color=f\"C{idx}\")\n",
    "\n",
    "ax.format(ylabel=\"LOWESS std. dev.\", xlabel=\"\", grid=True)  # , ylim=(0, None), )\n",
    "\n",
    "ax.legend()"
   ]
  },
  {
   "cell_type": "code",
   "execution_count": null,
   "id": "414778dd-b8bf-45e7-ae04-a377d2ea94df",
   "metadata": {},
   "outputs": [],
   "source": [
    "plotting.hvplot_stack(ds78full.defo_noisy, vm=6)"
   ]
  },
  {
   "cell_type": "code",
   "execution_count": null,
   "id": "71c9a16a-e0f6-4c2b-9b61-81db941a6de7",
   "metadata": {},
   "outputs": [],
   "source": [
    "plt.figure()\n",
    "# plt.plot(ts_noisy.values)\n",
    "ts_noisy.plot(marker=\"o\", linestyle=\"none\", ms=6)\n",
    "plt.grig(True)"
   ]
  },
  {
   "cell_type": "code",
   "execution_count": null,
   "id": "0be56619-2092-41de-9608-120485efb2b5",
   "metadata": {},
   "outputs": [],
   "source": [
    "fig, ax = pplt.subplots(figsize=(6, 3))\n",
    "ts_noisy.plot(ax=ax)\n",
    "ts.plot(ax=ax)"
   ]
  },
  {
   "cell_type": "code",
   "execution_count": null,
   "id": "75514b02-1246-43b4-a753-09e768b14028",
   "metadata": {},
   "outputs": [],
   "source": [
    "# df.to_csv(self.out_directory / \"insar_gps.csv\")\n",
    "# df_diff.to_csv(self.out_directory / \"insar_gps_diffs.csv\")"
   ]
  }
 ],
 "metadata": {
  "kernelspec": {
   "display_name": "Python 3 (ipykernel)",
   "language": "python",
   "name": "python3"
  },
  "language_info": {
   "codemirror_mode": {
    "name": "ipython",
    "version": 3
   },
   "file_extension": ".py",
   "mimetype": "text/x-python",
   "name": "python",
   "nbconvert_exporter": "python",
   "pygments_lexer": "ipython3",
   "version": "3.8.6"
  }
 },
 "nbformat": 4,
 "nbformat_minor": 5
}
