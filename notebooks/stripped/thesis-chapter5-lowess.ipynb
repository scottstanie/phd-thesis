{
 "cells": [
  {
   "cell_type": "code",
   "execution_count": null,
   "id": "0e297eee-49e2-4710-805c-480a89e3fb48",
   "metadata": {},
   "outputs": [],
   "source": [
    "import os\n",
    "from pathlib import Path\n",
    "\n",
    "import hvplot.xarray\n",
    "import matplotlib.pyplot as plt\n",
    "import numpy as np\n",
    "import pandas as pd\n",
    "import panel as pn\n",
    "import proplot as pplt\n",
    "import seaborn as sns\n",
    "import xarray as xr\n",
    "from apertools import lowess, plotting, utils\n",
    "from numpy.fft import fft, fftfreq, fftshift, ifft\n",
    "from scipy import signal, stats\n",
    "from troposim import igram_sim, turbulence\n",
    "\n",
    "pn.extension()\n",
    "# pplt.rc.update({\"subplots.share\": False, \"subplots.span\": False})\n",
    "\n",
    "\n",
    "sns.set_style(style=\"white\")\n",
    "# plotting.set_style(size=16)\n",
    "\n",
    "\n",
    "RNG = np.random.default_rng()\n",
    "\n",
    "%matplotlib inline\n",
    "# %matplotlib widget\n",
    "\n",
    "%load_ext autoreload\n",
    "%autoreload 2"
   ]
  },
  {
   "cell_type": "code",
   "execution_count": null,
   "id": "e9e6c2b5-b6fb-48e1-ae0e-f3cb4af3e6a1",
   "metadata": {},
   "outputs": [],
   "source": [
    "# sns.set_style?"
   ]
  },
  {
   "cell_type": "markdown",
   "id": "d3f08aa7-33f9-4400-91b3-1587152ac568",
   "metadata": {},
   "source": [
    "# Chapter: Improved Robust Long-term Time Series Methods\n",
    "\n",
    "1. Limitations of stacking to long time series\n",
    "2. Robust Time Series Methods\n",
    "    1. Regularization (Supplement from GRL)\n",
    "    1. LPF by triangle filiter \n",
    "    1. LOWESS smoothing\n",
    "3. Synthetic Example\n",
    "    1. frequency response of triangle\n",
    "    1. response of LOWESS\n",
    "4. 7 Year Time Series for the Permian Basin\n",
    "    1. Comparison to GPS\n",
    "    2. Anthropogenic Caused Deformation Patterns"
   ]
  },
  {
   "cell_type": "code",
   "execution_count": null,
   "id": "4126f3c8-5e5a-4362-8795-ba28ae2b34e1",
   "metadata": {},
   "outputs": [],
   "source": [
    "r = 100\n",
    "b = 2.7\n",
    "N = 10\n",
    "shape = (100, 100)\n",
    "ny, nx = shape\n",
    "\n",
    "igm_g = igram_sim.IgramMaker(\n",
    "    num_days=N,\n",
    "    shape=shape,\n",
    "    distribution=\"normal\",\n",
    "    resolution=r,\n",
    "    p0_default=100,\n",
    "    to_cm=True,\n",
    ")\n",
    "igm_u = igram_sim.IgramMaker(\n",
    "    num_days=N,\n",
    "    shape=shape,\n",
    "    distribution=\"uniform\",\n",
    "    resolution=r,\n",
    "    p0_default=100,\n",
    "    to_cm=True,\n",
    ")\n",
    "\n",
    "sar_stack_u, sar_date_list = igm_u.make_sar_stack(beta=b)\n",
    "sar_stack_g, _ = igm_g.make_sar_stack(beta=b)"
   ]
  },
  {
   "cell_type": "code",
   "execution_count": null,
   "id": "a428c4c7-ad2e-4688-b55b-89bbb0fe9ffc",
   "metadata": {},
   "outputs": [],
   "source": [
    "sar_stack_g.max(), sar_stack_g.min()"
   ]
  },
  {
   "cell_type": "code",
   "execution_count": null,
   "id": "764fb99f-6374-4a65-ac31-b44fa15e0c4c",
   "metadata": {},
   "outputs": [],
   "source": [
    "plt.figure()\n",
    "plt.imshow(sar_stack_u[0])\n",
    "plt.colorbar()"
   ]
  },
  {
   "cell_type": "code",
   "execution_count": null,
   "id": "76c5c4cc-ce7f-4a55-990d-c8d86e1e8ebc",
   "metadata": {},
   "outputs": [],
   "source": [
    "s = sar_stack_u[sar_stack_u.max(axis=(1, 2)).argmax()]\n",
    "\n",
    "plt.figure()\n",
    "plt.imshow(s)\n",
    "plt.colorbar()"
   ]
  },
  {
   "cell_type": "code",
   "execution_count": null,
   "id": "b487cf74-c68a-430d-bf92-2b393ac8ae08",
   "metadata": {},
   "outputs": [],
   "source": [
    "fig, axes = plt.subplots(1, 2, figsize=(8, 3), sharex=True, sharey=True, squeeze=False)\n",
    "axes = axes.ravel()\n",
    "\n",
    "# axes[0].hist(sar_stack1.ravel())\n",
    "# axes[1].hist(sar_stack2.ravel())\n",
    "ax = axes[0]\n",
    "for s in sar_stack_g:\n",
    "    sns.kdeplot(x=s.ravel(), ax=ax)\n",
    "ax.set_title(\"Gaussian\")\n",
    "\n",
    "ax = axes[1]\n",
    "for s in sar_stack_u:\n",
    "    sns.kdeplot(x=s.ravel(), ax=ax)\n",
    "ax.set_title(\"Uniform\")"
   ]
  },
  {
   "cell_type": "code",
   "execution_count": null,
   "id": "d6319774-6359-4c40-bded-e5c3fd57fa03",
   "metadata": {},
   "outputs": [],
   "source": [
    "fig, ax = plt.subplots(figsize=(5, 5), sharex=True, sharey=True)\n",
    "\n",
    "sns.kdeplot(x=sar_stack_g.ravel(), ax=ax, label=\"Gaussian\")\n",
    "sns.kdeplot(x=sar_stack_u.ravel(), ax=ax, label=\"Uniform\")\n",
    "ax.legend()"
   ]
  },
  {
   "cell_type": "markdown",
   "id": "fd724797-5368-4a8a-bf79-d383cf969470",
   "metadata": {},
   "source": [
    "# Add defo "
   ]
  },
  {
   "cell_type": "code",
   "execution_count": null,
   "id": "90c0e7d9-c7f2-48ad-9325-c367523bbda9",
   "metadata": {},
   "outputs": [],
   "source": [
    "p0_rv = \"gamma\"\n",
    "p0_params = {\"scale\": 50, \"a\": 2, \"loc\": 2}\n",
    "\n",
    "plt.figure()\n",
    "xx = np.linspace(0, 250)\n",
    "\n",
    "plt.plot(xx, stats.gamma(**p0_params).pdf(xx))\n",
    "plt.xlabel(\"p0\")"
   ]
  },
  {
   "cell_type": "code",
   "execution_count": null,
   "id": "0f66d854-1296-4390-8be2-1c3932c40c32",
   "metadata": {},
   "outputs": [],
   "source": [
    "defo_rates = [2, -2]\n",
    "# num_days = 80 # 2.6 years\n",
    "num_days = 91  # 3 years\n",
    "r = 200  # resolution, m\n",
    "# b = 2.7\n",
    "\n",
    "shape = (300, 300)\n",
    "\n",
    "igm = igram_sim.IgramMaker(\n",
    "    num_days=num_days, shape=shape, resolution=r, to_cm=True, defo_rates=defo_rates\n",
    ")"
   ]
  },
  {
   "cell_type": "code",
   "execution_count": null,
   "id": "0c4ffb1d-5c9b-446b-9ea0-e05bce5edfe6",
   "metadata": {},
   "outputs": [],
   "source": []
  },
  {
   "cell_type": "code",
   "execution_count": null,
   "id": "c956a887-95c1-474b-b658-c33f5c8776ea",
   "metadata": {},
   "outputs": [],
   "source": [
    "# Draw the daily powers from an exponential\n",
    "\n",
    "seed = 1\n",
    "beta_arr_slopes = stats.norm.rvs(\n",
    "    loc=-2.6, scale=0.1, size=(num_days,), random_state=seed\n",
    ")\n",
    "beta_arr = np.vstack((-9.7 * np.ones(num_days), beta_arr_slopes)).T\n",
    "\n",
    "sar_stack, sar_date_list = igm.make_sar_stack(\n",
    "    beta=beta_arr, p0_params=p0_params, p0_rv=p0_rv, seed=seed\n",
    ")\n",
    "dd = igm.make_defo_stack(sigma=15)"
   ]
  },
  {
   "cell_type": "code",
   "execution_count": null,
   "id": "8144ce40-35d4-4001-bc47-4ef194b45b58",
   "metadata": {},
   "outputs": [],
   "source": [
    "sns.histplot(np.max(np.abs(sar_stack), axis=(1, 2)), bins=20)"
   ]
  },
  {
   "cell_type": "code",
   "execution_count": null,
   "id": "f7642c68-6f40-40d8-ac73-470e839aea6e",
   "metadata": {},
   "outputs": [],
   "source": [
    "plt.figure()\n",
    "plt.imshow(igm.sar_stack[4])\n",
    "plt.colorbar()"
   ]
  },
  {
   "cell_type": "code",
   "execution_count": null,
   "id": "4989a967-147f-42a5-8fb6-28d011248013",
   "metadata": {},
   "outputs": [],
   "source": [
    "plt.figure()\n",
    "plt.imshow(dd[4])\n",
    "plt.colorbar()"
   ]
  },
  {
   "cell_type": "code",
   "execution_count": null,
   "id": "0250d86f-9dca-4df5-83e9-1ca531e3d676",
   "metadata": {},
   "outputs": [],
   "source": [
    "dates = pd.to_datetime(igm.sar_date_list)\n",
    "dd_xr = utils.stack_to_xr(dd, z_coords=dates, dims=(\"date\", \"y\", \"x\"))\n",
    "noise_xr = utils.stack_to_xr(igm.sar_stack, z_coords=dates, dims=(\"date\", \"y\", \"x\"))"
   ]
  },
  {
   "cell_type": "code",
   "execution_count": null,
   "id": "0ed2cebf-3bed-4a5d-86b9-c5d2ab63f1c6",
   "metadata": {},
   "outputs": [],
   "source": [
    "# dd_xr\n",
    "# noise_xr"
   ]
  },
  {
   "cell_type": "code",
   "execution_count": null,
   "id": "fd104a5f-b393-4ab5-8a92-ad625bc116c9",
   "metadata": {},
   "outputs": [],
   "source": [
    "plotting.hvplot_stack(dd_xr, x=\"x\", y=\"y\")"
   ]
  },
  {
   "cell_type": "code",
   "execution_count": null,
   "id": "e7258477-f19b-41d4-9b7b-1febd32f70d6",
   "metadata": {},
   "outputs": [],
   "source": [
    "plotting.hvplot_stack(noise_xr, x=\"x\", y=\"y\")"
   ]
  },
  {
   "cell_type": "markdown",
   "id": "fc903401-cac6-482f-bea3-87682b7322a8",
   "metadata": {},
   "source": [
    "# Time series of center of deformation"
   ]
  },
  {
   "cell_type": "code",
   "execution_count": null,
   "id": "3a32dcf9-8d0d-48e2-af5e-7feccc037879",
   "metadata": {},
   "outputs": [],
   "source": []
  },
  {
   "cell_type": "code",
   "execution_count": null,
   "id": "41d0abed-5e83-49f0-9668-ad083b31539b",
   "metadata": {},
   "outputs": [],
   "source": [
    "noise = igm.sar_stack.copy()\n",
    "noise = noise - noise[:, 5, 5][:, None, None]\n",
    "# Make the day1 noise non-trivial\n",
    "# day1max = np.abs(noise[0]).max()\n",
    "\n",
    "# noisemids = np.abs(noise[:, ny//2, nx//2])\n",
    "noisemids = noise[:, ny // 2, nx // 2]\n",
    "# mid_idx = np.argmax(noisemids)\n",
    "mid_idx = np.argsort(noisemids)[-3]  # get 3rd largest, not max\n",
    "img1, img2 = noise[0], noise[mid_idx]\n",
    "noise[0] = img2\n",
    "noise[mid_idx] = img1\n",
    "\n",
    "# newmax = 2\n",
    "# noise[0] = (noise[0] / day1max) * newmax\n",
    "# save for later\n",
    "day1noise = noise[0].copy()\n",
    "# Subtract the day 1 from the rest:\n",
    "noise = noise - noise[0][None, :, :]\n",
    "\n",
    "defo = igm.defo_stack.copy()\n",
    "defo_plus_noise = noise + defo\n",
    "dn_xr = utils.stack_to_xr(defo_plus_noise, z_coords=dates, dims=(\"date\", \"y\", \"x\"))"
   ]
  },
  {
   "cell_type": "code",
   "execution_count": null,
   "id": "aa218685-e92b-45b3-bcb5-a1e714fe73fe",
   "metadata": {},
   "outputs": [],
   "source": [
    "day1noise.max(), day1noise.min()"
   ]
  },
  {
   "cell_type": "code",
   "execution_count": null,
   "id": "3c21b157-402e-4071-a369-3569a18a4af5",
   "metadata": {},
   "outputs": [],
   "source": [
    "nmax = np.abs(day1noise).max()\n",
    "plt.imshow(day1noise, cmap=\"seismic_wide_y_r\", vmax=nmax, vmin=-nmax)\n",
    "plt.colorbar()"
   ]
  },
  {
   "cell_type": "code",
   "execution_count": null,
   "id": "bcedb578-c16a-481f-acb0-95e97ff969c2",
   "metadata": {},
   "outputs": [],
   "source": [
    "plotting.hvplot_stack(dn_xr, x=\"x\", y=\"y\")"
   ]
  },
  {
   "cell_type": "code",
   "execution_count": null,
   "id": "4e514442-7a68-4bdb-a133-aaaa5c3a08aa",
   "metadata": {},
   "outputs": [],
   "source": [
    "dn_xr.std(dim=(\"date\")).shape"
   ]
  },
  {
   "cell_type": "code",
   "execution_count": null,
   "id": "49efe588-40cd-4019-bcde-42e2662df2e4",
   "metadata": {},
   "outputs": [],
   "source": [
    "plt.figure()\n",
    "dn_xr.std(dim=(\"date\")).plot.imshow()\n",
    "plt.figure()\n",
    "noise_xr.std(dim=(\"date\")).plot.imshow()"
   ]
  },
  {
   "cell_type": "code",
   "execution_count": null,
   "id": "8c26b012-ce50-4f96-bad4-0be9ef1a3b0a",
   "metadata": {},
   "outputs": [],
   "source": [
    "ts_noisy = dn_xr.sel(x=nx // 2, y=ny // 2).copy()\n",
    "ts_truth = dd_xr.sel(x=nx // 2, y=ny // 2).copy()\n",
    "\n",
    "sigma = 0.7\n",
    "ts_white_noise = ts_truth.copy() + RNG.normal(scale=sigma, size=len(ts_noisy))\n",
    "ts_white_noise -= ts_white_noise[0]"
   ]
  },
  {
   "cell_type": "code",
   "execution_count": null,
   "id": "6585b1ae-b281-4463-aa42-15b6e75a000a",
   "metadata": {},
   "outputs": [],
   "source": [
    "# stats.kstest?"
   ]
  },
  {
   "cell_type": "code",
   "execution_count": null,
   "id": "8c31b580-5ecd-4ec5-bfc4-745d4b68657c",
   "metadata": {},
   "outputs": [],
   "source": [
    "(\n",
    "    stats.kstest(ts_noisy.data - ts_truth.data, stats.norm.cdf),\n",
    "    stats.kstest(stats.norm.rvs(size=100), stats.norm.cdf),\n",
    "    stats.kstest(ts_white_noise.data - ts_truth.data, stats.norm.cdf),\n",
    ")"
   ]
  },
  {
   "cell_type": "code",
   "execution_count": null,
   "id": "312e4d76-709d-4009-aba3-07681db0b862",
   "metadata": {},
   "outputs": [],
   "source": [
    "fig, ax = plt.subplots()\n",
    "ts_white_noise.plot(label=\"white noise\", ax=ax)\n",
    "ts_noisy.plot(label=\"turbulence\", ax=ax)\n",
    "ax.legend()"
   ]
  },
  {
   "cell_type": "code",
   "execution_count": null,
   "id": "6f452b22-cbf7-4a35-9257-4b341ff21b3c",
   "metadata": {},
   "outputs": [],
   "source": [
    "fig, ax = plt.subplots(figsize=(7, 4))\n",
    "sns.kdeplot(stats.norm.rvs(size=len(ts_noisy), scale=sigma), label=\"norm.rvs\")\n",
    "sns.kdeplot(ts_white_noise.data - ts_truth.data, label=\"white\")\n",
    "sns.kdeplot(ts_noisy.data - ts_truth.data, label=\"turb\")\n",
    "ax.legend()"
   ]
  },
  {
   "cell_type": "markdown",
   "id": "c36b66c4-4ef4-405b-bc13-804ab99a7d80",
   "metadata": {},
   "source": [
    "# LOWESS Algorithm Demonstration"
   ]
  },
  {
   "cell_type": "markdown",
   "id": "b00e6a8f-154a-4061-81d2-8568dc64a5ce",
   "metadata": {},
   "source": [
    "## LOWESS windows only"
   ]
  },
  {
   "cell_type": "code",
   "execution_count": null,
   "id": "8deab8b1-c1d2-44c6-9377-94d67baa40ec",
   "metadata": {},
   "outputs": [],
   "source": [
    "fig, ax = pplt.subplots(refwidth=5, refheight=2, grid=True)\n",
    "xx = np.linspace(0, 1, 100)\n",
    "idx = 20\n",
    "\n",
    "for frac, fstr in zip([1 / 6, 1 / 3, 1 / 2], [\"1/6\", \"1/3\", \"1/2\"]):\n",
    "    w = lowess.demo_window(xx, frac=frac)\n",
    "    ax.plot(xx, w[:, idx], label=f\"$\\gamma =${fstr}\", lw=3)\n",
    "\n",
    "# ax.legend(loc='upper left')\n",
    "ax.legend(loc=\"upper right\", ncols=1)\n",
    "\n",
    "ax.set_ylabel(\"$\\mathbf{w}(t_i)$\")\n",
    "\n",
    "# ax.set_ylim((None, .1))\n",
    "ax.set_xticks([idx / 100], [\"$t_i$\"])\n",
    "ax.set_xlabel(\"$\\mathbf{t}$\")"
   ]
  },
  {
   "cell_type": "code",
   "execution_count": null,
   "id": "486a6698-9927-4cd7-81c7-eb04a0e0239c",
   "metadata": {},
   "outputs": [],
   "source": [
    "# f = 1/2\n",
    "# x = xx\n",
    "\n",
    "# n = len(x)\n",
    "# r = int(np.ceil(f * n))\n",
    "# h = [np.sort(np.abs(x - x[i]))[r] for i in range(n)]\n",
    "# w = np.clip(np.abs((x[:, None] - x[None, :]) / h), 0.0, 1.0)\n",
    "# w = (1 - w ** 3) ** 3\n",
    "# plt.figure(); plt.plot(w[:, 40])"
   ]
  },
  {
   "cell_type": "code",
   "execution_count": null,
   "id": "900abf39-1bae-4fb7-ad06-fefad28077e0",
   "metadata": {},
   "outputs": [],
   "source": [
    "fig.savefig(\"../figures/chapter5-lowess/figure1-window.pdf\")"
   ]
  },
  {
   "cell_type": "code",
   "execution_count": null,
   "id": "5ff7a037-e5b5-490e-84b4-09452611999b",
   "metadata": {},
   "outputs": [],
   "source": []
  },
  {
   "cell_type": "markdown",
   "id": "296ede29-53fb-46e8-9a8e-d02d0fd9e598",
   "metadata": {},
   "source": [
    "## LOWESS windows, time series example"
   ]
  },
  {
   "cell_type": "code",
   "execution_count": null,
   "id": "303ca4bb-e033-4c85-bdc3-96a4566e7e9b",
   "metadata": {},
   "outputs": [],
   "source": [
    "dn_xr_noisy = dn_xr.copy()\n",
    "\n",
    "# Make something near the demo index noisy\n",
    "idx = 20\n",
    "\n",
    "dn_xr_noisy[idx + 7] += dn_xr_noisy[idx + 7] + 5\n",
    "dn_xr_noisy[idx + 4] += -dn_xr_noisy[idx + 4] + 6.5\n",
    "# noiseidx = 59\n",
    "noiseidx = 51\n",
    "dn_xr_noisy[noiseidx] += -dn_xr_noisy[noiseidx] - 3.7\n",
    "dn_xr_noisy[noiseidx + 1] += -dn_xr_noisy[noiseidx + 1] - 2.9\n",
    "\n",
    "ts_noisy = dn_xr_noisy.sel(x=nx // 2, y=ny // 2).copy()\n",
    "# ts_noisy[idx + 7] = 5\n",
    "# ts_noisy[idx + 4] = 6.5\n",
    "# ts_noisy[59] = -3.7\n",
    "# ts_noisy[60] = -2.9\n",
    "\n",
    "x = lowess.date2num(dn_xr.date.values)\n",
    "x = (x - x[0]) / 365.25\n",
    "# x"
   ]
  },
  {
   "cell_type": "code",
   "execution_count": null,
   "id": "f19092fb-6945-4eea-8899-0b3d2b3dcb0f",
   "metadata": {},
   "outputs": [],
   "source": [
    "plt.figure()\n",
    "plt.plot(dn_xr_noisy[:, nx // 2, ny // 2])\n",
    "plt.plot(dn_xr[:, nx // 2, ny // 2])"
   ]
  },
  {
   "cell_type": "code",
   "execution_count": null,
   "id": "43bc9d0c-85a4-4233-9f73-f3c05ead1304",
   "metadata": {},
   "outputs": [],
   "source": [
    "pplt.rc[\"cycle\"] = \"colorblind\"\n",
    "pplt.rc[\"grid.alpha\"] = 0.4"
   ]
  },
  {
   "cell_type": "code",
   "execution_count": null,
   "id": "8051c813-7dbf-409a-bc1c-465165d6e0e9",
   "metadata": {},
   "outputs": [],
   "source": [
    "fig, ax = pplt.subplots(refwidth=5, refheight=2, grid=True)\n",
    "ax2 = ax.twinx()\n",
    "\n",
    "# lon, lat = gps.station_lonlat(\"TXKM\")\n",
    "# ax2.scatter(igm.sar_date_list, ts_noisy.data, label=r\"$\\phi$\", marker='.', lw=1, color=\"gold\", s=100)\n",
    "# Using the spiked\n",
    "ax2.scatter(\n",
    "    igm.sar_date_list, y, label=r\"$\\phi$\", marker=\".\", lw=1, color=\"gold\", s=100\n",
    ")\n",
    "\n",
    "\n",
    "years_smooth = [0.5, 1, 1.5]\n",
    "for year in years_smooth:\n",
    "    w = lowess.demo_window(x, min_x_weighted=year)\n",
    "    ax.plot(igm.sar_date_list, w[:, idx], label=f\"{year} year\", lw=3)\n",
    "\n",
    "# ax.legend(loc='upper left')\n",
    "ax.legend(loc=\"upper right\", ncols=1)\n",
    "# ax2.legend()\n",
    "# ax.set_title(\"Initial window weight for each LOWESS iteration\")\n",
    "ax2.set_title(\"\")\n",
    "ax2.set_ylabel(f\"$\\phi$ [cm]\")\n",
    "\n",
    "# ax2.set_ylim((-7, 7))\n",
    "ax.set_ylabel(\"$\\mathbf{w}(t_i)$\")"
   ]
  },
  {
   "cell_type": "code",
   "execution_count": null,
   "id": "79a95995-f591-49f3-8b99-8df560d69d14",
   "metadata": {},
   "outputs": [],
   "source": [
    "fig.savefig(\"../figures/chapter5-lowess/figure1-window-ts.pdf\")"
   ]
  },
  {
   "cell_type": "code",
   "execution_count": null,
   "id": "debb3086-2893-46a5-8fd9-90eb748016f0",
   "metadata": {},
   "outputs": [],
   "source": [
    "# fig, ax = plt.subplots()\n",
    "# ax2 = ax.twinx()\n",
    "\n",
    "# # lon, lat = gps.station_lonlat(\"TXKM\")\n",
    "# ts_noisy.plot(ax=ax2, label=\"insar\", marker='.', lw=1, color='gold')\n",
    "\n",
    "\n",
    "# years_smooth = [0.5, 1, 1.5]\n",
    "# for year in years_smooth:\n",
    "#     w = lowess.demo_window(x, min_x_weighted=year)\n",
    "#     ax.plot(igm.sar_date_list, w[50], label=f\"{year} year\", lw=3)\n",
    "\n",
    "# ax.legend(loc='upper left')\n",
    "# # ax2.legend()\n",
    "# ax.set_title(\"Initial window weight for each LOWESS iteration\")\n",
    "# ax2.set_title(\"\")\n",
    "# ax2.set_ylabel(\"InSAR [cm]\")\n",
    "\n",
    "# # ax2.set_ylim((-7, 7))\n",
    "# ax.set_ylabel(\"$\\mathbf{w}(t_i)$\")"
   ]
  },
  {
   "cell_type": "markdown",
   "id": "12a5e9b8-13e8-4ce2-9e1b-567cea77d40b",
   "metadata": {},
   "source": [
    "## Time series only plot, plus image of deformation"
   ]
  },
  {
   "cell_type": "code",
   "execution_count": null,
   "id": "b0ce8e24-7926-4171-8f0c-3e4e3d16a633",
   "metadata": {},
   "outputs": [],
   "source": [
    "ts_arr = [ts_truth, ts_noisy]\n",
    "# labels = ['Noisy', 'Truth']\n",
    "labels = [\"$\\mathbf{d}$\", \"$\\mathbf{\\phi}$\"]\n",
    "# colors = [\"C1\", \"C0\"]\n",
    "colors = [\"C1\", \"gray\"]\n",
    "# colors = [\"C0\", \"gray\"]\n",
    "\n",
    "# cmap_img = 'RdBu_r'\n",
    "cmap_img = \"seismic_wide_y\"\n",
    "\n",
    "\n",
    "fig, axes = pplt.subplots([[1, 2], [3, 3]], abc=\"(a)\")  # , figsize=(6, 3))\n",
    "\n",
    "\n",
    "ax.set_ylabel(\"[cm]\")\n",
    "# ax.set_title(\"Triangle-window smoothing\")\n",
    "# ax.grid()\n",
    "\n",
    "ax.legend()\n",
    "defo_img = dd_xr[len(dd_xr) // 2]\n",
    "img_date = dd_xr.indexes[\"date\"][len(dd_xr) // 2]\n",
    "defo_noise_img = dn_xr[len(dd_xr) // 2]\n",
    "vm = np.abs(defo_noise_img).max()\n",
    "\n",
    "\n",
    "ax = axes[0]\n",
    "# axim = ax.imshow(noise_xr[len(dd_xr)//2], cmap=cmap_img, vmax=vm, vmin=-vm)\n",
    "axim = ax.imshow(defo_img, cmap=cmap_img, vmax=vm, vmin=-vm)\n",
    "ax.colorbar(axim, loc=\"r\", label=\"[cm]\")\n",
    "ax.format(grid=False, title=f\"{labels[0]}: {str(img_date.date())}\")\n",
    "ax.plot(nx // 2, ny // 2, \"X\", color=\"black\")\n",
    "\n",
    "\n",
    "ax = axes[1]\n",
    "axim = ax.imshow(defo_noise_img, cmap=cmap_img, vmax=vm, vmin=-vm)\n",
    "ax.colorbar(axim, loc=\"r\", label=\"[cm]\")\n",
    "ax.format(grid=False, title=f\"{labels[1]}: {str(img_date.date())}\")\n",
    "ax.plot(nx // 2, ny // 2, \"X\", color=\"black\")\n",
    "\n",
    "ax = axes[2]\n",
    "\n",
    "dts = ts_noisy.date.values\n",
    "# for tt, label, color in zip(ts_arr, labels, colors):\n",
    "ax.plot(dts, ts_arr[0], lw=3, label=labels[0], color=colors[0])\n",
    "ax.plot(dts, ts_arr[1], lw=1.5, label=labels[1], marker=\".\", color=colors[1])\n",
    "ax.set_ylabel(\"[cm]\")\n",
    "ax.legend(loc=\"ur\")\n",
    "\n",
    "ylim = ax.get_ylim()  # Keep the same limits, but make a vert line for whole span\n",
    "ax.vlines(img_date, ylim[0], ylim[1], linestyle=\"--\", color=\"gray\", alpha=0.5)\n",
    "ax.set_ylim(ylim)"
   ]
  },
  {
   "cell_type": "code",
   "execution_count": null,
   "id": "8a407b24-7380-492d-814c-5f7af4e685e7",
   "metadata": {},
   "outputs": [],
   "source": [
    "fig.savefig(\"../figures/chapter5-lowess/figure2-demo-data.pdf\")"
   ]
  },
  {
   "cell_type": "markdown",
   "id": "4cbd47b1-9f50-44fb-b12c-4b04e7b429af",
   "metadata": {},
   "source": [
    "### Color tests"
   ]
  },
  {
   "cell_type": "code",
   "execution_count": null,
   "id": "5de1bf8b-2b3d-4b79-b110-91e7d6e2cb1d",
   "metadata": {},
   "outputs": [],
   "source": [
    "# First Iteration\n",
    "from matplotlib.colors import LinearSegmentedColormap, to_rgb, to_rgba\n",
    "\n",
    "\n",
    "def get_alpha_by_value(alpha_arr, color=\"C1\"):\n",
    "    r, g, b = to_rgb(color)\n",
    "    # r, g, b, _ = to_rgba(color)\n",
    "    return [(r, g, b, alpha) for alpha in alpha_arr]\n",
    "\n",
    "\n",
    "get_alpha_by_value([0.5, 0.2, 1])\n",
    "# fig, axs = pplt.show_cycles(rasterized=True)\n",
    "# pplt.rc['cycle'] = 'tab10'"
   ]
  },
  {
   "cell_type": "code",
   "execution_count": null,
   "id": "fff75fdd-6058-45cd-ade8-6fbcd184996b",
   "metadata": {},
   "outputs": [],
   "source": [
    "# LinearSegmentedColormap.from_list('', [to_rgba(\"C2\"), to_rgba(\"grey\")], N)\n",
    "cmap = LinearSegmentedColormap.from_list(\"\", [to_rgba(\"grey\"), to_rgba(\"gold\")], N)\n",
    "cmap"
   ]
  },
  {
   "cell_type": "markdown",
   "id": "94e3c357-f7e4-48a4-9514-2d479bc2e1a7",
   "metadata": {},
   "source": [
    "## LOWESS window color shading"
   ]
  },
  {
   "cell_type": "code",
   "execution_count": null,
   "id": "3c5bd14e-e5ac-4153-a94c-db5437f4ac40",
   "metadata": {},
   "outputs": [],
   "source": [
    "# idx = 20\n",
    "# w = lowess.demo_window(x, min_x_weighted=1.0)\n",
    "# window = w[:, idx]\n",
    "\n",
    "# # color_arr = get_alpha_by_value(window)\n",
    "# # map from gray at 0 to green at max\n",
    "# N = 256\n",
    "# # cmap = LinearSegmentedColormap.from_list('', [to_rgba(\"C6\"), to_rgba(\"C8\")], N)\n",
    "# colors = cmap(window)\n",
    "\n",
    "# # fig, ax = pplt.subplots(figsize=(8, 5))\n",
    "# fig, ax = pplt.subplots(refwidth=5, refheight=2)\n",
    "\n",
    "# ax2 = ax.twinx()\n",
    "\n",
    "# # lon, lat = gps.station_lonlat(\"TXKM\")\n",
    "# aa = ax2.scatter(igm.sar_date_list, ts_noisy.data, label=\"insar\", marker='.', lw=1, color=colors, s=100)\n",
    "\n",
    "\n",
    "# ax.plot(igm.sar_date_list, window, lw=3)\n",
    "\n",
    "# # ax.legend(loc='upper left')\n",
    "# # ax2.legend()\n",
    "# # ax.set_title(\"Initial window weight for initial LOWESS iteration\")\n",
    "# ax2.set_title(\"\")\n",
    "# ax2.set_ylabel(\"InSAR [cm]\")\n",
    "\n",
    "# # ax2.set_ylim((-7, 7))\n",
    "# ax.set_ylabel(\"$\\mathbf{w}(t_i)$\")\n",
    "\n",
    "# # cmap"
   ]
  },
  {
   "cell_type": "markdown",
   "id": "691f5264-ba6d-44ca-b7e5-c62dc7eb4c3b",
   "metadata": {},
   "source": [
    "## LOWESS First iteration slope fit"
   ]
  },
  {
   "cell_type": "code",
   "execution_count": null,
   "id": "6c80e5f5-f1f2-4f95-af32-825bdc15b58c",
   "metadata": {},
   "outputs": [],
   "source": [
    "idx = 20\n",
    "w = lowess.demo_window(x, min_x_weighted=1.0)\n",
    "beta = lowess.demo_fit(x, ts_noisy.data, w, idx)\n",
    "x_slice = x[idx - 10 : idx + 10]\n",
    "yest = beta[0] + beta[1] * x_slice\n",
    "# yest"
   ]
  },
  {
   "cell_type": "code",
   "execution_count": null,
   "id": "1ec04b36-455a-461a-b800-6accc7e38a88",
   "metadata": {},
   "outputs": [],
   "source": [
    "from matplotlib.colors import LinearSegmentedColormap, to_rgba\n",
    "\n",
    "w = lowess.demo_window(x, min_x_weighted=1.0)\n",
    "window = w[:, idx]\n",
    "\n",
    "# color_arr = get_alpha_by_value(window)\n",
    "# map from gray at 0 to green at max\n",
    "N = 256\n",
    "# cmap = LinearSegmentedColormap.from_list('', [to_rgba(\"C6\"), to_rgba(\"C8\")], N)\n",
    "colors = cmap(window)\n",
    "\n",
    "# fig, ax = plt.subplots(figsize=(8, 5))\n",
    "fig, ax = pplt.subplots(refwidth=5, refheight=2)\n",
    "ax2 = ax.twinx()\n",
    "\n",
    "fit_color = \"C1\"\n",
    "# lon, lat = gps.station_lonlat(\"TXKM\")\n",
    "ax2.scatter(\n",
    "    igm.sar_date_list,\n",
    "    ts_noisy.data,\n",
    "    label=r\"$\\phi$\",\n",
    "    marker=\".\",\n",
    "    lw=1,\n",
    "    color=colors,\n",
    "    s=100,\n",
    ")\n",
    "ax2.plot(igm.sar_date_list[idx - 10 : idx + 10], yest, lw=6, color=fit_color)\n",
    "\n",
    "ax.plot(igm.sar_date_list, window, lw=3)\n",
    "\n",
    "# ax.legend(loc='upper left')\n",
    "# ax2.legend()\n",
    "ax.set_title(\"Initial fit\")\n",
    "ax2.set_title(\"\")\n",
    "ax2.set_ylabel(\"InSAR [cm]\")\n",
    "\n",
    "# ax2.set_ylim((-7, 7))\n",
    "ax.set_ylabel(\"$\\mathbf{w}(t_i)$\")"
   ]
  },
  {
   "cell_type": "code",
   "execution_count": null,
   "id": "ca64a6fe-54c9-409b-a071-8be9282952e8",
   "metadata": {},
   "outputs": [],
   "source": [
    "resid = lowess.demo_residual(x, ts_noisy.data, w, idx)\n",
    "beta_2 = lowess.demo_fit(x, ts_noisy.data, w, idx, delta=resid)\n",
    "yest_2 = beta_2[0] + beta_2[1] * x_slice\n",
    "yest_2"
   ]
  },
  {
   "cell_type": "code",
   "execution_count": null,
   "id": "f4fce9e2-0acf-426a-ad1a-4881ffd18583",
   "metadata": {},
   "outputs": [],
   "source": [
    "from matplotlib.colors import LinearSegmentedColormap, to_rgba\n",
    "\n",
    "w = lowess.demo_window(x, min_x_weighted=1.0)\n",
    "window = w[:, idx]\n",
    "window2 = resid * window\n",
    "\n",
    "# color_arr = get_alpha_by_value(window)\n",
    "# map from gray at 0 to green at max\n",
    "# N = 256\n",
    "# cmap = LinearSegmentedColormap.from_list('', [to_rgba(\"C6\"), to_rgba(\"C8\")], N)\n",
    "colors2 = cmap(window2)\n",
    "\n",
    "# fig, ax = plt.subplots(figsize=(8, 5))\n",
    "fig, ax = pplt.subplots(refwidth=5, refheight=2)\n",
    "\n",
    "ax2 = ax.twinx()\n",
    "\n",
    "fit_color = \"C1\"\n",
    "fit_color2 = \"C2\"\n",
    "# lon, lat = gps.station_lonlat(\"TXKM\")\n",
    "ax2.scatter(\n",
    "    igm.sar_date_list,\n",
    "    ts_noisy.data,\n",
    "    label=\"$\\phi$\",\n",
    "    marker=\".\",\n",
    "    lw=1,\n",
    "    color=colors2,\n",
    "    s=100,\n",
    ")\n",
    "ax2.plot(igm.sar_date_list[idx - 10 : idx + 10], yest, lw=5, color=fit_color, alpha=0.5)\n",
    "ax2.plot(igm.sar_date_list[idx - 10 : idx + 10], yest_2, lw=6, color=fit_color2)\n",
    "\n",
    "# ax.plot(igm.sar_date_list, window, lw=3)\n",
    "ax.plot(igm.sar_date_list, window2, lw=3)\n",
    "\n",
    "# ax.legend(loc='upper left')\n",
    "# ax2.legend()\n",
    "# ax.set_title(\"Second iteration fit\")\n",
    "ax2.set_title(\"\")\n",
    "ax2.set_ylabel(\"\\phi [cm]\")\n",
    "\n",
    "# ax2.set_ylim((-7, 7))\n",
    "ax.set_ylabel(\"$\\mathbf{w}(t_i)$\")"
   ]
  },
  {
   "cell_type": "markdown",
   "id": "441bf1c0-4b4b-4be7-9b42-9813fbae3a17",
   "metadata": {},
   "source": [
    "## Combined first 2 iterations"
   ]
  },
  {
   "cell_type": "code",
   "execution_count": null,
   "id": "6b895841-ccbc-478f-8bf5-e0da515ff114",
   "metadata": {},
   "outputs": [],
   "source": [
    "# Recalculate the 2 estimates\n",
    "idx = 20\n",
    "\n",
    "w = lowess.demo_window(x, min_x_weighted=1.0)\n",
    "beta = lowess.demo_fit(x, ts_noisy.data, w, idx)\n",
    "x_slice = x[idx - 10 : idx + 10]\n",
    "yest = beta[0] + beta[1] * x_slice\n",
    "\n",
    "\n",
    "resid = lowess.demo_residual(x, ts_noisy.data, w, idx)\n",
    "beta_2 = lowess.demo_fit(x, ts_noisy.data, w, idx, delta=resid)\n",
    "yest_2 = beta_2[0] + beta_2[1] * x_slice\n",
    "yest_2"
   ]
  },
  {
   "cell_type": "code",
   "execution_count": null,
   "id": "9789590b-3902-49ed-81e4-45584d537303",
   "metadata": {},
   "outputs": [],
   "source": [
    "y = ts_noisy.data\n",
    "y_iter1 = lowess.lowess_pixel(y, x, frac=1 / 3, n_iter=1)\n",
    "y_iter2 = lowess.lowess_pixel(y, x, frac=1 / 3, n_iter=2)\n",
    "\n",
    "\n",
    "w = lowess.demo_window(x, min_x_weighted=1.0)\n",
    "window = w[:, idx]\n",
    "\n",
    "\n",
    "N = 256\n",
    "colors = cmap(window)\n",
    "\n",
    "# fig, axes = pplt.subplots(refwidth=4, refheight=1.2, nrows=3, abc=\"(a)\")\n",
    "fig, axes = pplt.subplots(ncols=2, nrows=2, abc=\"(a)\", sharey=False)\n",
    "# fig, ax = plt.subplots(figsize=(8, 5))\n",
    "\n",
    "ax1 = axes[0]\n",
    "ax2 = ax1.twinx()\n",
    "\n",
    "fit_color = \"C1\"\n",
    "ax1.scatter(\n",
    "    igm.sar_date_list,\n",
    "    ts_noisy.data,\n",
    "    label=r\"$\\phi$\",\n",
    "    marker=\".\",\n",
    "    lw=1,\n",
    "    color=colors,\n",
    "    s=100,\n",
    ")\n",
    "ax1.plot(igm.sar_date_list[idx - 10 : idx + 10], yest, lw=6, color=fit_color)\n",
    "ax1.set_ylabel(\"$\\phi$ [cm]\")\n",
    "\n",
    "ax2.plot(igm.sar_date_list, window, lw=3, color=fit_color)\n",
    "# ax2.set_ylim((-7, 7))\n",
    "ax2.set_ylabel(\"$\\mathbf{w}(t_i)$\")\n",
    "\n",
    "######################################\n",
    "\n",
    "ax = axes[1]\n",
    "\n",
    "fit_color = \"C1\"\n",
    "ax.scatter(\n",
    "    igm.sar_date_list, ts_noisy.data, marker=\".\", lw=1, color=\"gray\", s=100\n",
    ")  # , label=r\"$\\phi$\")\n",
    "ax.plot(igm.sar_date_list, y_iter1, lw=4, color=fit_color, label=\"1 iters\")\n",
    "\n",
    "\n",
    "ax.set_ylabel(\"$\\phi$ [cm]\")\n",
    "\n",
    "\n",
    "###############################\n",
    "window2 = resid * window\n",
    "colors2 = cmap(window2)\n",
    "\n",
    "ax1 = axes[2]\n",
    "ax2 = ax1.twinx()\n",
    "\n",
    "fit_color = \"C1\"\n",
    "fit_color2 = \"C2\"\n",
    "\n",
    "alpha = 0.7\n",
    "ax1.scatter(\n",
    "    igm.sar_date_list,\n",
    "    ts_noisy.data,\n",
    "    label=\"$\\phi$\",\n",
    "    marker=\".\",\n",
    "    lw=1,\n",
    "    color=colors2,\n",
    "    s=100,\n",
    ")\n",
    "ax1.plot(\n",
    "    igm.sar_date_list[idx - 10 : idx + 10], yest, lw=5, color=fit_color, alpha=alpha\n",
    ")\n",
    "ax1.plot(igm.sar_date_list[idx - 10 : idx + 10], yest_2, lw=6, color=fit_color2)\n",
    "ax1.set_ylabel(\"$\\phi$ [cm]\")\n",
    "\n",
    "ax2.plot(igm.sar_date_list, window2, lw=3, color=fit_color2)\n",
    "# ax2.set_ylim((-7, 7))\n",
    "ax2.set_ylabel(\"$\\mathbf{w}(t_i)$\")\n",
    "\n",
    "\n",
    "######################################\n",
    "ax = axes[3]\n",
    "\n",
    "fit_color = \"C1\"\n",
    "ax.scatter(\n",
    "    igm.sar_date_list, ts_noisy.data, marker=\".\", lw=1, color=\"gray\", s=100\n",
    ")  # , label=r\"$\\phi$\")\n",
    "ax.plot(igm.sar_date_list, y_iter1, lw=4, color=fit_color, alpha=alpha, label=\"1 iters\")\n",
    "ax.plot(igm.sar_date_list, y_iter2, lw=3, color=fit_color2, label=\"2 iters\")\n",
    "\n",
    "\n",
    "ax.set_title(\"\")\n",
    "ax.set_ylabel(\"$\\phi$ [cm]\")\n",
    "ax.legend(loc=\"lower left\", ncols=1)"
   ]
  },
  {
   "cell_type": "code",
   "execution_count": null,
   "id": "6483d3da-bc97-4a76-9b9d-447773d9ee3d",
   "metadata": {},
   "outputs": [],
   "source": [
    "fig.savefig(\"../figures/chapter5-lowess/figure3-fits.pdf\")"
   ]
  },
  {
   "cell_type": "code",
   "execution_count": null,
   "id": "48f288c8-d137-40b9-95f7-e525d5d50c96",
   "metadata": {},
   "outputs": [],
   "source": [
    "# from matplotlib.colors import LinearSegmentedColormap, to_rgba\n",
    "\n",
    "# w = lowess.demo_window(x, min_x_weighted=1.0)\n",
    "# window = w[:, idx]\n",
    "\n",
    "# # color_arr = get_alpha_by_value(window)\n",
    "# # map from gray at 0 to green at max\n",
    "# N = 256\n",
    "# cmap = LinearSegmentedColormap.from_list('', [to_rgba(\"C6\"), to_rgba(\"C8\")], N)\n",
    "# colors = cmap(window)\n",
    "\n",
    "# fig, ax = plt.subplots(figsize=(8, 5))\n",
    "# ax2 = ax.twinx()\n",
    "\n",
    "# # lon, lat = gps.station_lonlat(\"TXKM\")\n",
    "# ax2.scatter(igm.sar_date_list, ts_noisy.data, label=\"insar\", marker='.', lw=1, color=colors, s=100)\n",
    "# ax2.plot(igm.sar_date_list[idx-10:idx+10], yest, lw=5, color='gray')\n",
    "# ax2.plot(igm.sar_date_list[idx-10:idx+10], yest_2, lw=6)\n",
    "\n",
    "# ax.plot(igm.sar_date_list, window, lw=3)\n",
    "\n",
    "# ax.legend(loc='upper left')\n",
    "# # ax2.legend()\n",
    "# ax.set_title(\"Second iteration fit\")\n",
    "# ax2.set_title(\"\")\n",
    "# ax2.set_ylabel(\"InSAR [cm]\")\n",
    "\n",
    "# # ax2.set_ylim((-7, 7))\n",
    "# ax.set_ylabel(\"$\\mathbf{w}(t_i)$\")"
   ]
  },
  {
   "cell_type": "code",
   "execution_count": null,
   "id": "0e648dd1-7f3e-49ba-8d94-c04d5aad149d",
   "metadata": {},
   "outputs": [],
   "source": [
    "y_iter2_zeroed = y_iter2 - y_iter2[0]\n",
    "ts_arr = [ts_truth, ts_noisy, y_iter2_zeroed]\n",
    "# labels = ['Noisy', 'Truth']\n",
    "labels = [\"$\\mathbf{d}$\", \"$\\mathbf{\\phi}$\", \"$\\mathbf{\\hat{\\phi}}$\"]\n",
    "colors = [\"C1\", \"C0\", \"C2\"]\n",
    "# [[1, 2], [3, 3]],\n",
    "fig, axes = pplt.subplots(abc=\"(a)\", figsize=(6, 3))\n",
    "\n",
    "ax = axes[0]\n",
    "dts = ts_noisy.date.values\n",
    "# for tt, label, color in zip(ts_arr, labels, colors):\n",
    "ax.plot(dts, ts_truth, lw=4, label=labels[0], color=colors[0])\n",
    "ax.plot(dts, ts_noisy, lw=2, label=labels[1], marker=\".\", color=colors[1])\n",
    "ax.plot(dts, y_iter2_zeroed, lw=4, label=labels[2], color=colors[2])\n",
    "\n",
    "ax.set_ylabel(\"[cm]\")\n",
    "ax.legend(loc=\"ur\")"
   ]
  },
  {
   "cell_type": "markdown",
   "id": "ab3cd2d9-6584-4af4-ba54-100bcec7ce0f",
   "metadata": {},
   "source": [
    "## Plot fits from first 2 iterations"
   ]
  },
  {
   "cell_type": "code",
   "execution_count": null,
   "id": "a81e0d0a-0df1-4c3e-adde-4ac384d15571",
   "metadata": {},
   "outputs": [],
   "source": [
    "y = ts_noisy.data\n",
    "y_iter1 = lowess.lowess_pixel(y, x, frac=1 / 3, n_iter=1)\n",
    "y_iter2 = lowess.lowess_pixel(y, x, frac=1 / 3, n_iter=2)\n",
    "\n",
    "\n",
    "fig, axes = pplt.subplots(refwidth=3.5, refheight=1.5, nrows=1, abc=\"(a)\")\n",
    "\n",
    "\n",
    "ax = axes[0]\n",
    "\n",
    "fit_color = \"C1\"\n",
    "ax.scatter(\n",
    "    igm.sar_date_list, ts_noisy.data, marker=\".\", lw=1, color=\"gray\", s=100\n",
    ")  # , label=r\"$\\phi$\")\n",
    "ax.plot(igm.sar_date_list, y_iter1, lw=4, color=fit_color, label=\"1 iters\")\n",
    "ax.plot(igm.sar_date_list, y_iter2, lw=3, color=fit_color2, label=\"2 iters\")\n",
    "\n",
    "\n",
    "ax.set_title(\"\")\n",
    "ax.set_ylabel(\"$\\phi$ [cm]\")\n",
    "ax.legend(loc=\"lower left\")"
   ]
  },
  {
   "cell_type": "markdown",
   "id": "eb4d281e-04d7-4165-b44d-0342486d756b",
   "metadata": {},
   "source": [
    "## Changes for each iteration"
   ]
  },
  {
   "cell_type": "code",
   "execution_count": null,
   "id": "7d1bf822-d08f-40b9-b55e-8a53592417e7",
   "metadata": {},
   "outputs": [],
   "source": [
    "plt.figure()\n",
    "yy = lowess.lowess_pixel(y, x, frac=1 / 3, n_iter=1)\n",
    "for nn in range(2, 5):\n",
    "    yprev = yy\n",
    "    yy = lowess.lowess_pixel(y, x, frac=1 / 3, n_iter=nn)\n",
    "    plt.plot(yy - yprev, label=f\"{nn} - {nn - 1}\")\n",
    "plt.legend()"
   ]
  },
  {
   "cell_type": "markdown",
   "id": "856b1f9a-556f-4bdd-9b54-20c563ef6cd3",
   "metadata": {},
   "source": [
    "## Compare Triangle to LOWESS"
   ]
  },
  {
   "cell_type": "markdown",
   "id": "781f027c-3f8c-44d3-bd80-f0aad861745c",
   "metadata": {},
   "source": [
    "### Do the whole image"
   ]
  },
  {
   "cell_type": "code",
   "execution_count": null,
   "id": "9f80a7d4-1a32-4e42-aaa9-858f7000e05f",
   "metadata": {},
   "outputs": [],
   "source": [
    "# dn_xr"
   ]
  },
  {
   "cell_type": "code",
   "execution_count": null,
   "id": "b2aaf0b9-b4f7-440c-a0b7-8bf55caf4945",
   "metadata": {},
   "outputs": [],
   "source": [
    "%%time\n",
    "frac = 0.4\n",
    "x2 = lowess.date2num(dn_xr.date.values)\n",
    "# dn_xr_lowess = lowess.lowess_xr(dn_xr, frac=1/3) #, min_days_weighted=365.0)\n",
    "dn_lowess = lowess.lowess_stack(\n",
    "    # dn_xr.data, x2, frac=1 / 3\n",
    "    dn_xr_noisy.data,\n",
    "    x2,\n",
    "    frac=frac,\n",
    ")  # , min_days_weighted=365.0)"
   ]
  },
  {
   "cell_type": "code",
   "execution_count": null,
   "id": "a8ad4d62-2064-4bc6-ab4d-dea089db10a4",
   "metadata": {},
   "outputs": [],
   "source": [
    "dn_lowess = dn_lowess - dn_lowess[0][None, :, :]\n",
    "dn_xr_lowess = dn_xr.copy()\n",
    "dn_xr_lowess.data = dn_lowess\n",
    "dn_xr_lowess.shape"
   ]
  },
  {
   "cell_type": "code",
   "execution_count": null,
   "id": "e1d7946b-df4d-4cca-90fa-fec7fcc03630",
   "metadata": {},
   "outputs": [],
   "source": [
    "# dn_xr_lowess[:, nx//2, ny//2].plot()\n",
    "# fig, axes = dn_xr_lowess[len(x)//2].plot.imshow()"
   ]
  },
  {
   "cell_type": "code",
   "execution_count": null,
   "id": "089b0f77-dd41-4d28-96b5-b36cce7f388b",
   "metadata": {},
   "outputs": [],
   "source": [
    "from scipy import ndimage\n",
    "\n",
    "mode = \"reflect\"\n",
    "tri_win = signal.windows.triang(int(frac * len(x2)))\n",
    "\n",
    "dn_tri = ndimage.convolve1d(dn_xr_noisy.data, tri_win, axis=0, mode=mode) / sum(tri_win)\n",
    "dn_tri = dn_tri - dn_tri[0][None, :, :]\n",
    "dn_xr_tri = dn_xr.copy()\n",
    "dn_xr_tri.data = dn_tri\n",
    "# dn_xr_tri"
   ]
  },
  {
   "cell_type": "code",
   "execution_count": null,
   "id": "34c27b33-0c32-4a29-8fc6-dab1835d0934",
   "metadata": {},
   "outputs": [],
   "source": [
    "fig, ax = pplt.subplots()\n",
    "\n",
    "dn_xr_lowess[:, nx // 2, ny // 2].plot(ax=ax)\n",
    "dn_xr_tri[:, nx // 2, ny // 2].plot(ax=ax)"
   ]
  },
  {
   "cell_type": "code",
   "execution_count": null,
   "id": "0abd4655-1f90-4858-be30-0bd5405997e6",
   "metadata": {},
   "outputs": [],
   "source": [
    "fig, ax = pplt.subplots()\n",
    "\n",
    "dn_xr_lowess[:, nx // 2, ny // 2].plot(ax=ax)\n",
    "dn_xr_tri[:, nx // 2, ny // 2].plot(ax=ax)"
   ]
  },
  {
   "cell_type": "code",
   "execution_count": null,
   "id": "34f464be-fb3d-4098-a329-5fa38be4be25",
   "metadata": {},
   "outputs": [],
   "source": [
    "iidx = len(x) // 2\n",
    "iidx = 62\n",
    "\n",
    "zoom = (slice(120, 180), slice(120, 180))\n",
    "# zoom = (slice(None), slice(None))\n",
    "\n",
    "plotting.plot_img_diff(\n",
    "    arrays=(\n",
    "        dn_xr_tri[iidx][zoom],\n",
    "        dn_xr_lowess[iidx][zoom],\n",
    "        dd_xr[iidx][zoom],\n",
    "    ),\n",
    "    show_diff=False,\n",
    "    titles=[\"Triangle\", \"LOWESS\", \"Truth (no noise)\"],\n",
    "    vm=3,\n",
    "    cbar_label=\"[cm]\",\n",
    "    # cmap=\"RdBu_r\",\n",
    "    cmap=\"seismic_wide_y\",\n",
    "    axis_off=True,\n",
    ")"
   ]
  },
  {
   "cell_type": "code",
   "execution_count": null,
   "id": "2341574f-35e5-4843-9305-9e5ab791e7b3",
   "metadata": {},
   "outputs": [],
   "source": [
    "iidx = len(x) // 2\n",
    "iidx = 62\n",
    "\n",
    "zoom = (slice(120, 180), slice(120, 180))\n",
    "# zoom = (slice(None), slice(None))\n",
    "\n",
    "plotting.plot_img_diff(\n",
    "    arrays=(\n",
    "        dn_xr_tri[iidx][zoom],\n",
    "        dn_xr_lowess[iidx][zoom],\n",
    "        dd_xr[iidx][zoom],\n",
    "    ),\n",
    "    show_diff=False,\n",
    "    titles=[\"Triangle\", \"LOWESS\", \"Truth (no noise)\"],\n",
    "    vm=3,\n",
    "    cbar_label=\"[cm]\",\n",
    "    # cmap=\"RdBu_r\",\n",
    "    cmap=\"seismic_wide_y_r\",\n",
    "    axis_off=True,\n",
    ")"
   ]
  },
  {
   "cell_type": "code",
   "execution_count": null,
   "id": "d90b580d-f2cb-43ca-83eb-3d73590c24ee",
   "metadata": {},
   "outputs": [],
   "source": [
    "def rms(x):\n",
    "    return np.sqrt((x ** 2).mean())"
   ]
  },
  {
   "cell_type": "code",
   "execution_count": null,
   "id": "0174d5df-64ab-4576-b04a-3e1a2abfb382",
   "metadata": {},
   "outputs": [],
   "source": [
    "tri_error = dn_xr_tri[iidx] - dd_xr[iidx]\n",
    "lowess_error = dn_xr_lowess[iidx] - dd_xr[iidx]\n",
    "\n",
    "# rms(dn_xr_tri[iidx] - dd_xr[iidx]), rms(dn_xr_lowess[iidx] - dd_xr[iidx]),\n",
    "np.abs(tri_error).max(), np.abs(lowess_error).max(),"
   ]
  },
  {
   "cell_type": "code",
   "execution_count": null,
   "id": "769aee3e-50c2-4af2-9b53-fc574216b60e",
   "metadata": {},
   "outputs": [],
   "source": [
    "fig, axes = pplt.subplots(ncols=1)\n",
    "ax = axes\n",
    "ax.hist(tri_error.data.ravel(), bins=50, label=\"tri\")\n",
    "\n",
    "ax.hist(lowess_error.data.ravel(), bins=50, label=\"lowess\", alpha=0.6)\n",
    "ax.legend()\n",
    "ax.set_xlim((-1.5, 1.5))"
   ]
  },
  {
   "cell_type": "code",
   "execution_count": null,
   "id": "d3cf87cb-33d7-4c41-b105-b78521af9789",
   "metadata": {},
   "outputs": [],
   "source": [
    "iidx = len(x) // 2\n",
    "iidx = 62\n",
    "plotting.plot_img_diff(\n",
    "    arrays=(tri_error, lowess_error),\n",
    "    # show_diff=False,\n",
    "    titles=[\"Triangle error\", \"LOWESS error\"],\n",
    "    vm=3,\n",
    ")"
   ]
  },
  {
   "cell_type": "code",
   "execution_count": null,
   "id": "42961a1a-57e1-40e8-b71b-d4cbcec65f8f",
   "metadata": {},
   "outputs": [],
   "source": [
    "# # signal.windows.gaussian\n",
    "# tri_win = signal.windows.triang(int(1 / 3 * len(x)))\n",
    "# ts_tri = signal.convolve(ts_noisy, tri_win, mode=\"same\") / sum(tri_win)\n",
    "# ts_tri -= ts_tri[0]\n",
    "\n",
    "\n",
    "# fig, ax = plt.subplots()\n",
    "\n",
    "# ax.plot(ts_noisy.date, ts_tri, lw=4, label=\"\", marker=\".\")\n",
    "\n",
    "\n",
    "# ax.set_title(\"Triangle-window smoothing\")\n",
    "# ax.grid()\n",
    "# ax.legend()"
   ]
  },
  {
   "cell_type": "markdown",
   "id": "56e6e9dc-a9e4-41e5-8abb-dc5e37cc97bb",
   "metadata": {},
   "source": [
    "### attempt the mean thing for removing day1"
   ]
  },
  {
   "cell_type": "code",
   "execution_count": null,
   "id": "0632b1c5-0566-4fee-aedd-d5f5b5b04b78",
   "metadata": {},
   "outputs": [],
   "source": [
    "diffs = dn_xr.data - dn_xr.data[0][None, :, :]\n",
    "diffs.shape\n",
    "fig, axes = pplt.subplots(ncols=3)\n",
    "\n",
    "day1noise_est = -1 * diffs.mean(axis=0)\n",
    "axes.format(title=[\"Est\", \"Truth\", \"Left - middle\"])\n",
    "\n",
    "ax = axes[0]\n",
    "axim = ax.imshow(day1noise_est)\n",
    "ax.colorbar(axim, loc=\"r\")\n",
    "\n",
    "ax = axes[1]\n",
    "axim = ax.imshow(day1noise)\n",
    "ax.colorbar(axim, loc=\"r\")\n",
    "\n",
    "\n",
    "ax = axes[2]\n",
    "axim = ax.imshow(day1noise_est - day1noise)\n",
    "ax.colorbar(axim, loc=\"r\")\n",
    "\n",
    "s = (150, 150)\n",
    "print(day1noise_est[s], day1noise[s])"
   ]
  },
  {
   "cell_type": "markdown",
   "id": "7d4e86ea-445a-47d3-bf1d-d26c410d0ae4",
   "metadata": {},
   "source": [
    "### Plot"
   ]
  },
  {
   "cell_type": "code",
   "execution_count": null,
   "id": "a7da1023-6725-491c-8044-db2a7cc9110a",
   "metadata": {},
   "outputs": [],
   "source": [
    "for f in [1 / 6, 1 / 4, 1 / 3, 0.4]:\n",
    "    print(lowess.lowess_pixel(y, x, frac=f, n_iter=2)[0])"
   ]
  },
  {
   "cell_type": "code",
   "execution_count": null,
   "id": "d46d60f8-6095-41bc-807a-9e2c45945711",
   "metadata": {},
   "outputs": [],
   "source": [
    "plt.plot(ts_truth - ts_tri)\n",
    "plt.plot(y_iter2_zeroed - ts_tri)\n",
    "plt.grid()"
   ]
  },
  {
   "cell_type": "code",
   "execution_count": null,
   "id": "7e4121fa-c126-449f-a6ae-7cdf23690680",
   "metadata": {},
   "outputs": [],
   "source": [
    "# fig, axes = pplt.subplots(figsize=(3, 5))\n",
    "fig, axes = pplt.subplots(\n",
    "    nrows=2, ncols=2, sharex=False, sharey=False, share=False, abc=\"(a)\"\n",
    ")\n",
    "\n",
    "\n",
    "y = ts_noisy.data\n",
    "# frac = 1/3\n",
    "# frac = 0.4\n",
    "# y_iter1 = lowess.lowess_pixel(y, x, frac=frac, n_iter=1)\n",
    "y_iter2 = lowess.lowess_pixel(y, x, frac=frac, n_iter=2)\n",
    "y_iter2_zeroed = y_iter2 - y_iter2[0]\n",
    "\n",
    "tri_win = signal.windows.triang(int(frac * len(x)))\n",
    "# Add the estimate of the day1 noise\n",
    "ts_noisy_remove_est = ts_noisy.copy() + day1noise_est[s]\n",
    "ts_noisy_remove_est[0] = 0\n",
    "\n",
    "# To skip the \"remove the average ifg phase\"\n",
    "# ts_noisy_remove_est = ts_noisy.copy()\n",
    "\n",
    "ts_tri = signal.convolve(ts_noisy_remove_est, tri_win, mode=\"same\") / sum(tri_win)\n",
    "ts_tri_zeroed = ts_tri - ts_tri[0]\n",
    "\n",
    "\n",
    "ts_arr = [ts_truth, ts_noisy, y_iter2_zeroed, ts_tri]\n",
    "# labels = ['Noisy', 'Truth']\n",
    "labels = [\"$\\mathbf{d}$\", \"$\\mathbf{\\phi}$\", \"$\\mathbf{\\hat{\\phi}}$\", \"Triangle\"]\n",
    "colors = [\"C1\", \"C0\", \"C2\", \"C3\"]\n",
    "\n",
    "########## linneplots\n",
    "\n",
    "ax = axes[0]\n",
    "dts = ts_noisy.date.values\n",
    "# for tt, label, color in zip(ts_arr, labels, colors):\n",
    "ax.plot(dts, ts_truth, lw=3, label=labels[0], color=colors[0])\n",
    "ax.plot(dts, ts_noisy, lw=1.5, label=labels[1], marker=\".\", color=colors[1])\n",
    "ax.plot(dts, y_iter2_zeroed, lw=3, label=labels[2], color=colors[2])\n",
    "ax.plot(dts, ts_tri_zeroed, lw=3, label=labels[3], color=colors[3])\n",
    "# ax.plot(dts, ts_tri, lw=3)\n",
    "\n",
    "ax.set_ylabel(\"[cm]\")\n",
    "ax.legend(loc=\"ur\", ncols=2)\n",
    "\n",
    "# ylim = ax.get_ylim() # Keep the same limits, but make a vert line for whole span\n",
    "# ax.vlines(img_date, ylim[0], ylim[1], linestyle='--', color='gray', alpha=.5)\n",
    "# ax.set_ylim(ylim)\n",
    "\n",
    "#############################\n",
    "# iidx = len(x) // 2\n",
    "iidx = 53\n",
    "\n",
    "zoom = (slice(120, 180), slice(120, 180))\n",
    "# zoom = (slice(None), slice(None))\n",
    "\n",
    "plotting.plot_img_diff(\n",
    "    arrays=(\n",
    "        dd_xr[iidx][zoom],\n",
    "        dn_xr_lowess[iidx][zoom],\n",
    "        dn_xr_tri[iidx][zoom],\n",
    "    ),\n",
    "    show_diff=False,\n",
    "    titles=[\"$\\mathbf{d}$\", \"LOWESS\", \"Triangle\"],\n",
    "    vm=3,\n",
    "    cbar_label=\"[cm]\",\n",
    "    # cmap=\"RdBu_r\",\n",
    "    cmap=\"seismic_wide_y_r\",\n",
    "    axis_off=True,\n",
    "    axes=axes[1:],\n",
    ")"
   ]
  },
  {
   "cell_type": "code",
   "execution_count": null,
   "id": "70dd8fa7-cc93-4b2a-b598-3f2b891900c3",
   "metadata": {},
   "outputs": [],
   "source": [
    "fig.savefig(\"../figures/chapter5-lowess/figure4-compare-tri.pdf\")"
   ]
  },
  {
   "cell_type": "code",
   "execution_count": null,
   "id": "1dc40387-d355-48a2-866a-4a6d8c088033",
   "metadata": {},
   "outputs": [],
   "source": [
    "lowess._find_frac(x2, 430), 440 / 365"
   ]
  },
  {
   "cell_type": "code",
   "execution_count": null,
   "id": "e3d2c174-2a39-43de-9558-e0f8d6f58d7e",
   "metadata": {},
   "outputs": [],
   "source": []
  },
  {
   "cell_type": "code",
   "execution_count": null,
   "id": "8f91577d-4459-4053-8f04-6d1e41c3918d",
   "metadata": {},
   "outputs": [],
   "source": [
    "# plt.figure()\n",
    "# # plt.plot((dn_xr.data + day1noise_est[None, :, :])[:, 150, 150])\n",
    "# plt.plot((dn_xr.data)[:, 150, 150])"
   ]
  },
  {
   "cell_type": "code",
   "execution_count": null,
   "id": "0361e3a3-ce3b-4d85-b912-c81cd87ee75b",
   "metadata": {},
   "outputs": [],
   "source": []
  },
  {
   "cell_type": "code",
   "execution_count": null,
   "id": "da54229f-7cdf-4a03-aedf-9fbd0cc8993d",
   "metadata": {},
   "outputs": [],
   "source": [
    "y = ts_noisy_spiked.values\n",
    "y -= y[0]\n",
    "\n",
    "# ts_tri_spike = signal.convolve(y, tri_50, mode='same') / sum(tri_50)\n",
    "# ts_spike = lowess.lowess_pixel(y, x, frac=0.5)\n",
    "ts_tri_spike = signal.convolve(y, tri_40, mode=\"same\") / sum(tri_40)\n",
    "ts_spike = lowess.lowess_pixel(y, x, frac=0.4)\n",
    "# ts_tri_spike = signal.convolve(y, tri_30, mode='same') / sum(tri_30)\n",
    "# ts_spike = lowess.lowess_pixel(y, x, frac=0.3)\n",
    "\n",
    "ts_tri_spike -= ts_tri_spike[0]\n",
    "ts_spike -= ts_spike[0]"
   ]
  },
  {
   "cell_type": "code",
   "execution_count": null,
   "id": "f14bcf98-0c39-4ec5-a7f8-40772367634b",
   "metadata": {},
   "outputs": [],
   "source": [
    "ts_arr = [ts_noisy_spiked, ts_truth, ts_tri_spike, ts_spike]\n",
    "labels = [\"Noisy\", \"Truth\", \"Triangle\", \"LOWESS\"]\n",
    "\n",
    "\n",
    "fig, ax = plt.subplots(1, 1, figsize=(8, 4), sharey=True, sharex=True)\n",
    "\n",
    "\n",
    "for tt, label in zip(ts_arr, labels):\n",
    "    ax.plot(ts_noisy.date, tt, lw=4, label=label, marker=\".\")\n",
    "\n",
    "\n",
    "ax.set_title(\"Triangle vs. LOWESS with outliers\")\n",
    "ax.set_ylim((-2.5, 4))\n",
    "ax.grid()\n",
    "ax.legend(loc=\"lower right\")"
   ]
  },
  {
   "cell_type": "code",
   "execution_count": null,
   "id": "8da6329b-2f44-4a9e-9f1a-31960f517a8b",
   "metadata": {},
   "outputs": [],
   "source": []
  },
  {
   "cell_type": "markdown",
   "id": "41d98988-7727-4e0b-b593-062bf763507d",
   "metadata": {},
   "source": [
    "# Permian Basin"
   ]
  },
  {
   "cell_type": "markdown",
   "id": "1710c74d-ed77-45a1-9c1b-75ce44bcbda4",
   "metadata": {},
   "source": [
    "## Load data"
   ]
  },
  {
   "cell_type": "code",
   "execution_count": null,
   "id": "3e72379a-a03a-423f-9438-9950c20cbaba",
   "metadata": {},
   "outputs": [],
   "source": [
    "import cartopy.crs as ccrs\n",
    "from apertools import sario\n",
    "from cartopy.feature import ShapelyFeature\n",
    "\n",
    "# import geopandas as gpd\n",
    "from cartopy.io.shapereader import Reader"
   ]
  },
  {
   "cell_type": "code",
   "execution_count": null,
   "id": "14728745-02de-4869-aa1f-c27c389d3b21",
   "metadata": {},
   "outputs": [],
   "source": [
    "datapath = \"/Users/scott/Documents/Learning/masters-thesis/7year_merged_solutions_looked_18_bw15_2year_noref_all_el1/\"\n",
    "\n",
    "gis_dir = \"/Users/scott/Documents/Learning/masters-thesis/fracking-qgis-data/\"\n",
    "\n",
    "data78 = Path(datapath + \"los_path78\")\n",
    "data85 = Path(datapath + \"los_path85\")\n",
    "data151 = Path(datapath + \"los_path151\")\n",
    "\n",
    "data_merged = Path(datapath + \"merged_cumulative_east_up\")\n",
    "data_clipped = Path(datapath + \"clipped_cumulative_up\")\n",
    "data_clipped_diffs = Path(datapath + \"clipped_diffs_up\")\n",
    "\n",
    "permian_clip_shape = gpd.read_file(datapath + \"clip_shape_outline.geojson\")\n",
    "# permian_clip_shape.plot()\n",
    "list(data78.glob(\"cumulative_los*\"))[:2]"
   ]
  },
  {
   "cell_type": "code",
   "execution_count": null,
   "id": "985f03f2-33c9-4b82-b243-93e2fa97de45",
   "metadata": {},
   "outputs": [],
   "source": [
    "# ds_78 = xr.open_dataset(datapath + \"los_path78\")\n",
    "ds_85 = sario.load_xr_tifs(data85.glob(\"cumulative_los*\"))\n",
    "ds_151 = sario.load_xr_tifs(data151.glob(\"cumulative_los*\"))\n",
    "\n",
    "ds_up = sario.load_xr_tifs(data_merged.glob(\"*vertical*\"))\n",
    "ds_east = sario.load_xr_tifs(data_merged.glob(\"*east*\"))\n",
    "\n",
    "ds_up = sario.load_xr_tifs(data_merged.glob(\"*vertical*\"))\n",
    "ds_east = sario.load_xr_tifs(data_merged.glob(\"*east*\"))\n",
    "\n",
    "ds_clipped = sario.load_xr_tifs(data_clipped.glob(\"cumulative_vertical*\"))\n",
    "ds_clipped_1year = sario.load_xr_tifs((data_clipped_diffs / \"1year\").glob(\"*\"))\n",
    "ds_clipped_2year = sario.load_xr_tifs((data_clipped_diffs / \"2year\").glob(\"*\"))\n",
    "\n",
    "# change to end years\n",
    "ds_clipped_1year[\"date\"] = ds_clipped_1year.indexes[\"date\"] + pd.DateOffset(years=1)\n",
    "ds_clipped_2year[\"date\"] = ds_clipped_2year.indexes[\"date\"] + pd.DateOffset(years=2)"
   ]
  },
  {
   "cell_type": "code",
   "execution_count": null,
   "id": "c798af72-d32f-4b3b-b653-93fe37584a42",
   "metadata": {},
   "outputs": [],
   "source": [
    "permian_shape_path = (\n",
    "    gis_dir + \"repermianbasinshapefile/delaware_midland_central_basin.geojson\"\n",
    ")\n",
    "gdf_permian = gpd.read_file(permian_shape_path).to_crs(\"EPSG:4326\")\n",
    "# fig, ax = pplt.subplots(projection='pcarree')\n",
    "gdf_permian.plot(facecolor=(1, 1, 1, 0), edgecolor=\"purple\", lw=2, alpha=0.3)"
   ]
  },
  {
   "cell_type": "code",
   "execution_count": null,
   "id": "82619721-989f-4b2c-9061-7dbd48d90e9d",
   "metadata": {},
   "outputs": [],
   "source": [
    "ds_78"
   ]
  },
  {
   "cell_type": "code",
   "execution_count": null,
   "id": "d9502200-bc69-4e2f-be52-c1bc16f67637",
   "metadata": {},
   "outputs": [],
   "source": [
    "pplt.rc[\"font.size\"] = 12"
   ]
  },
  {
   "cell_type": "code",
   "execution_count": null,
   "id": "5b052d2b-bfcc-4290-927f-b0a5538108fd",
   "metadata": {},
   "outputs": [],
   "source": [
    "def plot_defo_image(\n",
    "    ds,\n",
    "    idx=-1,\n",
    "    date=None,\n",
    "    ax=None,\n",
    "    vm=7,\n",
    "    cmap=\"seismic_wide_y_r\",\n",
    "    lonticks=[-104, -103, -102],\n",
    "    latticks=[31, 32],\n",
    "    cbar_label=\"LOS [cm]\",\n",
    "    add_colorbar=True,\n",
    "    bbox=None,\n",
    "    plot_basin_shape=True,\n",
    "    scale_bar_km=50,\n",
    "    scale_loc=(0.8, 0.88),\n",
    "    zebra_lw=3,\n",
    "    \n",
    "):\n",
    "    # ds, idx = ds_78, -1\n",
    "    if date is not None:\n",
    "        img = ds.sel(date=date)\n",
    "    else:\n",
    "        img = ds[idx]\n",
    "    crs = ccrs.PlateCarree()\n",
    "    # crs = \"pcarree\"\n",
    "\n",
    "    if ax is None:\n",
    "        # fig, ax = pplt.subplots(proj=crs, figsize=(4, 4))#, sharex=True, sharey=True)\n",
    "        fig = pplt.figure(\n",
    "            refwidth=3,\n",
    "            sharex=False,\n",
    "            sharey=False,\n",
    "        )\n",
    "        ax = fig.subplot(\n",
    "            abc=\"(a)\",\n",
    "            projection=\"pcarree\",\n",
    "            labels=False,\n",
    "            dms=False,\n",
    "        )\n",
    "    else:\n",
    "        fig = ax.figure\n",
    "\n",
    "    if bbox is None:\n",
    "        bbox = ds.rio.bounds()\n",
    "    print(f\"{bbox = }\")\n",
    "    # _, axim = plotting.map_img(\n",
    "    #     img, bbox=bbox, pad_pct=0.0, ax=ax, vmax=vm, vmin=-vm, cmap=cmap\n",
    "    # )\n",
    "    _, ax = plotting.map_background(\n",
    "        image=img,\n",
    "        bbox=bbox,\n",
    "        pad_pct=0.1,\n",
    "        ax=ax,\n",
    "        vmax=vm,\n",
    "        vmin=-vm,\n",
    "        cmap=cmap,\n",
    "        interpolation=\"nearest\",\n",
    "    )\n",
    "    axim = ax.get_images()[0]\n",
    "    # axim = ax.imshow(np.random.rand(50, 50))\n",
    "    if add_colorbar:\n",
    "        ax.colorbar(axim, loc=\"r\", label=cbar_label)\n",
    "\n",
    "    if plot_basin_shape:\n",
    "        gdf_permian.plot(\n",
    "            alpha=0.3, facecolor=\"none\", edgecolor=\"purple\", lw=2, ax=ax, zorder=3\n",
    "        )\n",
    "\n",
    "    # ax.add_feature(shape_feature, zorder = 1)\n",
    "    # perm = ax.add_feature(gdf['geometry'], crs=crs, alpha=.7, edgecolor=\"purple\", lw=2, zorder=3)\n",
    "    # perm.set_facecolor((1, 1, 0.5, 0.0))\n",
    "\n",
    "    ax.format(\n",
    "        # lonlim=(left, right),\n",
    "        # latlim=(bot, top),\n",
    "        labels=False,\n",
    "        dms=False,\n",
    "        lonlines=1,\n",
    "        latlines=1,\n",
    "    )\n",
    "    ax.set_xticks(lonticks)\n",
    "    ax.set_yticks(latticks)\n",
    "    lw = 4\n",
    "    ax.tick_params(axis=\"both\", which=\"major\", pad=lw)\n",
    "\n",
    "    plotting.add_zebra(ax, lw=zebra_lw, zorder=3)\n",
    "\n",
    "    plotting.scale_bar(ax, ax.projection, scale_bar_km, location=scale_loc, zorder=4)\n",
    "    return fig, ax"
   ]
  },
  {
   "cell_type": "code",
   "execution_count": null,
   "id": "47ba2bdc-3bc7-41e4-976d-db7e60351329",
   "metadata": {},
   "outputs": [],
   "source": [
    "fig, ax = plot_defo_image(ds_78, idx=-1)"
   ]
  },
  {
   "cell_type": "code",
   "execution_count": null,
   "id": "7cd54e4c-e4d9-4788-81c5-f3702b882f36",
   "metadata": {},
   "outputs": [],
   "source": [
    "# fig.savefig(\"~/test300.pdf\", dpi=300)"
   ]
  },
  {
   "cell_type": "code",
   "execution_count": null,
   "id": "aba80c8a-6d25-4861-9a16-4f901ef8330e",
   "metadata": {},
   "outputs": [],
   "source": []
  },
  {
   "cell_type": "code",
   "execution_count": null,
   "id": "4ca20d9c-6189-4c6c-886d-813e9bed4be2",
   "metadata": {},
   "outputs": [],
   "source": []
  },
  {
   "cell_type": "code",
   "execution_count": null,
   "id": "62165f7e-9bee-4965-a49b-13bf8f3b80a2",
   "metadata": {},
   "outputs": [],
   "source": []
  },
  {
   "cell_type": "code",
   "execution_count": null,
   "id": "20b56dc1-572c-4f8f-a4d6-96a8a53cd532",
   "metadata": {},
   "outputs": [],
   "source": [
    "ds_up = xr.open_dataset(datapath + \"los_path78\")\n",
    "ds_78 = sario.load_xr_tifs(data78.glob(\"cumulative_los*\"))\n",
    "ds_78"
   ]
  },
  {
   "cell_type": "code",
   "execution_count": null,
   "id": "83d019e5-7e4e-4866-9868-2d2e0130c5a0",
   "metadata": {},
   "outputs": [],
   "source": [
    "ymin = ds_78.rio.bounds()[1]\n",
    "ymax = ds_78.rio.bounds()[3]\n",
    "ds_85 = ds_85.sel(lat=slice(ymax, ymin)).rio.set_spatial_dims(\"lon\", \"lat\")\n",
    "ds_151 = ds_151.sel(lat=slice(ymax, ymin)).rio.set_spatial_dims(\"lon\", \"lat\")"
   ]
  },
  {
   "cell_type": "code",
   "execution_count": null,
   "id": "acea75a8-11b6-4560-99c5-78f66201b262",
   "metadata": {},
   "outputs": [],
   "source": [
    "ds_78.rio.bounds(), ds_85.rio.bounds(), ds_151.rio.bounds()"
   ]
  },
  {
   "cell_type": "markdown",
   "id": "765c8421-05ec-42f6-94fb-338e6a459523",
   "metadata": {},
   "source": [
    "## Plot 7 year cumulative for each path"
   ]
  },
  {
   "cell_type": "code",
   "execution_count": null,
   "id": "551fe77b-4329-43d3-b5f8-1b0f63fe5ad6",
   "metadata": {},
   "outputs": [],
   "source": [
    "fig = pplt.figure(refwidth=2.5, refheight=1.8, sharex=False, sharey=False)\n",
    "ax = fig.subplot(311, abc=\"(a)\", projection=\"pcarree\", labels=False, dms=False)\n",
    "plot_defo_image(ds_151, idx=-1, ax=ax, lonticks=[-105, -104, -103])\n",
    "\n",
    "ax = fig.subplot(312, abc=\"(a)\", projection=\"pcarree\", labels=False, dms=False)\n",
    "plot_defo_image(ds_85, idx=-1, ax=ax, lonticks=[-105, -104, -103])\n",
    "\n",
    "ax = fig.subplot(313, abc=\"(a)\", projection=\"pcarree\", labels=False, dms=False)\n",
    "plot_defo_image(ds_78, idx=-1, ax=ax, lonticks=[-104, -103, -102])"
   ]
  },
  {
   "cell_type": "code",
   "execution_count": null,
   "id": "840c07ed-9276-4645-b1da-0aa355bdb6f8",
   "metadata": {},
   "outputs": [],
   "source": [
    "fig.savefig(\"../figures/chapter5-lowess/figure-results-los.pdf\", dpi=300)"
   ]
  },
  {
   "cell_type": "markdown",
   "id": "cc873ff0-7ef0-4aa8-91f7-4fdbe116a724",
   "metadata": {},
   "source": [
    "## East up cumulative"
   ]
  },
  {
   "cell_type": "code",
   "execution_count": null,
   "id": "68d5299b-f394-49bb-b4bf-5c16f79a51d1",
   "metadata": {},
   "outputs": [],
   "source": [
    "fig = pplt.figure(refwidth=3, refheight=2.3, sharex=False, sharey=False)\n",
    "ax = fig.subplot(211, abc=\"(a)\", projection=\"pcarree\", labels=False, dms=False)\n",
    "plot_defo_image(\n",
    "    ds_up, idx=-1, ax=ax, lonticks=[-105, -104, -103], cmap=\"seismic_wide_y\"\n",
    ")\n",
    "\n",
    "ax = fig.subplot(212, abc=\"(a)\", projection=\"pcarree\", labels=False, dms=False)\n",
    "plot_defo_image(\n",
    "    ds_east, idx=-1, ax=ax, lonticks=[-105, -104, -103], cmap=\"seismic_wide_y\"\n",
    ")"
   ]
  },
  {
   "cell_type": "code",
   "execution_count": null,
   "id": "bc6b6b7d-f107-4dba-b772-e4b0008d6c31",
   "metadata": {},
   "outputs": [],
   "source": [
    "fig.savefig(\"../figures/chapter5-lowess/figure-results-east-up.pdf\", dpi=300)"
   ]
  },
  {
   "cell_type": "markdown",
   "id": "6f82d70a-748c-4f8e-9d9b-e49e7fd50599",
   "metadata": {},
   "source": [
    "## Time series of interesting pixels"
   ]
  },
  {
   "cell_type": "code",
   "execution_count": null,
   "id": "f9f66620-c07c-4a4a-9299-ba44095cef2e",
   "metadata": {},
   "outputs": [],
   "source": [
    "lon, lat = -102.7712, 31.4970\n",
    "zarr_path = \"https://scott-insar.s3.us-west-004.backblazeb2.com/test-insar/defo_los_path{}.zarr/\"\n",
    "ds78full = xr.open_zarr(zarr_path.format(78))\n",
    "# ds85full = xr.open_zarr(zarr_path.format(85))\n",
    "# ds151full = xr.open_zarr(zarr_path.format(151))"
   ]
  },
  {
   "cell_type": "code",
   "execution_count": null,
   "id": "fe28569d-21ac-40b2-be4e-03e86cb2c7a0",
   "metadata": {},
   "outputs": [],
   "source": [
    "ds78full"
   ]
  },
  {
   "cell_type": "code",
   "execution_count": null,
   "id": "5a033722-57bd-421f-85a8-f083d032ec2e",
   "metadata": {},
   "outputs": [],
   "source": [
    "lon, lat = -102.7712, 31.4970\n",
    "tsup = ds78full.sel(lon=lon, lat=lat, method=\"nearest\")"
   ]
  },
  {
   "cell_type": "code",
   "execution_count": null,
   "id": "f107851a-c993-49b8-a475-f9d3988e7f25",
   "metadata": {},
   "outputs": [],
   "source": [
    "fig, ax = pplt.subplots()\n",
    "\n",
    "tsup[\"defo_noisy\"].plot(ax=ax, label=\"Noisy\")\n",
    "tsup[\"defo_lowess_2year\"].plot(label=\"LOWESS\")\n",
    "ax.format(ylabel=\"LOS [cm]\")\n",
    "ax.legend(ncols=1, loc=\"lower left\")"
   ]
  },
  {
   "cell_type": "code",
   "execution_count": null,
   "id": "c787c924-a364-4b0f-bc71-e9752d378413",
   "metadata": {},
   "outputs": [],
   "source": [
    "lon, lat = -103.5582, 32.0468\n",
    "bbox = -103.8, 31.9, -103.3, 32.3\n",
    "left, bot, right, top = bbox\n",
    "tsubs = ds78full.sel(lon=lon, lat=lat, method=\"nearest\")\n",
    "img_subs = ds78full[\"defo_lowess_2year\"][-1].sel(\n",
    "    lon=slice(left, right), lat=slice(top, bot)\n",
    ")\n",
    "img_subs.load()"
   ]
  },
  {
   "cell_type": "code",
   "execution_count": null,
   "id": "1223f852-a0aa-423e-ba24-aaf603a2c45c",
   "metadata": {},
   "outputs": [],
   "source": [
    "from shapely import geometry\n",
    "\n",
    "fig, ax = pplt.subplots()\n",
    "# ax.imshow(img_subs, cmap=\"RdBu\")\n",
    "img_subs.plot.imshow(cmap=\"RdBu\", ax=ax)\n",
    "\n",
    "\n",
    "box = gpd.GeoSeries(geometry.box(*bbox))\n",
    "\n",
    "# print(circle)\n",
    "circle = gpd.GeoSeries(geometry.Point(lon, lat).buffer(0.1))\n",
    "circle.plot(ax=ax, facecolor=\"None\", edgecolor=\"k\")"
   ]
  },
  {
   "cell_type": "code",
   "execution_count": null,
   "id": "5996103a-cf12-439c-b361-bd88ea7495fa",
   "metadata": {},
   "outputs": [],
   "source": [
    "img_subs_window = utils.window_stack_xr(\n",
    "    ds78full[\"defo_lowess_2year\"].sel(date=slice(None, \"2020-01-01\")),\n",
    "    lon=lon,\n",
    "    lat=lat,\n",
    "    window_size=9,\n",
    ")\n",
    "\n",
    "img_subs_window.plot()"
   ]
  },
  {
   "cell_type": "code",
   "execution_count": null,
   "id": "33b89153-ec1d-452f-b82c-4212d112990f",
   "metadata": {},
   "outputs": [],
   "source": [
    "gdf_oil = sario.read_geopandas(gis_dir + \"oil_production_2009-2019.csv\")\n",
    "gdf_water = sario.read_geopandas(gis_dir + \"water_production_2009-2019.csv\")\n",
    "# gdf_water.columns, gdf_oil.columns\n",
    "\n",
    "# https://stackoverflow.com/questions/9958506/element-wise-string-concatenation-in-numpy\n",
    "years = np.arange(2015, 2019 + 1)\n",
    "yearcols = np.char.add(\"y\", years.astype(str))\n",
    "\n",
    "gdf_oil = gdf_oil.loc[:, [\"API\", \"geometry\", \"TopPerfDepth\", *yearcols]]\n",
    "gdf_water = gdf_water.loc[:, [\"API\", \"geometry\", \"TopPerfDepth\", *years.astype(str)]]\n",
    "\n",
    "gdf_oil.rename(columns={\"TopPerfDepth\": \"depth\"}, inplace=True)\n",
    "gdf_water.rename(columns={\"TopPerfDepth\": \"depth\"}, inplace=True)\n",
    "\n",
    "gdf_oil = gdf_oil.rename({yc: yc.strip(\"y\") for yc in yearcols}, axis=1)\n",
    "\n",
    "gdf_oil.fillna(0.0, inplace=True)\n",
    "gdf_water.fillna(0.0, inplace=True)"
   ]
  },
  {
   "cell_type": "code",
   "execution_count": null,
   "id": "43bb2ddb-6ea1-43ae-84bd-219f6333ef81",
   "metadata": {},
   "outputs": [],
   "source": [
    "gdf_water.head()"
   ]
  },
  {
   "cell_type": "code",
   "execution_count": null,
   "id": "422ff30b-d7f5-4883-9b67-f1421d583cf5",
   "metadata": {},
   "outputs": [],
   "source": [
    "# To get per-well totals\n",
    "# agg_dict = {\"volume\": \"sum\", \"geometry\": \"first\", \"depth\": \"first\"}\n",
    "# gdf_circle.groupby(\"API\").agg(agg_dict)\n",
    "\n",
    "\n",
    "def get_yearly_within_poly(gdf, poly):\n",
    "    gdf2 = gdf.clip(poly).melt(\n",
    "        id_vars=gdf.columns[:3],\n",
    "        value_vars=gdf.columns[3:],\n",
    "        var_name=\"year\",\n",
    "        value_name=\"volume\",\n",
    "    )\n",
    "    return gdf2[[\"year\", \"volume\"]].groupby(\"year\").sum()"
   ]
  },
  {
   "cell_type": "code",
   "execution_count": null,
   "id": "e193f325-30ae-4cc4-86f9-4a5972e851aa",
   "metadata": {},
   "outputs": [],
   "source": [
    "gdf_water_circle = get_yearly_within_poly(gdf_water, circle)\n",
    "gdf_oil_circle = get_yearly_within_poly(gdf_oil, circle)\n",
    "gdf_oil_circle.head()"
   ]
  },
  {
   "cell_type": "code",
   "execution_count": null,
   "id": "946f3909-dd61-44ca-ae08-a00535d16853",
   "metadata": {},
   "outputs": [],
   "source": [
    "gdf_circle = gdf_water_circle.join(gdf_oil_circle, lsuffix=\"_oil\", rsuffix=\"_water\")"
   ]
  },
  {
   "cell_type": "code",
   "execution_count": null,
   "id": "0aeb0f0f-1256-4c71-931d-1e5b3a1a25ae",
   "metadata": {},
   "outputs": [],
   "source": [
    "fig, axes = pplt.subplots(ncols=2, sharex=False, sharey=False, abc=\"(a)\")\n",
    "\n",
    "ax = axes[0]\n",
    "\n",
    "# img_subs = img_subs.rio.set_spatial_dims('lon', 'lat')\n",
    "# axim = ax.imshow(img_subs, cmap=\"RdBu\", extent=img_subs.rio.bounds())\n",
    "\n",
    "axim = img_subs.plot.imshow(ax=ax, cmap=\"RdBu\", add_colorbar=False)\n",
    "ax.colorbar(axim, loc=\"r\", label=\"LOS [cm]\")\n",
    "ax.format(xlabel=\"\", ylabel=\"\", title=\"\")\n",
    "\n",
    "circle.plot(ax=ax, facecolor=\"None\", edgecolor=\"k\")\n",
    "\n",
    "gdf_water[\"geometry\"].clip(box).plot(ax=ax, ms=2, edgecolor=\"none\", facecolor=\"gray\")\n",
    "\n",
    "\n",
    "###\n",
    "ax = axes[1]\n",
    "ax.bar(gdf_circle.index, gdf_circle.values / 1e6, stack=True, labels=[\"Water\", \"Oil\"])\n",
    "ax.format(ylabel=\"Production [MBBl]\", xlabel=\"\")\n",
    "ax.legend(ncols=1)"
   ]
  },
  {
   "cell_type": "code",
   "execution_count": null,
   "id": "a42f468b-bd98-4215-86da-ad3bbba40849",
   "metadata": {},
   "outputs": [],
   "source": [
    "fig.savefig(\"../figures/chapter5-lowess/figure-los-path78-production.pdf\", dpi=300)"
   ]
  },
  {
   "cell_type": "markdown",
   "id": "780527f2-4865-483f-acab-199c301a43d0",
   "metadata": {},
   "source": [
    "## Get injection timeseries"
   ]
  },
  {
   "cell_type": "code",
   "execution_count": null,
   "id": "7c3f5225-447d-4a82-9eec-7ef8c940389a",
   "metadata": {},
   "outputs": [],
   "source": [
    "gdf = sario.read_geopandas(\n",
    "    \"/Users/scott/Documents/Learning/masters-thesis/fracking-qgis-data/water_injection_2009-2019.csv\"\n",
    ")\n",
    "years = np.arange(2015, 2019 + 1)\n",
    "gdf = gdf[gdf[\"Type\"] == \"SWD\"]  # only salt water disposal, not EOR\n",
    "gdf = gdf.loc[:, [\"API\", \"geometry\", \"TopPerfDepth\", *years.astype(str)]]\n",
    "\n",
    "gdf.rename(columns={\"TopPerfDepth\": \"depth\"}, inplace=True)\n",
    "gdf.fillna(0.0, inplace=True)\n",
    "gdf"
   ]
  },
  {
   "cell_type": "code",
   "execution_count": null,
   "id": "6f128b4b-638a-4eb3-b070-14c1a43a8c8c",
   "metadata": {},
   "outputs": [],
   "source": [
    "gdf2 = gdf.melt(\n",
    "    id_vars=gdf.columns[:3],\n",
    "    value_vars=gdf.columns[3:],\n",
    "    var_name=\"year\",\n",
    "    value_name=\"volume\",\n",
    ")\n",
    "\n",
    "gdf2[\"year\"] = pd.to_datetime(gdf2[\"year\"], format=\"%Y\")\n",
    "\n",
    "gdf2"
   ]
  },
  {
   "cell_type": "code",
   "execution_count": null,
   "id": "21dc1518-a80c-4a85-862b-2e429dd13f1f",
   "metadata": {},
   "outputs": [],
   "source": [
    "kim_lu_api = 4249533675\n",
    "gdf2_inj = gdf2[gdf2[\"API\"] == kim_lu_api]\n",
    "gdf2_inj"
   ]
  },
  {
   "cell_type": "code",
   "execution_count": null,
   "id": "04be2d21-510a-475a-a80b-309c3fd139ff",
   "metadata": {},
   "outputs": [],
   "source": [
    "lon, lat = gdf2_inj.iloc[0].geometry.coords[0]\n",
    "tsinj = ds78full.sel(lon=lon, lat=lat, method=\"nearest\")"
   ]
  },
  {
   "cell_type": "code",
   "execution_count": null,
   "id": "9b44465e-49eb-49b5-adb6-297c6d8f25ee",
   "metadata": {},
   "outputs": [],
   "source": [
    "gdf2_inj"
   ]
  },
  {
   "cell_type": "code",
   "execution_count": null,
   "id": "650e740c-26f9-4cc9-bb7e-9df78555b9a1",
   "metadata": {},
   "outputs": [],
   "source": [
    "(tsinj[\"defo_noisy\"].indexes[\"date\"] - tsinj[\"defo_noisy\"].indexes[\"date\"][0])[:25]"
   ]
  },
  {
   "cell_type": "code",
   "execution_count": null,
   "id": "5519f73e-4e02-4b28-add1-552b2bba4183",
   "metadata": {},
   "outputs": [],
   "source": [
    "mode = \"reflect\"\n",
    "# about 2 years\n",
    "tri_win = signal.windows.triang(25)\n",
    "\n",
    "dn_tri = ndimage.convolve1d(tsinj[\"defo_noisy\"].data, tri_win, axis=0, mode=mode) / sum(\n",
    "    tri_win\n",
    ")\n",
    "dn_tri = dn_tri - dn_tri[0]\n",
    "dn_xr_tri = tsinj[\"defo_noisy\"].copy()\n",
    "dn_xr_tri.data = dn_tri\n",
    "# dn_xr_tri"
   ]
  },
  {
   "cell_type": "code",
   "execution_count": null,
   "id": "de013a2e-aa46-4724-b016-b2e21ce523b2",
   "metadata": {},
   "outputs": [],
   "source": [
    "tsinj.load();"
   ]
  },
  {
   "cell_type": "code",
   "execution_count": null,
   "id": "e38a2be9-c5ce-4b31-8cf8-f5c82884d5dc",
   "metadata": {},
   "outputs": [],
   "source": [
    "fig, ax = pplt.subplots(refwidth=3.5, refheight=2.8)\n",
    "\n",
    "# ds = pd.to_datetime(tsinj.indexes['date']).to_series()\n",
    "ds = tsinj.indexes[\"date\"].to_pydatetime()\n",
    "\n",
    "# tsinj['defo_noisy'].plot(ax=ax, label='Noisy')\n",
    "# tsinj['defo_lowess_2year'].plot(ax=ax, label='LOWESS')\n",
    "l1 = ax.plot(ds, tsinj[\"defo_noisy\"].values, label=\"Noisy\")\n",
    "l2 = ax.plot(ds, tsinj[\"defo_lowess_2year\"].values, label=\"LOWESS\", lw=3)\n",
    "# tsinj['defo_lowess_2year'].plot(ax=ax, label='LOWESS')\n",
    "# l3 = ax.plot(ds, dn_xr_tri.values, label='Tri', lw=3, color='C3')\n",
    "\n",
    "ax.format(ylabel=\"LOS [cm]\", grid=True)\n",
    "\n",
    "\n",
    "ax2 = ax.twinx()\n",
    "ax2.set_zorder(1)\n",
    "ax.set_zorder(2)\n",
    "# gdf2_inj[['year', 'volume']].plot(kind='bar', x='year', ax=ax)\n",
    "# gdf2_inj[['year', 'volume']].set_index('year').plot(ax=ax2, marker='o')\n",
    "# li = ax2.plot(gdf2_inj['year'].values, gdf2_inj['volume'] / 1e6, marker='o', color='C2')\n",
    "li = ax2.bar(\n",
    "    gdf2_inj.year.dt.to_pydatetime(), gdf2_inj[\"volume\"] / 1e6, color=\"C2\", alpha=0.6\n",
    ")\n",
    "ax2.format(ylabel=\"Yearly Injection Volume (MBBl)\")\n",
    "\n",
    "\n",
    "# ax.legend([l1, l2, l3, li], ['Noisy', 'LOWESS', 'Triangle', 'Injection'], ncols=1, loc='lower left')\n",
    "ax.legend([l1, l2, li], [\"Noisy\", \"LOWESS\", \"Injection\"], ncols=1, loc=\"lower right\")"
   ]
  },
  {
   "cell_type": "code",
   "execution_count": null,
   "id": "64cf4e7e-352f-4f97-815e-0a97e536e86e",
   "metadata": {},
   "outputs": [],
   "source": [
    "(dn_xr_tri - tsinj[\"defo_lowess_2year\"]).plot()"
   ]
  },
  {
   "cell_type": "markdown",
   "id": "dce6e7f8-a341-4512-af26-132c85de8b0b",
   "metadata": {},
   "source": [
    "## Path 78 LOS and injections"
   ]
  },
  {
   "cell_type": "code",
   "execution_count": null,
   "id": "c8006e51-f993-4197-bd7c-40cf0a2fd88a",
   "metadata": {},
   "outputs": [],
   "source": [
    "import matplotlib.patches as patches\n",
    "\n",
    "\n",
    "def plot_rect(\n",
    "    ax,\n",
    "    lon,\n",
    "    lat,\n",
    "    w=0.05,\n",
    "    edgecolor=\"k\",\n",
    "    lw=3,\n",
    "    zorder=5,\n",
    "):\n",
    "    xy = (lon - w / 2, lat - w / 2)\n",
    "    rect = patches.Rectangle(\n",
    "        xy, w, w, facecolor=\"none\", edgecolor=edgecolor, lw=lw, zorder=zorder\n",
    "    )\n",
    "    return ax.add_patch(rect)"
   ]
  },
  {
   "cell_type": "code",
   "execution_count": null,
   "id": "8389e856-aa84-4894-9ead-b1ce822482f8",
   "metadata": {},
   "outputs": [],
   "source": []
  },
  {
   "cell_type": "code",
   "execution_count": null,
   "id": "bdb0ec7b-dae3-4912-875c-137986da337f",
   "metadata": {},
   "outputs": [],
   "source": [
    "fig = pplt.figure(refwidth=3, sharex=False, sharey=False)\n",
    "\n",
    "ax = fig.subplot(121, abc=\"(a)\", projection=\"pcarree\", labels=False, dms=False)\n",
    "plot_defo_image(ds_78, idx=-1, ax=ax, lonticks=[-104, -103, -102])\n",
    "# Add rect on time series area\n",
    "w = 0.15\n",
    "plot_rect(ax, lon, lat, w=w, zorder=5)\n",
    "\n",
    "# Injection timeseries\n",
    "ax = fig.subplot(122, abc=\"(a)\")\n",
    "ds = tsinj.indexes[\"date\"].to_pydatetime()\n",
    "\n",
    "l1 = ax.plot(ds, tsinj[\"defo_noisy\"].values, label=\"Noisy\")\n",
    "l2 = ax.plot(ds, tsinj[\"defo_lowess_2year\"].values, label=\"LOWESS\", lw=3)\n",
    "# l3 = ax.plot(ds, dn_xr_tri.values, label='Tri', lw=3, color='C3')\n",
    "\n",
    "ax.format(ylabel=\"LOS [cm]\", grid=True)\n",
    "\n",
    "\n",
    "ax2 = ax.twinx()\n",
    "ax2.set_zorder(1)\n",
    "ax.set_zorder(2)\n",
    "li = ax2.bar(\n",
    "    gdf2_inj.year.dt.to_pydatetime(), gdf2_inj[\"volume\"] / 1e6, color=\"C2\", alpha=0.6\n",
    ")\n",
    "ax2.format(ylabel=\"Yearly Injection Volume (MBBl)\")\n",
    "\n",
    "# ax.legend([l1, l2, l3, li], ['Noisy', 'LOWESS', 'Triangle', 'Injection'], ncols=1, loc='lower left')\n",
    "ax.legend([l1, l2, li], [\"Noisy\", \"LOWESS\", \"Injection\"], ncols=1, loc=\"lower left\")"
   ]
  },
  {
   "cell_type": "code",
   "execution_count": null,
   "id": "b4d71b51-9a70-4f50-b0ba-88425f586799",
   "metadata": {},
   "outputs": [],
   "source": [
    "fig.savefig(\"../figures/chapter5-lowess/figure-results-los-path78.pdf\", dpi=300)"
   ]
  },
  {
   "cell_type": "code",
   "execution_count": null,
   "id": "31a02a38-9437-4aee-8775-9c3aa1c851f1",
   "metadata": {},
   "outputs": [],
   "source": [
    "!pwd"
   ]
  },
  {
   "cell_type": "markdown",
   "id": "ed965e5f-46f6-4ad5-a4a1-61a3c3db9bff",
   "metadata": {},
   "source": [
    "## Earthquakes and diff images"
   ]
  },
  {
   "cell_type": "code",
   "execution_count": null,
   "id": "2e2eef49-b902-4d0d-8656-68317047e6df",
   "metadata": {},
   "outputs": [],
   "source": [
    "gdf_eqs = sario.read_geopandas(\n",
    "    gis_dir + \"texnet_events_20220414.csv\",\n",
    "    latcol=\"Latitude (WGS84)\",\n",
    "    loncol=\"Longitude (WGS84)\",\n",
    ")\n",
    "# gdf_eqs_growclust = sario.read_geopandas(gis_dir + \"texnet_growclust_20211208.csv\", latcol='latC', loncol='lonC')\n",
    "gdf_eqs_growclust = sario.read_geopandas(\n",
    "    gis_dir + \"texnet_growclust_20211208.csv\", latcol=\"latR\", loncol=\"lonR\"\n",
    ")"
   ]
  },
  {
   "cell_type": "code",
   "execution_count": null,
   "id": "cdef65a4-e642-41d6-8670-8ecdc641d367",
   "metadata": {},
   "outputs": [],
   "source": [
    "# gdf_eqs_growclust.plot(markersize=1)"
   ]
  },
  {
   "cell_type": "code",
   "execution_count": null,
   "id": "92587dd5-a760-4620-85b4-fccfa90cfec7",
   "metadata": {},
   "outputs": [],
   "source": [
    "ds_clipped_2year.date"
   ]
  },
  {
   "cell_type": "code",
   "execution_count": null,
   "id": "fe86e9e1-a4c3-4c37-9c37-d9b01bb3ab8e",
   "metadata": {},
   "outputs": [],
   "source": [
    "(pd.to_datetime(d1) + pd.DateOffset(years=2)).strftime(\"%Y%m%d\")"
   ]
  },
  {
   "cell_type": "code",
   "execution_count": null,
   "id": "dbaca27d-dcc4-465c-8ce6-bd43a5e06259",
   "metadata": {},
   "outputs": [],
   "source": []
  },
  {
   "cell_type": "code",
   "execution_count": null,
   "id": "715e69e0-6d2e-4545-a3f4-4df9fd14b301",
   "metadata": {},
   "outputs": [],
   "source": [
    "def dt_to_title(d, span=2):\n",
    "    start = pd.to_datetime(d) - pd.DateOffset(years=span) + pd.DateOffset(days=2)\n",
    "    # end = pd.to_datetime(d) + pd.DateOffset(years=span)\n",
    "    end = pd.to_datetime(d)\n",
    "    return f\"{start.strftime('%Y')} - {end.strftime('%Y')}\"\n",
    "\n",
    "dt_to_title(d1)"
   ]
  },
  {
   "cell_type": "code",
   "execution_count": null,
   "id": "52afceb9-96ba-4f21-a1cf-3399288a3639",
   "metadata": {},
   "outputs": [],
   "source": [
    "def dt_to_title(d, span=2):\n",
    "    start = pd.to_datetime(d) - pd.DateOffset(years=span) + pd.DateOffset(days=2)\n",
    "    end = pd.to_datetime(d) # + pd.DateOffset(years=span)\n",
    "    return f\"{start.strftime('%Y')} - {end.strftime('%Y')}\"\n",
    "\n",
    "\n",
    "# End dates for 2 year diffs\n",
    "d1, d2, d3 = \"2017-12-31\", \"2019-12-31\", \"2021-12-31\"\n",
    "cmap = \"seismic_wide_y\"\n",
    "vm = 2.5\n",
    "lonticks = [-104.5, -103.5]\n",
    "# bbox = ds_clipped_2year.rio.bounds()\n",
    "bbox = (-104.7, 30.8, -103, 32.5)\n",
    "\n",
    "fig = pplt.figure(refwidth=2., refheight=1.8, sharex=False, sharey=False)\n",
    "\n",
    "for n, dd in zip([321, 323, 325], [d1, d2, d3]):\n",
    "    ax = fig.subplot(n, abc=\"(a)\", projection=\"pcarree\", labels=False, dms=False)\n",
    "    plot_defo_image(ds_clipped_2year, date=dd, ax=ax, lonticks=lonticks, cmap=cmap, vm=vm, bbox=bbox)\n",
    "    ax.set_title(dt_to_title(dd))\n",
    "\n",
    "\n",
    "## With earthquakes\n",
    "for n, dd, yrs in zip(\n",
    "    [322, 324, 326], [d1, d2, d3], [[2017], [2018, 2019], [2020, 2021]]\n",
    "):\n",
    "    ax = fig.subplot(n, abc=\"(a)\", projection=\"pcarree\", labels=False, dms=False)\n",
    "    plot_defo_image(\n",
    "        ds_clipped_2year, date=dd, ax=ax, lonticks=lonticks, cmap=cmap, vm=vm, bbox=bbox, add_colorbar=False,\n",
    "    )\n",
    "    gdf_eqs_growclust[gdf_eqs_growclust.yr.isin(yrs)].plot(\n",
    "        markersize=10, ax=ax, zorder=5, column=\"depR\", cmap='Purples', legend=True,\n",
    "        vmax=7, vmin=2.5, legend_kwds={'label':\"Depth [km]\"},\n",
    "    )\n",
    "    ax.set_title(dt_to_title(dd))"
   ]
  },
  {
   "cell_type": "code",
   "execution_count": null,
   "id": "e784f3ec-0d38-47d8-a0df-033723710e1d",
   "metadata": {},
   "outputs": [],
   "source": [
    "fig.savefig(\"../figures/chapter5-lowess/figure-results-eqs.pdf\", dpi=300)"
   ]
  },
  {
   "cell_type": "code",
   "execution_count": null,
   "id": "ca647ac3-8711-4e7a-8e1b-e9a8d28b99c9",
   "metadata": {},
   "outputs": [],
   "source": [
    "gdf_eqs_growclust.columns"
   ]
  },
  {
   "cell_type": "code",
   "execution_count": null,
   "id": "6e4d141a-602f-4c2a-9598-31300c810bcd",
   "metadata": {},
   "outputs": [],
   "source": [
    "# bbox = ds_clipped_2year.rio.bounds()\n",
    "bbox = (-104.7, 30.8, -103, 32.8)\n",
    "\n",
    "# def plot_eqs(gdf,  \n",
    "crs = ccrs.PlateCarree()\n",
    "fig = pplt.figure(\n",
    "    refwidth=3,\n",
    "    sharex=False,\n",
    "    sharey=False,\n",
    ")\n",
    "ax = fig.subplot(\n",
    "    abc=\"(a)\",\n",
    "    projection=\"pcarree\",\n",
    "    labels=False,\n",
    "    dms=False,\n",
    ")\n",
    "\n",
    "_, ax = plotting.map_background(\n",
    "    bbox=bbox,\n",
    "    pad_pct=0.1,\n",
    "    ax=ax,\n",
    ")\n",
    "gdf_eqs_growclust[gdf_eqs_growclust.yr.isin([2017])].plot(\n",
    "    markersize=10, ax=ax, zorder=5, column=\"depR\", cmap='Purples', legend=True, legend_kwds={'label':\"Depth [km]\"},\n",
    ")"
   ]
  },
  {
   "cell_type": "code",
   "execution_count": null,
   "id": "be0fad64-c4f0-403e-9e21-fad0fd21121f",
   "metadata": {},
   "outputs": [],
   "source": [
    "bbox = (-104.62, 31.45, -103.9, 31.9)\n",
    "yrs = [2020, 2021]\n",
    "dd = d3\n",
    "lonticks = [-104.5, -104.25, -104.0]\n",
    "latticks = [31.5, 31.75]\n",
    "scale_bar_km = 20\n",
    "scale_loc = (0.2, 0.88)\n",
    "\n",
    "fig = pplt.figure(refwidth=3.3, refheight=2, sharex=False, sharey=False)\n",
    "\n",
    "ax = fig.subplot(211, abc=\"(a)\", projection=\"pcarree\", labels=False, dms=False)\n",
    "plot_defo_image(\n",
    "    ds_clipped_2year, date=dd, ax=ax, lonticks=lonticks, latticks=latticks, \n",
    "    cmap=cmap, vm=vm, bbox=bbox, scale_bar_km=scale_bar_km, scale_loc=scale_loc,\n",
    ")\n",
    "ax.set_title(dt_to_title(dd))\n",
    "\n",
    "\n",
    "ax = fig.subplot(212, abc=\"(a)\", projection=\"pcarree\", labels=False, dms=False)\n",
    "plot_defo_image(\n",
    "    ds_clipped_2year, date=dd, ax=ax, lonticks=lonticks, latticks=latticks,\n",
    "    cmap=cmap, vm=vm, bbox=bbox,  scale_bar_km=scale_bar_km, scale_loc=scale_loc,\n",
    "    add_colorbar=False,\n",
    ")\n",
    "gdf_eqs_growclust[gdf_eqs_growclust.yr.isin(yrs)].plot(\n",
    "    markersize=10, ax=ax, zorder=5, column=\"depR\", cmap='Purples', legend=True, legend_kwds={'label':\"Depth [km]\"},\n",
    "    vmax=7, vmin=2.5\n",
    ")\n",
    "ax.set_title(dt_to_title(dd))"
   ]
  },
  {
   "cell_type": "code",
   "execution_count": null,
   "id": "8bef46cd-976f-4c41-8350-3002c3adcd74",
   "metadata": {},
   "outputs": [],
   "source": [
    "fig.savefig(\"../figures/chapter5-lowess/figure-cmez-zoom.pdf\", dpi=300)"
   ]
  },
  {
   "cell_type": "code",
   "execution_count": null,
   "id": "75f3a656-55bf-49a2-93f3-f041e54a27d2",
   "metadata": {},
   "outputs": [],
   "source": [
    "2.7/1.6 * 2"
   ]
  },
  {
   "cell_type": "code",
   "execution_count": null,
   "id": "656d700f-1811-455c-9164-97a23e19ace1",
   "metadata": {},
   "outputs": [],
   "source": [
    "from apertools import latlon\n",
    "npoints = 500\n",
    "\n",
    "# start1 = -104.22, 31.8\n",
    "# end1 = -104.49, 31.475\n",
    "start1 = -104.19, 31.75\n",
    "end1 = -104.15, 31.49\n",
    "\n",
    "transect1 = utils.transect(ds_clipped_2year, start1, end1, npoints)\n",
    "total_dist1 = latlon.latlon_to_dist(start1[::-1], end1[::-1])\n",
    "transect1['index'] = transect1['index'] / transect1['index'].max() * total_dist1 / 1e3\n",
    "\n",
    "\n",
    "start2 = -104.368, 31.75\n",
    "end2 = -104.4, 31.55\n",
    "transect2 = utils.transect(ds_clipped_2year, start2, end2, npoints)\n",
    "total_dist2 = latlon.latlon_to_dist(start2[::-1], end2[::-1])\n",
    "transect2['index'] = transect2['index'] / transect2['index'].max() * total_dist2 / 1e3\n",
    "\n",
    "\n",
    "transect_sm1 = transect1.rolling(index=10, min_periods=1).mean()[::2] # get only 1/3/5th transect\n",
    "transect_sm2 = transect2.rolling(index=10, min_periods=1).mean()[::2]\n",
    "\n",
    "transect_sm1"
   ]
  },
  {
   "cell_type": "code",
   "execution_count": null,
   "id": "f4dc3f6e-46cb-48f0-a505-5cef0f5abf3c",
   "metadata": {},
   "outputs": [],
   "source": [
    "labels = [dt_to_title(dd) for dd in [d1, d2, d3]]\n",
    "# fig, axes = pplt.subplots(ncols=2, refwidth=3, share=False)\n",
    "fig = pplt.figure(refwidth=3.3, refheight=2, sharex=False, sharey=False)\n",
    "\n",
    "\n",
    "ax = fig.subplot(121, abc='(a)')\n",
    "# ax = axes[0]\n",
    "lines = transect_sm1.plot.line(hue='date', add_legend=False, ax=ax)\n",
    "ax.legend(lines, labels, ncols=1)\n",
    "ax.format(ylabel=\"[cm]\")\n",
    "\n",
    "# ax = axes[1]\n",
    "ax = fig.subplot(122, abc=\"(a)\", projection=\"pcarree\", labels=False, dms=False)\n",
    "plot_defo_image(\n",
    "    ds_clipped_2year, date=dd, ax=ax, lonticks=lonticks, latticks=latticks, \n",
    "    cmap=cmap, vm=vm, bbox=bbox, scale_bar_km=scale_bar_km, scale_loc=scale_loc,\n",
    ")\n",
    "ax.plot(transect_sm1.lon, transect_sm1.lat, zorder=3, lw=2, linestyle='dashed')\n",
    "ax.plot(transect_sm2.lon, transect_sm2.lat, zorder=3, lw=2, linestyle='dashed')\n"
   ]
  },
  {
   "cell_type": "code",
   "execution_count": null,
   "id": "57400850-f355-42b7-9d57-4344071e15aa",
   "metadata": {},
   "outputs": [],
   "source": [
    "bbox = (-104.62, 31.45, -103.9, 31.9)\n",
    "yrs = [2020, 2021]\n",
    "dd = d3\n",
    "lonticks = [-104.5, -104.25, -104.0]\n",
    "latticks = [31.5, 31.75]\n",
    "scale_bar_km = 20\n",
    "scale_loc = (0.2, 0.88)\n",
    "\n",
    "\n",
    "fig = pplt.figure(refwidth=3.3, refheight=2, sharex=False, sharey=False)\n",
    "\n",
    "ax = fig.subplot(211, abc=\"(a)\", projection=\"pcarree\", labels=False, dms=False)\n",
    "plot_defo_image(\n",
    "    ds_clipped_2year, date=dd, ax=ax, lonticks=lonticks, latticks=latticks, \n",
    "    cmap=cmap, vm=vm, bbox=bbox, scale_bar_km=scale_bar_km, scale_loc=scale_loc,\n",
    ")\n",
    "ax.set_title(dt_to_title(dd))\n",
    "ax.plot(transect_sm1.lon, transect_sm1.lat, zorder=3, lw=2, linestyle='dashed')\n",
    "ax.plot(transect_sm2.lon, transect_sm2.lat, zorder=3, lw=2, linestyle='dashed')\n",
    "\n",
    "\n",
    "\n",
    "ax = fig.subplot(212, abc=\"(a)\", projection=\"pcarree\", labels=False, dms=False)\n",
    "plot_defo_image(\n",
    "    ds_clipped_2year, date=dd, ax=ax, lonticks=lonticks, latticks=latticks,\n",
    "    cmap=cmap, vm=vm, bbox=bbox,  scale_bar_km=scale_bar_km, scale_loc=scale_loc,\n",
    "    add_colorbar=False,\n",
    ")\n",
    "gdf_eqs_growclust[gdf_eqs_growclust.yr.isin(yrs)].plot(\n",
    "    markersize=10, ax=ax, zorder=5, column=\"depR\", cmap='Purples', legend=True, legend_kwds={'label':\"Depth [km]\"},\n",
    "    vmax=7, vmin=2.5\n",
    ")\n",
    "ax.set_title(dt_to_title(dd))"
   ]
  },
  {
   "cell_type": "code",
   "execution_count": null,
   "id": "7252f2bf-d9f2-4504-9d15-bdc68ebbb839",
   "metadata": {},
   "outputs": [],
   "source": [
    "fig.savefig(\"../figures/chapter5-lowess/figure-cmez-zoom-transect.pdf\", dpi=300)"
   ]
  },
  {
   "cell_type": "code",
   "execution_count": null,
   "id": "2fe91118-9d54-46dc-8581-3b2ca0de6f68",
   "metadata": {},
   "outputs": [],
   "source": [
    "labels = [dt_to_title(dd) for dd in [d1, d2, d3]]\n",
    "fig, axes = pplt.subplots(ncols=2, refwidth=3, refheight=2.4, share=False, abc='(a)')\n",
    "\n",
    "ax = axes[0]\n",
    "lines = transect_sm1.plot.line(hue='date', add_legend=False, ax=ax)\n",
    "ax.legend(lines, labels, ncols=1, loc='ur')\n",
    "ax.format(ylabel=\"[cm]\", title=\"\", xlabel=\"Distance along transect [km]\")\n",
    "\n",
    "ax = axes[1]\n",
    "lines = transect_sm2.plot.line(hue='date', add_legend=False, ax=ax)\n",
    "ax.legend(lines, labels, ncols=1, loc='ur')\n",
    "ax.format(ylabel=\"[cm]\", title=\"\", xlabel=\"Distance along transect [km]\")\n"
   ]
  },
  {
   "cell_type": "code",
   "execution_count": null,
   "id": "0f6a3b07-b103-4a58-9483-e2cfcd394b44",
   "metadata": {},
   "outputs": [],
   "source": [
    "fig.savefig(\"../figures/chapter5-lowess/figure-cmez-transects.pdf\", dpi=300)"
   ]
  },
  {
   "cell_type": "code",
   "execution_count": null,
   "id": "058ca4d2-7c98-460b-bf76-86c20502d631",
   "metadata": {},
   "outputs": [],
   "source": []
  }
 ],
 "metadata": {
  "kernelspec": {
   "display_name": "Python 3 (ipykernel)",
   "language": "python",
   "name": "python3"
  },
  "language_info": {
   "codemirror_mode": {
    "name": "ipython",
    "version": 3
   },
   "file_extension": ".py",
   "mimetype": "text/x-python",
   "name": "python",
   "nbconvert_exporter": "python",
   "pygments_lexer": "ipython3",
   "version": "3.8.6"
  }
 },
 "nbformat": 4,
 "nbformat_minor": 5
}
