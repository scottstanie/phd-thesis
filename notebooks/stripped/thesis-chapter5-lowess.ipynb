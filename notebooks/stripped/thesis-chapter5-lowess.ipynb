{
 "cells": [
  {
   "cell_type": "code",
   "execution_count": null,
   "id": "0e297eee-49e2-4710-805c-480a89e3fb48",
   "metadata": {},
   "outputs": [],
   "source": [
    "import hvplot.xarray\n",
    "\n",
    "import matplotlib.pyplot as plt\n",
    "import proplot as pplt\n",
    "import numpy as np\n",
    "import pandas as pd\n",
    "import panel as pn\n",
    "import seaborn as sns\n",
    "import xarray as xr\n",
    "from numpy.fft import fft, fftfreq, fftshift, ifft\n",
    "from scipy import signal, stats\n",
    "\n",
    "\n",
    "from troposim import igram_sim, turbulence\n",
    "from apertools import lowess, plotting, utils\n",
    "\n",
    "pn.extension()\n",
    "# pplt.rc.update({\"subplots.share\": False, \"subplots.span\": False})\n",
    "\n",
    "\n",
    "sns.set_style(style=\"white\")\n",
    "# plotting.set_style(size=16)\n",
    "\n",
    "\n",
    "RNG = np.random.default_rng()\n",
    "\n",
    "%matplotlib inline\n",
    "# %matplotlib widget\n",
    "\n",
    "%load_ext autoreload\n",
    "%autoreload 2"
   ]
  },
  {
   "cell_type": "code",
   "execution_count": null,
   "id": "e9e6c2b5-b6fb-48e1-ae0e-f3cb4af3e6a1",
   "metadata": {},
   "outputs": [],
   "source": [
    "# sns.set_style?"
   ]
  },
  {
   "cell_type": "markdown",
   "id": "d3f08aa7-33f9-4400-91b3-1587152ac568",
   "metadata": {},
   "source": [
    "# Chapter: Improved Robust Long-term Time Series Methods\n",
    "\n",
    "1. Limitations of stacking to long time series\n",
    "2. Robust Time Series Methods\n",
    "    1. Regularization (Supplement from GRL)\n",
    "    1. LPF by triangle filiter \n",
    "    1. LOWESS smoothing\n",
    "3. Synthetic Example\n",
    "    1. frequency response of triangle\n",
    "    1. response of LOWESS\n",
    "4. 7 Year Time Series for the Permian Basin\n",
    "    1. Comparison to GPS\n",
    "    2. Anthropogenic Caused Deformation Patterns"
   ]
  },
  {
   "cell_type": "code",
   "execution_count": null,
   "id": "4126f3c8-5e5a-4362-8795-ba28ae2b34e1",
   "metadata": {},
   "outputs": [],
   "source": [
    "r = 100\n",
    "b = 2.7\n",
    "N = 10\n",
    "shape = (100, 100)\n",
    "ny, nx = shape\n",
    "\n",
    "igm_g = igram_sim.IgramMaker(\n",
    "    num_days=N,\n",
    "    shape=shape,\n",
    "    distribution=\"normal\",\n",
    "    resolution=r,\n",
    "    p0_default=100,\n",
    "    to_cm=True,\n",
    ")\n",
    "igm_u = igram_sim.IgramMaker(\n",
    "    num_days=N,\n",
    "    shape=shape,\n",
    "    distribution=\"uniform\",\n",
    "    resolution=r,\n",
    "    p0_default=100,\n",
    "    to_cm=True,\n",
    ")\n",
    "\n",
    "sar_stack_u, sar_date_list = igm_u.make_sar_stack(beta=b)\n",
    "sar_stack_g, _ = igm_g.make_sar_stack(beta=b)"
   ]
  },
  {
   "cell_type": "code",
   "execution_count": null,
   "id": "a428c4c7-ad2e-4688-b55b-89bbb0fe9ffc",
   "metadata": {},
   "outputs": [],
   "source": [
    "sar_stack_g.max(), sar_stack_g.min()"
   ]
  },
  {
   "cell_type": "code",
   "execution_count": null,
   "id": "764fb99f-6374-4a65-ac31-b44fa15e0c4c",
   "metadata": {},
   "outputs": [],
   "source": [
    "plt.figure()\n",
    "plt.imshow(sar_stack_u[0])\n",
    "plt.colorbar()"
   ]
  },
  {
   "cell_type": "code",
   "execution_count": null,
   "id": "76c5c4cc-ce7f-4a55-990d-c8d86e1e8ebc",
   "metadata": {},
   "outputs": [],
   "source": [
    "s = sar_stack_u[sar_stack_u.max(axis=(1, 2)).argmax()]\n",
    "\n",
    "plt.figure()\n",
    "plt.imshow(s)\n",
    "plt.colorbar()"
   ]
  },
  {
   "cell_type": "code",
   "execution_count": null,
   "id": "b487cf74-c68a-430d-bf92-2b393ac8ae08",
   "metadata": {},
   "outputs": [],
   "source": [
    "fig, axes = plt.subplots(1, 2, figsize=(8, 3), sharex=True, sharey=True, squeeze=False)\n",
    "axes = axes.ravel()\n",
    "\n",
    "# axes[0].hist(sar_stack1.ravel())\n",
    "# axes[1].hist(sar_stack2.ravel())\n",
    "ax = axes[0]\n",
    "for s in sar_stack_g:\n",
    "    sns.kdeplot(x=s.ravel(), ax=ax)\n",
    "ax.set_title(\"Gaussian\")\n",
    "\n",
    "ax = axes[1]\n",
    "for s in sar_stack_u:\n",
    "    sns.kdeplot(x=s.ravel(), ax=ax)\n",
    "ax.set_title(\"Uniform\")"
   ]
  },
  {
   "cell_type": "code",
   "execution_count": null,
   "id": "d6319774-6359-4c40-bded-e5c3fd57fa03",
   "metadata": {},
   "outputs": [],
   "source": [
    "fig, ax = plt.subplots(figsize=(5, 5), sharex=True, sharey=True)\n",
    "\n",
    "sns.kdeplot(x=sar_stack_g.ravel(), ax=ax, label=\"Gaussian\")\n",
    "sns.kdeplot(x=sar_stack_u.ravel(), ax=ax, label=\"Uniform\")\n",
    "ax.legend()"
   ]
  },
  {
   "cell_type": "markdown",
   "id": "fd724797-5368-4a8a-bf79-d383cf969470",
   "metadata": {},
   "source": [
    "# Add defo "
   ]
  },
  {
   "cell_type": "code",
   "execution_count": null,
   "id": "90c0e7d9-c7f2-48ad-9325-c367523bbda9",
   "metadata": {},
   "outputs": [],
   "source": [
    "p0_rv = \"gamma\"\n",
    "p0_params = {\"scale\": 50, \"a\": 2, \"loc\": 2}\n",
    "\n",
    "plt.figure()\n",
    "xx = np.linspace(0, 250)\n",
    "\n",
    "plt.plot(xx, stats.gamma(**p0_params).pdf(xx))\n",
    "plt.xlabel(\"p0\")"
   ]
  },
  {
   "cell_type": "code",
   "execution_count": null,
   "id": "0f66d854-1296-4390-8be2-1c3932c40c32",
   "metadata": {},
   "outputs": [],
   "source": [
    "defo_rates = [2, -2]\n",
    "# num_days = 80 # 2.6 years\n",
    "num_days = 91  # 3 years\n",
    "r = 200  # resolution, m\n",
    "# b = 2.7\n",
    "\n",
    "shape = (300, 300)\n",
    "\n",
    "igm = igram_sim.IgramMaker(\n",
    "    num_days=num_days, shape=shape, resolution=r, to_cm=True, defo_rates=defo_rates\n",
    ")"
   ]
  },
  {
   "cell_type": "code",
   "execution_count": null,
   "id": "0c4ffb1d-5c9b-446b-9ea0-e05bce5edfe6",
   "metadata": {},
   "outputs": [],
   "source": []
  },
  {
   "cell_type": "code",
   "execution_count": null,
   "id": "c956a887-95c1-474b-b658-c33f5c8776ea",
   "metadata": {},
   "outputs": [],
   "source": [
    "# Draw the daily powers from an exponential\n",
    "\n",
    "seed = 1\n",
    "beta_arr_slopes = stats.norm.rvs(\n",
    "    loc=-2.6, scale=0.1, size=(num_days,), random_state=seed\n",
    ")\n",
    "beta_arr = np.vstack((-9.7 * np.ones(num_days), beta_arr_slopes)).T\n",
    "\n",
    "sar_stack, sar_date_list = igm.make_sar_stack(\n",
    "    beta=beta_arr, p0_params=p0_params, p0_rv=p0_rv, seed=seed\n",
    ")\n",
    "dd = igm.make_defo_stack(sigma=15)"
   ]
  },
  {
   "cell_type": "code",
   "execution_count": null,
   "id": "8144ce40-35d4-4001-bc47-4ef194b45b58",
   "metadata": {},
   "outputs": [],
   "source": [
    "sns.histplot(np.max(np.abs(sar_stack), axis=(1, 2)), bins=20)"
   ]
  },
  {
   "cell_type": "code",
   "execution_count": null,
   "id": "f7642c68-6f40-40d8-ac73-470e839aea6e",
   "metadata": {},
   "outputs": [],
   "source": [
    "plt.figure()\n",
    "plt.imshow(igm.sar_stack[4])\n",
    "plt.colorbar()"
   ]
  },
  {
   "cell_type": "code",
   "execution_count": null,
   "id": "4989a967-147f-42a5-8fb6-28d011248013",
   "metadata": {},
   "outputs": [],
   "source": [
    "plt.figure()\n",
    "plt.imshow(dd[4])\n",
    "plt.colorbar()"
   ]
  },
  {
   "cell_type": "code",
   "execution_count": null,
   "id": "0250d86f-9dca-4df5-83e9-1ca531e3d676",
   "metadata": {},
   "outputs": [],
   "source": [
    "dates = pd.to_datetime(igm.sar_date_list)\n",
    "dd_xr = utils.stack_to_xr(dd, z_coords=dates, dims=(\"date\", \"y\", \"x\"))\n",
    "noise_xr = utils.stack_to_xr(igm.sar_stack, z_coords=dates, dims=(\"date\", \"y\", \"x\"))"
   ]
  },
  {
   "cell_type": "code",
   "execution_count": null,
   "id": "0ed2cebf-3bed-4a5d-86b9-c5d2ab63f1c6",
   "metadata": {},
   "outputs": [],
   "source": [
    "# dd_xr\n",
    "# noise_xr"
   ]
  },
  {
   "cell_type": "code",
   "execution_count": null,
   "id": "fd104a5f-b393-4ab5-8a92-ad625bc116c9",
   "metadata": {},
   "outputs": [],
   "source": [
    "plotting.hvplot_stack(dd_xr, x=\"x\", y=\"y\")"
   ]
  },
  {
   "cell_type": "code",
   "execution_count": null,
   "id": "e7258477-f19b-41d4-9b7b-1febd32f70d6",
   "metadata": {},
   "outputs": [],
   "source": [
    "plotting.hvplot_stack(noise_xr, x=\"x\", y=\"y\")"
   ]
  },
  {
   "cell_type": "markdown",
   "id": "fc903401-cac6-482f-bea3-87682b7322a8",
   "metadata": {},
   "source": [
    "# Time series of center of deformation"
   ]
  },
  {
   "cell_type": "code",
   "execution_count": null,
   "id": "3a32dcf9-8d0d-48e2-af5e-7feccc037879",
   "metadata": {},
   "outputs": [],
   "source": []
  },
  {
   "cell_type": "code",
   "execution_count": null,
   "id": "41d0abed-5e83-49f0-9668-ad083b31539b",
   "metadata": {},
   "outputs": [],
   "source": [
    "noise = igm.sar_stack.copy()\n",
    "noise = noise - noise[:, 5, 5][:, None, None]\n",
    "# Make the day1 noise non-trivial\n",
    "# day1max = np.abs(noise[0]).max()\n",
    "\n",
    "# noisemids = np.abs(noise[:, ny//2, nx//2])\n",
    "noisemids = noise[:, ny // 2, nx // 2]\n",
    "# mid_idx = np.argmax(noisemids)\n",
    "mid_idx = np.argsort(noisemids)[-3]  # get 3rd largest, not max\n",
    "img1, img2 = noise[0], noise[mid_idx]\n",
    "noise[0] = img2\n",
    "noise[mid_idx] = img1\n",
    "\n",
    "# newmax = 2\n",
    "# noise[0] = (noise[0] / day1max) * newmax\n",
    "# save for later\n",
    "day1noise = noise[0].copy()\n",
    "# Subtract the day 1 from the rest:\n",
    "noise = noise - noise[0][None, :, :]\n",
    "\n",
    "defo = igm.defo_stack.copy()\n",
    "defo_plus_noise = noise + defo\n",
    "dn_xr = utils.stack_to_xr(defo_plus_noise, z_coords=dates, dims=(\"date\", \"y\", \"x\"))"
   ]
  },
  {
   "cell_type": "code",
   "execution_count": null,
   "id": "aa218685-e92b-45b3-bcb5-a1e714fe73fe",
   "metadata": {},
   "outputs": [],
   "source": [
    "day1noise.max(), day1noise.min()"
   ]
  },
  {
   "cell_type": "code",
   "execution_count": null,
   "id": "3c21b157-402e-4071-a369-3569a18a4af5",
   "metadata": {},
   "outputs": [],
   "source": [
    "nmax = np.abs(day1noise).max()\n",
    "plt.imshow(day1noise, cmap=\"seismic_wide_y_r\", vmax=nmax, vmin=-nmax)\n",
    "plt.colorbar()"
   ]
  },
  {
   "cell_type": "code",
   "execution_count": null,
   "id": "bcedb578-c16a-481f-acb0-95e97ff969c2",
   "metadata": {},
   "outputs": [],
   "source": [
    "plotting.hvplot_stack(dn_xr, x=\"x\", y=\"y\")"
   ]
  },
  {
   "cell_type": "code",
   "execution_count": null,
   "id": "4e514442-7a68-4bdb-a133-aaaa5c3a08aa",
   "metadata": {},
   "outputs": [],
   "source": [
    "dn_xr.std(dim=(\"date\")).shape"
   ]
  },
  {
   "cell_type": "code",
   "execution_count": null,
   "id": "49efe588-40cd-4019-bcde-42e2662df2e4",
   "metadata": {},
   "outputs": [],
   "source": [
    "plt.figure()\n",
    "dn_xr.std(dim=(\"date\")).plot.imshow()\n",
    "plt.figure()\n",
    "noise_xr.std(dim=(\"date\")).plot.imshow()"
   ]
  },
  {
   "cell_type": "code",
   "execution_count": null,
   "id": "8c26b012-ce50-4f96-bad4-0be9ef1a3b0a",
   "metadata": {},
   "outputs": [],
   "source": [
    "ts_noisy = dn_xr.sel(x=nx // 2, y=ny // 2).copy()\n",
    "ts_truth = dd_xr.sel(x=nx // 2, y=ny // 2).copy()\n",
    "\n",
    "sigma = 0.7\n",
    "ts_white_noise = ts_truth.copy() + RNG.normal(scale=sigma, size=len(ts_noisy))\n",
    "ts_white_noise -= ts_white_noise[0]"
   ]
  },
  {
   "cell_type": "code",
   "execution_count": null,
   "id": "6585b1ae-b281-4463-aa42-15b6e75a000a",
   "metadata": {},
   "outputs": [],
   "source": [
    "# stats.kstest?"
   ]
  },
  {
   "cell_type": "code",
   "execution_count": null,
   "id": "8c31b580-5ecd-4ec5-bfc4-745d4b68657c",
   "metadata": {},
   "outputs": [],
   "source": [
    "(\n",
    "    stats.kstest(ts_noisy.data - ts_truth.data, stats.norm.cdf),\n",
    "    stats.kstest(stats.norm.rvs(size=100), stats.norm.cdf),\n",
    "    stats.kstest(ts_white_noise.data - ts_truth.data, stats.norm.cdf),\n",
    ")"
   ]
  },
  {
   "cell_type": "code",
   "execution_count": null,
   "id": "312e4d76-709d-4009-aba3-07681db0b862",
   "metadata": {},
   "outputs": [],
   "source": [
    "fig, ax = plt.subplots()\n",
    "ts_white_noise.plot(label=\"white noise\", ax=ax)\n",
    "ts_noisy.plot(label=\"turbulence\", ax=ax)\n",
    "ax.legend()"
   ]
  },
  {
   "cell_type": "code",
   "execution_count": null,
   "id": "6f452b22-cbf7-4a35-9257-4b341ff21b3c",
   "metadata": {},
   "outputs": [],
   "source": [
    "fig, ax = plt.subplots(figsize=(7, 4))\n",
    "sns.kdeplot(stats.norm.rvs(size=len(ts_noisy), scale=sigma), label=\"norm.rvs\")\n",
    "sns.kdeplot(ts_white_noise.data - ts_truth.data, label=\"white\")\n",
    "sns.kdeplot(ts_noisy.data - ts_truth.data, label=\"turb\")\n",
    "ax.legend()"
   ]
  },
  {
   "cell_type": "markdown",
   "id": "c36b66c4-4ef4-405b-bc13-804ab99a7d80",
   "metadata": {},
   "source": [
    "# LOWESS Algorithm Demonstration"
   ]
  },
  {
   "cell_type": "markdown",
   "id": "b00e6a8f-154a-4061-81d2-8568dc64a5ce",
   "metadata": {},
   "source": [
    "## LOWESS windows only"
   ]
  },
  {
   "cell_type": "code",
   "execution_count": null,
   "id": "8deab8b1-c1d2-44c6-9377-94d67baa40ec",
   "metadata": {},
   "outputs": [],
   "source": [
    "fig, ax = pplt.subplots(refwidth=5, refheight=2, grid=True)\n",
    "xx = np.linspace(0, 1, 100)\n",
    "idx = 20\n",
    "\n",
    "for frac, fstr in zip([1 / 6, 1 / 3, 1 / 2], [\"1/6\", \"1/3\", \"1/2\"]):\n",
    "    w = lowess.demo_window(xx, frac=frac)\n",
    "    ax.plot(xx, w[:, idx], label=f\"$\\gamma =${fstr}\", lw=3)\n",
    "\n",
    "# ax.legend(loc='upper left')\n",
    "ax.legend(loc=\"upper right\", ncols=1)\n",
    "\n",
    "ax.set_ylabel(\"$\\mathbf{w}(t_i)$\")\n",
    "\n",
    "# ax.set_ylim((None, .1))\n",
    "ax.set_xticks([idx / 100], [\"$t_i$\"])\n",
    "ax.set_xlabel(\"$\\mathbf{t}$\")"
   ]
  },
  {
   "cell_type": "code",
   "execution_count": null,
   "id": "486a6698-9927-4cd7-81c7-eb04a0e0239c",
   "metadata": {},
   "outputs": [],
   "source": [
    "# f = 1/2\n",
    "# x = xx\n",
    "\n",
    "# n = len(x)\n",
    "# r = int(np.ceil(f * n))\n",
    "# h = [np.sort(np.abs(x - x[i]))[r] for i in range(n)]\n",
    "# w = np.clip(np.abs((x[:, None] - x[None, :]) / h), 0.0, 1.0)\n",
    "# w = (1 - w ** 3) ** 3\n",
    "# plt.figure(); plt.plot(w[:, 40])"
   ]
  },
  {
   "cell_type": "code",
   "execution_count": null,
   "id": "900abf39-1bae-4fb7-ad06-fefad28077e0",
   "metadata": {},
   "outputs": [],
   "source": [
    "fig.savefig(\"../figures/chapter5-lowess/figure1-window.pdf\")"
   ]
  },
  {
   "cell_type": "code",
   "execution_count": null,
   "id": "5ff7a037-e5b5-490e-84b4-09452611999b",
   "metadata": {},
   "outputs": [],
   "source": []
  },
  {
   "cell_type": "markdown",
   "id": "296ede29-53fb-46e8-9a8e-d02d0fd9e598",
   "metadata": {},
   "source": [
    "## LOWESS windows, time series example"
   ]
  },
  {
   "cell_type": "code",
   "execution_count": null,
   "id": "303ca4bb-e033-4c85-bdc3-96a4566e7e9b",
   "metadata": {},
   "outputs": [],
   "source": [
    "dn_xr_noisy = dn_xr.copy()\n",
    "\n",
    "# Make something near the demo index noisy\n",
    "idx = 20\n",
    "\n",
    "dn_xr_noisy[idx + 7] += (dn_xr_noisy[idx + 7] + 5)\n",
    "dn_xr_noisy[idx + 4] += (-dn_xr_noisy[idx + 4] + 6.5)\n",
    "dn_xr_noisy[59] += (-dn_xr_noisy[59] - 3.7)\n",
    "dn_xr_noisy[60] += (-dn_xr_noisy[60] - 2.9)\n",
    "\n",
    "ts_noisy = dn_xr_noisy.sel(x=nx // 2, y=ny // 2).copy()\n",
    "# ts_noisy[idx + 7] = 5\n",
    "# ts_noisy[idx + 4] = 6.5\n",
    "# ts_noisy[59] = -3.7\n",
    "# ts_noisy[60] = -2.9\n",
    "\n",
    "x = lowess.date2num(dn_xr.date.values)\n",
    "x = (x - x[0]) / 365.25\n",
    "# x\n",
    "\n"
   ]
  },
  {
   "cell_type": "code",
   "execution_count": null,
   "id": "f19092fb-6945-4eea-8899-0b3d2b3dcb0f",
   "metadata": {},
   "outputs": [],
   "source": [
    "plt.figure()\n",
    "plt.plot(dn_xr_noisy[:, nx//2, ny//2])\n",
    "plt.plot(dn_xr[:, nx//2, ny//2])"
   ]
  },
  {
   "cell_type": "code",
   "execution_count": null,
   "id": "43bc9d0c-85a4-4233-9f73-f3c05ead1304",
   "metadata": {},
   "outputs": [],
   "source": [
    "pplt.rc[\"cycle\"] = \"colorblind\"\n",
    "pplt.rc[\"grid.alpha\"] = 0.4"
   ]
  },
  {
   "cell_type": "code",
   "execution_count": null,
   "id": "8051c813-7dbf-409a-bc1c-465165d6e0e9",
   "metadata": {},
   "outputs": [],
   "source": [
    "fig, ax = pplt.subplots(refwidth=5, refheight=2, grid=True)\n",
    "ax2 = ax.twinx()\n",
    "\n",
    "# lon, lat = gps.station_lonlat(\"TXKM\")\n",
    "# ax2.scatter(igm.sar_date_list, ts_noisy.data, label=r\"$\\phi$\", marker='.', lw=1, color=\"gold\", s=100)\n",
    "# Using the spiked\n",
    "ax2.scatter(\n",
    "    igm.sar_date_list, y, label=r\"$\\phi$\", marker=\".\", lw=1, color=\"gold\", s=100\n",
    ")\n",
    "\n",
    "\n",
    "years_smooth = [0.5, 1, 1.5]\n",
    "for year in years_smooth:\n",
    "    w = lowess.demo_window(x, min_x_weighted=year)\n",
    "    ax.plot(igm.sar_date_list, w[:, idx], label=f\"{year} year\", lw=3)\n",
    "\n",
    "# ax.legend(loc='upper left')\n",
    "ax.legend(loc=\"upper right\", ncols=1)\n",
    "# ax2.legend()\n",
    "# ax.set_title(\"Initial window weight for each LOWESS iteration\")\n",
    "ax2.set_title(\"\")\n",
    "ax2.set_ylabel(f\"$\\phi$ [cm]\")\n",
    "\n",
    "# ax2.set_ylim((-7, 7))\n",
    "ax.set_ylabel(\"$\\mathbf{w}(t_i)$\")"
   ]
  },
  {
   "cell_type": "code",
   "execution_count": null,
   "id": "79a95995-f591-49f3-8b99-8df560d69d14",
   "metadata": {},
   "outputs": [],
   "source": [
    "fig.savefig(\"../figures/chapter5-lowess/figure1-window-ts.pdf\")"
   ]
  },
  {
   "cell_type": "code",
   "execution_count": null,
   "id": "debb3086-2893-46a5-8fd9-90eb748016f0",
   "metadata": {},
   "outputs": [],
   "source": [
    "# fig, ax = plt.subplots()\n",
    "# ax2 = ax.twinx()\n",
    "\n",
    "# # lon, lat = gps.station_lonlat(\"TXKM\")\n",
    "# ts_noisy.plot(ax=ax2, label=\"insar\", marker='.', lw=1, color='gold')\n",
    "\n",
    "\n",
    "# years_smooth = [0.5, 1, 1.5]\n",
    "# for year in years_smooth:\n",
    "#     w = lowess.demo_window(x, min_x_weighted=year)\n",
    "#     ax.plot(igm.sar_date_list, w[50], label=f\"{year} year\", lw=3)\n",
    "\n",
    "# ax.legend(loc='upper left')\n",
    "# # ax2.legend()\n",
    "# ax.set_title(\"Initial window weight for each LOWESS iteration\")\n",
    "# ax2.set_title(\"\")\n",
    "# ax2.set_ylabel(\"InSAR [cm]\")\n",
    "\n",
    "# # ax2.set_ylim((-7, 7))\n",
    "# ax.set_ylabel(\"$\\mathbf{w}(t_i)$\")"
   ]
  },
  {
   "cell_type": "markdown",
   "id": "12a5e9b8-13e8-4ce2-9e1b-567cea77d40b",
   "metadata": {},
   "source": [
    "## Time series only plot, plus image of deformation"
   ]
  },
  {
   "cell_type": "code",
   "execution_count": null,
   "id": "b0ce8e24-7926-4171-8f0c-3e4e3d16a633",
   "metadata": {},
   "outputs": [],
   "source": [
    "ts_arr = [ts_truth, ts_noisy]\n",
    "# labels = ['Noisy', 'Truth']\n",
    "labels = [\"$\\mathbf{d}$\", \"$\\mathbf{\\phi}$\"]\n",
    "colors = [\"C1\", \"C0\"]\n",
    "\n",
    "fig, axes = pplt.subplots([[1, 2], [3, 3]], abc=\"(a)\")  # , figsize=(6, 3))\n",
    "\n",
    "\n",
    "ax.set_ylabel(\"[cm]\")\n",
    "# ax.set_title(\"Triangle-window smoothing\")\n",
    "# ax.grid()\n",
    "\n",
    "ax.legend()\n",
    "defo_img = dd_xr[len(dd_xr) // 2]\n",
    "img_date = dd_xr.indexes[\"date\"][len(dd_xr) // 2]\n",
    "defo_noise_img = dn_xr[len(dd_xr) // 2]\n",
    "vm = np.abs(defo_noise_img).max()\n",
    "\n",
    "\n",
    "ax = axes[0]\n",
    "# axim = ax.imshow(noise_xr[len(dd_xr)//2], cmap=\"RdBu_r\", vmax=vm, vmin=-vm)\n",
    "axim = ax.imshow(defo_img, cmap=\"RdBu_r\", vmax=vm, vmin=-vm)\n",
    "ax.colorbar(axim, loc=\"r\", label=\"[cm]\")\n",
    "ax.format(grid=False, title=f\"{labels[0]}: {str(img_date.date())}\")\n",
    "ax.plot(nx // 2, ny // 2, \"X\", color=colors[0])\n",
    "\n",
    "\n",
    "ax = axes[1]\n",
    "axim = ax.imshow(defo_noise_img, cmap=\"RdBu_r\", vmax=vm, vmin=-vm)\n",
    "ax.colorbar(axim, loc=\"r\", label=\"[cm]\")\n",
    "ax.format(grid=False, title=f\"{labels[1]}: {str(img_date.date())}\")\n",
    "ax.plot(nx // 2, ny // 2, \"X\", color=colors[1])\n",
    "\n",
    "ax = axes[2]\n",
    "\n",
    "dts = ts_noisy.date.values\n",
    "# for tt, label, color in zip(ts_arr, labels, colors):\n",
    "ax.plot(dts, ts_arr[0], lw=3, label=labels[0], color=colors[0])\n",
    "ax.plot(dts, ts_arr[1], lw=1.5, label=labels[1], marker=\".\", color=colors[1])\n",
    "ax.set_ylabel(\"[cm]\")\n",
    "ax.legend(loc=\"ur\")\n",
    "\n",
    "ylim = ax.get_ylim()  # Keep the same limits, but make a vert line for whole span\n",
    "ax.vlines(img_date, ylim[0], ylim[1], linestyle=\"--\", color=\"gray\", alpha=0.5)\n",
    "ax.set_ylim(ylim)"
   ]
  },
  {
   "cell_type": "code",
   "execution_count": null,
   "id": "8a407b24-7380-492d-814c-5f7af4e685e7",
   "metadata": {},
   "outputs": [],
   "source": [
    "fig.savefig(\"../figures/chapter5-lowess/figure2-demo-data.pdf\")"
   ]
  },
  {
   "cell_type": "markdown",
   "id": "4cbd47b1-9f50-44fb-b12c-4b04e7b429af",
   "metadata": {},
   "source": [
    "### Color tests"
   ]
  },
  {
   "cell_type": "code",
   "execution_count": null,
   "id": "5de1bf8b-2b3d-4b79-b110-91e7d6e2cb1d",
   "metadata": {},
   "outputs": [],
   "source": [
    "# First Iteration\n",
    "from matplotlib.colors import LinearSegmentedColormap, to_rgb, to_rgba\n",
    "\n",
    "\n",
    "def get_alpha_by_value(alpha_arr, color=\"C1\"):\n",
    "    r, g, b = to_rgb(color)\n",
    "    # r, g, b, _ = to_rgba(color)\n",
    "    return [(r, g, b, alpha) for alpha in alpha_arr]\n",
    "\n",
    "\n",
    "get_alpha_by_value([0.5, 0.2, 1])"
   ]
  },
  {
   "cell_type": "code",
   "execution_count": null,
   "id": "c664f6a1-f6d8-4d90-b920-a9efdf41574b",
   "metadata": {},
   "outputs": [],
   "source": [
    "# fig, axs = pplt.show_cycles(rasterized=True)"
   ]
  },
  {
   "cell_type": "code",
   "execution_count": null,
   "id": "c0c7b6c9-6748-461f-8159-f25cb36a07b2",
   "metadata": {},
   "outputs": [],
   "source": [
    "# LinearSegmentedColormap.from_list('', [to_rgba(\"C2\"), to_rgba(\"grey\")], N)"
   ]
  },
  {
   "cell_type": "code",
   "execution_count": null,
   "id": "6c75e4e7-128c-4d6a-9943-eaab6a59a504",
   "metadata": {},
   "outputs": [],
   "source": [
    "# pplt.rc['cycle'] = 'tab10'"
   ]
  },
  {
   "cell_type": "code",
   "execution_count": null,
   "id": "fff75fdd-6058-45cd-ade8-6fbcd184996b",
   "metadata": {},
   "outputs": [],
   "source": [
    "cmap = LinearSegmentedColormap.from_list(\"\", [to_rgba(\"grey\"), to_rgba(\"gold\")], N)\n",
    "cmap"
   ]
  },
  {
   "cell_type": "markdown",
   "id": "94e3c357-f7e4-48a4-9514-2d479bc2e1a7",
   "metadata": {},
   "source": [
    "## LOWESS window color shading"
   ]
  },
  {
   "cell_type": "code",
   "execution_count": null,
   "id": "3c5bd14e-e5ac-4153-a94c-db5437f4ac40",
   "metadata": {},
   "outputs": [],
   "source": [
    "# idx = 20\n",
    "# w = lowess.demo_window(x, min_x_weighted=1.0)\n",
    "# window = w[:, idx]\n",
    "\n",
    "# # color_arr = get_alpha_by_value(window)\n",
    "# # map from gray at 0 to green at max\n",
    "# N = 256\n",
    "# # cmap = LinearSegmentedColormap.from_list('', [to_rgba(\"C6\"), to_rgba(\"C8\")], N)\n",
    "# colors = cmap(window)\n",
    "\n",
    "# # fig, ax = pplt.subplots(figsize=(8, 5))\n",
    "# fig, ax = pplt.subplots(refwidth=5, refheight=2)\n",
    "\n",
    "# ax2 = ax.twinx()\n",
    "\n",
    "# # lon, lat = gps.station_lonlat(\"TXKM\")\n",
    "# aa = ax2.scatter(igm.sar_date_list, ts_noisy.data, label=\"insar\", marker='.', lw=1, color=colors, s=100)\n",
    "\n",
    "\n",
    "# ax.plot(igm.sar_date_list, window, lw=3)\n",
    "\n",
    "# # ax.legend(loc='upper left')\n",
    "# # ax2.legend()\n",
    "# # ax.set_title(\"Initial window weight for initial LOWESS iteration\")\n",
    "# ax2.set_title(\"\")\n",
    "# ax2.set_ylabel(\"InSAR [cm]\")\n",
    "\n",
    "# # ax2.set_ylim((-7, 7))\n",
    "# ax.set_ylabel(\"$\\mathbf{w}(t_i)$\")\n",
    "\n",
    "# # cmap"
   ]
  },
  {
   "cell_type": "markdown",
   "id": "691f5264-ba6d-44ca-b7e5-c62dc7eb4c3b",
   "metadata": {},
   "source": [
    "## LOWESS First iteration slope fit"
   ]
  },
  {
   "cell_type": "code",
   "execution_count": null,
   "id": "6c80e5f5-f1f2-4f95-af32-825bdc15b58c",
   "metadata": {},
   "outputs": [],
   "source": [
    "idx = 20\n",
    "w = lowess.demo_window(x, min_x_weighted=1.0)\n",
    "beta = lowess.demo_fit(x, ts_noisy.data, w, idx)\n",
    "x_slice = x[idx - 10 : idx + 10]\n",
    "yest = beta[0] + beta[1] * x_slice\n",
    "# yest"
   ]
  },
  {
   "cell_type": "code",
   "execution_count": null,
   "id": "1ec04b36-455a-461a-b800-6accc7e38a88",
   "metadata": {},
   "outputs": [],
   "source": [
    "from matplotlib.colors import LinearSegmentedColormap, to_rgba\n",
    "\n",
    "w = lowess.demo_window(x, min_x_weighted=1.0)\n",
    "window = w[:, idx]\n",
    "\n",
    "# color_arr = get_alpha_by_value(window)\n",
    "# map from gray at 0 to green at max\n",
    "N = 256\n",
    "# cmap = LinearSegmentedColormap.from_list('', [to_rgba(\"C6\"), to_rgba(\"C8\")], N)\n",
    "colors = cmap(window)\n",
    "\n",
    "# fig, ax = plt.subplots(figsize=(8, 5))\n",
    "fig, ax = pplt.subplots(refwidth=5, refheight=2)\n",
    "ax2 = ax.twinx()\n",
    "\n",
    "fit_color = \"C1\"\n",
    "# lon, lat = gps.station_lonlat(\"TXKM\")\n",
    "ax2.scatter(\n",
    "    igm.sar_date_list,\n",
    "    ts_noisy.data,\n",
    "    label=r\"$\\phi$\",\n",
    "    marker=\".\",\n",
    "    lw=1,\n",
    "    color=colors,\n",
    "    s=100,\n",
    ")\n",
    "ax2.plot(igm.sar_date_list[idx - 10 : idx + 10], yest, lw=6, color=fit_color)\n",
    "\n",
    "ax.plot(igm.sar_date_list, window, lw=3)\n",
    "\n",
    "# ax.legend(loc='upper left')\n",
    "# ax2.legend()\n",
    "ax.set_title(\"Initial fit\")\n",
    "ax2.set_title(\"\")\n",
    "ax2.set_ylabel(\"InSAR [cm]\")\n",
    "\n",
    "# ax2.set_ylim((-7, 7))\n",
    "ax.set_ylabel(\"$\\mathbf{w}(t_i)$\")"
   ]
  },
  {
   "cell_type": "code",
   "execution_count": null,
   "id": "ca64a6fe-54c9-409b-a071-8be9282952e8",
   "metadata": {},
   "outputs": [],
   "source": [
    "resid = lowess.demo_residual(x, ts_noisy.data, w, idx)\n",
    "beta_2 = lowess.demo_fit(x, ts_noisy.data, w, idx, delta=resid)\n",
    "yest_2 = beta_2[0] + beta_2[1] * x_slice\n",
    "yest_2"
   ]
  },
  {
   "cell_type": "code",
   "execution_count": null,
   "id": "f4fce9e2-0acf-426a-ad1a-4881ffd18583",
   "metadata": {},
   "outputs": [],
   "source": [
    "from matplotlib.colors import LinearSegmentedColormap, to_rgba\n",
    "\n",
    "w = lowess.demo_window(x, min_x_weighted=1.0)\n",
    "window = w[:, idx]\n",
    "window2 = resid * window\n",
    "\n",
    "# color_arr = get_alpha_by_value(window)\n",
    "# map from gray at 0 to green at max\n",
    "# N = 256\n",
    "# cmap = LinearSegmentedColormap.from_list('', [to_rgba(\"C6\"), to_rgba(\"C8\")], N)\n",
    "colors2 = cmap(window2)\n",
    "\n",
    "# fig, ax = plt.subplots(figsize=(8, 5))\n",
    "fig, ax = pplt.subplots(refwidth=5, refheight=2)\n",
    "\n",
    "ax2 = ax.twinx()\n",
    "\n",
    "fit_color = \"C1\"\n",
    "fit_color2 = \"C2\"\n",
    "# lon, lat = gps.station_lonlat(\"TXKM\")\n",
    "ax2.scatter(\n",
    "    igm.sar_date_list,\n",
    "    ts_noisy.data,\n",
    "    label=\"$\\phi$\",\n",
    "    marker=\".\",\n",
    "    lw=1,\n",
    "    color=colors2,\n",
    "    s=100,\n",
    ")\n",
    "ax2.plot(igm.sar_date_list[idx - 10 : idx + 10], yest, lw=5, color=fit_color, alpha=0.5)\n",
    "ax2.plot(igm.sar_date_list[idx - 10 : idx + 10], yest_2, lw=6, color=fit_color2)\n",
    "\n",
    "# ax.plot(igm.sar_date_list, window, lw=3)\n",
    "ax.plot(igm.sar_date_list, window2, lw=3)\n",
    "\n",
    "# ax.legend(loc='upper left')\n",
    "# ax2.legend()\n",
    "# ax.set_title(\"Second iteration fit\")\n",
    "ax2.set_title(\"\")\n",
    "ax2.set_ylabel(\"\\phi [cm]\")\n",
    "\n",
    "# ax2.set_ylim((-7, 7))\n",
    "ax.set_ylabel(\"$\\mathbf{w}(t_i)$\")"
   ]
  },
  {
   "cell_type": "markdown",
   "id": "441bf1c0-4b4b-4be7-9b42-9813fbae3a17",
   "metadata": {},
   "source": [
    "## Combined first 2 iterations"
   ]
  },
  {
   "cell_type": "code",
   "execution_count": null,
   "id": "6b895841-ccbc-478f-8bf5-e0da515ff114",
   "metadata": {},
   "outputs": [],
   "source": [
    "# Recalculate the 2 estimates\n",
    "idx = 20\n",
    "\n",
    "w = lowess.demo_window(x, min_x_weighted=1.0)\n",
    "beta = lowess.demo_fit(x, ts_noisy.data, w, idx)\n",
    "x_slice = x[idx - 10 : idx + 10]\n",
    "yest = beta[0] + beta[1] * x_slice\n",
    "\n",
    "\n",
    "resid = lowess.demo_residual(x, ts_noisy.data, w, idx)\n",
    "beta_2 = lowess.demo_fit(x, ts_noisy.data, w, idx, delta=resid)\n",
    "yest_2 = beta_2[0] + beta_2[1] * x_slice\n",
    "yest_2"
   ]
  },
  {
   "cell_type": "code",
   "execution_count": null,
   "id": "9789590b-3902-49ed-81e4-45584d537303",
   "metadata": {},
   "outputs": [],
   "source": [
    "y = ts_noisy.data\n",
    "y_iter1 = lowess.lowess_pixel(y, x, frac=1 / 3, n_iter=1)\n",
    "y_iter2 = lowess.lowess_pixel(y, x, frac=1 / 3, n_iter=2)\n",
    "\n",
    "\n",
    "w = lowess.demo_window(x, min_x_weighted=1.0)\n",
    "window = w[:, idx]\n",
    "\n",
    "\n",
    "N = 256\n",
    "colors = cmap(window)\n",
    "\n",
    "# fig, axes = pplt.subplots(refwidth=4, refheight=1.2, nrows=3, abc=\"(a)\")\n",
    "fig, axes = pplt.subplots(ncols=2, nrows=2, abc=\"(a)\", sharey=False)\n",
    "# fig, ax = plt.subplots(figsize=(8, 5))\n",
    "\n",
    "ax1 = axes[0]\n",
    "ax2 = ax1.twinx()\n",
    "\n",
    "fit_color = \"C1\"\n",
    "ax1.scatter(\n",
    "    igm.sar_date_list,\n",
    "    ts_noisy.data,\n",
    "    label=r\"$\\phi$\",\n",
    "    marker=\".\",\n",
    "    lw=1,\n",
    "    color=colors,\n",
    "    s=100,\n",
    ")\n",
    "ax1.plot(igm.sar_date_list[idx - 10 : idx + 10], yest, lw=6, color=fit_color)\n",
    "ax1.set_ylabel(\"$\\phi$ [cm]\")\n",
    "\n",
    "ax2.plot(igm.sar_date_list, window, lw=3, color=fit_color)\n",
    "# ax2.set_ylim((-7, 7))\n",
    "ax2.set_ylabel(\"$\\mathbf{w}(t_i)$\")\n",
    "\n",
    "######################################\n",
    "\n",
    "ax = axes[1]\n",
    "\n",
    "fit_color = \"C1\"\n",
    "ax.scatter(\n",
    "    igm.sar_date_list, ts_noisy.data, marker=\".\", lw=1, color=\"gray\", s=100\n",
    ")  # , label=r\"$\\phi$\")\n",
    "ax.plot(igm.sar_date_list, y_iter1, lw=4, color=fit_color, label=\"1 iters\")\n",
    "\n",
    "\n",
    "ax.set_ylabel(\"$\\phi$ [cm]\")\n",
    "\n",
    "\n",
    "###############################\n",
    "window2 = resid * window\n",
    "colors2 = cmap(window2)\n",
    "\n",
    "ax1 = axes[2]\n",
    "ax2 = ax1.twinx()\n",
    "\n",
    "fit_color = \"C1\"\n",
    "fit_color2 = \"C2\"\n",
    "\n",
    "alpha = 0.7\n",
    "ax1.scatter(\n",
    "    igm.sar_date_list,\n",
    "    ts_noisy.data,\n",
    "    label=\"$\\phi$\",\n",
    "    marker=\".\",\n",
    "    lw=1,\n",
    "    color=colors2,\n",
    "    s=100,\n",
    ")\n",
    "ax1.plot(\n",
    "    igm.sar_date_list[idx - 10 : idx + 10], yest, lw=5, color=fit_color, alpha=alpha\n",
    ")\n",
    "ax1.plot(igm.sar_date_list[idx - 10 : idx + 10], yest_2, lw=6, color=fit_color2)\n",
    "ax1.set_ylabel(\"$\\phi$ [cm]\")\n",
    "\n",
    "ax2.plot(igm.sar_date_list, window2, lw=3, color=fit_color2)\n",
    "# ax2.set_ylim((-7, 7))\n",
    "ax2.set_ylabel(\"$\\mathbf{w}(t_i)$\")\n",
    "\n",
    "\n",
    "######################################\n",
    "ax = axes[3]\n",
    "\n",
    "fit_color = \"C1\"\n",
    "ax.scatter(\n",
    "    igm.sar_date_list, ts_noisy.data, marker=\".\", lw=1, color=\"gray\", s=100\n",
    ")  # , label=r\"$\\phi$\")\n",
    "ax.plot(igm.sar_date_list, y_iter1, lw=4, color=fit_color, alpha=alpha, label=\"1 iters\")\n",
    "ax.plot(igm.sar_date_list, y_iter2, lw=3, color=fit_color2, label=\"2 iters\")\n",
    "\n",
    "\n",
    "ax.set_title(\"\")\n",
    "ax.set_ylabel(\"$\\phi$ [cm]\")\n",
    "ax.legend(loc=\"lower left\", ncols=1)"
   ]
  },
  {
   "cell_type": "code",
   "execution_count": null,
   "id": "6483d3da-bc97-4a76-9b9d-447773d9ee3d",
   "metadata": {},
   "outputs": [],
   "source": [
    "fig.savefig(\"../figures/chapter5-lowess/figure3-fits.pdf\")"
   ]
  },
  {
   "cell_type": "code",
   "execution_count": null,
   "id": "48f288c8-d137-40b9-95f7-e525d5d50c96",
   "metadata": {},
   "outputs": [],
   "source": [
    "# from matplotlib.colors import LinearSegmentedColormap, to_rgba\n",
    "\n",
    "# w = lowess.demo_window(x, min_x_weighted=1.0)\n",
    "# window = w[:, idx]\n",
    "\n",
    "# # color_arr = get_alpha_by_value(window)\n",
    "# # map from gray at 0 to green at max\n",
    "# N = 256\n",
    "# cmap = LinearSegmentedColormap.from_list('', [to_rgba(\"C6\"), to_rgba(\"C8\")], N)\n",
    "# colors = cmap(window)\n",
    "\n",
    "# fig, ax = plt.subplots(figsize=(8, 5))\n",
    "# ax2 = ax.twinx()\n",
    "\n",
    "# # lon, lat = gps.station_lonlat(\"TXKM\")\n",
    "# ax2.scatter(igm.sar_date_list, ts_noisy.data, label=\"insar\", marker='.', lw=1, color=colors, s=100)\n",
    "# ax2.plot(igm.sar_date_list[idx-10:idx+10], yest, lw=5, color='gray')\n",
    "# ax2.plot(igm.sar_date_list[idx-10:idx+10], yest_2, lw=6)\n",
    "\n",
    "# ax.plot(igm.sar_date_list, window, lw=3)\n",
    "\n",
    "# ax.legend(loc='upper left')\n",
    "# # ax2.legend()\n",
    "# ax.set_title(\"Second iteration fit\")\n",
    "# ax2.set_title(\"\")\n",
    "# ax2.set_ylabel(\"InSAR [cm]\")\n",
    "\n",
    "# # ax2.set_ylim((-7, 7))\n",
    "# ax.set_ylabel(\"$\\mathbf{w}(t_i)$\")"
   ]
  },
  {
   "cell_type": "code",
   "execution_count": null,
   "id": "0e648dd1-7f3e-49ba-8d94-c04d5aad149d",
   "metadata": {},
   "outputs": [],
   "source": [
    "y_iter2_zeroed = y_iter2 - y_iter2[0]\n",
    "ts_arr = [ts_truth, ts_noisy, y_iter2_zeroed]\n",
    "# labels = ['Noisy', 'Truth']\n",
    "labels = [\"$\\mathbf{d}$\", \"$\\mathbf{\\phi}$\", \"$\\mathbf{\\hat{\\phi}}$\"]\n",
    "colors = [\"C1\", \"C0\", \"C2\"]\n",
    "# [[1, 2], [3, 3]],\n",
    "fig, axes = pplt.subplots(abc=\"(a)\", figsize=(6, 3))\n",
    "\n",
    "ax = axes[0]\n",
    "dts = ts_noisy.date.values\n",
    "# for tt, label, color in zip(ts_arr, labels, colors):\n",
    "ax.plot(dts, ts_truth, lw=4, label=labels[0], color=colors[0])\n",
    "ax.plot(dts, ts_noisy, lw=2, label=labels[1], marker=\".\", color=colors[1])\n",
    "ax.plot(dts, y_iter2_zeroed, lw=4, label=labels[2], color=colors[2])\n",
    "\n",
    "ax.set_ylabel(\"[cm]\")\n",
    "ax.legend(loc=\"ur\")"
   ]
  },
  {
   "cell_type": "markdown",
   "id": "ab3cd2d9-6584-4af4-ba54-100bcec7ce0f",
   "metadata": {},
   "source": [
    "## Plot fits from first 2 iterations"
   ]
  },
  {
   "cell_type": "code",
   "execution_count": null,
   "id": "a81e0d0a-0df1-4c3e-adde-4ac384d15571",
   "metadata": {},
   "outputs": [],
   "source": [
    "y = ts_noisy.data\n",
    "y_iter1 = lowess.lowess_pixel(y, x, frac=1 / 3, n_iter=1)\n",
    "y_iter2 = lowess.lowess_pixel(y, x, frac=1 / 3, n_iter=2)\n",
    "\n",
    "\n",
    "fig, axes = pplt.subplots(refwidth=3.5, refheight=1.5, nrows=1, abc=\"(a)\")\n",
    "\n",
    "\n",
    "ax = axes[0]\n",
    "\n",
    "fit_color = \"C1\"\n",
    "ax.scatter(\n",
    "    igm.sar_date_list, ts_noisy.data, marker=\".\", lw=1, color=\"gray\", s=100\n",
    ")  # , label=r\"$\\phi$\")\n",
    "ax.plot(igm.sar_date_list, y_iter1, lw=4, color=fit_color, label=\"1 iters\")\n",
    "ax.plot(igm.sar_date_list, y_iter2, lw=3, color=fit_color2, label=\"2 iters\")\n",
    "\n",
    "\n",
    "ax.set_title(\"\")\n",
    "ax.set_ylabel(\"$\\phi$ [cm]\")\n",
    "ax.legend(loc=\"lower left\")"
   ]
  },
  {
   "cell_type": "markdown",
   "id": "eb4d281e-04d7-4165-b44d-0342486d756b",
   "metadata": {},
   "source": [
    "## Changes for each iteration"
   ]
  },
  {
   "cell_type": "code",
   "execution_count": null,
   "id": "7d1bf822-d08f-40b9-b55e-8a53592417e7",
   "metadata": {},
   "outputs": [],
   "source": [
    "plt.figure()\n",
    "yy = lowess.lowess_pixel(y, x, frac=1 / 3, n_iter=1)\n",
    "for nn in range(2, 5):\n",
    "    yprev = yy\n",
    "    yy = lowess.lowess_pixel(y, x, frac=1 / 3, n_iter=nn)\n",
    "    plt.plot(yy - yprev, label=f\"{nn} - {nn - 1}\")\n",
    "plt.legend()"
   ]
  },
  {
   "cell_type": "markdown",
   "id": "856b1f9a-556f-4bdd-9b54-20c563ef6cd3",
   "metadata": {},
   "source": [
    "## Compare Triangle to LOWESS"
   ]
  },
  {
   "cell_type": "markdown",
   "id": "781f027c-3f8c-44d3-bd80-f0aad861745c",
   "metadata": {},
   "source": [
    "### Do the whole image"
   ]
  },
  {
   "cell_type": "code",
   "execution_count": null,
   "id": "9f80a7d4-1a32-4e42-aaa9-858f7000e05f",
   "metadata": {},
   "outputs": [],
   "source": [
    "# dn_xr"
   ]
  },
  {
   "cell_type": "code",
   "execution_count": null,
   "id": "b2aaf0b9-b4f7-440c-a0b7-8bf55caf4945",
   "metadata": {},
   "outputs": [],
   "source": [
    "%%time\n",
    "x2 = lowess.date2num(dn_xr.date.values)\n",
    "# dn_xr_lowess = lowess.lowess_xr(dn_xr, frac=1/3) #, min_days_weighted=365.0)\n",
    "dn_lowess = lowess.lowess_stack(\n",
    "    # dn_xr.data, x2, frac=1 / 3\n",
    "    dn_xr_noisy.data, x2, frac=1 / 3\n",
    ")  # , min_days_weighted=365.0)"
   ]
  },
  {
   "cell_type": "code",
   "execution_count": null,
   "id": "a8ad4d62-2064-4bc6-ab4d-dea089db10a4",
   "metadata": {},
   "outputs": [],
   "source": [
    "dn_lowess = dn_lowess - dn_lowess[0][None, :, :]\n",
    "dn_xr_lowess = dn_xr.copy()\n",
    "dn_xr_lowess.data = dn_lowess\n",
    "dn_xr_lowess"
   ]
  },
  {
   "cell_type": "code",
   "execution_count": null,
   "id": "e1d7946b-df4d-4cca-90fa-fec7fcc03630",
   "metadata": {},
   "outputs": [],
   "source": [
    "# dn_xr_lowess[:, nx//2, ny//2].plot()\n",
    "# fig, axes = dn_xr_lowess[len(x)//2].plot.imshow()"
   ]
  },
  {
   "cell_type": "code",
   "execution_count": null,
   "id": "9ff87248-5c29-4d59-87d3-7e031f1b775d",
   "metadata": {},
   "outputs": [],
   "source": [
    "plotting.plot_img_diff(arrays=(dn_xr[len(x) // 2], dn_xr_lowess[len(x) // 2]))"
   ]
  },
  {
   "cell_type": "code",
   "execution_count": null,
   "id": "089b0f77-dd41-4d28-96b5-b36cce7f388b",
   "metadata": {},
   "outputs": [],
   "source": [
    "from scipy import ndimage\n",
    "\n",
    "mode = \"reflect\"\n",
    "tri_win = signal.windows.triang(int(1 / 3 * len(x2)))\n",
    "\n",
    "dn_tri = ndimage.convolve1d(dn_xr_noisy.data, tri_win, axis=0, mode=mode) / sum(tri_win)\n",
    "dn_tri = dn_tri - dn_tri[0][None, :, :]\n",
    "dn_xr_tri = dn_xr.copy()\n",
    "dn_xr_tri.data = dn_tri\n",
    "# dn_xr_tri"
   ]
  },
  {
   "cell_type": "code",
   "execution_count": null,
   "id": "0abd4655-1f90-4858-be30-0bd5405997e6",
   "metadata": {},
   "outputs": [],
   "source": [
    "fig, ax = pplt.subplots()\n",
    "\n",
    "dn_xr_lowess[:, nx // 2, ny // 2].plot(ax=ax)\n",
    "dn_xr_tri[:, nx // 2, ny // 2].plot(ax=ax)"
   ]
  },
  {
   "cell_type": "code",
   "execution_count": null,
   "id": "2341574f-35e5-4843-9305-9e5ab791e7b3",
   "metadata": {},
   "outputs": [],
   "source": [
    "iidx = len(x) // 2\n",
    "iidx = 62\n",
    "plotting.plot_img_diff(\n",
    "    arrays=(\n",
    "        dn_xr_tri[iidx],\n",
    "        dn_xr_lowess[iidx],\n",
    "        dd_xr[iidx],\n",
    "    ),\n",
    "    show_diff=False,\n",
    "    titles=['Triangle', 'LOWESS', 'Truth (no noise)'],\n",
    "    vm=3,\n",
    ")"
   ]
  },
  {
   "cell_type": "code",
   "execution_count": null,
   "id": "42961a1a-57e1-40e8-b71b-d4cbcec65f8f",
   "metadata": {},
   "outputs": [],
   "source": [
    "# # signal.windows.gaussian\n",
    "# tri_win = signal.windows.triang(int(1 / 3 * len(x)))\n",
    "# ts_tri = signal.convolve(ts_noisy, tri_win, mode=\"same\") / sum(tri_win)\n",
    "# ts_tri -= ts_tri[0]\n",
    "\n",
    "\n",
    "# fig, ax = plt.subplots()\n",
    "\n",
    "# ax.plot(ts_noisy.date, ts_tri, lw=4, label=\"\", marker=\".\")\n",
    "\n",
    "\n",
    "# ax.set_title(\"Triangle-window smoothing\")\n",
    "# ax.grid()\n",
    "# ax.legend()"
   ]
  },
  {
   "cell_type": "markdown",
   "id": "56e6e9dc-a9e4-41e5-8abb-dc5e37cc97bb",
   "metadata": {},
   "source": [
    "### attempt the mean thing for removing day1"
   ]
  },
  {
   "cell_type": "code",
   "execution_count": null,
   "id": "0632b1c5-0566-4fee-aedd-d5f5b5b04b78",
   "metadata": {},
   "outputs": [],
   "source": [
    "diffs = dn_xr.data - dn_xr.data[0][None, :, :]\n",
    "diffs.shape\n",
    "fig, axes = pplt.subplots(ncols=3)\n",
    "\n",
    "day1noise_est = -1 * diffs.mean(axis=0)\n",
    "axes.format(title=[\"Est\", \"Truth\", \"Left - middle\"])\n",
    "\n",
    "ax = axes[0]\n",
    "axim = ax.imshow(day1noise_est)\n",
    "ax.colorbar(axim, loc=\"r\")\n",
    "\n",
    "ax = axes[1]\n",
    "axim = ax.imshow(day1noise)\n",
    "ax.colorbar(axim, loc=\"r\")\n",
    "\n",
    "\n",
    "ax = axes[2]\n",
    "axim = ax.imshow(day1noise_est - day1noise)\n",
    "ax.colorbar(axim, loc=\"r\")\n",
    "\n",
    "s = (150, 150)\n",
    "print(day1noise_est[s], day1noise[s])"
   ]
  },
  {
   "cell_type": "markdown",
   "id": "7d4e86ea-445a-47d3-bf1d-d26c410d0ae4",
   "metadata": {},
   "source": [
    "### Plot"
   ]
  },
  {
   "cell_type": "code",
   "execution_count": null,
   "id": "7e4121fa-c126-449f-a6ae-7cdf23690680",
   "metadata": {},
   "outputs": [],
   "source": [
    "fig, axes = pplt.subplots(figsize=(3, 3))\n",
    "\n",
    "y = ts_noisy.data\n",
    "# y_iter1 = lowess.lowess_pixel(y, x, frac=1 / 3, n_iter=1)\n",
    "y_iter2 = lowess.lowess_pixel(y, x, frac=1 / 3, n_iter=2)\n",
    "y_iter2_zeroed = y_iter2 - y_iter2[0]\n",
    "\n",
    "tri_win = signal.windows.triang(int(1 / 3 * len(x)))\n",
    "# Add the estimate of the day1 noise\n",
    "ts_noisy_remove_est = ts_noisy.copy() + day1noise_est[s]\n",
    "ts_noisy_remove_est[0] = 0\n",
    "\n",
    "# To skip the \"remove the average ifg phase\"\n",
    "# ts_noisy_remove_est = ts_noisy.copy()\n",
    "\n",
    "ts_tri = signal.convolve(ts_noisy_remove_est, tri_win, mode=\"same\") / sum(tri_win)\n",
    "ts_tri_zeroed = ts_tri - ts_tri[0]\n",
    "\n",
    "\n",
    "ts_arr = [ts_truth, ts_noisy, y_iter2_zeroed, ts_tri]\n",
    "# labels = ['Noisy', 'Truth']\n",
    "labels = [\"$\\mathbf{d}$\", \"$\\mathbf{\\phi}$\", \"$\\mathbf{\\hat{\\phi}}$\", \"Triangle\"]\n",
    "colors = [\"C1\", \"C0\", \"C2\", \"C3\"]\n",
    "\n",
    "\n",
    "ax = axes[0]\n",
    "dts = ts_noisy.date.values\n",
    "# for tt, label, color in zip(ts_arr, labels, colors):\n",
    "ax.plot(dts, ts_truth, lw=3, label=labels[0], color=colors[0])\n",
    "ax.plot(dts, ts_noisy, lw=1.5, label=labels[1], marker=\".\", color=colors[1])\n",
    "ax.plot(dts, y_iter2_zeroed, lw=3, label=labels[2], color=colors[2])\n",
    "ax.plot(dts, ts_tri_zeroed, lw=3, label=labels[3], color=colors[3])\n",
    "# ax.plot(dts, ts_tri, lw=3)\n",
    "\n",
    "ax.set_ylabel(\"[cm]\")\n",
    "ax.legend(loc=\"ur\", ncols=2)\n",
    "\n",
    "# ylim = ax.get_ylim() # Keep the same limits, but make a vert line for whole span\n",
    "# ax.vlines(img_date, ylim[0], ylim[1], linestyle='--', color='gray', alpha=.5)\n",
    "# ax.set_ylim(ylim)"
   ]
  },
  {
   "cell_type": "code",
   "execution_count": null,
   "id": "70dd8fa7-cc93-4b2a-b598-3f2b891900c3",
   "metadata": {},
   "outputs": [],
   "source": [
    "fig.savefig(\"../figures/chapter5-lowess/figure4-compare-tri.pdf\")"
   ]
  },
  {
   "cell_type": "code",
   "execution_count": null,
   "id": "1dc40387-d355-48a2-866a-4a6d8c088033",
   "metadata": {},
   "outputs": [],
   "source": [
    "s"
   ]
  },
  {
   "cell_type": "code",
   "execution_count": null,
   "id": "e3d2c174-2a39-43de-9558-e0f8d6f58d7e",
   "metadata": {},
   "outputs": [],
   "source": []
  },
  {
   "cell_type": "code",
   "execution_count": null,
   "id": "8f91577d-4459-4053-8f04-6d1e41c3918d",
   "metadata": {},
   "outputs": [],
   "source": [
    "# plt.figure()\n",
    "# # plt.plot((dn_xr.data + day1noise_est[None, :, :])[:, 150, 150])\n",
    "# plt.plot((dn_xr.data)[:, 150, 150])"
   ]
  },
  {
   "cell_type": "code",
   "execution_count": null,
   "id": "0361e3a3-ce3b-4d85-b912-c81cd87ee75b",
   "metadata": {},
   "outputs": [],
   "source": []
  },
  {
   "cell_type": "markdown",
   "id": "50e60588-f014-48ce-a0fd-ae2a007b39ee",
   "metadata": {},
   "source": [
    "# Filter Comparisons and Frequency Responses"
   ]
  },
  {
   "cell_type": "code",
   "execution_count": null,
   "id": "5d1baa37-84d9-4fcf-be75-a23d69f30ced",
   "metadata": {},
   "outputs": [],
   "source": [
    "fig, ax = plt.subplots(figsize=(7, 4))\n",
    "ts_truth.plot(ax=ax, label=\"Truth\")\n",
    "ts_noisy.plot(ax=ax, label=\"Noisy\")"
   ]
  },
  {
   "cell_type": "markdown",
   "id": "7dbf1bd7-6408-4cbc-9ccf-88053530fe4c",
   "metadata": {},
   "source": [
    "## Frequency content of input time series"
   ]
  },
  {
   "cell_type": "code",
   "execution_count": null,
   "id": "814cb5d8-1d2a-4cc9-a112-c180ab499058",
   "metadata": {},
   "outputs": [],
   "source": [
    "x = lowess.date2num(dn_xr.date.values)\n",
    "x = (x - x[0]) / 365.25\n",
    "# x"
   ]
  },
  {
   "cell_type": "code",
   "execution_count": null,
   "id": "7cfd40f9-30c0-496c-afeb-d39dedb0894f",
   "metadata": {},
   "outputs": [],
   "source": []
  },
  {
   "cell_type": "code",
   "execution_count": null,
   "id": "c6e321c3-96e1-45a3-9621-77051e0a614c",
   "metadata": {},
   "outputs": [],
   "source": [
    "def plot_fft(ts, x=None, ax=None, label=None):\n",
    "    if ax is None:\n",
    "        fig, ax = plt.subplots(figsize=(6, 6))\n",
    "\n",
    "    # ts_hat = fft(ts)\n",
    "    # f = fftfreq(len(ts), d=(x[1] - x[0]))\n",
    "    # ax.plot(fftshift(f), 20*np.log10(fftshift(ts_hat)), label=label)\n",
    "\n",
    "    Fs = 1 / (x[1] - x[0]) if x is not None else None\n",
    "    ax.magnitude_spectrum(ts, Fs=Fs, scale=\"dB\", pad_to=512, label=label)\n",
    "    # ax.set_ylabel(\"dB\")\n",
    "    ax.set_xlabel(\"cycles / year\")\n",
    "    ax.set_ylim((-100, None))\n",
    "    ax.grid(True)\n",
    "    return ax"
   ]
  },
  {
   "cell_type": "code",
   "execution_count": null,
   "id": "6814cd3c-d2e0-4c69-a9a0-65e057a4c3ce",
   "metadata": {},
   "outputs": [],
   "source": [
    "fig, ax = plt.subplots(figsize=(8, 5))\n",
    "\n",
    "plot_fft(ts_noisy, x, ax=ax, label=\"Noisy\")\n",
    "plot_fft(ts_truth, x, ax=ax, label=\"Truth\")\n",
    "ax.legend()"
   ]
  },
  {
   "cell_type": "code",
   "execution_count": null,
   "id": "33f21ef0-5791-42e3-9de4-c2c5f28bac0a",
   "metadata": {},
   "outputs": [],
   "source": [
    "x = lowess.date2num(dn_xr.date.values)\n",
    "y = ts_noisy.values\n",
    "y -= y[0]"
   ]
  },
  {
   "cell_type": "markdown",
   "id": "f6264a8a-54f2-43b2-89b9-31cad9ec8691",
   "metadata": {},
   "source": [
    "## Show frequency response of Triangle window smoothing"
   ]
  },
  {
   "cell_type": "code",
   "execution_count": null,
   "id": "6d8b762c-260c-48c8-8bbd-76268f21af2b",
   "metadata": {},
   "outputs": [],
   "source": [
    "# signal.windows.gaussian\n",
    "tri_20 = signal.windows.triang(int(0.2 * len(x)))\n",
    "tri_30 = signal.windows.triang(int(0.3 * len(x)))\n",
    "tri_40 = signal.windows.triang(int(0.4 * len(x)))\n",
    "tri_50 = signal.windows.triang(int(0.5 * len(x)))\n",
    "tri_70 = signal.windows.triang(int(0.7 * len(x)))\n",
    "\n",
    "ts_tri_20 = signal.convolve(ts_noisy, tri_20, mode=\"same\") / sum(tri_20)\n",
    "ts_tri_50 = signal.convolve(ts_noisy, tri_50, mode=\"same\") / sum(tri_50)\n",
    "ts_tri_70 = signal.convolve(ts_noisy, tri_70, mode=\"same\") / sum(tri_70)\n",
    "\n",
    "\n",
    "for tt in [ts_tri_20, ts_tri_50, ts_tri_70]:\n",
    "    tt -= tt[0]\n",
    "\n",
    "\n",
    "ts_arr = [ts_noisy, ts_truth, ts_tri_20, ts_tri_50, ts_tri_70]\n",
    "labels = [\"Noisy\", \"Truth\", \"20%\", \"50%\", \"70%\"]\n",
    "\n",
    "\n",
    "fig, ax = plt.subplots(1, 1, figsize=(8, 4), sharey=True, sharex=True)\n",
    "\n",
    "\n",
    "for tt, label in zip(ts_arr, labels):\n",
    "    ax.plot(ts_noisy.date, tt, lw=4, label=label, marker=\".\")\n",
    "\n",
    "\n",
    "ax.set_title(\"Triangle-window smoothing\")\n",
    "ax.grid()\n",
    "ax.legend()"
   ]
  },
  {
   "cell_type": "markdown",
   "id": "49ec17f6-4098-45c5-b91a-380866cec4d6",
   "metadata": {},
   "source": [
    "## Triangle Window Frequency Response"
   ]
  },
  {
   "cell_type": "code",
   "execution_count": null,
   "id": "a1fbd64f-264d-409a-8116-cc881556c289",
   "metadata": {},
   "outputs": [],
   "source": [
    "fig, ax = plt.subplots(figsize=(8, 5))\n",
    "\n",
    "\n",
    "for tt, label in zip(ts_arr, labels):\n",
    "    plot_fft(tt, x, ax=ax, label=label)\n",
    "\n",
    "ax.legend()"
   ]
  },
  {
   "cell_type": "markdown",
   "id": "88d71a48-4d85-4ee1-a048-740096586357",
   "metadata": {},
   "source": [
    "## Compare LOWESS Iterations"
   ]
  },
  {
   "cell_type": "code",
   "execution_count": null,
   "id": "42678f77-c5c5-4301-abda-454d17f49218",
   "metadata": {},
   "outputs": [],
   "source": []
  },
  {
   "cell_type": "code",
   "execution_count": null,
   "id": "5a08f6b3-6334-40e1-9d08-7786cfdac875",
   "metadata": {},
   "outputs": [],
   "source": [
    "ts_20 = lowess.lowess_pixel(y, x, frac=0.2, n_iter=1)\n",
    "ts_20_2 = lowess.lowess_pixel(y, x, frac=0.2, n_iter=2)\n",
    "ts_20_3 = lowess.lowess_pixel(y, x, frac=0.2, n_iter=3)\n",
    "\n",
    "ts_50 = lowess.lowess_pixel(y, x, frac=0.5)\n",
    "ts_70 = lowess.lowess_pixel(y, x, frac=0.7)"
   ]
  },
  {
   "cell_type": "code",
   "execution_count": null,
   "id": "c29048b6-1a37-4310-af9e-2f8a562d8f41",
   "metadata": {},
   "outputs": [],
   "source": [
    "fig, ax = plt.subplots(1, 1, figsize=(8, 4), sharey=True, sharex=True)\n",
    "\n",
    "\n",
    "ts_noisy.plot(lw=3, marker=\".\", ax=ax)\n",
    "\n",
    "ax.plot(ts_noisy.date, ts_20, lw=4, label=f\"1 iter\")\n",
    "ax.plot(ts_noisy.date, ts_20_2, lw=4, label=f\"2 iter\")\n",
    "ax.plot(ts_noisy.date, ts_20_3, lw=4, label=f\"3 iter\")\n",
    "\n",
    "ax.set_title(\"LOWESS using 20% of data\")\n",
    "ax.grid()\n",
    "ax.legend()"
   ]
  },
  {
   "cell_type": "code",
   "execution_count": null,
   "id": "c72246f6-de40-44b0-aa4a-0e23685a0b29",
   "metadata": {},
   "outputs": [],
   "source": [
    "for tt in [ts_20, ts_20_2, ts_20_3, ts_50, ts_70]:\n",
    "    tt -= tt[0]"
   ]
  },
  {
   "cell_type": "code",
   "execution_count": null,
   "id": "1bf1bb68-084d-4f0b-85a9-54492b7f091f",
   "metadata": {},
   "outputs": [],
   "source": [
    "fig, ax = plt.subplots(1, 1, figsize=(8, 4), sharey=True, sharex=True)\n",
    "\n",
    "\n",
    "ts_noisy.plot(lw=3, marker=\".\", ax=ax)\n",
    "ts_truth.plot(lw=2, marker=\".\", ax=ax)\n",
    "\n",
    "ax.plot(ts_noisy.date, ts_20, lw=4, label=f\"1 iter\")\n",
    "ax.plot(ts_noisy.date, ts_20_2, lw=4, label=f\"2 iter\")\n",
    "ax.plot(ts_noisy.date, ts_20_3, lw=4, label=f\"3 iter\")\n",
    "\n",
    "ax.set_title(\"LOWESS using 20% of data\")\n",
    "ax.grid()\n",
    "ax.legend()"
   ]
  },
  {
   "cell_type": "markdown",
   "id": "a40ba195-dcea-45db-a088-2a509fb2441d",
   "metadata": {},
   "source": [
    "## Compare LOWESS window sizes"
   ]
  },
  {
   "cell_type": "code",
   "execution_count": null,
   "id": "5a9b2c3b-3ed8-4af0-b3fd-96d13c826870",
   "metadata": {},
   "outputs": [],
   "source": [
    "fig, ax = plt.subplots(1, 1, figsize=(8, 4), sharey=True, sharex=True)\n",
    "\n",
    "\n",
    "ts_noisy.plot(lw=3, marker=\".\", ax=ax)\n",
    "ts_truth.plot(lw=2, marker=\".\", ax=ax)\n",
    "\n",
    "ax.plot(ts_noisy.date, ts_20, lw=4, label=\"20%\")\n",
    "ax.plot(ts_noisy.date, ts_50, lw=2.2, label=f\"50%\")\n",
    "ax.plot(ts_noisy.date, ts_70, lw=1.6, label=f\"70%\")\n",
    "\n",
    "ax.grid()\n",
    "ax.legend()\n",
    "\n",
    "# ax.set_xlim([start_date - pd.offsets.Day(30), end_date + pd.offsets.Day(30)])\n",
    "# ax.set_ylim((-8, 6))\n",
    "# ax.set_ylim((-1, 12))"
   ]
  },
  {
   "cell_type": "code",
   "execution_count": null,
   "id": "e3480474-c681-4c3c-a5eb-ce837f2e5ca6",
   "metadata": {},
   "outputs": [],
   "source": [
    "fig, ax = plt.subplots(figsize=(8, 5))\n",
    "\n",
    "ts_hat = fft(ts_noisy)\n",
    "f = fftfreq(len(ts_noisy), d=(x[1] - x[0]))\n",
    "\n",
    "\n",
    "labels = [\"Noisy\", \"Truth\", \"20%\", \"50%\", \"70%\"]\n",
    "ts_arr = [ts_noisy, ts_truth, ts_20, ts_50, ts_70]\n",
    "for tt, label in zip(ts_arr, labels):\n",
    "\n",
    "    # ax.plot(fftshift(f), 20*np.log10(fftshift(fft(tt))), label=label, lw=3)\n",
    "    plot_fft(tt, x, ax=ax, label=label)\n",
    "\n",
    "    #\n",
    "    ax.legend()\n",
    "# ax.set_ylabel(\"dB\")\n",
    "ax.set_xlabel(\"cycles / year\")"
   ]
  },
  {
   "cell_type": "markdown",
   "id": "cadb66b0-c6d7-46a1-84f0-c46d4ba2cf42",
   "metadata": {},
   "source": [
    "# Dealing with big spikes"
   ]
  },
  {
   "cell_type": "code",
   "execution_count": null,
   "id": "d178ee46-ca45-467b-9e2e-5dd7e55f5fbf",
   "metadata": {},
   "outputs": [],
   "source": [
    "ts_noisy_spiked = ts_noisy.copy()\n",
    "\n",
    "p = 0.05  # probability of spikes\n",
    "signs = RNG.choice([-1, 1], size=len(ts_noisy))\n",
    "# amp = 8\n",
    "amp = 5\n",
    "spike_idxs = RNG.uniform(size=len(ts_noisy)) < p\n",
    "spike_idxs = np.where(spike_idxs)[0]\n",
    "print(f\"Adding {sum(spike_idxs)} spike noises of size {amp}\")\n",
    "ts_noisy_spiked[spike_idxs] += signs[spike_idxs] * amp\n",
    "ts_noisy_spiked[spike_idxs] += signs[spike_idxs + 1] * 0.5 * amp"
   ]
  },
  {
   "cell_type": "code",
   "execution_count": null,
   "id": "853ec041-16e0-4090-9bbd-6054e861d2d9",
   "metadata": {},
   "outputs": [],
   "source": [
    "ts_noisy_spiked.plot()"
   ]
  },
  {
   "cell_type": "code",
   "execution_count": null,
   "id": "da54229f-7cdf-4a03-aedf-9fbd0cc8993d",
   "metadata": {},
   "outputs": [],
   "source": [
    "y = ts_noisy_spiked.values\n",
    "y -= y[0]\n",
    "\n",
    "# ts_tri_spike = signal.convolve(y, tri_50, mode='same') / sum(tri_50)\n",
    "# ts_spike = lowess.lowess_pixel(y, x, frac=0.5)\n",
    "ts_tri_spike = signal.convolve(y, tri_40, mode=\"same\") / sum(tri_40)\n",
    "ts_spike = lowess.lowess_pixel(y, x, frac=0.4)\n",
    "# ts_tri_spike = signal.convolve(y, tri_30, mode='same') / sum(tri_30)\n",
    "# ts_spike = lowess.lowess_pixel(y, x, frac=0.3)\n",
    "\n",
    "ts_tri_spike -= ts_tri_spike[0]\n",
    "ts_spike -= ts_spike[0]"
   ]
  },
  {
   "cell_type": "code",
   "execution_count": null,
   "id": "f14bcf98-0c39-4ec5-a7f8-40772367634b",
   "metadata": {},
   "outputs": [],
   "source": [
    "ts_arr = [ts_noisy_spiked, ts_truth, ts_tri_spike, ts_spike]\n",
    "labels = [\"Noisy\", \"Truth\", \"Triangle\", \"LOWESS\"]\n",
    "\n",
    "\n",
    "fig, ax = plt.subplots(1, 1, figsize=(8, 4), sharey=True, sharex=True)\n",
    "\n",
    "\n",
    "for tt, label in zip(ts_arr, labels):\n",
    "    ax.plot(ts_noisy.date, tt, lw=4, label=label, marker=\".\")\n",
    "\n",
    "\n",
    "ax.set_title(\"Triangle vs. LOWESS with outliers\")\n",
    "ax.set_ylim((-2.5, 4))\n",
    "ax.grid()\n",
    "ax.legend(loc=\"lower right\")"
   ]
  },
  {
   "cell_type": "code",
   "execution_count": null,
   "id": "9c14411e-76f3-4169-89a1-c17396bed8f0",
   "metadata": {},
   "outputs": [],
   "source": [
    "fig, axes = plt.subplots(1, 2, figsize=(10, 5))\n",
    "ax = axes[0]\n",
    "\n",
    "labels = [\"Orig Noisy\", \"Spiked Noisy\", \"Truth\", \"Triangle\", \"LOWESS\"]\n",
    "\n",
    "ts_arr = [ts_noisy, ts_noisy_spiked, ts_truth, ts_tri_spike, ts_spike]\n",
    "for tt, label in zip(ts_arr, labels):\n",
    "\n",
    "    # ax.plot(fftshift(f), 20*np.log10(fftshift(fft(tt))), label=label, lw=3)\n",
    "    plot_fft(tt, x, ax=ax, label=label)\n",
    "    plot_fft(tt, x, ax=axes[1], label=label)\n",
    "\n",
    "\n",
    "for ax in axes:\n",
    "    ax.legend()\n",
    "    # ax.set_ylabel(\"dB\")\n",
    "    ax.set_xlabel(\"cycles / year\")\n",
    "\n",
    "axes[1].set_ylim((-50, None))\n",
    "axes[1].set_xlim((None, 6))"
   ]
  },
  {
   "cell_type": "markdown",
   "id": "865ff2ee-2af8-44d3-84d9-72ba90b40fd5",
   "metadata": {},
   "source": [
    "# Tracking sinusoids"
   ]
  },
  {
   "cell_type": "code",
   "execution_count": null,
   "id": "f68926ee-8448-466a-815b-29ddc8a6641d",
   "metadata": {},
   "outputs": [],
   "source": [
    "f_years = 1\n",
    "plt.figure(figsize=(9, 3))\n",
    "plt.plot(ts_noisy.date, np.sin(2 * np.pi * f_years * x))"
   ]
  },
  {
   "cell_type": "code",
   "execution_count": null,
   "id": "93b24f0f-9e1f-4798-b5c3-d849ac6ded09",
   "metadata": {},
   "outputs": [],
   "source": [
    "ts_noisy_seasonal = ts_noisy.copy()\n",
    "yearly_amp = 2\n",
    "semi_amp = 1\n",
    "seasonal_signal = yearly_amp * np.sin(2 * np.pi * 1.0 * x) + semi_amp * np.sin(\n",
    "    2 * np.pi * 2 * x\n",
    ")\n",
    "ts_noisy_seasonal += seasonal_signal\n",
    "ts_truth_seasonal = ts_truth.copy() + seasonal_signal\n",
    "\n",
    "fig, ax = plt.subplots()\n",
    "ts_noisy_seasonal.plot(ax=ax, lw=2)\n",
    "ts_truth_seasonal.plot(ax=ax, lw=2)\n",
    "# ax.plot(ts_noisy_seasonal.date, seasonal_signal)\n",
    "ax.set_ylabel(\"[cm]\")\n",
    "ax.set_title(\"Noisy signal with annual/semi-annual\")"
   ]
  },
  {
   "cell_type": "code",
   "execution_count": null,
   "id": "6177ee01-eac7-468c-be87-e8588b03fbd6",
   "metadata": {},
   "outputs": [],
   "source": [
    "fig, ax = plt.subplots(figsize=(7, 4))\n",
    "plot_fft(ts_noisy, x, label=\"Original\", ax=ax)\n",
    "plot_fft(ts_noisy_seasonal, x, label=\"seasonal\", ax=ax)\n",
    "ax.legend()"
   ]
  },
  {
   "cell_type": "code",
   "execution_count": null,
   "id": "53729cf2-6222-45c2-b7de-059d7635ef40",
   "metadata": {},
   "outputs": [],
   "source": [
    "y = ts_noisy_seasonal.data\n",
    "ts_20 = lowess.lowess_pixel(y, x, frac=0.2)\n",
    "ts_50 = lowess.lowess_pixel(y, x, frac=0.5)\n",
    "ts_70 = lowess.lowess_pixel(y, x, frac=0.7)"
   ]
  },
  {
   "cell_type": "code",
   "execution_count": null,
   "id": "66bd028f-22f6-4888-bdf3-31e6fd956ee1",
   "metadata": {},
   "outputs": [],
   "source": [
    "fig, ax = plt.subplots(1, 1, figsize=(8, 4), sharey=True, sharex=True)\n",
    "\n",
    "ts_noisy_seasonal.plot(lw=3, marker=\".\", ax=ax, label=\"noisy\")\n",
    "ts_truth_seasonal.plot(lw=2, marker=\".\", ax=ax, label=\"truth\")\n",
    "ax.plot(ts_noisy.date, ts_20, lw=4, label=\"20%\")\n",
    "ax.plot(ts_noisy.date, ts_50, lw=2.2, label=f\"50%\")\n",
    "ax.plot(ts_noisy.date, ts_70, lw=1.6, label=f\"70%\")\n",
    "\n",
    "ax.grid()\n",
    "ax.legend()\n",
    "\n",
    "# ax.set_xlim([start_date - pd.offsets.Day(30), end_date + pd.offsets.Day(30)])\n",
    "# ax.set_ylim((-8, 6))\n",
    "# ax.set_ylim((-1, 12))"
   ]
  },
  {
   "cell_type": "code",
   "execution_count": null,
   "id": "8db2b12b-b3b4-4adb-a94d-fd3d26c7a135",
   "metadata": {},
   "outputs": [],
   "source": [
    "fig, ax = plt.subplots(1, 1, figsize=(8, 4), sharey=True, sharex=True)\n",
    "\n",
    "\n",
    "ts_noisy_seasonal.plot(lw=3, marker=\".\", ax=ax, label=\"noisy\")\n",
    "ts_truth_seasonal.plot(lw=2, marker=\".\", ax=ax, label=\"truth\")\n",
    "\n",
    "\n",
    "ax.plot(ts_noisy.date, ts_20, lw=4, label=\"20%\")\n",
    "ax.plot(ts_noisy.date, ts_50, lw=2.2, label=f\"50%\")\n",
    "ax.plot(ts_noisy.date, ts_70, lw=1.6, label=f\"70%\")\n",
    "\n",
    "ax.grid()\n",
    "ax.legend()\n",
    "\n",
    "# ax.set_xlim([start_date - pd.offsets.Day(30), end_date + pd.offsets.Day(30)])\n",
    "# ax.set_ylim((-8, 6))\n",
    "# ax.set_ylim((-1, 12))"
   ]
  }
 ],
 "metadata": {
  "kernelspec": {
   "display_name": "Python 3 (ipykernel)",
   "language": "python",
   "name": "python3"
  },
  "language_info": {
   "codemirror_mode": {
    "name": "ipython",
    "version": 3
   },
   "file_extension": ".py",
   "mimetype": "text/x-python",
   "name": "python",
   "nbconvert_exporter": "python",
   "pygments_lexer": "ipython3",
   "version": "3.8.6"
  }
 },
 "nbformat": 4,
 "nbformat_minor": 5
}
